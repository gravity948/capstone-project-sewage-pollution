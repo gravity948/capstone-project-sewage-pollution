{
 "cells": [
  {
   "cell_type": "markdown",
   "metadata": {},
   "source": [
    "Download from this page: https://github.com/pydap/pydap/releases/tag/3.3.0\n",
    "\n",
    "Then install from file path to downloaded file"
   ]
  },
  {
   "cell_type": "code",
   "execution_count": 1,
   "metadata": {},
   "outputs": [],
   "source": [
    "# !pip install xarray\n",
    "# !pip install /Users/SallyLai/Downloads/pydap-3.3.0.tar.gz\n",
    "# !pip install pyarrow==3.0.0\n",
    "# !pip install --upgrade xarray"
   ]
  },
  {
   "cell_type": "code",
   "execution_count": 1,
   "metadata": {},
   "outputs": [],
   "source": [
    "import xarray as xr\n",
    "import pandas as pd\n",
    "import numpy as np\n",
    "import pydap\n",
    "import matplotlib.pyplot as plt\n",
    "import getpass\n",
    "import datetime\n",
    "from datetime import datetime\n",
    "import sys\n",
    "from IPython.display import display, clear_output\n",
    "\n",
    "%matplotlib inline"
   ]
  },
  {
   "cell_type": "code",
   "execution_count": 2,
   "metadata": {},
   "outputs": [],
   "source": [
    "username = 'slai'\n",
    "password = 'Capstone2023'"
   ]
  },
  {
   "cell_type": "code",
   "execution_count": 3,
   "metadata": {},
   "outputs": [],
   "source": [
    "def copernicusmarine_datastore(dataset, username, password):\n",
    "    from pydap.client import open_url\n",
    "    from pydap.cas.get_cookies import setup_session\n",
    "    cas_url = 'https://cmems-cas.cls.fr/cas/login'\n",
    "    session = setup_session(cas_url, username, password)\n",
    "    session.cookies.set(\"CASTGC\", session.cookies.get_dict()['CASTGC'])\n",
    "    database = ['my', 'nrt']\n",
    "    url = f'https://{database[0]}.cmems-du.eu/thredds/dodsC/{dataset}'\n",
    "    try:\n",
    "        data_store = xr.backends.PydapDataStore(open_url(url, session=session, user_charset='utf-8')) # needs PyDAP >= v3.3.0 see https://github.com/pydap/pydap/pull/223/commits \n",
    "    except:\n",
    "        url = f'https://{database[1]}.cmems-du.eu/thredds/dodsC/{dataset}'\n",
    "        data_store = xr.backends.PydapDataStore(open_url(url, session=session, user_charset='utf-8')) # needs PyDAP >= v3.3.0 see https://github.com/pydap/pydap/pull/223/commits\n",
    "    return data_store"
   ]
  },
  {
   "cell_type": "markdown",
   "metadata": {},
   "source": [
    "# Load Dataset (Choose one to load)"
   ]
  },
  {
   "cell_type": "markdown",
   "metadata": {},
   "source": [
    "Dataset: https://data.marine.copernicus.eu/product/GLOBAL_ANALYSIS_FORECAST_BIO_001_028/description "
   ]
  },
  {
   "cell_type": "code",
   "execution_count": 4,
   "metadata": {},
   "outputs": [],
   "source": [
    "# %%time\n",
    "# DATASET_ID = 'global-analysis-forecast-bio-001-028-daily'\n",
    "# data_store = copernicusmarine_datastore(DATASET_ID, username, password)"
   ]
  },
  {
   "cell_type": "markdown",
   "metadata": {},
   "source": [
    "Dataset: https://data.marine.copernicus.eu/product/OCEANCOLOUR_GLO_BGC_L4_MY_009_104/description"
   ]
  },
  {
   "cell_type": "code",
   "execution_count": 5,
   "metadata": {},
   "outputs": [],
   "source": [
    "# DATASET_ID = 'cmems_obs-oc_glo_bgc-optics_my_l4-multi-4km_P1M'\n",
    "# data_store = copernicusmarine_datastore(DATASET_ID, username, password)"
   ]
  },
  {
   "cell_type": "markdown",
   "metadata": {},
   "source": [
    "Dataset: https://data.marine.copernicus.eu/product/OCEANCOLOUR_GLO_BGC_L4_NRT_009_102/description (equivalent to one used by students last year for CHL, according to https://marine.copernicus.eu/media/pdf/July2022_OC_correspondance_table.pdf/open)"
   ]
  },
  {
   "cell_type": "code",
   "execution_count": 6,
   "metadata": {},
   "outputs": [],
   "source": [
    "# DATASET_ID = 'cmems_obs-oc_glo_bgc-plankton_nrt_l4-gapfree-multi-4km_P1D'\n",
    "# # DATASET_ID = 'cmems_obs-oc_glo_bgc-plankton_nrt_l4-olci-300m_P1M'\n",
    "\n",
    "# data_store = copernicusmarine_datastore(DATASET_ID, username, password)"
   ]
  },
  {
   "cell_type": "markdown",
   "metadata": {},
   "source": [
    "North Atlantic Ocean Colour Plankton, Reflectance, Transparency and Optics L3 NRT daily observations (the dates for this is somehow irregular)\n",
    "Datset: https://data.marine.copernicus.eu/product/OCEANCOLOUR_ATL_BGC_L3_NRT_009_111/description"
   ]
  },
  {
   "cell_type": "code",
   "execution_count": 7,
   "metadata": {},
   "outputs": [],
   "source": [
    "# DATASET_ID = 'cmems_obs-oc_glo_bgc-optics_nrt_l3-multi-4km_P1D'\n",
    "# data_store = copernicusmarine_datastore(DATASET_ID, username, password)"
   ]
  },
  {
   "cell_type": "markdown",
   "metadata": {},
   "source": [
    "MAYBE THIS WILL WORK?? please https://data.marine.copernicus.eu/product/OCEANCOLOUR_ATL_BGC_L4_NRT_009_116/description "
   ]
  },
  {
   "cell_type": "code",
   "execution_count": 8,
   "metadata": {},
   "outputs": [],
   "source": [
    "# DATASET_ID = 'cmems_obs-oc_atl_bgc-plankton_nrt_l4-gapfree-multi-1km_P1D'\n",
    "# data_store = copernicusmarine_datastore(DATASET_ID, username, password)"
   ]
  },
  {
   "cell_type": "markdown",
   "metadata": {},
   "source": [
    "halp"
   ]
  },
  {
   "cell_type": "code",
   "execution_count": 9,
   "metadata": {},
   "outputs": [],
   "source": [
    "# DATASET_ID = 'cmems_obs-oc_med_bgc-plankton_nrt_l3-olci-300m_P1D'\n",
    "# data_store = copernicusmarine_datastore(DATASET_ID, username, password)"
   ]
  },
  {
   "cell_type": "markdown",
   "metadata": {},
   "source": [
    "Dima L3: https://data.marine.copernicus.eu/product/OCEANCOLOUR_NWS_BGC_HR_L3_NRT_009_203/description "
   ]
  },
  {
   "cell_type": "code",
   "execution_count": 10,
   "metadata": {},
   "outputs": [],
   "source": [
    "# DATASET_ID = 'cmems_obs_oc_nws_bgc_tur-spm-chl_nrt_l3-hr-mosaic_P1D-m'\n",
    "# data_store = copernicusmarine_datastore(DATASET_ID, username, password)"
   ]
  },
  {
   "cell_type": "markdown",
   "metadata": {},
   "source": [
    "L4 version of the above: https://data.marine.copernicus.eu/product/OCEANCOLOUR_NWS_BGC_HR_L4_NRT_009_209/description "
   ]
  },
  {
   "cell_type": "code",
   "execution_count": 11,
   "metadata": {},
   "outputs": [],
   "source": [
    "DATASET_ID = 'cmems_obs_oc_nws_bgc_tur-spm-chl_nrt_l4-hr-mosaic_P1D-m'\n",
    "data_store = copernicusmarine_datastore(DATASET_ID, username, password)"
   ]
  },
  {
   "cell_type": "markdown",
   "metadata": {},
   "source": [
    "Atlantic Ocean Colour: https://data.marine.copernicus.eu/product/OCEANCOLOUR_ATL_BGC_L4_MY_009_118/download?dataset=cmems_obs-oc_atl_bgc-plankton_my_l4-gapfree-multi-1km_P1D "
   ]
  },
  {
   "cell_type": "code",
   "execution_count": 12,
   "metadata": {},
   "outputs": [],
   "source": [
    "# DATASET_ID = 'cmems_obs-oc_atl_bgc-plankton_my_l4-gapfree-multi-1km_P1D'\n",
    "# data_store = copernicusmarine_datastore(DATASET_ID, username, password)"
   ]
  },
  {
   "cell_type": "markdown",
   "metadata": {},
   "source": [
    "# Open Dataset"
   ]
  },
  {
   "cell_type": "code",
   "execution_count": 13,
   "metadata": {},
   "outputs": [
    {
     "name": "stdout",
     "output_type": "stream",
     "text": [
      "CPU times: user 297 ms, sys: 35 ms, total: 332 ms\n",
      "Wall time: 2.56 s\n"
     ]
    },
    {
     "data": {
      "text/html": [
       "<div><svg style=\"position: absolute; width: 0; height: 0; overflow: hidden\">\n",
       "<defs>\n",
       "<symbol id=\"icon-database\" viewBox=\"0 0 32 32\">\n",
       "<path d=\"M16 0c-8.837 0-16 2.239-16 5v4c0 2.761 7.163 5 16 5s16-2.239 16-5v-4c0-2.761-7.163-5-16-5z\"></path>\n",
       "<path d=\"M16 17c-8.837 0-16-2.239-16-5v6c0 2.761 7.163 5 16 5s16-2.239 16-5v-6c0 2.761-7.163 5-16 5z\"></path>\n",
       "<path d=\"M16 26c-8.837 0-16-2.239-16-5v6c0 2.761 7.163 5 16 5s16-2.239 16-5v-6c0 2.761-7.163 5-16 5z\"></path>\n",
       "</symbol>\n",
       "<symbol id=\"icon-file-text2\" viewBox=\"0 0 32 32\">\n",
       "<path d=\"M28.681 7.159c-0.694-0.947-1.662-2.053-2.724-3.116s-2.169-2.030-3.116-2.724c-1.612-1.182-2.393-1.319-2.841-1.319h-15.5c-1.378 0-2.5 1.121-2.5 2.5v27c0 1.378 1.122 2.5 2.5 2.5h23c1.378 0 2.5-1.122 2.5-2.5v-19.5c0-0.448-0.137-1.23-1.319-2.841zM24.543 5.457c0.959 0.959 1.712 1.825 2.268 2.543h-4.811v-4.811c0.718 0.556 1.584 1.309 2.543 2.268zM28 29.5c0 0.271-0.229 0.5-0.5 0.5h-23c-0.271 0-0.5-0.229-0.5-0.5v-27c0-0.271 0.229-0.5 0.5-0.5 0 0 15.499-0 15.5 0v7c0 0.552 0.448 1 1 1h7v19.5z\"></path>\n",
       "<path d=\"M23 26h-14c-0.552 0-1-0.448-1-1s0.448-1 1-1h14c0.552 0 1 0.448 1 1s-0.448 1-1 1z\"></path>\n",
       "<path d=\"M23 22h-14c-0.552 0-1-0.448-1-1s0.448-1 1-1h14c0.552 0 1 0.448 1 1s-0.448 1-1 1z\"></path>\n",
       "<path d=\"M23 18h-14c-0.552 0-1-0.448-1-1s0.448-1 1-1h14c0.552 0 1 0.448 1 1s-0.448 1-1 1z\"></path>\n",
       "</symbol>\n",
       "</defs>\n",
       "</svg>\n",
       "<style>/* CSS stylesheet for displaying xarray objects in jupyterlab.\n",
       " *\n",
       " */\n",
       "\n",
       ":root {\n",
       "  --xr-font-color0: var(--jp-content-font-color0, rgba(0, 0, 0, 1));\n",
       "  --xr-font-color2: var(--jp-content-font-color2, rgba(0, 0, 0, 0.54));\n",
       "  --xr-font-color3: var(--jp-content-font-color3, rgba(0, 0, 0, 0.38));\n",
       "  --xr-border-color: var(--jp-border-color2, #e0e0e0);\n",
       "  --xr-disabled-color: var(--jp-layout-color3, #bdbdbd);\n",
       "  --xr-background-color: var(--jp-layout-color0, white);\n",
       "  --xr-background-color-row-even: var(--jp-layout-color1, white);\n",
       "  --xr-background-color-row-odd: var(--jp-layout-color2, #eeeeee);\n",
       "}\n",
       "\n",
       "html[theme=dark],\n",
       "body[data-theme=dark],\n",
       "body.vscode-dark {\n",
       "  --xr-font-color0: rgba(255, 255, 255, 1);\n",
       "  --xr-font-color2: rgba(255, 255, 255, 0.54);\n",
       "  --xr-font-color3: rgba(255, 255, 255, 0.38);\n",
       "  --xr-border-color: #1F1F1F;\n",
       "  --xr-disabled-color: #515151;\n",
       "  --xr-background-color: #111111;\n",
       "  --xr-background-color-row-even: #111111;\n",
       "  --xr-background-color-row-odd: #313131;\n",
       "}\n",
       "\n",
       ".xr-wrap {\n",
       "  display: block !important;\n",
       "  min-width: 300px;\n",
       "  max-width: 700px;\n",
       "}\n",
       "\n",
       ".xr-text-repr-fallback {\n",
       "  /* fallback to plain text repr when CSS is not injected (untrusted notebook) */\n",
       "  display: none;\n",
       "}\n",
       "\n",
       ".xr-header {\n",
       "  padding-top: 6px;\n",
       "  padding-bottom: 6px;\n",
       "  margin-bottom: 4px;\n",
       "  border-bottom: solid 1px var(--xr-border-color);\n",
       "}\n",
       "\n",
       ".xr-header > div,\n",
       ".xr-header > ul {\n",
       "  display: inline;\n",
       "  margin-top: 0;\n",
       "  margin-bottom: 0;\n",
       "}\n",
       "\n",
       ".xr-obj-type,\n",
       ".xr-array-name {\n",
       "  margin-left: 2px;\n",
       "  margin-right: 10px;\n",
       "}\n",
       "\n",
       ".xr-obj-type {\n",
       "  color: var(--xr-font-color2);\n",
       "}\n",
       "\n",
       ".xr-sections {\n",
       "  padding-left: 0 !important;\n",
       "  display: grid;\n",
       "  grid-template-columns: 150px auto auto 1fr 20px 20px;\n",
       "}\n",
       "\n",
       ".xr-section-item {\n",
       "  display: contents;\n",
       "}\n",
       "\n",
       ".xr-section-item input {\n",
       "  display: none;\n",
       "}\n",
       "\n",
       ".xr-section-item input + label {\n",
       "  color: var(--xr-disabled-color);\n",
       "}\n",
       "\n",
       ".xr-section-item input:enabled + label {\n",
       "  cursor: pointer;\n",
       "  color: var(--xr-font-color2);\n",
       "}\n",
       "\n",
       ".xr-section-item input:enabled + label:hover {\n",
       "  color: var(--xr-font-color0);\n",
       "}\n",
       "\n",
       ".xr-section-summary {\n",
       "  grid-column: 1;\n",
       "  color: var(--xr-font-color2);\n",
       "  font-weight: 500;\n",
       "}\n",
       "\n",
       ".xr-section-summary > span {\n",
       "  display: inline-block;\n",
       "  padding-left: 0.5em;\n",
       "}\n",
       "\n",
       ".xr-section-summary-in:disabled + label {\n",
       "  color: var(--xr-font-color2);\n",
       "}\n",
       "\n",
       ".xr-section-summary-in + label:before {\n",
       "  display: inline-block;\n",
       "  content: '►';\n",
       "  font-size: 11px;\n",
       "  width: 15px;\n",
       "  text-align: center;\n",
       "}\n",
       "\n",
       ".xr-section-summary-in:disabled + label:before {\n",
       "  color: var(--xr-disabled-color);\n",
       "}\n",
       "\n",
       ".xr-section-summary-in:checked + label:before {\n",
       "  content: '▼';\n",
       "}\n",
       "\n",
       ".xr-section-summary-in:checked + label > span {\n",
       "  display: none;\n",
       "}\n",
       "\n",
       ".xr-section-summary,\n",
       ".xr-section-inline-details {\n",
       "  padding-top: 4px;\n",
       "  padding-bottom: 4px;\n",
       "}\n",
       "\n",
       ".xr-section-inline-details {\n",
       "  grid-column: 2 / -1;\n",
       "}\n",
       "\n",
       ".xr-section-details {\n",
       "  display: none;\n",
       "  grid-column: 1 / -1;\n",
       "  margin-bottom: 5px;\n",
       "}\n",
       "\n",
       ".xr-section-summary-in:checked ~ .xr-section-details {\n",
       "  display: contents;\n",
       "}\n",
       "\n",
       ".xr-array-wrap {\n",
       "  grid-column: 1 / -1;\n",
       "  display: grid;\n",
       "  grid-template-columns: 20px auto;\n",
       "}\n",
       "\n",
       ".xr-array-wrap > label {\n",
       "  grid-column: 1;\n",
       "  vertical-align: top;\n",
       "}\n",
       "\n",
       ".xr-preview {\n",
       "  color: var(--xr-font-color3);\n",
       "}\n",
       "\n",
       ".xr-array-preview,\n",
       ".xr-array-data {\n",
       "  padding: 0 5px !important;\n",
       "  grid-column: 2;\n",
       "}\n",
       "\n",
       ".xr-array-data,\n",
       ".xr-array-in:checked ~ .xr-array-preview {\n",
       "  display: none;\n",
       "}\n",
       "\n",
       ".xr-array-in:checked ~ .xr-array-data,\n",
       ".xr-array-preview {\n",
       "  display: inline-block;\n",
       "}\n",
       "\n",
       ".xr-dim-list {\n",
       "  display: inline-block !important;\n",
       "  list-style: none;\n",
       "  padding: 0 !important;\n",
       "  margin: 0;\n",
       "}\n",
       "\n",
       ".xr-dim-list li {\n",
       "  display: inline-block;\n",
       "  padding: 0;\n",
       "  margin: 0;\n",
       "}\n",
       "\n",
       ".xr-dim-list:before {\n",
       "  content: '(';\n",
       "}\n",
       "\n",
       ".xr-dim-list:after {\n",
       "  content: ')';\n",
       "}\n",
       "\n",
       ".xr-dim-list li:not(:last-child):after {\n",
       "  content: ',';\n",
       "  padding-right: 5px;\n",
       "}\n",
       "\n",
       ".xr-has-index {\n",
       "  font-weight: bold;\n",
       "}\n",
       "\n",
       ".xr-var-list,\n",
       ".xr-var-item {\n",
       "  display: contents;\n",
       "}\n",
       "\n",
       ".xr-var-item > div,\n",
       ".xr-var-item label,\n",
       ".xr-var-item > .xr-var-name span {\n",
       "  background-color: var(--xr-background-color-row-even);\n",
       "  margin-bottom: 0;\n",
       "}\n",
       "\n",
       ".xr-var-item > .xr-var-name:hover span {\n",
       "  padding-right: 5px;\n",
       "}\n",
       "\n",
       ".xr-var-list > li:nth-child(odd) > div,\n",
       ".xr-var-list > li:nth-child(odd) > label,\n",
       ".xr-var-list > li:nth-child(odd) > .xr-var-name span {\n",
       "  background-color: var(--xr-background-color-row-odd);\n",
       "}\n",
       "\n",
       ".xr-var-name {\n",
       "  grid-column: 1;\n",
       "}\n",
       "\n",
       ".xr-var-dims {\n",
       "  grid-column: 2;\n",
       "}\n",
       "\n",
       ".xr-var-dtype {\n",
       "  grid-column: 3;\n",
       "  text-align: right;\n",
       "  color: var(--xr-font-color2);\n",
       "}\n",
       "\n",
       ".xr-var-preview {\n",
       "  grid-column: 4;\n",
       "}\n",
       "\n",
       ".xr-index-preview {\n",
       "  grid-column: 2 / 5;\n",
       "  color: var(--xr-font-color2);\n",
       "}\n",
       "\n",
       ".xr-var-name,\n",
       ".xr-var-dims,\n",
       ".xr-var-dtype,\n",
       ".xr-preview,\n",
       ".xr-attrs dt {\n",
       "  white-space: nowrap;\n",
       "  overflow: hidden;\n",
       "  text-overflow: ellipsis;\n",
       "  padding-right: 10px;\n",
       "}\n",
       "\n",
       ".xr-var-name:hover,\n",
       ".xr-var-dims:hover,\n",
       ".xr-var-dtype:hover,\n",
       ".xr-attrs dt:hover {\n",
       "  overflow: visible;\n",
       "  width: auto;\n",
       "  z-index: 1;\n",
       "}\n",
       "\n",
       ".xr-var-attrs,\n",
       ".xr-var-data,\n",
       ".xr-index-data {\n",
       "  display: none;\n",
       "  background-color: var(--xr-background-color) !important;\n",
       "  padding-bottom: 5px !important;\n",
       "}\n",
       "\n",
       ".xr-var-attrs-in:checked ~ .xr-var-attrs,\n",
       ".xr-var-data-in:checked ~ .xr-var-data,\n",
       ".xr-index-data-in:checked ~ .xr-index-data {\n",
       "  display: block;\n",
       "}\n",
       "\n",
       ".xr-var-data > table {\n",
       "  float: right;\n",
       "}\n",
       "\n",
       ".xr-var-name span,\n",
       ".xr-var-data,\n",
       ".xr-index-name div,\n",
       ".xr-index-data,\n",
       ".xr-attrs {\n",
       "  padding-left: 25px !important;\n",
       "}\n",
       "\n",
       ".xr-attrs,\n",
       ".xr-var-attrs,\n",
       ".xr-var-data,\n",
       ".xr-index-data {\n",
       "  grid-column: 1 / -1;\n",
       "}\n",
       "\n",
       "dl.xr-attrs {\n",
       "  padding: 0;\n",
       "  margin: 0;\n",
       "  display: grid;\n",
       "  grid-template-columns: 125px auto;\n",
       "}\n",
       "\n",
       ".xr-attrs dt,\n",
       ".xr-attrs dd {\n",
       "  padding: 0;\n",
       "  margin: 0;\n",
       "  float: left;\n",
       "  padding-right: 10px;\n",
       "  width: auto;\n",
       "}\n",
       "\n",
       ".xr-attrs dt {\n",
       "  font-weight: normal;\n",
       "  grid-column: 1;\n",
       "}\n",
       "\n",
       ".xr-attrs dt:hover span {\n",
       "  display: inline-block;\n",
       "  background: var(--xr-background-color);\n",
       "  padding-right: 10px;\n",
       "}\n",
       "\n",
       ".xr-attrs dd {\n",
       "  grid-column: 2;\n",
       "  white-space: pre-wrap;\n",
       "  word-break: break-all;\n",
       "}\n",
       "\n",
       ".xr-icon-database,\n",
       ".xr-icon-file-text2,\n",
       ".xr-no-icon {\n",
       "  display: inline-block;\n",
       "  vertical-align: middle;\n",
       "  width: 1em;\n",
       "  height: 1.5em !important;\n",
       "  stroke-width: 0;\n",
       "  stroke: currentColor;\n",
       "  fill: currentColor;\n",
       "}\n",
       "</style><pre class='xr-text-repr-fallback'>&lt;xarray.Dataset&gt;\n",
       "Dimensions:  (lat: 15120, lon: 14311, time: 919)\n",
       "Coordinates:\n",
       "  * lat      (lat) float64 62.0 62.0 62.0 62.0 62.0 ... 48.0 48.0 48.0 48.0 48.0\n",
       "  * lon      (lon) float64 -12.0 -12.0 -12.0 -11.99 ... 13.0 13.0 13.0 13.0\n",
       "  * time     (time) datetime64[ns] 2020-01-04 2020-01-06 ... 2022-10-31\n",
       "Data variables:\n",
       "    SPM      (time, lat, lon) float32 ...\n",
       "    TUR      (time, lat, lon) float32 ...\n",
       "    CHL      (time, lat, lon) float32 ...\n",
       "Attributes: (12/46)\n",
       "    TileSize:                   945:1192\n",
       "    id:                         20221031_P1D_CMEMS_HROC_L4_tur-spm-chl_NWS__1...\n",
       "    title:                      CMEMS HR-OC North West Shelf Region transpare...\n",
       "    region:                     NWS\n",
       "    tile:                       \n",
       "    cmems_product_id:           OCEANCOLOUR_NWS_BGC_HR_L4_NRT_009_209\n",
       "    ...                         ...\n",
       "    time_coverage_duration:     P1D\n",
       "    time_coverage_resolution:   P1D\n",
       "    platform:                   Sentinel-2\n",
       "    sensor:                     MSI\n",
       "    start_date:                 31-OCT-2022 00:00:00.000000\n",
       "    stop_date:                  31-OCT-2022 00:00:00.000000</pre><div class='xr-wrap' style='display:none'><div class='xr-header'><div class='xr-obj-type'>xarray.Dataset</div></div><ul class='xr-sections'><li class='xr-section-item'><input id='section-f85a6c9d-e7c2-45ae-946a-a321f8b18c4e' class='xr-section-summary-in' type='checkbox' disabled ><label for='section-f85a6c9d-e7c2-45ae-946a-a321f8b18c4e' class='xr-section-summary'  title='Expand/collapse section'>Dimensions:</label><div class='xr-section-inline-details'><ul class='xr-dim-list'><li><span class='xr-has-index'>lat</span>: 15120</li><li><span class='xr-has-index'>lon</span>: 14311</li><li><span class='xr-has-index'>time</span>: 919</li></ul></div><div class='xr-section-details'></div></li><li class='xr-section-item'><input id='section-80e076b0-1534-421f-936c-73508c752b8b' class='xr-section-summary-in' type='checkbox'  checked><label for='section-80e076b0-1534-421f-936c-73508c752b8b' class='xr-section-summary' >Coordinates: <span>(3)</span></label><div class='xr-section-inline-details'></div><div class='xr-section-details'><ul class='xr-var-list'><li class='xr-var-item'><div class='xr-var-name'><span class='xr-has-index'>lat</span></div><div class='xr-var-dims'>(lat)</div><div class='xr-var-dtype'>float64</div><div class='xr-var-preview xr-preview'>62.0 62.0 62.0 ... 48.0 48.0 48.0</div><input id='attrs-02ef20ec-cb90-4fb1-8b48-646ad5e23ba7' class='xr-var-attrs-in' type='checkbox' ><label for='attrs-02ef20ec-cb90-4fb1-8b48-646ad5e23ba7' title='Show/Hide attributes'><svg class='icon xr-icon-file-text2'><use xlink:href='#icon-file-text2'></use></svg></label><input id='data-21dc0b2b-e1ab-4cdf-87eb-1d9791ea302d' class='xr-var-data-in' type='checkbox'><label for='data-21dc0b2b-e1ab-4cdf-87eb-1d9791ea302d' title='Show/Hide data repr'><svg class='icon xr-icon-database'><use xlink:href='#icon-database'></use></svg></label><div class='xr-var-attrs'><dl class='xr-attrs'><dt><span>units :</span></dt><dd>degrees_north</dd><dt><span>long_name :</span></dt><dd>latitude</dd><dt><span>standard_name :</span></dt><dd>latitude</dd><dt><span>valid_min :</span></dt><dd>48.00046296296296</dd><dt><span>valid_max :</span></dt><dd>61.99953703703704</dd><dt><span>_ChunkSizes :</span></dt><dd>15120</dd></dl></div><div class='xr-var-data'><pre>array([61.999537, 61.998611, 61.997685, ..., 48.002315, 48.001389, 48.000463])</pre></div></li><li class='xr-var-item'><div class='xr-var-name'><span class='xr-has-index'>lon</span></div><div class='xr-var-dims'>(lon)</div><div class='xr-var-dtype'>float64</div><div class='xr-var-preview xr-preview'>-12.0 -12.0 -12.0 ... 13.0 13.0</div><input id='attrs-7a0e7d6b-82e0-4f89-a466-cc7c1e34b7e7' class='xr-var-attrs-in' type='checkbox' ><label for='attrs-7a0e7d6b-82e0-4f89-a466-cc7c1e34b7e7' title='Show/Hide attributes'><svg class='icon xr-icon-file-text2'><use xlink:href='#icon-file-text2'></use></svg></label><input id='data-5a185d95-e8ce-43de-94fd-ff5575ccad72' class='xr-var-data-in' type='checkbox'><label for='data-5a185d95-e8ce-43de-94fd-ff5575ccad72' title='Show/Hide data repr'><svg class='icon xr-icon-database'><use xlink:href='#icon-database'></use></svg></label><div class='xr-var-attrs'><dl class='xr-attrs'><dt><span>units :</span></dt><dd>degrees_east</dd><dt><span>long_name :</span></dt><dd>longitude</dd><dt><span>standard_name :</span></dt><dd>longitude</dd><dt><span>valid_min :</span></dt><dd>-11.999475890985316</dd><dt><span>valid_max :</span></dt><dd>13.000524109014684</dd><dt><span>_ChunkSizes :</span></dt><dd>14311</dd></dl></div><div class='xr-var-data'><pre>array([-11.999476, -11.997729, -11.995982, ...,  12.99703 ,  12.998777,\n",
       "        13.000524])</pre></div></li><li class='xr-var-item'><div class='xr-var-name'><span class='xr-has-index'>time</span></div><div class='xr-var-dims'>(time)</div><div class='xr-var-dtype'>datetime64[ns]</div><div class='xr-var-preview xr-preview'>2020-01-04 ... 2022-10-31</div><input id='attrs-438ed426-6e01-4575-a7f6-f41852703ea7' class='xr-var-attrs-in' type='checkbox' ><label for='attrs-438ed426-6e01-4575-a7f6-f41852703ea7' title='Show/Hide attributes'><svg class='icon xr-icon-file-text2'><use xlink:href='#icon-file-text2'></use></svg></label><input id='data-3bb3c939-670d-4551-bd04-42935d9c46c1' class='xr-var-data-in' type='checkbox'><label for='data-3bb3c939-670d-4551-bd04-42935d9c46c1' title='Show/Hide data repr'><svg class='icon xr-icon-database'><use xlink:href='#icon-database'></use></svg></label><div class='xr-var-attrs'><dl class='xr-attrs'><dt><span>standard_name :</span></dt><dd>time</dd><dt><span>axis :</span></dt><dd>T</dd></dl></div><div class='xr-var-data'><pre>array([&#x27;2020-01-04T00:00:00.000000000&#x27;, &#x27;2020-01-06T00:00:00.000000000&#x27;,\n",
       "       &#x27;2020-01-08T00:00:00.000000000&#x27;, ..., &#x27;2022-10-29T00:00:00.000000000&#x27;,\n",
       "       &#x27;2022-10-30T00:00:00.000000000&#x27;, &#x27;2022-10-31T00:00:00.000000000&#x27;],\n",
       "      dtype=&#x27;datetime64[ns]&#x27;)</pre></div></li></ul></div></li><li class='xr-section-item'><input id='section-0d7ccd2c-a94d-41e8-8db2-06cc8ffb770e' class='xr-section-summary-in' type='checkbox'  checked><label for='section-0d7ccd2c-a94d-41e8-8db2-06cc8ffb770e' class='xr-section-summary' >Data variables: <span>(3)</span></label><div class='xr-section-inline-details'></div><div class='xr-section-details'><ul class='xr-var-list'><li class='xr-var-item'><div class='xr-var-name'><span>SPM</span></div><div class='xr-var-dims'>(time, lat, lon)</div><div class='xr-var-dtype'>float32</div><div class='xr-var-preview xr-preview'>...</div><input id='attrs-bb5ef60b-4873-4815-a051-2963b669e714' class='xr-var-attrs-in' type='checkbox' ><label for='attrs-bb5ef60b-4873-4815-a051-2963b669e714' title='Show/Hide attributes'><svg class='icon xr-icon-file-text2'><use xlink:href='#icon-file-text2'></use></svg></label><input id='data-a8eb21f2-cd18-43be-bdd5-bb0fde86c8f0' class='xr-var-data-in' type='checkbox'><label for='data-a8eb21f2-cd18-43be-bdd5-bb0fde86c8f0' title='Show/Hide data repr'><svg class='icon xr-icon-database'><use xlink:href='#icon-database'></use></svg></label><div class='xr-var-attrs'><dl class='xr-attrs'><dt><span>long_name :</span></dt><dd>Suspended Particulate Matter derived from MSI L2R using HR-OC L2W processor</dd><dt><span>standard_name :</span></dt><dd>mass_concentration_of_suspended_matter_in_sea_water</dd><dt><span>valid_min :</span></dt><dd>0.0</dd><dt><span>units :</span></dt><dd>g m-3</dd><dt><span>_ChunkSizes :</span></dt><dd>[1, 945, 1192]</dd></dl></div><div class='xr-var-data'><pre>[198855352080 values with dtype=float32]</pre></div></li><li class='xr-var-item'><div class='xr-var-name'><span>TUR</span></div><div class='xr-var-dims'>(time, lat, lon)</div><div class='xr-var-dtype'>float32</div><div class='xr-var-preview xr-preview'>...</div><input id='attrs-0d645736-32ef-4881-bd80-d5c56e0ffb3b' class='xr-var-attrs-in' type='checkbox' ><label for='attrs-0d645736-32ef-4881-bd80-d5c56e0ffb3b' title='Show/Hide attributes'><svg class='icon xr-icon-file-text2'><use xlink:href='#icon-file-text2'></use></svg></label><input id='data-5de15355-277a-4ebe-b83c-f07347bb03fc' class='xr-var-data-in' type='checkbox'><label for='data-5de15355-277a-4ebe-b83c-f07347bb03fc' title='Show/Hide data repr'><svg class='icon xr-icon-database'><use xlink:href='#icon-database'></use></svg></label><div class='xr-var-attrs'><dl class='xr-attrs'><dt><span>long_name :</span></dt><dd>Turbidity derived from MSI L2R using HR-OC L2W processor</dd><dt><span>standard_name :</span></dt><dd>sea_water_turbidity</dd><dt><span>units :</span></dt><dd>FNU</dd><dt><span>valid_min :</span></dt><dd>0.0</dd><dt><span>_ChunkSizes :</span></dt><dd>[1, 945, 1192]</dd></dl></div><div class='xr-var-data'><pre>[198855352080 values with dtype=float32]</pre></div></li><li class='xr-var-item'><div class='xr-var-name'><span>CHL</span></div><div class='xr-var-dims'>(time, lat, lon)</div><div class='xr-var-dtype'>float32</div><div class='xr-var-preview xr-preview'>...</div><input id='attrs-f19aea0d-09d3-4ec7-9fd2-6db8384dae7c' class='xr-var-attrs-in' type='checkbox' ><label for='attrs-f19aea0d-09d3-4ec7-9fd2-6db8384dae7c' title='Show/Hide attributes'><svg class='icon xr-icon-file-text2'><use xlink:href='#icon-file-text2'></use></svg></label><input id='data-0b8aecb9-9b26-4c80-9455-79b85d8b5d30' class='xr-var-data-in' type='checkbox'><label for='data-0b8aecb9-9b26-4c80-9455-79b85d8b5d30' title='Show/Hide data repr'><svg class='icon xr-icon-database'><use xlink:href='#icon-database'></use></svg></label><div class='xr-var-attrs'><dl class='xr-attrs'><dt><span>long_name :</span></dt><dd>Chlorophyll-a concentration derived from MSI L2R using HR-OC L2W processor</dd><dt><span>standard_name :</span></dt><dd>mass_concentration_of_chlorophyll_a_in_sea_water</dd><dt><span>units :</span></dt><dd>mg m-3</dd><dt><span>valid_min :</span></dt><dd>0.0</dd><dt><span>_ChunkSizes :</span></dt><dd>[1, 945, 1192]</dd></dl></div><div class='xr-var-data'><pre>[198855352080 values with dtype=float32]</pre></div></li></ul></div></li><li class='xr-section-item'><input id='section-c355a806-e702-4929-8556-3a64387a3381' class='xr-section-summary-in' type='checkbox'  ><label for='section-c355a806-e702-4929-8556-3a64387a3381' class='xr-section-summary' >Indexes: <span>(3)</span></label><div class='xr-section-inline-details'></div><div class='xr-section-details'><ul class='xr-var-list'><li class='xr-var-item'><div class='xr-index-name'><div>lat</div></div><div class='xr-index-preview'>PandasIndex</div><div></div><input id='index-07576670-93a0-4be9-bfe5-e6f28cef3109' class='xr-index-data-in' type='checkbox'/><label for='index-07576670-93a0-4be9-bfe5-e6f28cef3109' title='Show/Hide index repr'><svg class='icon xr-icon-database'><use xlink:href='#icon-database'></use></svg></label><div class='xr-index-data'><pre>PandasIndex(Float64Index([ 61.99953703703704,  61.99861111111111,  61.99768518518518,\n",
       "               61.99675925925926,  61.99583333333333,  61.99490740740741,\n",
       "              61.993981481481484,  61.99305555555556,  61.99212962962963,\n",
       "              61.991203703703704,\n",
       "              ...\n",
       "              48.008796296296296,  48.00787037037037,  48.00694444444444,\n",
       "              48.006018518518516,  48.00509259259259,  48.00416666666666,\n",
       "              48.003240740740736,  48.00231481481482,  48.00138888888889,\n",
       "               48.00046296296296],\n",
       "             dtype=&#x27;float64&#x27;, name=&#x27;lat&#x27;, length=15120))</pre></div></li><li class='xr-var-item'><div class='xr-index-name'><div>lon</div></div><div class='xr-index-preview'>PandasIndex</div><div></div><input id='index-d7ffbd6f-b832-4d0c-8796-fc9359dc3e68' class='xr-index-data-in' type='checkbox'/><label for='index-d7ffbd6f-b832-4d0c-8796-fc9359dc3e68' title='Show/Hide index repr'><svg class='icon xr-icon-database'><use xlink:href='#icon-database'></use></svg></label><div class='xr-index-data'><pre>PandasIndex(Float64Index([-11.999475890985316,   -11.9977288609364, -11.995981830887484,\n",
       "              -11.994234800838566,  -11.99248777078965, -11.990740740740732,\n",
       "              -11.988993710691815,   -11.9872466806429, -11.985499650593981,\n",
       "              -11.983752620545065,\n",
       "              ...\n",
       "               12.984800838574433,  12.986547868623347,  12.988294898672265,\n",
       "               12.990041928721183,  12.991788958770101,  12.993535988819016,\n",
       "               12.995283018867934,  12.997030048916852,  12.998777078965766,\n",
       "               13.000524109014684],\n",
       "             dtype=&#x27;float64&#x27;, name=&#x27;lon&#x27;, length=14311))</pre></div></li><li class='xr-var-item'><div class='xr-index-name'><div>time</div></div><div class='xr-index-preview'>PandasIndex</div><div></div><input id='index-014e9e10-8a29-41b9-9e19-568992e08670' class='xr-index-data-in' type='checkbox'/><label for='index-014e9e10-8a29-41b9-9e19-568992e08670' title='Show/Hide index repr'><svg class='icon xr-icon-database'><use xlink:href='#icon-database'></use></svg></label><div class='xr-index-data'><pre>PandasIndex(DatetimeIndex([&#x27;2020-01-04&#x27;, &#x27;2020-01-06&#x27;, &#x27;2020-01-08&#x27;, &#x27;2020-01-09&#x27;,\n",
       "               &#x27;2020-01-10&#x27;, &#x27;2020-01-11&#x27;, &#x27;2020-01-12&#x27;, &#x27;2020-01-15&#x27;,\n",
       "               &#x27;2020-01-18&#x27;, &#x27;2020-01-19&#x27;,\n",
       "               ...\n",
       "               &#x27;2022-10-19&#x27;, &#x27;2022-10-20&#x27;, &#x27;2022-10-22&#x27;, &#x27;2022-10-23&#x27;,\n",
       "               &#x27;2022-10-24&#x27;, &#x27;2022-10-25&#x27;, &#x27;2022-10-26&#x27;, &#x27;2022-10-29&#x27;,\n",
       "               &#x27;2022-10-30&#x27;, &#x27;2022-10-31&#x27;],\n",
       "              dtype=&#x27;datetime64[ns]&#x27;, name=&#x27;time&#x27;, length=919, freq=None))</pre></div></li></ul></div></li><li class='xr-section-item'><input id='section-eec12e5f-b53f-4bb0-8cdd-99e804aaeedb' class='xr-section-summary-in' type='checkbox'  ><label for='section-eec12e5f-b53f-4bb0-8cdd-99e804aaeedb' class='xr-section-summary' >Attributes: <span>(46)</span></label><div class='xr-section-inline-details'></div><div class='xr-section-details'><dl class='xr-attrs'><dt><span>TileSize :</span></dt><dd>945:1192</dd><dt><span>id :</span></dt><dd>20221031_P1D_CMEMS_HROC_L4_tur-spm-chl_NWS__100m-v01.2.nc</dd><dt><span>title :</span></dt><dd>CMEMS HR-OC North West Shelf Region transparency (spm, tur) and geophysical (chl) daily interpolated observations mosaic</dd><dt><span>region :</span></dt><dd>NWS</dd><dt><span>tile :</span></dt><dd></dd><dt><span>cmems_product_id :</span></dt><dd>OCEANCOLOUR_NWS_BGC_HR_L4_NRT_009_209</dd><dt><span>cmems_dataset :</span></dt><dd>cmems_obs_oc_nws_bgc_tur-spm-chl_nrt_l4-hr-mosaic_P1D-m</dd><dt><span>institution :</span></dt><dd>Brockmann Consult GmbH, RBINS, VITO for CMEMS, Mercator Ocean</dd><dt><span>source :</span></dt><dd>Sentinel-2 MSI L1C</dd><dt><span>history :</span></dt><dd>Calvalus 2.21 mosaic generation; Acolite 20210203; C2RCC 8.0cv; Idepix 8.0cv; HROC L2W 20201223; Calvalus 2.21 aggregation</dd><dt><span>references :</span></dt><dd>https://marine.copernicus.eu/</dd><dt><span>license :</span></dt><dd>CMEMS data license</dd><dt><span>tracking_id :</span></dt><dd>de0f7357-f9c0-4d2b-b4d7-40d55c0ae086</dd><dt><span>product_version :</span></dt><dd>v01.2</dd><dt><span>summary :</span></dt><dd>The HR-OC product has been processed from Sentinel-2 MSI L1C by pixel identification, atmospheric correction, in-water retrieval, spatio-temporal aggregation, and tiling. It covers six European coastal regions.</dd><dt><span>keywords :</span></dt><dd>ocean color, water quality, reflectance, Copernicus CMEMS</dd><dt><span>keywords_vocabulary :</span></dt><dd>NASA Global Change Master Directory (GCMD) Science keywords</dd><dt><span>Conventions :</span></dt><dd>CF-1.7</dd><dt><span>naming_authority :</span></dt><dd>org.esa-cci</dd><dt><span>standard_name_vocabulary :</span></dt><dd>NetCDF Climate and Forecast (CF) Metadata Convention</dd><dt><span>date_created :</span></dt><dd>20221118T203727Z</dd><dt><span>creator_name :</span></dt><dd>BC, RBINS, and VITO for CMEMS</dd><dt><span>creator_url :</span></dt><dd>https://www.brockmann-consult.de/</dd><dt><span>creator_email :</span></dt><dd>hr-oc-servicedesk@brockmann-consult.de</dd><dt><span>contact :</span></dt><dd>https://marine.copernicus.eu/</dd><dt><span>project :</span></dt><dd>CMEMS High Resolution Ocean Colour</dd><dt><span>cmd_data_type :</span></dt><dd>Grid</dd><dt><span>spatial_resolution :</span></dt><dd>100m</dd><dt><span>geospatial_lon_min :</span></dt><dd>-12.000349406009775</dd><dt><span>geospatial_lon_max :</span></dt><dd>13.001397624039143</dd><dt><span>geospatial_lon_resolution :</span></dt><dd>0.0017470300489168414</dd><dt><span>geospatial_lon_units :</span></dt><dd>degrees_east</dd><dt><span>geospatial_lat_min :</span></dt><dd>48.0</dd><dt><span>geospatial_lat_max :</span></dt><dd>62.0</dd><dt><span>geospatial_lat_resolution :</span></dt><dd>9.25925925925926E-4</dd><dt><span>geospatial_lat_units :</span></dt><dd>degrees_north</dd><dt><span>geospatial_vertical_min :</span></dt><dd>0</dd><dt><span>geospatial_vertical_max :</span></dt><dd>0</dd><dt><span>time_coverage_start :</span></dt><dd>20221031T000000Z</dd><dt><span>time_coverage_stop :</span></dt><dd>20221031T235959Z</dd><dt><span>time_coverage_duration :</span></dt><dd>P1D</dd><dt><span>time_coverage_resolution :</span></dt><dd>P1D</dd><dt><span>platform :</span></dt><dd>Sentinel-2</dd><dt><span>sensor :</span></dt><dd>MSI</dd><dt><span>start_date :</span></dt><dd>31-OCT-2022 00:00:00.000000</dd><dt><span>stop_date :</span></dt><dd>31-OCT-2022 00:00:00.000000</dd></dl></div></li></ul></div></div>"
      ],
      "text/plain": [
       "<xarray.Dataset>\n",
       "Dimensions:  (lat: 15120, lon: 14311, time: 919)\n",
       "Coordinates:\n",
       "  * lat      (lat) float64 62.0 62.0 62.0 62.0 62.0 ... 48.0 48.0 48.0 48.0 48.0\n",
       "  * lon      (lon) float64 -12.0 -12.0 -12.0 -11.99 ... 13.0 13.0 13.0 13.0\n",
       "  * time     (time) datetime64[ns] 2020-01-04 2020-01-06 ... 2022-10-31\n",
       "Data variables:\n",
       "    SPM      (time, lat, lon) float32 ...\n",
       "    TUR      (time, lat, lon) float32 ...\n",
       "    CHL      (time, lat, lon) float32 ...\n",
       "Attributes: (12/46)\n",
       "    TileSize:                   945:1192\n",
       "    id:                         20221031_P1D_CMEMS_HROC_L4_tur-spm-chl_NWS__1...\n",
       "    title:                      CMEMS HR-OC North West Shelf Region transpare...\n",
       "    region:                     NWS\n",
       "    tile:                       \n",
       "    cmems_product_id:           OCEANCOLOUR_NWS_BGC_HR_L4_NRT_009_209\n",
       "    ...                         ...\n",
       "    time_coverage_duration:     P1D\n",
       "    time_coverage_resolution:   P1D\n",
       "    platform:                   Sentinel-2\n",
       "    sensor:                     MSI\n",
       "    start_date:                 31-OCT-2022 00:00:00.000000\n",
       "    stop_date:                  31-OCT-2022 00:00:00.000000"
      ]
     },
     "execution_count": 13,
     "metadata": {},
     "output_type": "execute_result"
    }
   ],
   "source": [
    "%%time\n",
    "DS = xr.open_dataset(data_store)\n",
    "DS"
   ]
  },
  {
   "cell_type": "markdown",
   "metadata": {},
   "source": [
    "# Load Sample Site Data"
   ]
  },
  {
   "cell_type": "code",
   "execution_count": 15,
   "metadata": {},
   "outputs": [
    {
     "ename": "FileNotFoundError",
     "evalue": "[Errno 2] No such file or directory: 'site_locations.csv'",
     "output_type": "error",
     "traceback": [
      "\u001b[0;31m---------------------------------------------------------------------------\u001b[0m",
      "\u001b[0;31mFileNotFoundError\u001b[0m                         Traceback (most recent call last)",
      "\u001b[0;32m<ipython-input-15-2e3eb09d5fb3>\u001b[0m in \u001b[0;36m<module>\u001b[0;34m\u001b[0m\n\u001b[0;32m----> 1\u001b[0;31m \u001b[0msites_df\u001b[0m \u001b[0;34m=\u001b[0m \u001b[0mpd\u001b[0m\u001b[0;34m.\u001b[0m\u001b[0mread_csv\u001b[0m\u001b[0;34m(\u001b[0m\u001b[0;34m'site_locations.csv'\u001b[0m\u001b[0;34m)\u001b[0m\u001b[0;34m\u001b[0m\u001b[0;34m\u001b[0m\u001b[0m\n\u001b[0m\u001b[1;32m      2\u001b[0m \u001b[0msites\u001b[0m \u001b[0;34m=\u001b[0m \u001b[0;34m[\u001b[0m\u001b[0;34m[\u001b[0m\u001b[0mrow\u001b[0m\u001b[0;34m[\u001b[0m\u001b[0;34m'label'\u001b[0m\u001b[0;34m]\u001b[0m\u001b[0;34m,\u001b[0m \u001b[0mrow\u001b[0m\u001b[0;34m[\u001b[0m\u001b[0;34m'lat'\u001b[0m\u001b[0;34m]\u001b[0m\u001b[0;34m,\u001b[0m \u001b[0mrow\u001b[0m\u001b[0;34m[\u001b[0m\u001b[0;34m'long'\u001b[0m\u001b[0;34m]\u001b[0m\u001b[0;34m]\u001b[0m \u001b[0;32mfor\u001b[0m \u001b[0mindex\u001b[0m\u001b[0;34m,\u001b[0m \u001b[0mrow\u001b[0m \u001b[0;32min\u001b[0m \u001b[0msites_df\u001b[0m\u001b[0;34m.\u001b[0m\u001b[0miterrows\u001b[0m\u001b[0;34m(\u001b[0m\u001b[0;34m)\u001b[0m\u001b[0;34m]\u001b[0m\u001b[0;34m\u001b[0m\u001b[0;34m\u001b[0m\u001b[0m\n\u001b[1;32m      3\u001b[0m \u001b[0msites\u001b[0m\u001b[0;34m[\u001b[0m\u001b[0;34m:\u001b[0m\u001b[0;36m10\u001b[0m\u001b[0;34m]\u001b[0m\u001b[0;34m\u001b[0m\u001b[0;34m\u001b[0m\u001b[0m\n",
      "\u001b[0;32m/Applications/anaconda3/lib/python3.8/site-packages/pandas/util/_decorators.py\u001b[0m in \u001b[0;36mwrapper\u001b[0;34m(*args, **kwargs)\u001b[0m\n\u001b[1;32m    209\u001b[0m                 \u001b[0;32melse\u001b[0m\u001b[0;34m:\u001b[0m\u001b[0;34m\u001b[0m\u001b[0;34m\u001b[0m\u001b[0m\n\u001b[1;32m    210\u001b[0m                     \u001b[0mkwargs\u001b[0m\u001b[0;34m[\u001b[0m\u001b[0mnew_arg_name\u001b[0m\u001b[0;34m]\u001b[0m \u001b[0;34m=\u001b[0m \u001b[0mnew_arg_value\u001b[0m\u001b[0;34m\u001b[0m\u001b[0;34m\u001b[0m\u001b[0m\n\u001b[0;32m--> 211\u001b[0;31m             \u001b[0;32mreturn\u001b[0m \u001b[0mfunc\u001b[0m\u001b[0;34m(\u001b[0m\u001b[0;34m*\u001b[0m\u001b[0margs\u001b[0m\u001b[0;34m,\u001b[0m \u001b[0;34m**\u001b[0m\u001b[0mkwargs\u001b[0m\u001b[0;34m)\u001b[0m\u001b[0;34m\u001b[0m\u001b[0;34m\u001b[0m\u001b[0m\n\u001b[0m\u001b[1;32m    212\u001b[0m \u001b[0;34m\u001b[0m\u001b[0m\n\u001b[1;32m    213\u001b[0m         \u001b[0;32mreturn\u001b[0m \u001b[0mcast\u001b[0m\u001b[0;34m(\u001b[0m\u001b[0mF\u001b[0m\u001b[0;34m,\u001b[0m \u001b[0mwrapper\u001b[0m\u001b[0;34m)\u001b[0m\u001b[0;34m\u001b[0m\u001b[0;34m\u001b[0m\u001b[0m\n",
      "\u001b[0;32m/Applications/anaconda3/lib/python3.8/site-packages/pandas/util/_decorators.py\u001b[0m in \u001b[0;36mwrapper\u001b[0;34m(*args, **kwargs)\u001b[0m\n\u001b[1;32m    329\u001b[0m                     \u001b[0mstacklevel\u001b[0m\u001b[0;34m=\u001b[0m\u001b[0mfind_stack_level\u001b[0m\u001b[0;34m(\u001b[0m\u001b[0;34m)\u001b[0m\u001b[0;34m,\u001b[0m\u001b[0;34m\u001b[0m\u001b[0;34m\u001b[0m\u001b[0m\n\u001b[1;32m    330\u001b[0m                 )\n\u001b[0;32m--> 331\u001b[0;31m             \u001b[0;32mreturn\u001b[0m \u001b[0mfunc\u001b[0m\u001b[0;34m(\u001b[0m\u001b[0;34m*\u001b[0m\u001b[0margs\u001b[0m\u001b[0;34m,\u001b[0m \u001b[0;34m**\u001b[0m\u001b[0mkwargs\u001b[0m\u001b[0;34m)\u001b[0m\u001b[0;34m\u001b[0m\u001b[0;34m\u001b[0m\u001b[0m\n\u001b[0m\u001b[1;32m    332\u001b[0m \u001b[0;34m\u001b[0m\u001b[0m\n\u001b[1;32m    333\u001b[0m         \u001b[0;31m# error: \"Callable[[VarArg(Any), KwArg(Any)], Any]\" has no\u001b[0m\u001b[0;34m\u001b[0m\u001b[0;34m\u001b[0m\u001b[0;34m\u001b[0m\u001b[0m\n",
      "\u001b[0;32m/Applications/anaconda3/lib/python3.8/site-packages/pandas/io/parsers/readers.py\u001b[0m in \u001b[0;36mread_csv\u001b[0;34m(filepath_or_buffer, sep, delimiter, header, names, index_col, usecols, squeeze, prefix, mangle_dupe_cols, dtype, engine, converters, true_values, false_values, skipinitialspace, skiprows, skipfooter, nrows, na_values, keep_default_na, na_filter, verbose, skip_blank_lines, parse_dates, infer_datetime_format, keep_date_col, date_parser, dayfirst, cache_dates, iterator, chunksize, compression, thousands, decimal, lineterminator, quotechar, quoting, doublequote, escapechar, comment, encoding, encoding_errors, dialect, error_bad_lines, warn_bad_lines, on_bad_lines, delim_whitespace, low_memory, memory_map, float_precision, storage_options)\u001b[0m\n\u001b[1;32m    948\u001b[0m     \u001b[0mkwds\u001b[0m\u001b[0;34m.\u001b[0m\u001b[0mupdate\u001b[0m\u001b[0;34m(\u001b[0m\u001b[0mkwds_defaults\u001b[0m\u001b[0;34m)\u001b[0m\u001b[0;34m\u001b[0m\u001b[0;34m\u001b[0m\u001b[0m\n\u001b[1;32m    949\u001b[0m \u001b[0;34m\u001b[0m\u001b[0m\n\u001b[0;32m--> 950\u001b[0;31m     \u001b[0;32mreturn\u001b[0m \u001b[0m_read\u001b[0m\u001b[0;34m(\u001b[0m\u001b[0mfilepath_or_buffer\u001b[0m\u001b[0;34m,\u001b[0m \u001b[0mkwds\u001b[0m\u001b[0;34m)\u001b[0m\u001b[0;34m\u001b[0m\u001b[0;34m\u001b[0m\u001b[0m\n\u001b[0m\u001b[1;32m    951\u001b[0m \u001b[0;34m\u001b[0m\u001b[0m\n\u001b[1;32m    952\u001b[0m \u001b[0;34m\u001b[0m\u001b[0m\n",
      "\u001b[0;32m/Applications/anaconda3/lib/python3.8/site-packages/pandas/io/parsers/readers.py\u001b[0m in \u001b[0;36m_read\u001b[0;34m(filepath_or_buffer, kwds)\u001b[0m\n\u001b[1;32m    603\u001b[0m \u001b[0;34m\u001b[0m\u001b[0m\n\u001b[1;32m    604\u001b[0m     \u001b[0;31m# Create the parser.\u001b[0m\u001b[0;34m\u001b[0m\u001b[0;34m\u001b[0m\u001b[0;34m\u001b[0m\u001b[0m\n\u001b[0;32m--> 605\u001b[0;31m     \u001b[0mparser\u001b[0m \u001b[0;34m=\u001b[0m \u001b[0mTextFileReader\u001b[0m\u001b[0;34m(\u001b[0m\u001b[0mfilepath_or_buffer\u001b[0m\u001b[0;34m,\u001b[0m \u001b[0;34m**\u001b[0m\u001b[0mkwds\u001b[0m\u001b[0;34m)\u001b[0m\u001b[0;34m\u001b[0m\u001b[0;34m\u001b[0m\u001b[0m\n\u001b[0m\u001b[1;32m    606\u001b[0m \u001b[0;34m\u001b[0m\u001b[0m\n\u001b[1;32m    607\u001b[0m     \u001b[0;32mif\u001b[0m \u001b[0mchunksize\u001b[0m \u001b[0;32mor\u001b[0m \u001b[0miterator\u001b[0m\u001b[0;34m:\u001b[0m\u001b[0;34m\u001b[0m\u001b[0;34m\u001b[0m\u001b[0m\n",
      "\u001b[0;32m/Applications/anaconda3/lib/python3.8/site-packages/pandas/io/parsers/readers.py\u001b[0m in \u001b[0;36m__init__\u001b[0;34m(self, f, engine, **kwds)\u001b[0m\n\u001b[1;32m   1440\u001b[0m \u001b[0;34m\u001b[0m\u001b[0m\n\u001b[1;32m   1441\u001b[0m         \u001b[0mself\u001b[0m\u001b[0;34m.\u001b[0m\u001b[0mhandles\u001b[0m\u001b[0;34m:\u001b[0m \u001b[0mIOHandles\u001b[0m \u001b[0;34m|\u001b[0m \u001b[0;32mNone\u001b[0m \u001b[0;34m=\u001b[0m \u001b[0;32mNone\u001b[0m\u001b[0;34m\u001b[0m\u001b[0;34m\u001b[0m\u001b[0m\n\u001b[0;32m-> 1442\u001b[0;31m         \u001b[0mself\u001b[0m\u001b[0;34m.\u001b[0m\u001b[0m_engine\u001b[0m \u001b[0;34m=\u001b[0m \u001b[0mself\u001b[0m\u001b[0;34m.\u001b[0m\u001b[0m_make_engine\u001b[0m\u001b[0;34m(\u001b[0m\u001b[0mf\u001b[0m\u001b[0;34m,\u001b[0m \u001b[0mself\u001b[0m\u001b[0;34m.\u001b[0m\u001b[0mengine\u001b[0m\u001b[0;34m)\u001b[0m\u001b[0;34m\u001b[0m\u001b[0;34m\u001b[0m\u001b[0m\n\u001b[0m\u001b[1;32m   1443\u001b[0m \u001b[0;34m\u001b[0m\u001b[0m\n\u001b[1;32m   1444\u001b[0m     \u001b[0;32mdef\u001b[0m \u001b[0mclose\u001b[0m\u001b[0;34m(\u001b[0m\u001b[0mself\u001b[0m\u001b[0;34m)\u001b[0m \u001b[0;34m->\u001b[0m \u001b[0;32mNone\u001b[0m\u001b[0;34m:\u001b[0m\u001b[0;34m\u001b[0m\u001b[0;34m\u001b[0m\u001b[0m\n",
      "\u001b[0;32m/Applications/anaconda3/lib/python3.8/site-packages/pandas/io/parsers/readers.py\u001b[0m in \u001b[0;36m_make_engine\u001b[0;34m(self, f, engine)\u001b[0m\n\u001b[1;32m   1733\u001b[0m                 \u001b[0;32mif\u001b[0m \u001b[0;34m\"b\"\u001b[0m \u001b[0;32mnot\u001b[0m \u001b[0;32min\u001b[0m \u001b[0mmode\u001b[0m\u001b[0;34m:\u001b[0m\u001b[0;34m\u001b[0m\u001b[0;34m\u001b[0m\u001b[0m\n\u001b[1;32m   1734\u001b[0m                     \u001b[0mmode\u001b[0m \u001b[0;34m+=\u001b[0m \u001b[0;34m\"b\"\u001b[0m\u001b[0;34m\u001b[0m\u001b[0;34m\u001b[0m\u001b[0m\n\u001b[0;32m-> 1735\u001b[0;31m             self.handles = get_handle(\n\u001b[0m\u001b[1;32m   1736\u001b[0m                 \u001b[0mf\u001b[0m\u001b[0;34m,\u001b[0m\u001b[0;34m\u001b[0m\u001b[0;34m\u001b[0m\u001b[0m\n\u001b[1;32m   1737\u001b[0m                 \u001b[0mmode\u001b[0m\u001b[0;34m,\u001b[0m\u001b[0;34m\u001b[0m\u001b[0;34m\u001b[0m\u001b[0m\n",
      "\u001b[0;32m/Applications/anaconda3/lib/python3.8/site-packages/pandas/io/common.py\u001b[0m in \u001b[0;36mget_handle\u001b[0;34m(path_or_buf, mode, encoding, compression, memory_map, is_text, errors, storage_options)\u001b[0m\n\u001b[1;32m    854\u001b[0m         \u001b[0;32mif\u001b[0m \u001b[0mioargs\u001b[0m\u001b[0;34m.\u001b[0m\u001b[0mencoding\u001b[0m \u001b[0;32mand\u001b[0m \u001b[0;34m\"b\"\u001b[0m \u001b[0;32mnot\u001b[0m \u001b[0;32min\u001b[0m \u001b[0mioargs\u001b[0m\u001b[0;34m.\u001b[0m\u001b[0mmode\u001b[0m\u001b[0;34m:\u001b[0m\u001b[0;34m\u001b[0m\u001b[0;34m\u001b[0m\u001b[0m\n\u001b[1;32m    855\u001b[0m             \u001b[0;31m# Encoding\u001b[0m\u001b[0;34m\u001b[0m\u001b[0;34m\u001b[0m\u001b[0;34m\u001b[0m\u001b[0m\n\u001b[0;32m--> 856\u001b[0;31m             handle = open(\n\u001b[0m\u001b[1;32m    857\u001b[0m                 \u001b[0mhandle\u001b[0m\u001b[0;34m,\u001b[0m\u001b[0;34m\u001b[0m\u001b[0;34m\u001b[0m\u001b[0m\n\u001b[1;32m    858\u001b[0m                 \u001b[0mioargs\u001b[0m\u001b[0;34m.\u001b[0m\u001b[0mmode\u001b[0m\u001b[0;34m,\u001b[0m\u001b[0;34m\u001b[0m\u001b[0;34m\u001b[0m\u001b[0m\n",
      "\u001b[0;31mFileNotFoundError\u001b[0m: [Errno 2] No such file or directory: 'site_locations.csv'"
     ]
    }
   ],
   "source": [
    "sites_df = pd.read_csv('site_locations.csv')\n",
    "sites = [[row['label'], row['lat'], row['long']] for index, row in sites_df.iterrows()]\n",
    "sites[:10]"
   ]
  },
  {
   "cell_type": "code",
   "execution_count": null,
   "metadata": {},
   "outputs": [],
   "source": []
  },
  {
   "cell_type": "code",
   "execution_count": 16,
   "metadata": {},
   "outputs": [
    {
     "data": {
      "text/plain": [
       "430"
      ]
     },
     "execution_count": 16,
     "metadata": {},
     "output_type": "execute_result"
    }
   ],
   "source": [
    "len(sites)"
   ]
  },
  {
   "cell_type": "markdown",
   "metadata": {},
   "source": [
    "# Trialling dataset on subset of sample sites"
   ]
  },
  {
   "cell_type": "code",
   "execution_count": 34,
   "metadata": {},
   "outputs": [
    {
     "name": "stdout",
     "output_type": "stream",
     "text": [
      "CPU times: user 184 ms, sys: 114 ms, total: 297 ms\n",
      "Wall time: 30.6 s\n"
     ]
    }
   ],
   "source": [
    "%%time\n",
    "# site = sites[0]\n",
    "# site_name = site[0]\n",
    "# lat = site[1]\n",
    "# lon = site[2]\n",
    "site_name = 'Seaton Carew North Approx'\n",
    "lat = 54.666059\n",
    "lon = -1.153516\n",
    "lat = 54.667775\n",
    "lon = -1.072859\n",
    "lat = 54.684705\n",
    "lon = -0.807796\n",
    "lat = 54.811177\n",
    "lon = -0.5\n",
    "target_time=slice(\"2022-01-01\", \"2022-12-31\")\n",
    "\n",
    "df = DS.sel(time=target_time)\n",
    "df = df.sel(lon=lon, lat=lat, method='nearest')\n",
    "df = df.assign(site=site_name)\n",
    "df = df.to_pandas()\n",
    "df.to_csv('trial_20220217_1.csv')"
   ]
  },
  {
   "cell_type": "code",
   "execution_count": 35,
   "metadata": {},
   "outputs": [
    {
     "data": {
      "text/html": [
       "<div>\n",
       "<style scoped>\n",
       "    .dataframe tbody tr th:only-of-type {\n",
       "        vertical-align: middle;\n",
       "    }\n",
       "\n",
       "    .dataframe tbody tr th {\n",
       "        vertical-align: top;\n",
       "    }\n",
       "\n",
       "    .dataframe thead th {\n",
       "        text-align: right;\n",
       "    }\n",
       "</style>\n",
       "<table border=\"1\" class=\"dataframe\">\n",
       "  <thead>\n",
       "    <tr style=\"text-align: right;\">\n",
       "      <th></th>\n",
       "      <th>lat</th>\n",
       "      <th>lon</th>\n",
       "      <th>SPM</th>\n",
       "      <th>TUR</th>\n",
       "      <th>CHL</th>\n",
       "      <th>site</th>\n",
       "    </tr>\n",
       "    <tr>\n",
       "      <th>time</th>\n",
       "      <th></th>\n",
       "      <th></th>\n",
       "      <th></th>\n",
       "      <th></th>\n",
       "      <th></th>\n",
       "      <th></th>\n",
       "    </tr>\n",
       "  </thead>\n",
       "  <tbody>\n",
       "  </tbody>\n",
       "</table>\n",
       "</div>"
      ],
      "text/plain": [
       "Empty DataFrame\n",
       "Columns: [lat, lon, SPM, TUR, CHL, site]\n",
       "Index: []"
      ]
     },
     "execution_count": 35,
     "metadata": {},
     "output_type": "execute_result"
    }
   ],
   "source": [
    "df.dropna(how='all', subset=['SPM', 'TUR', 'CHL'])"
   ]
  },
  {
   "cell_type": "code",
   "execution_count": 18,
   "metadata": {},
   "outputs": [],
   "source": [
    "# df.to_pandas().to_csv('my_trial_4.csv')"
   ]
  },
  {
   "cell_type": "markdown",
   "metadata": {},
   "source": [
    "# Running code to collect data across all 400 sites"
   ]
  },
  {
   "cell_type": "code",
   "execution_count": 19,
   "metadata": {},
   "outputs": [
    {
     "name": "stdout",
     "output_type": "stream",
     "text": [
      "CPU times: user 832 ms, sys: 409 ms, total: 1.24 s\n",
      "Wall time: 789 ms\n"
     ]
    }
   ],
   "source": [
    "%%time\n",
    "target_time=slice(\"2022-01-01\", \"2022-12-31\")\n",
    "dfs = []\n",
    "for i in range(len(sites_df)):\n",
    "    site = sites[i]\n",
    "    site_name, lat, lon = site[0], site[1], site[2]\n",
    "    df = DS.sel(time=target_time).sel(lon=lon, lat=lat, method='nearest')\n",
    "    df = df.assign(site=site_name)\n",
    "    dfs.append(df)"
   ]
  },
  {
   "cell_type": "code",
   "execution_count": 20,
   "metadata": {},
   "outputs": [
    {
     "name": "stdout",
     "output_type": "stream",
     "text": [
      "i = 129, progress = 100.0%\n",
      "CPU times: user 24.9 s, sys: 3.84 s, total: 28.8 s\n",
      "Wall time: 1h 10min 41s\n"
     ]
    }
   ],
   "source": [
    "%%time\n",
    "# 74, 301\n",
    "df_slice = dfs[301:]\n",
    "dfs_pandas = []\n",
    "i = 0\n",
    "for df in df_slice:\n",
    "    dataframe = df.to_pandas()\n",
    "    dfs_pandas.append(dataframe)\n",
    "    i += 1\n",
    "    clear_output(wait=True)\n",
    "    print(f'i = {i}, progress = {i/len(df_slice)*100}%')"
   ]
  },
  {
   "cell_type": "code",
   "execution_count": 21,
   "metadata": {},
   "outputs": [
    {
     "data": {
      "text/plain": [
       "129"
      ]
     },
     "execution_count": 21,
     "metadata": {},
     "output_type": "execute_result"
    }
   ],
   "source": [
    "len(dfs_pandas)"
   ]
  },
  {
   "cell_type": "code",
   "execution_count": 22,
   "metadata": {},
   "outputs": [
    {
     "data": {
      "text/html": [
       "<div>\n",
       "<style scoped>\n",
       "    .dataframe tbody tr th:only-of-type {\n",
       "        vertical-align: middle;\n",
       "    }\n",
       "\n",
       "    .dataframe tbody tr th {\n",
       "        vertical-align: top;\n",
       "    }\n",
       "\n",
       "    .dataframe thead th {\n",
       "        text-align: right;\n",
       "    }\n",
       "</style>\n",
       "<table border=\"1\" class=\"dataframe\">\n",
       "  <thead>\n",
       "    <tr style=\"text-align: right;\">\n",
       "      <th></th>\n",
       "      <th>lat</th>\n",
       "      <th>lon</th>\n",
       "      <th>SPM</th>\n",
       "      <th>TUR</th>\n",
       "      <th>CHL</th>\n",
       "      <th>site</th>\n",
       "    </tr>\n",
       "    <tr>\n",
       "      <th>time</th>\n",
       "      <th></th>\n",
       "      <th></th>\n",
       "      <th></th>\n",
       "      <th></th>\n",
       "      <th></th>\n",
       "      <th></th>\n",
       "    </tr>\n",
       "  </thead>\n",
       "  <tbody>\n",
       "    <tr>\n",
       "      <th>2022-01-03</th>\n",
       "      <td>50.005093</td>\n",
       "      <td>-5.163347</td>\n",
       "      <td>NaN</td>\n",
       "      <td>NaN</td>\n",
       "      <td>NaN</td>\n",
       "      <td>Kennack Sands</td>\n",
       "    </tr>\n",
       "    <tr>\n",
       "      <th>2022-01-04</th>\n",
       "      <td>50.005093</td>\n",
       "      <td>-5.163347</td>\n",
       "      <td>NaN</td>\n",
       "      <td>NaN</td>\n",
       "      <td>NaN</td>\n",
       "      <td>Kennack Sands</td>\n",
       "    </tr>\n",
       "    <tr>\n",
       "      <th>2022-01-05</th>\n",
       "      <td>50.005093</td>\n",
       "      <td>-5.163347</td>\n",
       "      <td>NaN</td>\n",
       "      <td>NaN</td>\n",
       "      <td>NaN</td>\n",
       "      <td>Kennack Sands</td>\n",
       "    </tr>\n",
       "    <tr>\n",
       "      <th>2022-01-06</th>\n",
       "      <td>50.005093</td>\n",
       "      <td>-5.163347</td>\n",
       "      <td>NaN</td>\n",
       "      <td>NaN</td>\n",
       "      <td>NaN</td>\n",
       "      <td>Kennack Sands</td>\n",
       "    </tr>\n",
       "    <tr>\n",
       "      <th>2022-01-07</th>\n",
       "      <td>50.005093</td>\n",
       "      <td>-5.163347</td>\n",
       "      <td>NaN</td>\n",
       "      <td>NaN</td>\n",
       "      <td>NaN</td>\n",
       "      <td>Kennack Sands</td>\n",
       "    </tr>\n",
       "    <tr>\n",
       "      <th>...</th>\n",
       "      <td>...</td>\n",
       "      <td>...</td>\n",
       "      <td>...</td>\n",
       "      <td>...</td>\n",
       "      <td>...</td>\n",
       "      <td>...</td>\n",
       "    </tr>\n",
       "    <tr>\n",
       "      <th>2022-10-25</th>\n",
       "      <td>51.043981</td>\n",
       "      <td>-4.235674</td>\n",
       "      <td>NaN</td>\n",
       "      <td>NaN</td>\n",
       "      <td>NaN</td>\n",
       "      <td>Westward Ho!</td>\n",
       "    </tr>\n",
       "    <tr>\n",
       "      <th>2022-10-26</th>\n",
       "      <td>51.043981</td>\n",
       "      <td>-4.235674</td>\n",
       "      <td>NaN</td>\n",
       "      <td>NaN</td>\n",
       "      <td>NaN</td>\n",
       "      <td>Westward Ho!</td>\n",
       "    </tr>\n",
       "    <tr>\n",
       "      <th>2022-10-29</th>\n",
       "      <td>51.043981</td>\n",
       "      <td>-4.235674</td>\n",
       "      <td>NaN</td>\n",
       "      <td>NaN</td>\n",
       "      <td>NaN</td>\n",
       "      <td>Westward Ho!</td>\n",
       "    </tr>\n",
       "    <tr>\n",
       "      <th>2022-10-30</th>\n",
       "      <td>51.043981</td>\n",
       "      <td>-4.235674</td>\n",
       "      <td>NaN</td>\n",
       "      <td>NaN</td>\n",
       "      <td>NaN</td>\n",
       "      <td>Westward Ho!</td>\n",
       "    </tr>\n",
       "    <tr>\n",
       "      <th>2022-10-31</th>\n",
       "      <td>51.043981</td>\n",
       "      <td>-4.235674</td>\n",
       "      <td>NaN</td>\n",
       "      <td>NaN</td>\n",
       "      <td>NaN</td>\n",
       "      <td>Westward Ho!</td>\n",
       "    </tr>\n",
       "  </tbody>\n",
       "</table>\n",
       "<p>36249 rows × 6 columns</p>\n",
       "</div>"
      ],
      "text/plain": [
       "                  lat       lon  SPM  TUR  CHL           site\n",
       "time                                                         \n",
       "2022-01-03  50.005093 -5.163347  NaN  NaN  NaN  Kennack Sands\n",
       "2022-01-04  50.005093 -5.163347  NaN  NaN  NaN  Kennack Sands\n",
       "2022-01-05  50.005093 -5.163347  NaN  NaN  NaN  Kennack Sands\n",
       "2022-01-06  50.005093 -5.163347  NaN  NaN  NaN  Kennack Sands\n",
       "2022-01-07  50.005093 -5.163347  NaN  NaN  NaN  Kennack Sands\n",
       "...               ...       ...  ...  ...  ...            ...\n",
       "2022-10-25  51.043981 -4.235674  NaN  NaN  NaN   Westward Ho!\n",
       "2022-10-26  51.043981 -4.235674  NaN  NaN  NaN   Westward Ho!\n",
       "2022-10-29  51.043981 -4.235674  NaN  NaN  NaN   Westward Ho!\n",
       "2022-10-30  51.043981 -4.235674  NaN  NaN  NaN   Westward Ho!\n",
       "2022-10-31  51.043981 -4.235674  NaN  NaN  NaN   Westward Ho!\n",
       "\n",
       "[36249 rows x 6 columns]"
      ]
     },
     "execution_count": 22,
     "metadata": {},
     "output_type": "execute_result"
    }
   ],
   "source": [
    "dfs_combined = pd.concat(dfs_pandas)\n",
    "dfs_combined"
   ]
  },
  {
   "cell_type": "code",
   "execution_count": 23,
   "metadata": {},
   "outputs": [],
   "source": [
    "now = datetime.now()\n",
    "dt_string = now.strftime(\"%Y%m%d_%H%M%S\")\n",
    "dfs_combined.to_csv(f'{dt_string}.csv')"
   ]
  },
  {
   "cell_type": "code",
   "execution_count": 24,
   "metadata": {},
   "outputs": [],
   "source": [
    "# %%time\n",
    "# dfs_all = xr.concat(dfs, dim='time')"
   ]
  },
  {
   "cell_type": "code",
   "execution_count": 25,
   "metadata": {},
   "outputs": [],
   "source": [
    "# %%time\n",
    "# dfs_all.to_pandas().to_csv('final.csv')"
   ]
  },
  {
   "cell_type": "code",
   "execution_count": null,
   "metadata": {},
   "outputs": [],
   "source": []
  },
  {
   "cell_type": "code",
   "execution_count": 26,
   "metadata": {},
   "outputs": [],
   "source": [
    "# %%time\n",
    "# df2 = xr.concat([df, df1], dim='time')\n",
    "# df2.to_pandas().to_csv('trial3.csv')"
   ]
  },
  {
   "cell_type": "code",
   "execution_count": 27,
   "metadata": {},
   "outputs": [],
   "source": [
    "# %%time\n",
    "# dataframe = df.to_pandas()\n",
    "# dataframe.to_csv('trial2.csv')"
   ]
  },
  {
   "cell_type": "code",
   "execution_count": 28,
   "metadata": {},
   "outputs": [],
   "source": [
    "## why are the values EMPTY ?!!!!\n",
    "## try some other datasets \n",
    "## if these don't work go back to global"
   ]
  },
  {
   "cell_type": "code",
   "execution_count": 29,
   "metadata": {},
   "outputs": [],
   "source": [
    "# %%time\n",
    "# lat = 17.0\n",
    "# lon = 125.0\n",
    "# depth = 0\n",
    "# target_time=slice(\"2021-04-12\", \"2021-04-13\")\n",
    "# target_time=\"2021-04-15\"\n",
    "\n",
    "\n",
    "# trial = DS.chl.sel(longitude=lon, latitude=lat, time=target_time, method='nearest')\n",
    "# trial.plot()"
   ]
  }
 ],
 "metadata": {
  "kernelspec": {
   "display_name": "Python 3 (ipykernel)",
   "language": "python",
   "name": "python3"
  },
  "language_info": {
   "codemirror_mode": {
    "name": "ipython",
    "version": 3
   },
   "file_extension": ".py",
   "mimetype": "text/x-python",
   "name": "python",
   "nbconvert_exporter": "python",
   "pygments_lexer": "ipython3",
   "version": "3.10.9"
  }
 },
 "nbformat": 4,
 "nbformat_minor": 4
}
