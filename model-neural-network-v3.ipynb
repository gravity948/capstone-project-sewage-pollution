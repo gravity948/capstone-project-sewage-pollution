{
 "cells": [
  {
   "cell_type": "code",
   "execution_count": 1,
   "id": "2af157b2",
   "metadata": {},
   "outputs": [],
   "source": [
    "import tensorflow as tf\n",
    "import matplotlib.pyplot as plt\n",
    "from tensorflow.keras import datasets, layers, models, losses\n",
    "import pandas as pd\n",
    "import numpy as np\n",
    "from functools import reduce\n",
    "from imblearn.over_sampling import RandomOverSampler\n"
   ]
  },
  {
   "cell_type": "code",
   "execution_count": 69,
   "id": "b48199cd",
   "metadata": {},
   "outputs": [
    {
     "data": {
      "text/plain": [
       "array([ 2,  3,  4,  5,  6,  7,  8,  9, 10, 11, 12, 13, 14, 15, 16, 17, 18,\n",
       "       19])"
      ]
     },
     "execution_count": 69,
     "metadata": {},
     "output_type": "execute_result"
    }
   ],
   "source": [
    "np.arange(20)[-18:]"
   ]
  },
  {
   "cell_type": "code",
   "execution_count": 60,
   "id": "01a6b125",
   "metadata": {},
   "outputs": [
    {
     "data": {
      "text/plain": [
       "array([2])"
      ]
     },
     "execution_count": 60,
     "metadata": {},
     "output_type": "execute_result"
    }
   ],
   "source": [
    "np.arange(3)[::-3]"
   ]
  },
  {
   "cell_type": "code",
   "execution_count": 49,
   "id": "1392a8a8",
   "metadata": {},
   "outputs": [
    {
     "name": "stdout",
     "output_type": "stream",
     "text": [
      "Model: \"sequential_43\"\n",
      "_________________________________________________________________\n",
      " Layer (type)                Output Shape              Param #   \n",
      "=================================================================\n",
      " conv2d_55 (Conv2D)          (None, 32, 32, 3)         30        \n",
      "                                                                 \n",
      " average_pooling2d_90 (Avera  (None, 8, 8, 3)          0         \n",
      " gePooling2D)                                                    \n",
      "                                                                 \n",
      " average_pooling2d_91 (Avera  (None, 2, 2, 3)          0         \n",
      " gePooling2D)                                                    \n",
      "                                                                 \n",
      " flatten_40 (Flatten)        (None, 12)                0         \n",
      "                                                                 \n",
      " dense_105 (Dense)           (None, 10)                130       \n",
      "                                                                 \n",
      " dense_106 (Dense)           (None, 1)                 11        \n",
      "                                                                 \n",
      "=================================================================\n",
      "Total params: 171\n",
      "Trainable params: 171\n",
      "Non-trainable params: 0\n",
      "_________________________________________________________________\n"
     ]
    }
   ],
   "source": [
    "model = models.Sequential()\n",
    "model.add(layers.Conv2D(filters=3, kernel_size=3, activation='relu', padding='same', input_shape=[32,32,1]))\n",
    "model.add(layers.AveragePooling2D(pool_size=4, strides=4))\n",
    "model.add(layers.AveragePooling2D(pool_size=4, strides=4))\n",
    "model.add(layers.Flatten())\n",
    "model.add(layers.Dense(10, activation='relu'))\n",
    "model.add(layers.Dense(1, activation='sigmoid'))\n",
    "\n",
    "model.summary()"
   ]
  },
  {
   "cell_type": "code",
   "execution_count": 27,
   "id": "461ae750",
   "metadata": {},
   "outputs": [
    {
     "name": "stdout",
     "output_type": "stream",
     "text": [
      "Model: \"sequential_24\"\n",
      "_________________________________________________________________\n",
      " Layer (type)                Output Shape              Param #   \n",
      "=================================================================\n",
      " conv2d_46 (Conv2D)          (None, 32, 32, 6)         456       \n",
      "                                                                 \n",
      " average_pooling2d_51 (Avera  (None, 16, 16, 6)        0         \n",
      " gePooling2D)                                                    \n",
      "                                                                 \n",
      " conv2d_47 (Conv2D)          (None, 12, 12, 16)        2416      \n",
      "                                                                 \n",
      " average_pooling2d_52 (Avera  (None, 6, 6, 16)         0         \n",
      " gePooling2D)                                                    \n",
      "                                                                 \n",
      " flatten_23 (Flatten)        (None, 576)               0         \n",
      "                                                                 \n",
      " dense_64 (Dense)            (None, 120)               69240     \n",
      "                                                                 \n",
      " dense_65 (Dense)            (None, 84)                10164     \n",
      "                                                                 \n",
      " dense_66 (Dense)            (None, 10)                850       \n",
      "                                                                 \n",
      " dense_67 (Dense)            (None, 1)                 11        \n",
      "                                                                 \n",
      "=================================================================\n",
      "Total params: 83,137\n",
      "Trainable params: 83,137\n",
      "Non-trainable params: 0\n",
      "_________________________________________________________________\n"
     ]
    }
   ],
   "source": [
    "model = models.Sequential()\n",
    "\n",
    "model.add(layers.Conv2D(filters=6, kernel_size=5, activation='relu', padding='same', input_shape=[32,32,3]))\n",
    "model.add(layers.AveragePooling2D(pool_size=2, strides=2))\n",
    "model.add(layers.Conv2D(filters=16, kernel_size=5, activation='relu'))\n",
    "model.add(layers.AveragePooling2D(pool_size=2, strides=2))\n",
    "model.add(layers.Flatten())\n",
    "model.add(layers.Dense(120, activation='relu')),\n",
    "model.add(layers.Dense(84, activation='relu')),\n",
    "model.add(layers.Dense(10, activation='relu')),\n",
    "model.add(layers.Dense(1, activation='sigmoid'))\n",
    "\n",
    "model.summary()"
   ]
  },
  {
   "cell_type": "code",
   "execution_count": 42,
   "id": "487e1eb1",
   "metadata": {},
   "outputs": [
    {
     "name": "stdout",
     "output_type": "stream",
     "text": [
      "Model: \"sequential_36\"\n",
      "_________________________________________________________________\n",
      " Layer (type)                Output Shape              Param #   \n",
      "=================================================================\n",
      " average_pooling2d_73 (Avera  (None, 8, 8, 3)          0         \n",
      " gePooling2D)                                                    \n",
      "                                                                 \n",
      " flatten_33 (Flatten)        (None, 192)               0         \n",
      "                                                                 \n",
      " dense_87 (Dense)            (None, 10)                1930      \n",
      "                                                                 \n",
      " dense_88 (Dense)            (None, 1)                 11        \n",
      "                                                                 \n",
      "=================================================================\n",
      "Total params: 1,941\n",
      "Trainable params: 1,941\n",
      "Non-trainable params: 0\n",
      "_________________________________________________________________\n"
     ]
    }
   ],
   "source": [
    "model = models.Sequential()\n",
    "\n",
    "model.add(layers.AveragePooling2D(pool_size=4, strides=4, input_shape=[32,32,3]))\n",
    "model.add(layers.Flatten())\n",
    "model.add(layers.Dense(10, activation='relu'))\n",
    "model.add(layers.Dense(1, activation=\"sigmoid\"))\n",
    "\n",
    "model.summary()"
   ]
  },
  {
   "cell_type": "code",
   "execution_count": null,
   "id": "e4e11c9d",
   "metadata": {},
   "outputs": [],
   "source": []
  }
 ],
 "metadata": {
  "kernelspec": {
   "display_name": "local-venv-kernel",
   "language": "python",
   "name": "local-venv-kernel"
  },
  "language_info": {
   "codemirror_mode": {
    "name": "ipython",
    "version": 3
   },
   "file_extension": ".py",
   "mimetype": "text/x-python",
   "name": "python",
   "nbconvert_exporter": "python",
   "pygments_lexer": "ipython3",
   "version": "3.10.11"
  }
 },
 "nbformat": 4,
 "nbformat_minor": 5
}
