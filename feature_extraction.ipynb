{
 "cells": [
  {
   "cell_type": "markdown",
   "metadata": {},
   "source": [
    "# Plan\n",
    "\n",
    "1. Figures on missing data\n",
    "    - How many sites do not have any data at all from March - November\n",
    "    - How many sites do not have any data within x number of pixels\n",
    "    - % coverage for sites across time\n",
    "    \n",
    "2. Decide what to do with missing data\n",
    "\n",
    "3. Feature: Get one figure for every time + site pair\n",
    "    - Mean / Median / Quantile of non-missing data around the point (all 11 x 11 pixels)\n",
    "    - Mean / Median / Quantile of non-missing data around the point (less pixels, maybe 3 x 3 / 5 x 5)\n",
    "\n",
    "Post Feature Extraction:\n",
    "1. EDA\n",
    "2. Binary Classifier"
   ]
  },
  {
   "cell_type": "code",
   "execution_count": 173,
   "metadata": {},
   "outputs": [],
   "source": [
    "import pandas as pd\n",
    "import numpy as np\n",
    "from functools import reduce"
   ]
  },
  {
   "cell_type": "markdown",
   "metadata": {},
   "source": [
    "# Load Dataset"
   ]
  },
  {
   "cell_type": "code",
   "execution_count": 109,
   "metadata": {},
   "outputs": [
    {
     "data": {
      "text/html": [
       "<div>\n",
       "<style scoped>\n",
       "    .dataframe tbody tr th:only-of-type {\n",
       "        vertical-align: middle;\n",
       "    }\n",
       "\n",
       "    .dataframe tbody tr th {\n",
       "        vertical-align: top;\n",
       "    }\n",
       "\n",
       "    .dataframe thead th {\n",
       "        text-align: right;\n",
       "    }\n",
       "</style>\n",
       "<table border=\"1\" class=\"dataframe\">\n",
       "  <thead>\n",
       "    <tr style=\"text-align: right;\">\n",
       "      <th></th>\n",
       "      <th>time</th>\n",
       "      <th>lat</th>\n",
       "      <th>lon</th>\n",
       "      <th>TUR</th>\n",
       "      <th>SPM</th>\n",
       "      <th>CHL</th>\n",
       "      <th>site</th>\n",
       "      <th>Pixel Index</th>\n",
       "    </tr>\n",
       "  </thead>\n",
       "  <tbody>\n",
       "    <tr>\n",
       "      <th>0</th>\n",
       "      <td>2022-03-01</td>\n",
       "      <td>55.189352</td>\n",
       "      <td>-1.519043</td>\n",
       "      <td>NaN</td>\n",
       "      <td>NaN</td>\n",
       "      <td>NaN</td>\n",
       "      <td>Newbiggin_North</td>\n",
       "      <td>1</td>\n",
       "    </tr>\n",
       "    <tr>\n",
       "      <th>1</th>\n",
       "      <td>2022-03-01</td>\n",
       "      <td>55.189352</td>\n",
       "      <td>-1.517296</td>\n",
       "      <td>NaN</td>\n",
       "      <td>NaN</td>\n",
       "      <td>NaN</td>\n",
       "      <td>Newbiggin_North</td>\n",
       "      <td>2</td>\n",
       "    </tr>\n",
       "    <tr>\n",
       "      <th>2</th>\n",
       "      <td>2022-03-01</td>\n",
       "      <td>55.189352</td>\n",
       "      <td>-1.515549</td>\n",
       "      <td>NaN</td>\n",
       "      <td>NaN</td>\n",
       "      <td>NaN</td>\n",
       "      <td>Newbiggin_North</td>\n",
       "      <td>3</td>\n",
       "    </tr>\n",
       "    <tr>\n",
       "      <th>3</th>\n",
       "      <td>2022-03-01</td>\n",
       "      <td>55.189352</td>\n",
       "      <td>-1.513802</td>\n",
       "      <td>NaN</td>\n",
       "      <td>NaN</td>\n",
       "      <td>NaN</td>\n",
       "      <td>Newbiggin_North</td>\n",
       "      <td>4</td>\n",
       "    </tr>\n",
       "    <tr>\n",
       "      <th>4</th>\n",
       "      <td>2022-03-01</td>\n",
       "      <td>55.189352</td>\n",
       "      <td>-1.512055</td>\n",
       "      <td>NaN</td>\n",
       "      <td>NaN</td>\n",
       "      <td>NaN</td>\n",
       "      <td>Newbiggin_North</td>\n",
       "      <td>5</td>\n",
       "    </tr>\n",
       "    <tr>\n",
       "      <th>...</th>\n",
       "      <td>...</td>\n",
       "      <td>...</td>\n",
       "      <td>...</td>\n",
       "      <td>...</td>\n",
       "      <td>...</td>\n",
       "      <td>...</td>\n",
       "      <td>...</td>\n",
       "      <td>...</td>\n",
       "    </tr>\n",
       "    <tr>\n",
       "      <th>12331105</th>\n",
       "      <td>2022-10-31</td>\n",
       "      <td>50.277315</td>\n",
       "      <td>-3.893256</td>\n",
       "      <td>2.006134</td>\n",
       "      <td>1.186131</td>\n",
       "      <td>1.828091</td>\n",
       "      <td>Bigbury-on-Sea_South</td>\n",
       "      <td>117</td>\n",
       "    </tr>\n",
       "    <tr>\n",
       "      <th>12331106</th>\n",
       "      <td>2022-10-31</td>\n",
       "      <td>50.277315</td>\n",
       "      <td>-3.891509</td>\n",
       "      <td>0.708182</td>\n",
       "      <td>0.406647</td>\n",
       "      <td>1.046769</td>\n",
       "      <td>Bigbury-on-Sea_South</td>\n",
       "      <td>118</td>\n",
       "    </tr>\n",
       "    <tr>\n",
       "      <th>12331107</th>\n",
       "      <td>2022-10-31</td>\n",
       "      <td>50.277315</td>\n",
       "      <td>-3.889762</td>\n",
       "      <td>1.258156</td>\n",
       "      <td>0.729469</td>\n",
       "      <td>1.327342</td>\n",
       "      <td>Bigbury-on-Sea_South</td>\n",
       "      <td>119</td>\n",
       "    </tr>\n",
       "    <tr>\n",
       "      <th>12331108</th>\n",
       "      <td>2022-10-31</td>\n",
       "      <td>50.277315</td>\n",
       "      <td>-3.888015</td>\n",
       "      <td>1.037095</td>\n",
       "      <td>0.598882</td>\n",
       "      <td>1.254974</td>\n",
       "      <td>Bigbury-on-Sea_South</td>\n",
       "      <td>120</td>\n",
       "    </tr>\n",
       "    <tr>\n",
       "      <th>12331109</th>\n",
       "      <td>2022-10-31</td>\n",
       "      <td>50.277315</td>\n",
       "      <td>-3.886268</td>\n",
       "      <td>0.563590</td>\n",
       "      <td>0.323039</td>\n",
       "      <td>1.018072</td>\n",
       "      <td>Bigbury-on-Sea_South</td>\n",
       "      <td>121</td>\n",
       "    </tr>\n",
       "  </tbody>\n",
       "</table>\n",
       "<p>12331110 rows × 8 columns</p>\n",
       "</div>"
      ],
      "text/plain": [
       "                time        lat       lon       TUR       SPM       CHL  \\\n",
       "0         2022-03-01  55.189352 -1.519043       NaN       NaN       NaN   \n",
       "1         2022-03-01  55.189352 -1.517296       NaN       NaN       NaN   \n",
       "2         2022-03-01  55.189352 -1.515549       NaN       NaN       NaN   \n",
       "3         2022-03-01  55.189352 -1.513802       NaN       NaN       NaN   \n",
       "4         2022-03-01  55.189352 -1.512055       NaN       NaN       NaN   \n",
       "...              ...        ...       ...       ...       ...       ...   \n",
       "12331105  2022-10-31  50.277315 -3.893256  2.006134  1.186131  1.828091   \n",
       "12331106  2022-10-31  50.277315 -3.891509  0.708182  0.406647  1.046769   \n",
       "12331107  2022-10-31  50.277315 -3.889762  1.258156  0.729469  1.327342   \n",
       "12331108  2022-10-31  50.277315 -3.888015  1.037095  0.598882  1.254974   \n",
       "12331109  2022-10-31  50.277315 -3.886268  0.563590  0.323039  1.018072   \n",
       "\n",
       "                          site  Pixel Index  \n",
       "0              Newbiggin_North            1  \n",
       "1              Newbiggin_North            2  \n",
       "2              Newbiggin_North            3  \n",
       "3              Newbiggin_North            4  \n",
       "4              Newbiggin_North            5  \n",
       "...                        ...          ...  \n",
       "12331105  Bigbury-on-Sea_South          117  \n",
       "12331106  Bigbury-on-Sea_South          118  \n",
       "12331107  Bigbury-on-Sea_South          119  \n",
       "12331108  Bigbury-on-Sea_South          120  \n",
       "12331109  Bigbury-on-Sea_South          121  \n",
       "\n",
       "[12331110 rows x 8 columns]"
      ]
     },
     "execution_count": 109,
     "metadata": {},
     "output_type": "execute_result"
    }
   ],
   "source": [
    "# replace with path to sites_data_11x11.csv\n",
    "df = pd.read_csv(\"/Users/SallyLai/Desktop/LSE/Masters/Capstone/capstone-project-sewage-pollution/copernicus_code/sites_data_11x11.csv\")\n",
    "df['Pixel Index'] = np.arange(1,122).tolist() * 430 * 237\n",
    "df"
   ]
  },
  {
   "cell_type": "code",
   "execution_count": 3,
   "metadata": {},
   "outputs": [
    {
     "data": {
      "text/plain": [
       "237"
      ]
     },
     "execution_count": 3,
     "metadata": {},
     "output_type": "execute_result"
    }
   ],
   "source": [
    "len(df['time'].unique())"
   ]
  },
  {
   "cell_type": "code",
   "execution_count": 4,
   "metadata": {},
   "outputs": [
    {
     "data": {
      "text/plain": [
       "430"
      ]
     },
     "execution_count": 4,
     "metadata": {},
     "output_type": "execute_result"
    }
   ],
   "source": [
    "len(df['site'].unique())"
   ]
  },
  {
   "cell_type": "markdown",
   "metadata": {},
   "source": [
    "# Mean, Median, Q1, Q3 for every time + site pair"
   ]
  },
  {
   "cell_type": "code",
   "execution_count": 183,
   "metadata": {},
   "outputs": [],
   "source": [
    "def mean_median_over_pixel_grid(dim):\n",
    "    '''\n",
    "    inputs:\n",
    "        - Grid dimension (integer, 1 / 3 / 5 / 7 / 9 / 11)\n",
    "        \n",
    "    output:\n",
    "        - dataframe with the following columns:\n",
    "            - Time\n",
    "            - Site\n",
    "            - 12 columns for every combination of TUR/SPM/CHL x median/mean/q1/q3\n",
    "    '''\n",
    "    # Dataframe with only relevant pixels based on grid dimension\n",
    "    i = int((dim-1)/2)\n",
    "    indices = np.array(range(1,122)).reshape(11,11)[5-i:6+i, 5-i:6+i].flatten()\n",
    "    df1 = df[df['Pixel Index'].isin(indices)]\n",
    "    \n",
    "    # Mean, Median, Quantiles\n",
    "    median = df1.groupby(['time', 'site']).median().drop(['lat','lon', 'Pixel Index'], axis=1).add_suffix(f'_{dim}x{dim}_median')\n",
    "    mean = df1.groupby(['time', 'site']).mean().drop(['lat','lon', 'Pixel Index'], axis=1).add_suffix(f'_{dim}x{dim}_mean')\n",
    "    q1 = df1.groupby(['time', 'site']).quantile(0.25).drop(['lat','lon', 'Pixel Index'], axis=1).add_suffix(f'_{dim}x{dim}_q1')\n",
    "    q3 = df1.groupby(['time', 'site']).quantile(0.75).drop(['lat','lon', 'Pixel Index'], axis=1).add_suffix(f'_{dim}x{dim}_q3')\n",
    "    df2 = reduce(lambda  left,right: pd.merge(left,right,on=['time', 'site'],how='outer'), [median, mean, q1, q3])\n",
    "       \n",
    "    return df2"
   ]
  },
  {
   "cell_type": "code",
   "execution_count": 184,
   "metadata": {},
   "outputs": [
    {
     "name": "stdout",
     "output_type": "stream",
     "text": [
      "CPU times: user 1min 11s, sys: 3.01 s, total: 1min 14s\n",
      "Wall time: 1min 15s\n"
     ]
    }
   ],
   "source": [
    "%%time\n",
    "dfs = []\n",
    "\n",
    "for dim in [1,3,5,7,9,11]:\n",
    "    dfs.append(mean_median_over_pixel_grid(dim))"
   ]
  },
  {
   "cell_type": "code",
   "execution_count": 187,
   "metadata": {},
   "outputs": [
    {
     "data": {
      "text/html": [
       "<div>\n",
       "<style scoped>\n",
       "    .dataframe tbody tr th:only-of-type {\n",
       "        vertical-align: middle;\n",
       "    }\n",
       "\n",
       "    .dataframe tbody tr th {\n",
       "        vertical-align: top;\n",
       "    }\n",
       "\n",
       "    .dataframe thead th {\n",
       "        text-align: right;\n",
       "    }\n",
       "</style>\n",
       "<table border=\"1\" class=\"dataframe\">\n",
       "  <thead>\n",
       "    <tr style=\"text-align: right;\">\n",
       "      <th></th>\n",
       "      <th></th>\n",
       "      <th>TUR_1x1_median</th>\n",
       "      <th>SPM_1x1_median</th>\n",
       "      <th>CHL_1x1_median</th>\n",
       "      <th>TUR_1x1_mean</th>\n",
       "      <th>SPM_1x1_mean</th>\n",
       "      <th>CHL_1x1_mean</th>\n",
       "      <th>TUR_1x1_q1</th>\n",
       "      <th>SPM_1x1_q1</th>\n",
       "      <th>CHL_1x1_q1</th>\n",
       "      <th>TUR_1x1_q3</th>\n",
       "      <th>...</th>\n",
       "      <th>CHL_11x11_median</th>\n",
       "      <th>TUR_11x11_mean</th>\n",
       "      <th>SPM_11x11_mean</th>\n",
       "      <th>CHL_11x11_mean</th>\n",
       "      <th>TUR_11x11_q1</th>\n",
       "      <th>SPM_11x11_q1</th>\n",
       "      <th>CHL_11x11_q1</th>\n",
       "      <th>TUR_11x11_q3</th>\n",
       "      <th>SPM_11x11_q3</th>\n",
       "      <th>CHL_11x11_q3</th>\n",
       "    </tr>\n",
       "    <tr>\n",
       "      <th>time</th>\n",
       "      <th>site</th>\n",
       "      <th></th>\n",
       "      <th></th>\n",
       "      <th></th>\n",
       "      <th></th>\n",
       "      <th></th>\n",
       "      <th></th>\n",
       "      <th></th>\n",
       "      <th></th>\n",
       "      <th></th>\n",
       "      <th></th>\n",
       "      <th></th>\n",
       "      <th></th>\n",
       "      <th></th>\n",
       "      <th></th>\n",
       "      <th></th>\n",
       "      <th></th>\n",
       "      <th></th>\n",
       "      <th></th>\n",
       "      <th></th>\n",
       "      <th></th>\n",
       "      <th></th>\n",
       "    </tr>\n",
       "  </thead>\n",
       "  <tbody>\n",
       "    <tr>\n",
       "      <th rowspan=\"5\" valign=\"top\">2022-03-01</th>\n",
       "      <th>Ainsdale</th>\n",
       "      <td>NaN</td>\n",
       "      <td>NaN</td>\n",
       "      <td>NaN</td>\n",
       "      <td>NaN</td>\n",
       "      <td>NaN</td>\n",
       "      <td>NaN</td>\n",
       "      <td>NaN</td>\n",
       "      <td>NaN</td>\n",
       "      <td>NaN</td>\n",
       "      <td>NaN</td>\n",
       "      <td>...</td>\n",
       "      <td>NaN</td>\n",
       "      <td>NaN</td>\n",
       "      <td>NaN</td>\n",
       "      <td>NaN</td>\n",
       "      <td>NaN</td>\n",
       "      <td>NaN</td>\n",
       "      <td>NaN</td>\n",
       "      <td>NaN</td>\n",
       "      <td>NaN</td>\n",
       "      <td>NaN</td>\n",
       "    </tr>\n",
       "    <tr>\n",
       "      <th>Allonby</th>\n",
       "      <td>NaN</td>\n",
       "      <td>NaN</td>\n",
       "      <td>NaN</td>\n",
       "      <td>NaN</td>\n",
       "      <td>NaN</td>\n",
       "      <td>NaN</td>\n",
       "      <td>NaN</td>\n",
       "      <td>NaN</td>\n",
       "      <td>NaN</td>\n",
       "      <td>NaN</td>\n",
       "      <td>...</td>\n",
       "      <td>NaN</td>\n",
       "      <td>NaN</td>\n",
       "      <td>NaN</td>\n",
       "      <td>NaN</td>\n",
       "      <td>NaN</td>\n",
       "      <td>NaN</td>\n",
       "      <td>NaN</td>\n",
       "      <td>NaN</td>\n",
       "      <td>NaN</td>\n",
       "      <td>NaN</td>\n",
       "    </tr>\n",
       "    <tr>\n",
       "      <th>Allonby_South</th>\n",
       "      <td>NaN</td>\n",
       "      <td>NaN</td>\n",
       "      <td>NaN</td>\n",
       "      <td>NaN</td>\n",
       "      <td>NaN</td>\n",
       "      <td>NaN</td>\n",
       "      <td>NaN</td>\n",
       "      <td>NaN</td>\n",
       "      <td>NaN</td>\n",
       "      <td>NaN</td>\n",
       "      <td>...</td>\n",
       "      <td>NaN</td>\n",
       "      <td>NaN</td>\n",
       "      <td>NaN</td>\n",
       "      <td>NaN</td>\n",
       "      <td>NaN</td>\n",
       "      <td>NaN</td>\n",
       "      <td>NaN</td>\n",
       "      <td>NaN</td>\n",
       "      <td>NaN</td>\n",
       "      <td>NaN</td>\n",
       "    </tr>\n",
       "    <tr>\n",
       "      <th>Amble_Links</th>\n",
       "      <td>NaN</td>\n",
       "      <td>NaN</td>\n",
       "      <td>NaN</td>\n",
       "      <td>NaN</td>\n",
       "      <td>NaN</td>\n",
       "      <td>NaN</td>\n",
       "      <td>NaN</td>\n",
       "      <td>NaN</td>\n",
       "      <td>NaN</td>\n",
       "      <td>NaN</td>\n",
       "      <td>...</td>\n",
       "      <td>NaN</td>\n",
       "      <td>NaN</td>\n",
       "      <td>NaN</td>\n",
       "      <td>NaN</td>\n",
       "      <td>NaN</td>\n",
       "      <td>NaN</td>\n",
       "      <td>NaN</td>\n",
       "      <td>NaN</td>\n",
       "      <td>NaN</td>\n",
       "      <td>NaN</td>\n",
       "    </tr>\n",
       "    <tr>\n",
       "      <th>Anderby</th>\n",
       "      <td>NaN</td>\n",
       "      <td>NaN</td>\n",
       "      <td>NaN</td>\n",
       "      <td>NaN</td>\n",
       "      <td>NaN</td>\n",
       "      <td>NaN</td>\n",
       "      <td>NaN</td>\n",
       "      <td>NaN</td>\n",
       "      <td>NaN</td>\n",
       "      <td>NaN</td>\n",
       "      <td>...</td>\n",
       "      <td>NaN</td>\n",
       "      <td>NaN</td>\n",
       "      <td>NaN</td>\n",
       "      <td>NaN</td>\n",
       "      <td>NaN</td>\n",
       "      <td>NaN</td>\n",
       "      <td>NaN</td>\n",
       "      <td>NaN</td>\n",
       "      <td>NaN</td>\n",
       "      <td>NaN</td>\n",
       "    </tr>\n",
       "  </tbody>\n",
       "</table>\n",
       "<p>5 rows × 72 columns</p>\n",
       "</div>"
      ],
      "text/plain": [
       "                          TUR_1x1_median  SPM_1x1_median  CHL_1x1_median  \\\n",
       "time       site                                                            \n",
       "2022-03-01 Ainsdale                  NaN             NaN             NaN   \n",
       "           Allonby                   NaN             NaN             NaN   \n",
       "           Allonby_South             NaN             NaN             NaN   \n",
       "           Amble_Links               NaN             NaN             NaN   \n",
       "           Anderby                   NaN             NaN             NaN   \n",
       "\n",
       "                          TUR_1x1_mean  SPM_1x1_mean  CHL_1x1_mean  \\\n",
       "time       site                                                      \n",
       "2022-03-01 Ainsdale                NaN           NaN           NaN   \n",
       "           Allonby                 NaN           NaN           NaN   \n",
       "           Allonby_South           NaN           NaN           NaN   \n",
       "           Amble_Links             NaN           NaN           NaN   \n",
       "           Anderby                 NaN           NaN           NaN   \n",
       "\n",
       "                          TUR_1x1_q1  SPM_1x1_q1  CHL_1x1_q1  TUR_1x1_q3  ...  \\\n",
       "time       site                                                           ...   \n",
       "2022-03-01 Ainsdale              NaN         NaN         NaN         NaN  ...   \n",
       "           Allonby               NaN         NaN         NaN         NaN  ...   \n",
       "           Allonby_South         NaN         NaN         NaN         NaN  ...   \n",
       "           Amble_Links           NaN         NaN         NaN         NaN  ...   \n",
       "           Anderby               NaN         NaN         NaN         NaN  ...   \n",
       "\n",
       "                          CHL_11x11_median  TUR_11x11_mean  SPM_11x11_mean  \\\n",
       "time       site                                                              \n",
       "2022-03-01 Ainsdale                    NaN             NaN             NaN   \n",
       "           Allonby                     NaN             NaN             NaN   \n",
       "           Allonby_South               NaN             NaN             NaN   \n",
       "           Amble_Links                 NaN             NaN             NaN   \n",
       "           Anderby                     NaN             NaN             NaN   \n",
       "\n",
       "                          CHL_11x11_mean  TUR_11x11_q1  SPM_11x11_q1  \\\n",
       "time       site                                                        \n",
       "2022-03-01 Ainsdale                  NaN           NaN           NaN   \n",
       "           Allonby                   NaN           NaN           NaN   \n",
       "           Allonby_South             NaN           NaN           NaN   \n",
       "           Amble_Links               NaN           NaN           NaN   \n",
       "           Anderby                   NaN           NaN           NaN   \n",
       "\n",
       "                          CHL_11x11_q1  TUR_11x11_q3  SPM_11x11_q3  \\\n",
       "time       site                                                      \n",
       "2022-03-01 Ainsdale                NaN           NaN           NaN   \n",
       "           Allonby                 NaN           NaN           NaN   \n",
       "           Allonby_South           NaN           NaN           NaN   \n",
       "           Amble_Links             NaN           NaN           NaN   \n",
       "           Anderby                 NaN           NaN           NaN   \n",
       "\n",
       "                          CHL_11x11_q3  \n",
       "time       site                         \n",
       "2022-03-01 Ainsdale                NaN  \n",
       "           Allonby                 NaN  \n",
       "           Allonby_South           NaN  \n",
       "           Amble_Links             NaN  \n",
       "           Anderby                 NaN  \n",
       "\n",
       "[5 rows x 72 columns]"
      ]
     },
     "execution_count": 187,
     "metadata": {},
     "output_type": "execute_result"
    }
   ],
   "source": [
    "features_df = reduce(lambda  left,right: pd.merge(left,right,on=['time', 'site'],how='outer'), dfs)\n",
    "features_df.head()"
   ]
  },
  {
   "cell_type": "code",
   "execution_count": 192,
   "metadata": {},
   "outputs": [
    {
     "data": {
      "text/plain": [
       "(101910, 72)"
      ]
     },
     "execution_count": 192,
     "metadata": {},
     "output_type": "execute_result"
    }
   ],
   "source": [
    "# rows = 237 (days) x 430 (sites)\n",
    "# column = 3 (TUR, SPM, CHL) x 4 (mean, median, q1, q3) x 6 (1x1/3x3/5x5/7x7/9x9/11x11)\n",
    "features_df.shape"
   ]
  },
  {
   "cell_type": "code",
   "execution_count": 188,
   "metadata": {},
   "outputs": [],
   "source": [
    "features_df.to_csv(\"feature_extraction.csv\")"
   ]
  },
  {
   "cell_type": "markdown",
   "metadata": {},
   "source": [
    "# Quantifying Missing Values"
   ]
  },
  {
   "cell_type": "markdown",
   "metadata": {},
   "source": [
    "## Sites with no data at all (within 11x11 pixels)"
   ]
  },
  {
   "cell_type": "code",
   "execution_count": 189,
   "metadata": {},
   "outputs": [
    {
     "name": "stdout",
     "output_type": "stream",
     "text": [
      "site\n",
      "Colwick_Country_Park_West_Lake      0\n",
      "Cotswold_Country_Park_and_Beach     0\n",
      "Frensham_Great_Pond                 0\n",
      "Hampstead_Heath_Ladies_Pond         0\n",
      "Hampstead_Heath_Mens_Pond           0\n",
      "Hampstead_Heath_Mixed_Pond          0\n",
      "Henleaze_Lake                       0\n",
      "The_Serpentine_-_Hyde_Park          0\n",
      "Wharfe_at_Cromwheel,_Ilkley         0\n",
      "Windermere,_Fellfoot                0\n",
      "Windermere,_Lakeside_YMCA           0\n",
      "Windermere,_Millerground_Landing    0\n",
      "Windermere,_Rayrigg_Meadow          0\n",
      "Wolvercote_Mill_Stream              0\n",
      "dtype: int64\n",
      "\n",
      "\n",
      "Count: 14\n"
     ]
    }
   ],
   "source": [
    "# max count, count = the number of days with data for every site and every feature\n",
    "max_count = features_df.groupby('site').count().max(axis=1) \n",
    "\n",
    "# sites where max count == 0\n",
    "print(max_count[max_count == 0])\n",
    "print('\\n')\n",
    "print(f'Count: {len(max_count[max_count == 0])}')"
   ]
  },
  {
   "cell_type": "markdown",
   "metadata": {},
   "source": [
    "## Sites with no data within x number of pixels"
   ]
  },
  {
   "cell_type": "code",
   "execution_count": 190,
   "metadata": {},
   "outputs": [
    {
     "name": "stdout",
     "output_type": "stream",
     "text": [
      "Sites with no data across 237 days, 1x1: 272\n",
      "Sites with no data across 237 days, 3x3: 19\n",
      "Sites with no data across 237 days, 5x5: 14\n",
      "Sites with no data across 237 days, 7x7: 14\n",
      "Sites with no data across 237 days, 9x9: 14\n",
      "Sites with no data across 237 days, 11x11: 14\n"
     ]
    }
   ],
   "source": [
    "for d in [1,3,5,7,9,11]:\n",
    "    df_temp = features_df[[f'TUR_{d}x{d}_median', f'SPM_{d}x{d}_median', f'CHL_{d}x{d}_median', f'TUR_{d}x{d}_mean', f'SPM_{d}x{d}_mean', f'CHL_{d}x{d}_mean']]\n",
    "    \n",
    "    # max count, count = the number of days with data for every site and every feature\n",
    "    max_count = df_temp.groupby('site').count().max(axis=1) \n",
    "\n",
    "    # print number of sites where max count == 0\n",
    "    print(f'Sites with no data across 237 days, {d}x{d}: {len(max_count[max_count == 0])}')"
   ]
  },
  {
   "cell_type": "markdown",
   "metadata": {},
   "source": [
    "## Distribution of Coverage Count (out of 237 days) for sites across time"
   ]
  },
  {
   "cell_type": "code",
   "execution_count": 193,
   "metadata": {},
   "outputs": [
    {
     "data": {
      "text/plain": [
       "<Axes: ylabel='Frequency'>"
      ]
     },
     "execution_count": 193,
     "metadata": {},
     "output_type": "execute_result"
    },
    {
     "data": {
      "image/png": "[encoded data removed]",
      "text/plain": [
       "<Figure size 640x480 with 1 Axes>"
      ]
     },
     "metadata": {},
     "output_type": "display_data"
    }
   ],
   "source": [
    "max_count = features_df.groupby('site').count().max(axis=1)\n",
    "max_count.plot.hist(bins=16)"
   ]
  },
  {
   "cell_type": "code",
   "execution_count": null,
   "metadata": {},
   "outputs": [],
   "source": []
  }
 ],
 "metadata": {
  "kernelspec": {
   "display_name": "local-venv-kernel",
   "language": "python",
   "name": "local-venv-kernel"
  },
  "language_info": {
   "codemirror_mode": {
    "name": "ipython",
    "version": 3
   },
   "file_extension": ".py",
   "mimetype": "text/x-python",
   "name": "python",
   "nbconvert_exporter": "python",
   "pygments_lexer": "ipython3",
   "version": "3.10.9"
  }
 },
 "nbformat": 4,
 "nbformat_minor": 4
}
