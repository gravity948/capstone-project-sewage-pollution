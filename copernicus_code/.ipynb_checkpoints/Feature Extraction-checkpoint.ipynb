{
 "cells": [
  {
   "cell_type": "code",
   "execution_count": 1,
   "metadata": {},
   "outputs": [],
   "source": [
    "import pandas as pd\n",
    "import numpy as np"
   ]
  },
  {
   "cell_type": "code",
   "execution_count": 2,
   "metadata": {},
   "outputs": [
    {
     "data": {
      "text/html": [
       "<div>\n",
       "<style scoped>\n",
       "    .dataframe tbody tr th:only-of-type {\n",
       "        vertical-align: middle;\n",
       "    }\n",
       "\n",
       "    .dataframe tbody tr th {\n",
       "        vertical-align: top;\n",
       "    }\n",
       "\n",
       "    .dataframe thead th {\n",
       "        text-align: right;\n",
       "    }\n",
       "</style>\n",
       "<table border=\"1\" class=\"dataframe\">\n",
       "  <thead>\n",
       "    <tr style=\"text-align: right;\">\n",
       "      <th></th>\n",
       "      <th>time</th>\n",
       "      <th>lat</th>\n",
       "      <th>lon</th>\n",
       "      <th>TUR</th>\n",
       "      <th>SPM</th>\n",
       "      <th>CHL</th>\n",
       "      <th>site</th>\n",
       "    </tr>\n",
       "  </thead>\n",
       "  <tbody>\n",
       "    <tr>\n",
       "      <th>0</th>\n",
       "      <td>2022-03-01</td>\n",
       "      <td>55.189352</td>\n",
       "      <td>-1.519043</td>\n",
       "      <td>NaN</td>\n",
       "      <td>NaN</td>\n",
       "      <td>NaN</td>\n",
       "      <td>Newbiggin_North</td>\n",
       "    </tr>\n",
       "    <tr>\n",
       "      <th>1</th>\n",
       "      <td>2022-03-01</td>\n",
       "      <td>55.189352</td>\n",
       "      <td>-1.517296</td>\n",
       "      <td>NaN</td>\n",
       "      <td>NaN</td>\n",
       "      <td>NaN</td>\n",
       "      <td>Newbiggin_North</td>\n",
       "    </tr>\n",
       "    <tr>\n",
       "      <th>2</th>\n",
       "      <td>2022-03-01</td>\n",
       "      <td>55.189352</td>\n",
       "      <td>-1.515549</td>\n",
       "      <td>NaN</td>\n",
       "      <td>NaN</td>\n",
       "      <td>NaN</td>\n",
       "      <td>Newbiggin_North</td>\n",
       "    </tr>\n",
       "    <tr>\n",
       "      <th>3</th>\n",
       "      <td>2022-03-01</td>\n",
       "      <td>55.189352</td>\n",
       "      <td>-1.513802</td>\n",
       "      <td>NaN</td>\n",
       "      <td>NaN</td>\n",
       "      <td>NaN</td>\n",
       "      <td>Newbiggin_North</td>\n",
       "    </tr>\n",
       "    <tr>\n",
       "      <th>4</th>\n",
       "      <td>2022-03-01</td>\n",
       "      <td>55.189352</td>\n",
       "      <td>-1.512055</td>\n",
       "      <td>NaN</td>\n",
       "      <td>NaN</td>\n",
       "      <td>NaN</td>\n",
       "      <td>Newbiggin_North</td>\n",
       "    </tr>\n",
       "    <tr>\n",
       "      <th>...</th>\n",
       "      <td>...</td>\n",
       "      <td>...</td>\n",
       "      <td>...</td>\n",
       "      <td>...</td>\n",
       "      <td>...</td>\n",
       "      <td>...</td>\n",
       "      <td>...</td>\n",
       "    </tr>\n",
       "    <tr>\n",
       "      <th>12331105</th>\n",
       "      <td>2022-10-31</td>\n",
       "      <td>50.277315</td>\n",
       "      <td>-3.893256</td>\n",
       "      <td>2.006134</td>\n",
       "      <td>1.186131</td>\n",
       "      <td>1.828091</td>\n",
       "      <td>Bigbury-on-Sea_South</td>\n",
       "    </tr>\n",
       "    <tr>\n",
       "      <th>12331106</th>\n",
       "      <td>2022-10-31</td>\n",
       "      <td>50.277315</td>\n",
       "      <td>-3.891509</td>\n",
       "      <td>0.708182</td>\n",
       "      <td>0.406647</td>\n",
       "      <td>1.046769</td>\n",
       "      <td>Bigbury-on-Sea_South</td>\n",
       "    </tr>\n",
       "    <tr>\n",
       "      <th>12331107</th>\n",
       "      <td>2022-10-31</td>\n",
       "      <td>50.277315</td>\n",
       "      <td>-3.889762</td>\n",
       "      <td>1.258156</td>\n",
       "      <td>0.729469</td>\n",
       "      <td>1.327342</td>\n",
       "      <td>Bigbury-on-Sea_South</td>\n",
       "    </tr>\n",
       "    <tr>\n",
       "      <th>12331108</th>\n",
       "      <td>2022-10-31</td>\n",
       "      <td>50.277315</td>\n",
       "      <td>-3.888015</td>\n",
       "      <td>1.037095</td>\n",
       "      <td>0.598882</td>\n",
       "      <td>1.254974</td>\n",
       "      <td>Bigbury-on-Sea_South</td>\n",
       "    </tr>\n",
       "    <tr>\n",
       "      <th>12331109</th>\n",
       "      <td>2022-10-31</td>\n",
       "      <td>50.277315</td>\n",
       "      <td>-3.886268</td>\n",
       "      <td>0.563590</td>\n",
       "      <td>0.323039</td>\n",
       "      <td>1.018072</td>\n",
       "      <td>Bigbury-on-Sea_South</td>\n",
       "    </tr>\n",
       "  </tbody>\n",
       "</table>\n",
       "<p>12331110 rows × 7 columns</p>\n",
       "</div>"
      ],
      "text/plain": [
       "                time        lat       lon       TUR       SPM       CHL  \\\n",
       "0         2022-03-01  55.189352 -1.519043       NaN       NaN       NaN   \n",
       "1         2022-03-01  55.189352 -1.517296       NaN       NaN       NaN   \n",
       "2         2022-03-01  55.189352 -1.515549       NaN       NaN       NaN   \n",
       "3         2022-03-01  55.189352 -1.513802       NaN       NaN       NaN   \n",
       "4         2022-03-01  55.189352 -1.512055       NaN       NaN       NaN   \n",
       "...              ...        ...       ...       ...       ...       ...   \n",
       "12331105  2022-10-31  50.277315 -3.893256  2.006134  1.186131  1.828091   \n",
       "12331106  2022-10-31  50.277315 -3.891509  0.708182  0.406647  1.046769   \n",
       "12331107  2022-10-31  50.277315 -3.889762  1.258156  0.729469  1.327342   \n",
       "12331108  2022-10-31  50.277315 -3.888015  1.037095  0.598882  1.254974   \n",
       "12331109  2022-10-31  50.277315 -3.886268  0.563590  0.323039  1.018072   \n",
       "\n",
       "                          site  \n",
       "0              Newbiggin_North  \n",
       "1              Newbiggin_North  \n",
       "2              Newbiggin_North  \n",
       "3              Newbiggin_North  \n",
       "4              Newbiggin_North  \n",
       "...                        ...  \n",
       "12331105  Bigbury-on-Sea_South  \n",
       "12331106  Bigbury-on-Sea_South  \n",
       "12331107  Bigbury-on-Sea_South  \n",
       "12331108  Bigbury-on-Sea_South  \n",
       "12331109  Bigbury-on-Sea_South  \n",
       "\n",
       "[12331110 rows x 7 columns]"
      ]
     },
     "execution_count": 2,
     "metadata": {},
     "output_type": "execute_result"
    }
   ],
   "source": [
    "df = pd.read_csv(\"/Users/SallyLai/Desktop/LSE/Masters/Capstone/capstone-project-sewage-pollution/copernicus_code/sites_data_11x11.csv\")\n",
    "df"
   ]
  },
  {
   "cell_type": "markdown",
   "metadata": {},
   "source": [
    "1. Figures on missing data\n",
    "    - How many sites do not have any data at all from March - November\n",
    "    - How many sites do not have any data within x number of pixels\n",
    "    - % coverage for sites across time\n",
    "    \n",
    "2. Decide what to do with missing data\n",
    "\n",
    "3. Feature: Get one figure for every time + site pair\n",
    "    - Mean / Median / Quantile of non-missing data around the point (all 11 x 11 pixels)\n",
    "    - Mean / Median / Quantile of non-missing data around the point (less pixels, maybe 3 x 3 / 5 x 5)\n",
    "\n",
    "Post Feature Extraction:\n",
    "1. EDA\n",
    "2. Binary Classifier"
   ]
  },
  {
   "cell_type": "markdown",
   "metadata": {},
   "source": [
    "# Quantifying Missing Data"
   ]
  },
  {
   "cell_type": "code",
   "execution_count": 4,
   "metadata": {},
   "outputs": [
    {
     "data": {
      "text/plain": [
       "237"
      ]
     },
     "execution_count": 4,
     "metadata": {},
     "output_type": "execute_result"
    }
   ],
   "source": [
    "len(df['time'].unique())"
   ]
  },
  {
   "cell_type": "code",
   "execution_count": 5,
   "metadata": {},
   "outputs": [
    {
     "data": {
      "text/plain": [
       "430"
      ]
     },
     "execution_count": 5,
     "metadata": {},
     "output_type": "execute_result"
    }
   ],
   "source": [
    "len(df['site'].unique())"
   ]
  },
  {
   "cell_type": "code",
   "execution_count": null,
   "metadata": {},
   "outputs": [],
   "source": [
    "time = df['time'].unique()[0]\n",
    "site = df['site'].unique()[0]\n",
    "\n"
   ]
  },
  {
   "cell_type": "code",
   "execution_count": null,
   "metadata": {},
   "outputs": [],
   "source": [
    "missing_data_11x11 = []\n",
    "\n",
    "for time in df['time'].unique():\n",
    "    for site in df['site'].unique():\n",
    "        \n",
    "        "
   ]
  }
 ],
 "metadata": {
  "kernelspec": {
   "display_name": "local-venv-kernel",
   "language": "python",
   "name": "local-venv-kernel"
  },
  "language_info": {
   "codemirror_mode": {
    "name": "ipython",
    "version": 3
   },
   "file_extension": ".py",
   "mimetype": "text/x-python",
   "name": "python",
   "nbconvert_exporter": "python",
   "pygments_lexer": "ipython3",
   "version": "3.10.9"
  }
 },
 "nbformat": 4,
 "nbformat_minor": 4
}
