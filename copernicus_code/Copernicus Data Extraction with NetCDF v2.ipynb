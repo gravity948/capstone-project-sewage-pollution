{
 "cells": [
  {
   "cell_type": "code",
   "execution_count": 1,
   "metadata": {},
   "outputs": [],
   "source": [
    "import os\n",
    "import pandas as pd\n",
    "import re\n",
    "import numpy as np\n",
    "import netCDF4 as nc\n",
    "from PIL import Image\n",
    "import datetime \n",
    "import imageio\n",
    "import os \n",
    "import matplotlib.pyplot as plt\n",
    "import math\n",
    "import xarray as xr"
   ]
  },
  {
   "cell_type": "markdown",
   "metadata": {},
   "source": [
    "# Load Site Data"
   ]
  },
  {
   "cell_type": "code",
   "execution_count": 23,
   "metadata": {},
   "outputs": [
    {
     "data": {
      "text/plain": [
       "[['Seaton Carew North', 54.6646667372081, -1.18604276684644],\n",
       " ['Seaton Carew Centre', 54.6599127717455, -1.18072760536662],\n",
       " ['Seaton Carew North Gare', 54.6496298348782, -1.16466146681862],\n",
       " ['Redcar Coatham', 54.6220674831445, -1.08159305534821],\n",
       " ['Redcar Lifeboat Station', 54.620056404635, -1.06076199971504],\n",
       " ['Redcar Granville', 54.6173480911732, -1.0522761465974],\n",
       " ['Redcar Stray', 54.6055201971506, -1.03397313354301],\n",
       " ['Marske Sands', 54.5999919286241, -1.01707668794072],\n",
       " ['Saltburn', 54.5867919627395, -0.969779715531797],\n",
       " ['Seaham Hall Beach', 54.8504496557177, -1.34149803443412]]"
      ]
     },
     "execution_count": 23,
     "metadata": {},
     "output_type": "execute_result"
    }
   ],
   "source": [
    "sites_df = pd.read_csv('site.csv')\n",
    "sites = [[row['label'], row['lat'], row['long']] for index, row in sites_df.iterrows()]\n",
    "sites[:10]"
   ]
  },
  {
   "cell_type": "markdown",
   "metadata": {},
   "source": [
    "# Load single NetCDF dataset for the lat and lon grid, and snap sites to grid"
   ]
  },
  {
   "cell_type": "code",
   "execution_count": 4,
   "metadata": {},
   "outputs": [],
   "source": [
    "ds = nc.Dataset(\"cmems_obs_oc_nws_bgc_tur-spm-chl_nrt_l4-hr-mosaic_P1D-m_1677243373097.nc\")\n",
    "lats = ds['lat'][:].data\n",
    "lons = ds['lon'][:].data"
   ]
  },
  {
   "cell_type": "code",
   "execution_count": 20,
   "metadata": {},
   "outputs": [
    {
     "name": "stdout",
     "output_type": "stream",
     "text": [
      "54.6646667372081\n",
      "54.66435185185185\n",
      "-1.18604276684644\n",
      "-1.185359888190069\n"
     ]
    }
   ],
   "source": [
    "lat = sites[0][1]\n",
    "lon = sites[0][2]\n",
    "print(lat)\n",
    "print(lats[np.argmin(np.abs(lats - lat))])\n",
    "print(lon)\n",
    "print(lons[np.argmin(np.abs(lons - lon))])"
   ]
  },
  {
   "cell_type": "code",
   "execution_count": 29,
   "metadata": {},
   "outputs": [
    {
     "name": "stdout",
     "output_type": "stream",
     "text": [
      "CPU times: user 19.9 ms, sys: 8.1 ms, total: 28 ms\n",
      "Wall time: 27.9 ms\n"
     ]
    },
    {
     "data": {
      "text/plain": [
       "[['Seaton Carew North',\n",
       "  54.6646667372081,\n",
       "  -1.18604276684644,\n",
       "  54.66435185185185,\n",
       "  -1.185359888190069],\n",
       " ['Seaton Carew Centre',\n",
       "  54.6599127717455,\n",
       "  -1.18072760536662,\n",
       "  54.66435185185185,\n",
       "  -1.185359888190069],\n",
       " ['Seaton Carew North Gare',\n",
       "  54.6496298348782,\n",
       "  -1.16466146681862,\n",
       "  54.66435185185185,\n",
       "  -1.185359888190069],\n",
       " ['Redcar Coatham',\n",
       "  54.6220674831445,\n",
       "  -1.08159305534821,\n",
       "  54.66435185185185,\n",
       "  -1.185359888190069],\n",
       " ['Redcar Lifeboat Station',\n",
       "  54.620056404635,\n",
       "  -1.06076199971504,\n",
       "  54.66435185185185,\n",
       "  -1.185359888190069],\n",
       " ['Redcar Granville',\n",
       "  54.6173480911732,\n",
       "  -1.0522761465974,\n",
       "  54.66435185185185,\n",
       "  -1.185359888190069],\n",
       " ['Redcar Stray',\n",
       "  54.6055201971506,\n",
       "  -1.03397313354301,\n",
       "  54.66435185185185,\n",
       "  -1.185359888190069],\n",
       " ['Marske Sands',\n",
       "  54.5999919286241,\n",
       "  -1.01707668794072,\n",
       "  54.66435185185185,\n",
       "  -1.185359888190069],\n",
       " ['Saltburn',\n",
       "  54.5867919627395,\n",
       "  -0.969779715531797,\n",
       "  54.66435185185185,\n",
       "  -1.185359888190069],\n",
       " ['Seaham Hall Beach',\n",
       "  54.8504496557177,\n",
       "  -1.34149803443412,\n",
       "  54.66435185185185,\n",
       "  -1.185359888190069]]"
      ]
     },
     "execution_count": 29,
     "metadata": {},
     "output_type": "execute_result"
    }
   ],
   "source": [
    "%%time\n",
    "sites_grid = []\n",
    "for i in range(len(sites)):\n",
    "    site = sites[i]\n",
    "    lat_orig = site[1]\n",
    "    lon_orig = site[2]\n",
    "    \n",
    "    lat_grid = lats[np.argmin(np.abs(lats - lat))]\n",
    "    lon_grid = lons[np.argmin(np.abs(lons - lon))]\n",
    "    \n",
    "    sites_grid.append([site[0], lat_orig, lon_orig, lat_grid, lon_grid])\n",
    "    \n",
    "sites_grid[:10]"
   ]
  },
  {
   "cell_type": "markdown",
   "metadata": {},
   "source": [
    "# Loop through multiple sites"
   ]
  },
  {
   "cell_type": "code",
   "execution_count": null,
   "metadata": {},
   "outputs": [],
   "source": []
  },
  {
   "cell_type": "code",
   "execution_count": null,
   "metadata": {},
   "outputs": [],
   "source": [
    "username = \"slai\"\n",
    "password = \"Capstone2023\"\n",
    "output_directory = \"/Users/SallyLai/Desktop/LSE/Masters/Capstone/capstone-project-sewage-pollution\"\n",
    "output_filename = \"20220630.nc\"\n",
    "product_id = \"OCEANCOLOUR_NWS_BGC_HR_L4_NRT_009_209-TDS\"\n",
    "dataset_id = \"cmems_obs_oc_nws_bgc_tur-spm-chl_nrt_l4-hr-mosaic_P1D-m\"\n",
    "\n",
    "query = ('python -m motuclient --motu https://nrt.cmems-du.eu/motu-web/Motu --service-id ' + product_id + ' --product-id ' + dataset_id + \n",
    "         ' --longitude-min -11 --longitude-max 2 --latitude-min 49 --latitude-max 60 ' +\n",
    "         '--date-min \"2022-06-30 00:00:00\" --date-max \"2022-06-30 23:59:59\" ' +\n",
    "         '--variable CHL --variable SPM --variable TUR ' +\n",
    "         '--out-dir ' + output_directory + ' --out-name ' + output_filename +\n",
    "         ' --user ' + username + ' --pwd ' + password)\n",
    "\n",
    "os.system(query)"
   ]
  }
 ],
 "metadata": {
  "kernelspec": {
   "display_name": "local-venv-kernel",
   "language": "python",
   "name": "local-venv-kernel"
  },
  "language_info": {
   "codemirror_mode": {
    "name": "ipython",
    "version": 3
   },
   "file_extension": ".py",
   "mimetype": "text/x-python",
   "name": "python",
   "nbconvert_exporter": "python",
   "pygments_lexer": "ipython3",
   "version": "3.10.9"
  }
 },
 "nbformat": 4,
 "nbformat_minor": 4
}
