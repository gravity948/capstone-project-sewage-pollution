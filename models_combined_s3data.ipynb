{
  "cells": [
    {
      "cell_type": "markdown",
      "metadata": {
        "id": "RrR-uN_IM30X"
      },
      "source": [
        "**Models**:\n",
        "- Logistic Regression (LR)\n",
        "- Random Forest (RF)\n",
        "- Neural Network (NN)"
      ]
    },
    {
      "cell_type": "markdown",
      "metadata": {
        "id": "1vIrrlI5qYYy"
      },
      "source": [
        "# Table of Contents"
      ]
    },
    {
      "cell_type": "markdown",
      "metadata": {
        "colab_type": "toc",
        "id": "bs7kFeNpqVMd"
      },
      "source": [
        ">[Table of Contents](#scrollTo=1vIrrlI5qYYy)\n",
        "\n",
        ">[Load Packages](#scrollTo=7kYT-Av0M30Y)\n",
        "\n",
        ">[Load Datasets and Basic Data Cleaning](#scrollTo=W8j2Yk93M30a)\n",
        "\n",
        ">>[BC & RF: features dataset](#scrollTo=ogBM3dkMM30a)\n",
        "\n",
        ">>[NN: sites_data.csv](#scrollTo=XsGpGZJoM30b)\n",
        "\n",
        ">>[All: Pollution Data](#scrollTo=iAjdKpWAM30b)\n",
        "\n",
        ">[Data Manipulation and Further Data Cleaning](#scrollTo=7jfpVEdhM30b)\n",
        "\n",
        ">>>[BC & RF: Replace NaNs with mean](#scrollTo=2tNYFCXyM30b)\n",
        "\n",
        ">>>[BC & RF: Replace NaNs with -10](#scrollTo=w2nMfJ_MM30c)\n",
        "\n",
        ">[Train-Test Split](#scrollTo=k5Rh25eDM30d)\n",
        "\n",
        ">>[5-fold CV on Training Data](#scrollTo=NVfVZtslVDgN)\n",
        "\n",
        ">[Train & Test Models](#scrollTo=LqVCHBwqM30d)\n",
        "\n",
        ">>[Baseline](#scrollTo=WCq5OTnjM30d)\n",
        "\n",
        ">>[BC](#scrollTo=fCm5MtmEM30d)\n",
        "\n",
        ">>>[df_merged_mean](#scrollTo=sk2ahJhvM30d)\n",
        "\n",
        ">>>>[ROC](#scrollTo=AUtGhFBxM30f)\n",
        "\n",
        ">>>[df_merged_neg](#scrollTo=LbH3oq34M30f)\n",
        "\n",
        ">>[RF](#scrollTo=tX_m83LwM30g)\n",
        "\n",
        ">>>[df_merged_mean](#scrollTo=WwjWWDddM30g)\n",
        "\n",
        ">>>>[Importance of Feature Aggregation](#scrollTo=HSd3THghM30h)\n",
        "\n",
        ">>>>[PCA](#scrollTo=ce8UQqnCM30h)\n",
        "\n",
        ">>>[df_merged_neg](#scrollTo=yNtOjtXHM30h)\n",
        "\n",
        ">>>>[Importance of Feature Aggregation](#scrollTo=d85180_iM30i)\n",
        "\n",
        ">>>>[PCA](#scrollTo=3iz1OD5WM30i)\n",
        "\n",
        ">>[NN](#scrollTo=HqmPxsTQM30j)\n",
        "\n",
        ">>>[Helper Functions](#scrollTo=kweB7fnOM30j)\n",
        "\n",
        ">>>[Training Models](#scrollTo=42b7DOTtM30k)\n",
        "\n",
        ">>>>[Training From Scratch](#scrollTo=orGBi9j_QSm6)\n",
        "\n",
        ">>>>>[With Cross Validation (Takes up too much RAM)](#scrollTo=CQ2WRerRdX5E)\n",
        "\n",
        ">>>>>[Save Model](#scrollTo=VY6Q610dder6)\n",
        "\n",
        ">>>>[Training From Existing Model](#scrollTo=7_MflnfHQXCz)\n",
        "\n",
        ">>>>>[Load Model From File](#scrollTo=qbDjSSIaoPmH)\n",
        "\n",
        ">>>>>[Training](#scrollTo=um8esTkeoRAe)\n",
        "\n",
        ">[Final Results](#scrollTo=KCRcg5wRM30k)\n",
        "\n",
        ">[Window Size Comparison](#scrollTo=MhySSdKwM30l)\n",
        "\n",
        ">>[BC](#scrollTo=_xgmshK1M30l)\n",
        "\n",
        ">>[RF](#scrollTo=kiYFhCJiM30l)\n",
        "\n",
        ">>[NN](#scrollTo=Y54BwAv-M30l)\n",
        "\n",
        ">[Accuracy Comparison](#scrollTo=yw0R9N0gM30m)\n",
        "\n",
        ">>[NN](#scrollTo=OZhXFnbPM30m)\n",
        "\n"
      ]
    },
    {
      "cell_type": "markdown",
      "metadata": {
        "id": "7kYT-Av0M30Y"
      },
      "source": [
        "# &nbsp; Load Packages"
      ]
    },
    {
      "cell_type": "code",
      "execution_count": null,
      "metadata": {
        "id": "lbZ20BK6Q-rf"
      },
      "outputs": [],
      "source": [
        "from google.colab import drive\n",
        "drive.mount('/content/drive')"
      ]
    },
    {
      "cell_type": "code",
      "execution_count": null,
      "metadata": {
        "id": "RRa3XwTrM30Z"
      },
      "outputs": [],
      "source": [
        "import tensorflow as tf\n",
        "from tensorflow.keras import datasets, layers, models, losses\n",
        "from tensorflow.keras import backend as K"
      ]
    },
    {
      "cell_type": "code",
      "execution_count": null,
      "metadata": {
        "id": "BswLk-JvM30a"
      },
      "outputs": [],
      "source": [
        "import matplotlib.pyplot as plt\n",
        "import pandas as pd\n",
        "import numpy as np\n",
        "from functools import reduce\n",
        "from imblearn.over_sampling import RandomOverSampler\n",
        "from sklearn.model_selection import train_test_split,RandomizedSearchCV, GridSearchCV, cross_val_score\n",
        "from sklearn.ensemble import RandomForestClassifier\n",
        "from datetime import datetime\n",
        "import seaborn as sns\n",
        "from sklearn.decomposition import PCA\n",
        "from sklearn.preprocessing import MinMaxScaler, StandardScaler\n",
        "from sklearn.linear_model import LogisticRegression\n",
        "from sklearn.feature_selection import SelectFromModel\n",
        "from sklearn.metrics import *\n",
        "from sklearn.metrics import RocCurveDisplay\n",
        "from sklearn.preprocessing import LabelBinarizer\n",
        "from sklearn.metrics import accuracy_score, confusion_matrix, classification_report, roc_curve, auc, roc_auc_score, make_scorer, f1_score, precision_score, recall_score\n",
        "from datetime import datetime\n",
        "from keras.optimizers import Adam\n",
        "import itertools\n",
        "from IPython.display import clear_output\n",
        "import pickle\n",
        "from collections import defaultdict\n",
        "import random\n",
        "import gc\n",
        "from csv import writer"
      ]
    },
    {
      "cell_type": "code",
      "execution_count": null,
      "metadata": {
        "id": "bIx8GK6iZxH7"
      },
      "outputs": [],
      "source": [
        "tf.test.gpu_device_name()"
      ]
    },
    {
      "cell_type": "markdown",
      "metadata": {
        "id": "W8j2Yk93M30a"
      },
      "source": [
        "# Data Cleaning (REDUNDANT)"
      ]
    },
    {
      "cell_type": "markdown",
      "metadata": {
        "id": "ogBM3dkMM30a"
      },
      "source": [
        "## BC & RF: features dataset"
      ]
    },
    {
      "cell_type": "code",
      "execution_count": null,
      "metadata": {
        "colab": {
          "base_uri": "https://localhost:8080/",
          "height": 661
        },
        "id": "9R0of2T2M30a",
        "outputId": "2ad8dd4e-93f4-4fb2-a846-088fdafd5835"
      },
      "outputs": [
        {
          "data": {
            "text/html": [
              "\n",
              "  <div id=\"df-bfd758ed-6e07-4a4e-b73d-8797228534ef\">\n",
              "    <div class=\"colab-df-container\">\n",
              "      <div>\n",
              "<style scoped>\n",
              "    .dataframe tbody tr th:only-of-type {\n",
              "        vertical-align: middle;\n",
              "    }\n",
              "\n",
              "    .dataframe tbody tr th {\n",
              "        vertical-align: top;\n",
              "    }\n",
              "\n",
              "    .dataframe thead th {\n",
              "        text-align: right;\n",
              "    }\n",
              "</style>\n",
              "<table border=\"1\" class=\"dataframe\">\n",
              "  <thead>\n",
              "    <tr style=\"text-align: right;\">\n",
              "      <th></th>\n",
              "      <th>time</th>\n",
              "      <th>site</th>\n",
              "      <th>TUR_1x1_median</th>\n",
              "      <th>SPM_1x1_median</th>\n",
              "      <th>CHL_1x1_median</th>\n",
              "      <th>TUR_1x1_mean</th>\n",
              "      <th>SPM_1x1_mean</th>\n",
              "      <th>CHL_1x1_mean</th>\n",
              "      <th>TUR_1x1_q1</th>\n",
              "      <th>SPM_1x1_q1</th>\n",
              "      <th>...</th>\n",
              "      <th>CHL_51x51_median</th>\n",
              "      <th>TUR_51x51_mean</th>\n",
              "      <th>SPM_51x51_mean</th>\n",
              "      <th>CHL_51x51_mean</th>\n",
              "      <th>TUR_51x51_q1</th>\n",
              "      <th>SPM_51x51_q1</th>\n",
              "      <th>CHL_51x51_q1</th>\n",
              "      <th>TUR_51x51_q3</th>\n",
              "      <th>SPM_51x51_q3</th>\n",
              "      <th>CHL_51x51_q3</th>\n",
              "    </tr>\n",
              "  </thead>\n",
              "  <tbody>\n",
              "    <tr>\n",
              "      <th>0</th>\n",
              "      <td>2020-01-04</td>\n",
              "      <td>ukf3102-09100</td>\n",
              "      <td>108.93730</td>\n",
              "      <td>82.804050</td>\n",
              "      <td>9.694109</td>\n",
              "      <td>108.93730</td>\n",
              "      <td>82.804050</td>\n",
              "      <td>9.694109</td>\n",
              "      <td>108.93730</td>\n",
              "      <td>82.804050</td>\n",
              "      <td>...</td>\n",
              "      <td>7.786972</td>\n",
              "      <td>56.991574</td>\n",
              "      <td>39.174789</td>\n",
              "      <td>8.061594</td>\n",
              "      <td>43.640497</td>\n",
              "      <td>28.339942</td>\n",
              "      <td>6.656758</td>\n",
              "      <td>61.104443</td>\n",
              "      <td>41.905066</td>\n",
              "      <td>9.190117</td>\n",
              "    </tr>\n",
              "    <tr>\n",
              "      <th>1</th>\n",
              "      <td>2020-01-04</td>\n",
              "      <td>ukf3102-09200</td>\n",
              "      <td>116.36637</td>\n",
              "      <td>92.065480</td>\n",
              "      <td>9.894425</td>\n",
              "      <td>116.36637</td>\n",
              "      <td>92.065480</td>\n",
              "      <td>9.894425</td>\n",
              "      <td>116.36637</td>\n",
              "      <td>92.065480</td>\n",
              "      <td>...</td>\n",
              "      <td>8.937684</td>\n",
              "      <td>64.657951</td>\n",
              "      <td>45.736671</td>\n",
              "      <td>9.018375</td>\n",
              "      <td>49.536735</td>\n",
              "      <td>32.876476</td>\n",
              "      <td>7.464715</td>\n",
              "      <td>68.959285</td>\n",
              "      <td>48.319313</td>\n",
              "      <td>10.118837</td>\n",
              "    </tr>\n",
              "    <tr>\n",
              "      <th>2</th>\n",
              "      <td>2020-01-04</td>\n",
              "      <td>ukf3102-09400</td>\n",
              "      <td>107.69669</td>\n",
              "      <td>86.643550</td>\n",
              "      <td>13.944178</td>\n",
              "      <td>107.69669</td>\n",
              "      <td>86.643550</td>\n",
              "      <td>13.944178</td>\n",
              "      <td>107.69669</td>\n",
              "      <td>86.643550</td>\n",
              "      <td>...</td>\n",
              "      <td>9.186992</td>\n",
              "      <td>69.629040</td>\n",
              "      <td>49.706337</td>\n",
              "      <td>9.381335</td>\n",
              "      <td>60.110758</td>\n",
              "      <td>41.077278</td>\n",
              "      <td>8.235911</td>\n",
              "      <td>73.797290</td>\n",
              "      <td>53.108590</td>\n",
              "      <td>10.310409</td>\n",
              "    </tr>\n",
              "    <tr>\n",
              "      <th>3</th>\n",
              "      <td>2020-01-04</td>\n",
              "      <td>ukf3102-09600</td>\n",
              "      <td>157.11348</td>\n",
              "      <td>131.455100</td>\n",
              "      <td>14.738614</td>\n",
              "      <td>157.11348</td>\n",
              "      <td>131.455100</td>\n",
              "      <td>14.738614</td>\n",
              "      <td>157.11348</td>\n",
              "      <td>131.455100</td>\n",
              "      <td>...</td>\n",
              "      <td>8.160086</td>\n",
              "      <td>52.962076</td>\n",
              "      <td>37.057555</td>\n",
              "      <td>8.556871</td>\n",
              "      <td>38.118608</td>\n",
              "      <td>24.710560</td>\n",
              "      <td>7.108883</td>\n",
              "      <td>63.412932</td>\n",
              "      <td>44.594133</td>\n",
              "      <td>9.660246</td>\n",
              "    </tr>\n",
              "    <tr>\n",
              "      <th>4</th>\n",
              "      <td>2020-01-04</td>\n",
              "      <td>ukf3102-09700</td>\n",
              "      <td>117.12625</td>\n",
              "      <td>93.854904</td>\n",
              "      <td>12.754065</td>\n",
              "      <td>117.12625</td>\n",
              "      <td>93.854904</td>\n",
              "      <td>12.754065</td>\n",
              "      <td>117.12625</td>\n",
              "      <td>93.854904</td>\n",
              "      <td>...</td>\n",
              "      <td>7.084467</td>\n",
              "      <td>31.324775</td>\n",
              "      <td>20.877057</td>\n",
              "      <td>7.982920</td>\n",
              "      <td>17.733513</td>\n",
              "      <td>10.922977</td>\n",
              "      <td>6.416773</td>\n",
              "      <td>34.601340</td>\n",
              "      <td>22.003967</td>\n",
              "      <td>8.369608</td>\n",
              "    </tr>\n",
              "    <tr>\n",
              "      <th>...</th>\n",
              "      <td>...</td>\n",
              "      <td>...</td>\n",
              "      <td>...</td>\n",
              "      <td>...</td>\n",
              "      <td>...</td>\n",
              "      <td>...</td>\n",
              "      <td>...</td>\n",
              "      <td>...</td>\n",
              "      <td>...</td>\n",
              "      <td>...</td>\n",
              "      <td>...</td>\n",
              "      <td>...</td>\n",
              "      <td>...</td>\n",
              "      <td>...</td>\n",
              "      <td>...</td>\n",
              "      <td>...</td>\n",
              "      <td>...</td>\n",
              "      <td>...</td>\n",
              "      <td>...</td>\n",
              "      <td>...</td>\n",
              "      <td>...</td>\n",
              "    </tr>\n",
              "    <tr>\n",
              "      <th>113421</th>\n",
              "      <td>2022-11-28</td>\n",
              "      <td>ukk3101-26530</td>\n",
              "      <td>NaN</td>\n",
              "      <td>NaN</td>\n",
              "      <td>NaN</td>\n",
              "      <td>NaN</td>\n",
              "      <td>NaN</td>\n",
              "      <td>NaN</td>\n",
              "      <td>NaN</td>\n",
              "      <td>NaN</td>\n",
              "      <td>...</td>\n",
              "      <td>2.410271</td>\n",
              "      <td>3.176707</td>\n",
              "      <td>1.859303</td>\n",
              "      <td>2.536886</td>\n",
              "      <td>2.869820</td>\n",
              "      <td>1.673176</td>\n",
              "      <td>2.258490</td>\n",
              "      <td>3.312921</td>\n",
              "      <td>1.941688</td>\n",
              "      <td>2.688667</td>\n",
              "    </tr>\n",
              "    <tr>\n",
              "      <th>113422</th>\n",
              "      <td>2022-12-07</td>\n",
              "      <td>ukk4200-23200</td>\n",
              "      <td>NaN</td>\n",
              "      <td>NaN</td>\n",
              "      <td>NaN</td>\n",
              "      <td>NaN</td>\n",
              "      <td>NaN</td>\n",
              "      <td>NaN</td>\n",
              "      <td>NaN</td>\n",
              "      <td>NaN</td>\n",
              "      <td>...</td>\n",
              "      <td>8.443477</td>\n",
              "      <td>10.726367</td>\n",
              "      <td>6.459139</td>\n",
              "      <td>8.443477</td>\n",
              "      <td>10.726367</td>\n",
              "      <td>6.459139</td>\n",
              "      <td>8.443477</td>\n",
              "      <td>10.726367</td>\n",
              "      <td>6.459139</td>\n",
              "      <td>8.443477</td>\n",
              "    </tr>\n",
              "    <tr>\n",
              "      <th>113423</th>\n",
              "      <td>2022-12-07</td>\n",
              "      <td>ukk4306-23000</td>\n",
              "      <td>NaN</td>\n",
              "      <td>NaN</td>\n",
              "      <td>NaN</td>\n",
              "      <td>NaN</td>\n",
              "      <td>NaN</td>\n",
              "      <td>NaN</td>\n",
              "      <td>NaN</td>\n",
              "      <td>NaN</td>\n",
              "      <td>...</td>\n",
              "      <td>5.248995</td>\n",
              "      <td>6.791190</td>\n",
              "      <td>4.061143</td>\n",
              "      <td>5.279060</td>\n",
              "      <td>6.673853</td>\n",
              "      <td>3.990707</td>\n",
              "      <td>5.188523</td>\n",
              "      <td>6.821655</td>\n",
              "      <td>4.078659</td>\n",
              "      <td>5.339532</td>\n",
              "    </tr>\n",
              "    <tr>\n",
              "      <th>113424</th>\n",
              "      <td>2022-12-17</td>\n",
              "      <td>ukc2103-04600</td>\n",
              "      <td>NaN</td>\n",
              "      <td>NaN</td>\n",
              "      <td>NaN</td>\n",
              "      <td>NaN</td>\n",
              "      <td>NaN</td>\n",
              "      <td>NaN</td>\n",
              "      <td>NaN</td>\n",
              "      <td>NaN</td>\n",
              "      <td>...</td>\n",
              "      <td>8.037140</td>\n",
              "      <td>23.244257</td>\n",
              "      <td>14.438895</td>\n",
              "      <td>8.037140</td>\n",
              "      <td>23.233103</td>\n",
              "      <td>14.434131</td>\n",
              "      <td>7.982498</td>\n",
              "      <td>23.255411</td>\n",
              "      <td>14.443659</td>\n",
              "      <td>8.091781</td>\n",
              "    </tr>\n",
              "    <tr>\n",
              "      <th>113425</th>\n",
              "      <td>2022-12-27</td>\n",
              "      <td>ukc2103-04600</td>\n",
              "      <td>NaN</td>\n",
              "      <td>NaN</td>\n",
              "      <td>NaN</td>\n",
              "      <td>NaN</td>\n",
              "      <td>NaN</td>\n",
              "      <td>NaN</td>\n",
              "      <td>NaN</td>\n",
              "      <td>NaN</td>\n",
              "      <td>...</td>\n",
              "      <td>5.617040</td>\n",
              "      <td>10.908279</td>\n",
              "      <td>6.909040</td>\n",
              "      <td>5.776348</td>\n",
              "      <td>10.375320</td>\n",
              "      <td>6.544604</td>\n",
              "      <td>5.556398</td>\n",
              "      <td>13.002358</td>\n",
              "      <td>8.309875</td>\n",
              "      <td>5.836990</td>\n",
              "    </tr>\n",
              "  </tbody>\n",
              "</table>\n",
              "<p>113426 rows × 314 columns</p>\n",
              "</div>\n",
              "      <button class=\"colab-df-convert\" onclick=\"convertToInteractive('df-bfd758ed-6e07-4a4e-b73d-8797228534ef')\"\n",
              "              title=\"Convert this dataframe to an interactive table.\"\n",
              "              style=\"display:none;\">\n",
              "        \n",
              "  <svg xmlns=\"http://www.w3.org/2000/svg\" height=\"24px\"viewBox=\"0 0 24 24\"\n",
              "       width=\"24px\">\n",
              "    <path d=\"M0 0h24v24H0V0z\" fill=\"none\"/>\n",
              "    <path d=\"M18.56 5.44l.94 2.06.94-2.06 2.06-.94-2.06-.94-.94-2.06-.94 2.06-2.06.94zm-11 1L8.5 8.5l.94-2.06 2.06-.94-2.06-.94L8.5 2.5l-.94 2.06-2.06.94zm10 10l.94 2.06.94-2.06 2.06-.94-2.06-.94-.94-2.06-.94 2.06-2.06.94z\"/><path d=\"M17.41 7.96l-1.37-1.37c-.4-.4-.92-.59-1.43-.59-.52 0-1.04.2-1.43.59L10.3 9.45l-7.72 7.72c-.78.78-.78 2.05 0 2.83L4 21.41c.39.39.9.59 1.41.59.51 0 1.02-.2 1.41-.59l7.78-7.78 2.81-2.81c.8-.78.8-2.07 0-2.86zM5.41 20L4 18.59l7.72-7.72 1.47 1.35L5.41 20z\"/>\n",
              "  </svg>\n",
              "      </button>\n",
              "      \n",
              "  <style>\n",
              "    .colab-df-container {\n",
              "      display:flex;\n",
              "      flex-wrap:wrap;\n",
              "      gap: 12px;\n",
              "    }\n",
              "\n",
              "    .colab-df-convert {\n",
              "      background-color: #E8F0FE;\n",
              "      border: none;\n",
              "      border-radius: 50%;\n",
              "      cursor: pointer;\n",
              "      display: none;\n",
              "      fill: #1967D2;\n",
              "      height: 32px;\n",
              "      padding: 0 0 0 0;\n",
              "      width: 32px;\n",
              "    }\n",
              "\n",
              "    .colab-df-convert:hover {\n",
              "      background-color: #E2EBFA;\n",
              "      box-shadow: 0px 1px 2px rgba(60, 64, 67, 0.3), 0px 1px 3px 1px rgba(60, 64, 67, 0.15);\n",
              "      fill: #174EA6;\n",
              "    }\n",
              "\n",
              "    [theme=dark] .colab-df-convert {\n",
              "      background-color: #3B4455;\n",
              "      fill: #D2E3FC;\n",
              "    }\n",
              "\n",
              "    [theme=dark] .colab-df-convert:hover {\n",
              "      background-color: #434B5C;\n",
              "      box-shadow: 0px 1px 3px 1px rgba(0, 0, 0, 0.15);\n",
              "      filter: drop-shadow(0px 1px 2px rgba(0, 0, 0, 0.3));\n",
              "      fill: #FFFFFF;\n",
              "    }\n",
              "  </style>\n",
              "\n",
              "      <script>\n",
              "        const buttonEl =\n",
              "          document.querySelector('#df-bfd758ed-6e07-4a4e-b73d-8797228534ef button.colab-df-convert');\n",
              "        buttonEl.style.display =\n",
              "          google.colab.kernel.accessAllowed ? 'block' : 'none';\n",
              "\n",
              "        async function convertToInteractive(key) {\n",
              "          const element = document.querySelector('#df-bfd758ed-6e07-4a4e-b73d-8797228534ef');\n",
              "          const dataTable =\n",
              "            await google.colab.kernel.invokeFunction('convertToInteractive',\n",
              "                                                     [key], {});\n",
              "          if (!dataTable) return;\n",
              "\n",
              "          const docLinkHtml = 'Like what you see? Visit the ' +\n",
              "            '<a target=\"_blank\" href=https://colab.research.google.com/notebooks/data_table.ipynb>data table notebook</a>'\n",
              "            + ' to learn more about interactive tables.';\n",
              "          element.innerHTML = '';\n",
              "          dataTable['output_type'] = 'display_data';\n",
              "          await google.colab.output.renderOutput(dataTable, element);\n",
              "          const docLink = document.createElement('div');\n",
              "          docLink.innerHTML = docLinkHtml;\n",
              "          element.appendChild(docLink);\n",
              "        }\n",
              "      </script>\n",
              "    </div>\n",
              "  </div>\n",
              "  "
            ],
            "text/plain": [
              "              time           site  TUR_1x1_median  SPM_1x1_median  \\\n",
              "0       2020-01-04  ukf3102-09100       108.93730       82.804050   \n",
              "1       2020-01-04  ukf3102-09200       116.36637       92.065480   \n",
              "2       2020-01-04  ukf3102-09400       107.69669       86.643550   \n",
              "3       2020-01-04  ukf3102-09600       157.11348      131.455100   \n",
              "4       2020-01-04  ukf3102-09700       117.12625       93.854904   \n",
              "...            ...            ...             ...             ...   \n",
              "113421  2022-11-28  ukk3101-26530             NaN             NaN   \n",
              "113422  2022-12-07  ukk4200-23200             NaN             NaN   \n",
              "113423  2022-12-07  ukk4306-23000             NaN             NaN   \n",
              "113424  2022-12-17  ukc2103-04600             NaN             NaN   \n",
              "113425  2022-12-27  ukc2103-04600             NaN             NaN   \n",
              "\n",
              "        CHL_1x1_median  TUR_1x1_mean  SPM_1x1_mean  CHL_1x1_mean  TUR_1x1_q1  \\\n",
              "0             9.694109     108.93730     82.804050      9.694109   108.93730   \n",
              "1             9.894425     116.36637     92.065480      9.894425   116.36637   \n",
              "2            13.944178     107.69669     86.643550     13.944178   107.69669   \n",
              "3            14.738614     157.11348    131.455100     14.738614   157.11348   \n",
              "4            12.754065     117.12625     93.854904     12.754065   117.12625   \n",
              "...                ...           ...           ...           ...         ...   \n",
              "113421             NaN           NaN           NaN           NaN         NaN   \n",
              "113422             NaN           NaN           NaN           NaN         NaN   \n",
              "113423             NaN           NaN           NaN           NaN         NaN   \n",
              "113424             NaN           NaN           NaN           NaN         NaN   \n",
              "113425             NaN           NaN           NaN           NaN         NaN   \n",
              "\n",
              "        SPM_1x1_q1  ...  CHL_51x51_median  TUR_51x51_mean  SPM_51x51_mean  \\\n",
              "0        82.804050  ...          7.786972       56.991574       39.174789   \n",
              "1        92.065480  ...          8.937684       64.657951       45.736671   \n",
              "2        86.643550  ...          9.186992       69.629040       49.706337   \n",
              "3       131.455100  ...          8.160086       52.962076       37.057555   \n",
              "4        93.854904  ...          7.084467       31.324775       20.877057   \n",
              "...            ...  ...               ...             ...             ...   \n",
              "113421         NaN  ...          2.410271        3.176707        1.859303   \n",
              "113422         NaN  ...          8.443477       10.726367        6.459139   \n",
              "113423         NaN  ...          5.248995        6.791190        4.061143   \n",
              "113424         NaN  ...          8.037140       23.244257       14.438895   \n",
              "113425         NaN  ...          5.617040       10.908279        6.909040   \n",
              "\n",
              "        CHL_51x51_mean  TUR_51x51_q1  SPM_51x51_q1  CHL_51x51_q1  \\\n",
              "0             8.061594     43.640497     28.339942      6.656758   \n",
              "1             9.018375     49.536735     32.876476      7.464715   \n",
              "2             9.381335     60.110758     41.077278      8.235911   \n",
              "3             8.556871     38.118608     24.710560      7.108883   \n",
              "4             7.982920     17.733513     10.922977      6.416773   \n",
              "...                ...           ...           ...           ...   \n",
              "113421        2.536886      2.869820      1.673176      2.258490   \n",
              "113422        8.443477     10.726367      6.459139      8.443477   \n",
              "113423        5.279060      6.673853      3.990707      5.188523   \n",
              "113424        8.037140     23.233103     14.434131      7.982498   \n",
              "113425        5.776348     10.375320      6.544604      5.556398   \n",
              "\n",
              "        TUR_51x51_q3  SPM_51x51_q3  CHL_51x51_q3  \n",
              "0          61.104443     41.905066      9.190117  \n",
              "1          68.959285     48.319313     10.118837  \n",
              "2          73.797290     53.108590     10.310409  \n",
              "3          63.412932     44.594133      9.660246  \n",
              "4          34.601340     22.003967      8.369608  \n",
              "...              ...           ...           ...  \n",
              "113421      3.312921      1.941688      2.688667  \n",
              "113422     10.726367      6.459139      8.443477  \n",
              "113423      6.821655      4.078659      5.339532  \n",
              "113424     23.255411     14.443659      8.091781  \n",
              "113425     13.002358      8.309875      5.836990  \n",
              "\n",
              "[113426 rows x 314 columns]"
            ]
          },
          "execution_count": 5,
          "metadata": {},
          "output_type": "execute_result"
        }
      ],
      "source": [
        "%%time\n",
        "df_feature = pd.read_csv('/content/drive/My Drive/CapstoneProject/Datasets/feature_extraction_51x51.csv')\n",
        "df_feature = df_feature.dropna(how='all', subset=df_feature.columns[2:])\n",
        "df_feature"
      ]
    },
    {
      "cell_type": "markdown",
      "metadata": {
        "id": "iAjdKpWAM30b"
      },
      "source": [
        "## All: Pollution Data"
      ]
    },
    {
      "cell_type": "code",
      "execution_count": null,
      "metadata": {
        "colab": {
          "base_uri": "https://localhost:8080/",
          "height": 240
        },
        "id": "fwZkTVlFBP4N",
        "outputId": "8cde3a6d-8566-43d5-b32b-eeceb2c6d68d"
      },
      "outputs": [
        {
          "ename": "NameError",
          "evalue": "ignored",
          "output_type": "error",
          "traceback": [
            "\u001b[0;31m---------------------------------------------------------------------------\u001b[0m",
            "\u001b[0;31mNameError\u001b[0m                                 Traceback (most recent call last)",
            "\u001b[0;32m<ipython-input-1-4ac69844f9b2>\u001b[0m in \u001b[0;36m<cell line: 1>\u001b[0;34m()\u001b[0m\n\u001b[0;32m----> 1\u001b[0;31m \u001b[0mriskforecasting\u001b[0m \u001b[0;34m=\u001b[0m \u001b[0mpd\u001b[0m\u001b[0;34m.\u001b[0m\u001b[0mread_csv\u001b[0m\u001b[0;34m(\u001b[0m\u001b[0;34m'/content/drive/My Drive/CapstoneProject/Datasets/prf.csv'\u001b[0m\u001b[0;34m)\u001b[0m\u001b[0;34m\u001b[0m\u001b[0;34m\u001b[0m\u001b[0m\n\u001b[0m\u001b[1;32m      2\u001b[0m \u001b[0mriskforecasting\u001b[0m\u001b[0;34m[\u001b[0m\u001b[0;34m\"riskLevelLabel\"\u001b[0m\u001b[0;34m]\u001b[0m\u001b[0;34m.\u001b[0m\u001b[0mreplace\u001b[0m\u001b[0;34m(\u001b[0m\u001b[0;34m{\u001b[0m\u001b[0;34m\"normal\"\u001b[0m\u001b[0;34m:\u001b[0m \u001b[0;36m0\u001b[0m\u001b[0;34m,\u001b[0m \u001b[0;34m\"increased\"\u001b[0m\u001b[0;34m:\u001b[0m \u001b[0;36m1\u001b[0m\u001b[0;34m}\u001b[0m\u001b[0;34m,\u001b[0m \u001b[0minplace\u001b[0m\u001b[0;34m=\u001b[0m\u001b[0;32mTrue\u001b[0m\u001b[0;34m)\u001b[0m\u001b[0;34m\u001b[0m\u001b[0;34m\u001b[0m\u001b[0m\n\u001b[1;32m      3\u001b[0m \u001b[0mriskforecasting\u001b[0m\u001b[0;34m[\u001b[0m\u001b[0;34m'time'\u001b[0m\u001b[0;34m]\u001b[0m \u001b[0;34m=\u001b[0m \u001b[0mpd\u001b[0m\u001b[0;34m.\u001b[0m\u001b[0mto_datetime\u001b[0m\u001b[0;34m(\u001b[0m\u001b[0mriskforecasting\u001b[0m\u001b[0;34m[\u001b[0m\u001b[0;34m'predictedAt'\u001b[0m\u001b[0;34m]\u001b[0m\u001b[0;34m)\u001b[0m\u001b[0;34m.\u001b[0m\u001b[0mdt\u001b[0m\u001b[0;34m.\u001b[0m\u001b[0mstrftime\u001b[0m\u001b[0;34m(\u001b[0m\u001b[0;34m'%Y-%m-%d'\u001b[0m\u001b[0;34m)\u001b[0m\u001b[0;34m\u001b[0m\u001b[0;34m\u001b[0m\u001b[0m\n\u001b[1;32m      4\u001b[0m \u001b[0mriskforecasting\u001b[0m\u001b[0;34m.\u001b[0m\u001b[0mdrop\u001b[0m\u001b[0;34m(\u001b[0m\u001b[0;34m[\u001b[0m\u001b[0;34m'label'\u001b[0m\u001b[0;34m,\u001b[0m \u001b[0;34m'predictedAt'\u001b[0m\u001b[0;34m,\u001b[0m \u001b[0;34m'publishedAt'\u001b[0m\u001b[0;34m,\u001b[0m \u001b[0;34m'expiresAt'\u001b[0m\u001b[0;34m,\u001b[0m \u001b[0;34m'warning'\u001b[0m\u001b[0;34m]\u001b[0m\u001b[0;34m,\u001b[0m \u001b[0maxis\u001b[0m\u001b[0;34m=\u001b[0m\u001b[0;36m1\u001b[0m\u001b[0;34m,\u001b[0m \u001b[0minplace\u001b[0m\u001b[0;34m=\u001b[0m\u001b[0;32mTrue\u001b[0m\u001b[0;34m)\u001b[0m\u001b[0;34m\u001b[0m\u001b[0;34m\u001b[0m\u001b[0m\n\u001b[1;32m      5\u001b[0m \u001b[0mriskforecasting\u001b[0m\u001b[0;34m.\u001b[0m\u001b[0mrename\u001b[0m\u001b[0;34m(\u001b[0m\u001b[0;34m{\u001b[0m\u001b[0;34m'EUBWID'\u001b[0m\u001b[0;34m:\u001b[0m\u001b[0;34m'site'\u001b[0m\u001b[0;34m}\u001b[0m\u001b[0;34m,\u001b[0m \u001b[0maxis\u001b[0m\u001b[0;34m=\u001b[0m\u001b[0;36m1\u001b[0m\u001b[0;34m,\u001b[0m \u001b[0minplace\u001b[0m\u001b[0;34m=\u001b[0m\u001b[0;32mTrue\u001b[0m\u001b[0;34m)\u001b[0m\u001b[0;34m\u001b[0m\u001b[0;34m\u001b[0m\u001b[0m\n",
            "\u001b[0;31mNameError\u001b[0m: name 'pd' is not defined"
          ]
        }
      ],
      "source": [
        "riskforecasting = pd.read_csv('/content/drive/My Drive/CapstoneProject/Datasets/prf.csv')\n",
        "riskforecasting[\"riskLevelLabel\"].replace({\"normal\": 0, \"increased\": 1}, inplace=True)\n",
        "riskforecasting['time'] = pd.to_datetime(riskforecasting['predictedAt']).dt.strftime('%Y-%m-%d')\n",
        "riskforecasting.drop(['label', 'predictedAt', 'publishedAt', 'expiresAt', 'warning'], axis=1, inplace=True)\n",
        "riskforecasting.rename({'EUBWID':'site'}, axis=1, inplace=True)\n",
        "riskforecasting = riskforecasting[riskforecasting['riskLevelLabel'] != 'no-prediction']\n",
        "riskforecasting"
      ]
    },
    {
      "cell_type": "code",
      "execution_count": null,
      "metadata": {
        "id": "4PBpS8UWM30b"
      },
      "outputs": [],
      "source": [
        "# riskforecasting = pd.read_csv('/content/drive/My Drive/CapstoneProject/Datasets/pollution_risk_forecasting.csv')\n",
        "# riskforecasting[\"riskLevelLabel\"].replace({\"normal\": 0, \"increased\": 1}, inplace=True)\n",
        "# riskforecasting"
      ]
    },
    {
      "cell_type": "code",
      "execution_count": null,
      "metadata": {
        "colab": {
          "base_uri": "https://localhost:8080/",
          "height": 545
        },
        "id": "eTrOv5l-M30b",
        "outputId": "57739d49-5f84-4972-c2cd-9ddb22a765d2"
      },
      "outputs": [
        {
          "data": {
            "text/plain": [
              "<Axes: xlabel='riskLevelLabel'>"
            ]
          },
          "execution_count": 8,
          "metadata": {},
          "output_type": "execute_result"
        },
        {
          "data": {
            "image/png": "[encoded data removed]",
            "text/plain": [
              "<Figure size 640x480 with 1 Axes>"
            ]
          },
          "metadata": {},
          "output_type": "display_data"
        }
      ],
      "source": [
        "riskforecasting.groupby(['riskLevelLabel']).size().plot(kind = \"bar\")"
      ]
    },
    {
      "cell_type": "markdown",
      "metadata": {
        "id": "2tNYFCXyM30b"
      },
      "source": [
        "## BC & RF: Replace NaNs with mean"
      ]
    },
    {
      "cell_type": "code",
      "execution_count": null,
      "metadata": {
        "colab": {
          "base_uri": "https://localhost:8080/"
        },
        "id": "8hMokRlDM30b",
        "outputId": "36e1760f-7054-4020-e23b-b5afa6f72709"
      },
      "outputs": [
        {
          "name": "stdout",
          "output_type": "stream",
          "text": [
            "CPU times: user 34min 26s, sys: 25.7 s, total: 34min 52s\n",
            "Wall time: 35min 24s\n"
          ]
        }
      ],
      "source": [
        "%%time\n",
        "def fill_na_values_with_mean(row, feature, dimensions):\n",
        "    if pd.isnull(row).any():\n",
        "        for dim in dimensions:\n",
        "            if pd.isna(row[f\"{feature}_{dim}x{dim}_median\"]):\n",
        "                available_medians = row[[f\"{feature}_{i}x{i}_median\" for i in dimensions if not pd.isna(row[f\"{feature}_{i}x{i}_median\"])]]\n",
        "                row[f\"{feature}_{dim}x{dim}_median\"] = available_medians.mean()\n",
        "\n",
        "            if pd.isna(row[f\"{feature}_{dim}x{dim}_mean\"]):\n",
        "                available_means = row[[f\"{feature}_{i}x{i}_mean\" for i in dimensions if not pd.isna(row[f\"{feature}_{i}x{i}_mean\"])]]\n",
        "                row[f\"{feature}_{dim}x{dim}_mean\"] = available_means.mean()\n",
        "\n",
        "            if pd.isna(row[f\"{feature}_{dim}x{dim}_q1\"]):\n",
        "                available_q1s = row[[f\"{feature}_{i}x{i}_q1\" for i in dimensions if not pd.isna(row[f\"{feature}_{i}x{i}_q1\"])]]\n",
        "                row[f\"{feature}_{dim}x{dim}_q1\"] = available_q1s.mean()\n",
        "\n",
        "            if pd.isna(row[f\"{feature}_{dim}x{dim}_q3\"]):\n",
        "                available_q3s = row[[f\"{feature}_{i}x{i}_q3\" for i in dimensions if not pd.isna(row[f\"{feature}_{i}x{i}_q3\"])]]\n",
        "                row[f\"{feature}_{dim}x{dim}_q3\"] = available_q3s.mean()\n",
        "    return row\n",
        "\n",
        "# apply the function to the DataFrame\n",
        "dimensions = range(1, 52, 2)\n",
        "df_feature_mean = df_feature\n",
        "for feature in [\"TUR\", \"SPM\", \"CHL\"]:\n",
        "    df_feature_mean = df_feature_mean.apply(fill_na_values_with_mean, axis=1, args=(feature, dimensions))"
      ]
    },
    {
      "cell_type": "code",
      "execution_count": null,
      "metadata": {
        "id": "TufVabpjOE4m"
      },
      "outputs": [],
      "source": [
        "df_feature_mean.to_csv('/content/drive/My Drive/CapstoneProject/Datasets/df_feature_mean.csv')"
      ]
    },
    {
      "cell_type": "code",
      "execution_count": null,
      "metadata": {
        "id": "Cgk8uQZvOtHI"
      },
      "outputs": [],
      "source": [
        "df_feature_mean = pd.read_csv('/content/drive/My Drive/CapstoneProject/Datasets/df_feature_mean.csv')"
      ]
    },
    {
      "cell_type": "code",
      "execution_count": null,
      "metadata": {
        "id": "TJdrkDL2PXYk"
      },
      "outputs": [],
      "source": [
        "df_feature_mean.drop('Unnamed: 0', axis=1, inplace=True)"
      ]
    },
    {
      "cell_type": "code",
      "execution_count": null,
      "metadata": {
        "colab": {
          "base_uri": "https://localhost:8080/",
          "height": 696
        },
        "id": "BzPOxbd3M30c",
        "outputId": "5739deb2-b0d8-47fe-e7e9-1c1af4124539"
      },
      "outputs": [
        {
          "name": "stdout",
          "output_type": "stream",
          "text": [
            "CPU times: user 2.1 s, sys: 446 ms, total: 2.54 s\n",
            "Wall time: 2.53 s\n"
          ]
        },
        {
          "data": {
            "text/html": [
              "\n",
              "  <div id=\"df-85af65ac-3c40-417e-b41f-4e1f7b2c149a\">\n",
              "    <div class=\"colab-df-container\">\n",
              "      <div>\n",
              "<style scoped>\n",
              "    .dataframe tbody tr th:only-of-type {\n",
              "        vertical-align: middle;\n",
              "    }\n",
              "\n",
              "    .dataframe tbody tr th {\n",
              "        vertical-align: top;\n",
              "    }\n",
              "\n",
              "    .dataframe thead th {\n",
              "        text-align: right;\n",
              "    }\n",
              "</style>\n",
              "<table border=\"1\" class=\"dataframe\">\n",
              "  <thead>\n",
              "    <tr style=\"text-align: right;\">\n",
              "      <th></th>\n",
              "      <th>time</th>\n",
              "      <th>site</th>\n",
              "      <th>TUR_1x1_median</th>\n",
              "      <th>SPM_1x1_median</th>\n",
              "      <th>CHL_1x1_median</th>\n",
              "      <th>TUR_1x1_mean</th>\n",
              "      <th>SPM_1x1_mean</th>\n",
              "      <th>CHL_1x1_mean</th>\n",
              "      <th>TUR_1x1_q1</th>\n",
              "      <th>SPM_1x1_q1</th>\n",
              "      <th>...</th>\n",
              "      <th>TUR_51x51_mean</th>\n",
              "      <th>SPM_51x51_mean</th>\n",
              "      <th>CHL_51x51_mean</th>\n",
              "      <th>TUR_51x51_q1</th>\n",
              "      <th>SPM_51x51_q1</th>\n",
              "      <th>CHL_51x51_q1</th>\n",
              "      <th>TUR_51x51_q3</th>\n",
              "      <th>SPM_51x51_q3</th>\n",
              "      <th>CHL_51x51_q3</th>\n",
              "      <th>riskLevelLabel</th>\n",
              "    </tr>\n",
              "  </thead>\n",
              "  <tbody>\n",
              "    <tr>\n",
              "      <th>0</th>\n",
              "      <td>2020-05-14</td>\n",
              "      <td>ukc1101-06200</td>\n",
              "      <td>0.003353</td>\n",
              "      <td>0.002278</td>\n",
              "      <td>0.085167</td>\n",
              "      <td>0.003597</td>\n",
              "      <td>0.002459</td>\n",
              "      <td>0.077724</td>\n",
              "      <td>0.003068</td>\n",
              "      <td>0.002063</td>\n",
              "      <td>...</td>\n",
              "      <td>0.018797</td>\n",
              "      <td>0.012889</td>\n",
              "      <td>0.044697</td>\n",
              "      <td>0.008177</td>\n",
              "      <td>0.005117</td>\n",
              "      <td>0.141128</td>\n",
              "      <td>0.012809</td>\n",
              "      <td>0.008143</td>\n",
              "      <td>0.125191</td>\n",
              "      <td>0</td>\n",
              "    </tr>\n",
              "    <tr>\n",
              "      <th>1</th>\n",
              "      <td>2020-05-14</td>\n",
              "      <td>ukc1202-06300</td>\n",
              "      <td>0.010242</td>\n",
              "      <td>0.007866</td>\n",
              "      <td>0.092883</td>\n",
              "      <td>0.010242</td>\n",
              "      <td>0.007866</td>\n",
              "      <td>0.082441</td>\n",
              "      <td>0.009130</td>\n",
              "      <td>0.006856</td>\n",
              "      <td>...</td>\n",
              "      <td>0.021473</td>\n",
              "      <td>0.015833</td>\n",
              "      <td>0.037429</td>\n",
              "      <td>0.006774</td>\n",
              "      <td>0.004229</td>\n",
              "      <td>0.125526</td>\n",
              "      <td>0.008685</td>\n",
              "      <td>0.005510</td>\n",
              "      <td>0.099624</td>\n",
              "      <td>0</td>\n",
              "    </tr>\n",
              "    <tr>\n",
              "      <th>2</th>\n",
              "      <td>2020-05-14</td>\n",
              "      <td>ukc1202-06400</td>\n",
              "      <td>0.003802</td>\n",
              "      <td>0.002574</td>\n",
              "      <td>0.077630</td>\n",
              "      <td>0.003802</td>\n",
              "      <td>0.002574</td>\n",
              "      <td>0.068848</td>\n",
              "      <td>0.003010</td>\n",
              "      <td>0.002025</td>\n",
              "      <td>...</td>\n",
              "      <td>0.018753</td>\n",
              "      <td>0.013767</td>\n",
              "      <td>0.035812</td>\n",
              "      <td>0.006623</td>\n",
              "      <td>0.004136</td>\n",
              "      <td>0.120844</td>\n",
              "      <td>0.007714</td>\n",
              "      <td>0.004873</td>\n",
              "      <td>0.095733</td>\n",
              "      <td>0</td>\n",
              "    </tr>\n",
              "    <tr>\n",
              "      <th>3</th>\n",
              "      <td>2020-05-14</td>\n",
              "      <td>ukc1202-06650</td>\n",
              "      <td>0.011083</td>\n",
              "      <td>0.008029</td>\n",
              "      <td>0.084412</td>\n",
              "      <td>0.011083</td>\n",
              "      <td>0.008029</td>\n",
              "      <td>0.074892</td>\n",
              "      <td>0.008832</td>\n",
              "      <td>0.006244</td>\n",
              "      <td>...</td>\n",
              "      <td>0.024545</td>\n",
              "      <td>0.019170</td>\n",
              "      <td>0.033204</td>\n",
              "      <td>0.005784</td>\n",
              "      <td>0.003617</td>\n",
              "      <td>0.102302</td>\n",
              "      <td>0.008237</td>\n",
              "      <td>0.005199</td>\n",
              "      <td>0.096264</td>\n",
              "      <td>0</td>\n",
              "    </tr>\n",
              "    <tr>\n",
              "      <th>4</th>\n",
              "      <td>2020-05-14</td>\n",
              "      <td>ukc1202-06700</td>\n",
              "      <td>0.022875</td>\n",
              "      <td>0.017259</td>\n",
              "      <td>0.110698</td>\n",
              "      <td>0.022875</td>\n",
              "      <td>0.017259</td>\n",
              "      <td>0.098318</td>\n",
              "      <td>0.022875</td>\n",
              "      <td>0.017259</td>\n",
              "      <td>...</td>\n",
              "      <td>0.020761</td>\n",
              "      <td>0.016375</td>\n",
              "      <td>0.033749</td>\n",
              "      <td>0.005829</td>\n",
              "      <td>0.003635</td>\n",
              "      <td>0.108741</td>\n",
              "      <td>0.007108</td>\n",
              "      <td>0.004506</td>\n",
              "      <td>0.090818</td>\n",
              "      <td>0</td>\n",
              "    </tr>\n",
              "    <tr>\n",
              "      <th>...</th>\n",
              "      <td>...</td>\n",
              "      <td>...</td>\n",
              "      <td>...</td>\n",
              "      <td>...</td>\n",
              "      <td>...</td>\n",
              "      <td>...</td>\n",
              "      <td>...</td>\n",
              "      <td>...</td>\n",
              "      <td>...</td>\n",
              "      <td>...</td>\n",
              "      <td>...</td>\n",
              "      <td>...</td>\n",
              "      <td>...</td>\n",
              "      <td>...</td>\n",
              "      <td>...</td>\n",
              "      <td>...</td>\n",
              "      <td>...</td>\n",
              "      <td>...</td>\n",
              "      <td>...</td>\n",
              "      <td>...</td>\n",
              "      <td>...</td>\n",
              "    </tr>\n",
              "    <tr>\n",
              "      <th>52282</th>\n",
              "      <td>2022-09-08</td>\n",
              "      <td>ukk4306-23000</td>\n",
              "      <td>0.000396</td>\n",
              "      <td>0.000274</td>\n",
              "      <td>0.003743</td>\n",
              "      <td>0.000396</td>\n",
              "      <td>0.000274</td>\n",
              "      <td>0.002996</td>\n",
              "      <td>0.000395</td>\n",
              "      <td>0.000274</td>\n",
              "      <td>...</td>\n",
              "      <td>0.001728</td>\n",
              "      <td>0.001144</td>\n",
              "      <td>0.001030</td>\n",
              "      <td>0.002964</td>\n",
              "      <td>0.001845</td>\n",
              "      <td>0.010635</td>\n",
              "      <td>0.001729</td>\n",
              "      <td>0.001085</td>\n",
              "      <td>0.003384</td>\n",
              "      <td>0</td>\n",
              "    </tr>\n",
              "    <tr>\n",
              "      <th>52283</th>\n",
              "      <td>2022-09-18</td>\n",
              "      <td>ukk4200-23800</td>\n",
              "      <td>0.000782</td>\n",
              "      <td>0.000531</td>\n",
              "      <td>0.017944</td>\n",
              "      <td>0.000782</td>\n",
              "      <td>0.000531</td>\n",
              "      <td>0.015653</td>\n",
              "      <td>0.000782</td>\n",
              "      <td>0.000531</td>\n",
              "      <td>...</td>\n",
              "      <td>0.004484</td>\n",
              "      <td>0.002884</td>\n",
              "      <td>0.008886</td>\n",
              "      <td>0.005777</td>\n",
              "      <td>0.003629</td>\n",
              "      <td>0.039473</td>\n",
              "      <td>0.004044</td>\n",
              "      <td>0.002567</td>\n",
              "      <td>0.022747</td>\n",
              "      <td>0</td>\n",
              "    </tr>\n",
              "    <tr>\n",
              "      <th>52284</th>\n",
              "      <td>2022-09-23</td>\n",
              "      <td>ukk4200-23100</td>\n",
              "      <td>0.000693</td>\n",
              "      <td>0.000471</td>\n",
              "      <td>0.012495</td>\n",
              "      <td>0.000693</td>\n",
              "      <td>0.000471</td>\n",
              "      <td>0.010796</td>\n",
              "      <td>0.000693</td>\n",
              "      <td>0.000471</td>\n",
              "      <td>...</td>\n",
              "      <td>0.003851</td>\n",
              "      <td>0.002480</td>\n",
              "      <td>0.005871</td>\n",
              "      <td>0.005131</td>\n",
              "      <td>0.003215</td>\n",
              "      <td>0.028820</td>\n",
              "      <td>0.003512</td>\n",
              "      <td>0.002222</td>\n",
              "      <td>0.015017</td>\n",
              "      <td>0</td>\n",
              "    </tr>\n",
              "    <tr>\n",
              "      <th>52285</th>\n",
              "      <td>2022-09-28</td>\n",
              "      <td>ukj4208-13300</td>\n",
              "      <td>0.027412</td>\n",
              "      <td>0.026219</td>\n",
              "      <td>0.078874</td>\n",
              "      <td>0.027412</td>\n",
              "      <td>0.026219</td>\n",
              "      <td>0.069955</td>\n",
              "      <td>0.026206</td>\n",
              "      <td>0.025889</td>\n",
              "      <td>...</td>\n",
              "      <td>0.194465</td>\n",
              "      <td>0.176820</td>\n",
              "      <td>0.042594</td>\n",
              "      <td>0.190732</td>\n",
              "      <td>0.179347</td>\n",
              "      <td>0.134177</td>\n",
              "      <td>0.170988</td>\n",
              "      <td>0.152809</td>\n",
              "      <td>0.126878</td>\n",
              "      <td>0</td>\n",
              "    </tr>\n",
              "    <tr>\n",
              "      <th>52286</th>\n",
              "      <td>2022-09-28</td>\n",
              "      <td>ukk4306-22900</td>\n",
              "      <td>0.001012</td>\n",
              "      <td>0.000681</td>\n",
              "      <td>0.013663</td>\n",
              "      <td>0.001036</td>\n",
              "      <td>0.000697</td>\n",
              "      <td>0.012564</td>\n",
              "      <td>0.001005</td>\n",
              "      <td>0.000677</td>\n",
              "      <td>...</td>\n",
              "      <td>0.006296</td>\n",
              "      <td>0.004010</td>\n",
              "      <td>0.006969</td>\n",
              "      <td>0.007402</td>\n",
              "      <td>0.004640</td>\n",
              "      <td>0.030107</td>\n",
              "      <td>0.005664</td>\n",
              "      <td>0.003588</td>\n",
              "      <td>0.019028</td>\n",
              "      <td>0</td>\n",
              "    </tr>\n",
              "  </tbody>\n",
              "</table>\n",
              "<p>52287 rows × 315 columns</p>\n",
              "</div>\n",
              "      <button class=\"colab-df-convert\" onclick=\"convertToInteractive('df-85af65ac-3c40-417e-b41f-4e1f7b2c149a')\"\n",
              "              title=\"Convert this dataframe to an interactive table.\"\n",
              "              style=\"display:none;\">\n",
              "        \n",
              "  <svg xmlns=\"http://www.w3.org/2000/svg\" height=\"24px\"viewBox=\"0 0 24 24\"\n",
              "       width=\"24px\">\n",
              "    <path d=\"M0 0h24v24H0V0z\" fill=\"none\"/>\n",
              "    <path d=\"M18.56 5.44l.94 2.06.94-2.06 2.06-.94-2.06-.94-.94-2.06-.94 2.06-2.06.94zm-11 1L8.5 8.5l.94-2.06 2.06-.94-2.06-.94L8.5 2.5l-.94 2.06-2.06.94zm10 10l.94 2.06.94-2.06 2.06-.94-2.06-.94-.94-2.06-.94 2.06-2.06.94z\"/><path d=\"M17.41 7.96l-1.37-1.37c-.4-.4-.92-.59-1.43-.59-.52 0-1.04.2-1.43.59L10.3 9.45l-7.72 7.72c-.78.78-.78 2.05 0 2.83L4 21.41c.39.39.9.59 1.41.59.51 0 1.02-.2 1.41-.59l7.78-7.78 2.81-2.81c.8-.78.8-2.07 0-2.86zM5.41 20L4 18.59l7.72-7.72 1.47 1.35L5.41 20z\"/>\n",
              "  </svg>\n",
              "      </button>\n",
              "      \n",
              "  <style>\n",
              "    .colab-df-container {\n",
              "      display:flex;\n",
              "      flex-wrap:wrap;\n",
              "      gap: 12px;\n",
              "    }\n",
              "\n",
              "    .colab-df-convert {\n",
              "      background-color: #E8F0FE;\n",
              "      border: none;\n",
              "      border-radius: 50%;\n",
              "      cursor: pointer;\n",
              "      display: none;\n",
              "      fill: #1967D2;\n",
              "      height: 32px;\n",
              "      padding: 0 0 0 0;\n",
              "      width: 32px;\n",
              "    }\n",
              "\n",
              "    .colab-df-convert:hover {\n",
              "      background-color: #E2EBFA;\n",
              "      box-shadow: 0px 1px 2px rgba(60, 64, 67, 0.3), 0px 1px 3px 1px rgba(60, 64, 67, 0.15);\n",
              "      fill: #174EA6;\n",
              "    }\n",
              "\n",
              "    [theme=dark] .colab-df-convert {\n",
              "      background-color: #3B4455;\n",
              "      fill: #D2E3FC;\n",
              "    }\n",
              "\n",
              "    [theme=dark] .colab-df-convert:hover {\n",
              "      background-color: #434B5C;\n",
              "      box-shadow: 0px 1px 3px 1px rgba(0, 0, 0, 0.15);\n",
              "      filter: drop-shadow(0px 1px 2px rgba(0, 0, 0, 0.3));\n",
              "      fill: #FFFFFF;\n",
              "    }\n",
              "  </style>\n",
              "\n",
              "      <script>\n",
              "        const buttonEl =\n",
              "          document.querySelector('#df-85af65ac-3c40-417e-b41f-4e1f7b2c149a button.colab-df-convert');\n",
              "        buttonEl.style.display =\n",
              "          google.colab.kernel.accessAllowed ? 'block' : 'none';\n",
              "\n",
              "        async function convertToInteractive(key) {\n",
              "          const element = document.querySelector('#df-85af65ac-3c40-417e-b41f-4e1f7b2c149a');\n",
              "          const dataTable =\n",
              "            await google.colab.kernel.invokeFunction('convertToInteractive',\n",
              "                                                     [key], {});\n",
              "          if (!dataTable) return;\n",
              "\n",
              "          const docLinkHtml = 'Like what you see? Visit the ' +\n",
              "            '<a target=\"_blank\" href=https://colab.research.google.com/notebooks/data_table.ipynb>data table notebook</a>'\n",
              "            + ' to learn more about interactive tables.';\n",
              "          element.innerHTML = '';\n",
              "          dataTable['output_type'] = 'display_data';\n",
              "          await google.colab.output.renderOutput(dataTable, element);\n",
              "          const docLink = document.createElement('div');\n",
              "          docLink.innerHTML = docLinkHtml;\n",
              "          element.appendChild(docLink);\n",
              "        }\n",
              "      </script>\n",
              "    </div>\n",
              "  </div>\n",
              "  "
            ],
            "text/plain": [
              "             time           site  TUR_1x1_median  SPM_1x1_median  \\\n",
              "0      2020-05-14  ukc1101-06200        0.003353        0.002278   \n",
              "1      2020-05-14  ukc1202-06300        0.010242        0.007866   \n",
              "2      2020-05-14  ukc1202-06400        0.003802        0.002574   \n",
              "3      2020-05-14  ukc1202-06650        0.011083        0.008029   \n",
              "4      2020-05-14  ukc1202-06700        0.022875        0.017259   \n",
              "...           ...            ...             ...             ...   \n",
              "52282  2022-09-08  ukk4306-23000        0.000396        0.000274   \n",
              "52283  2022-09-18  ukk4200-23800        0.000782        0.000531   \n",
              "52284  2022-09-23  ukk4200-23100        0.000693        0.000471   \n",
              "52285  2022-09-28  ukj4208-13300        0.027412        0.026219   \n",
              "52286  2022-09-28  ukk4306-22900        0.001012        0.000681   \n",
              "\n",
              "       CHL_1x1_median  TUR_1x1_mean  SPM_1x1_mean  CHL_1x1_mean  TUR_1x1_q1  \\\n",
              "0            0.085167      0.003597      0.002459      0.077724    0.003068   \n",
              "1            0.092883      0.010242      0.007866      0.082441    0.009130   \n",
              "2            0.077630      0.003802      0.002574      0.068848    0.003010   \n",
              "3            0.084412      0.011083      0.008029      0.074892    0.008832   \n",
              "4            0.110698      0.022875      0.017259      0.098318    0.022875   \n",
              "...               ...           ...           ...           ...         ...   \n",
              "52282        0.003743      0.000396      0.000274      0.002996    0.000395   \n",
              "52283        0.017944      0.000782      0.000531      0.015653    0.000782   \n",
              "52284        0.012495      0.000693      0.000471      0.010796    0.000693   \n",
              "52285        0.078874      0.027412      0.026219      0.069955    0.026206   \n",
              "52286        0.013663      0.001036      0.000697      0.012564    0.001005   \n",
              "\n",
              "       SPM_1x1_q1  ...  TUR_51x51_mean  SPM_51x51_mean  CHL_51x51_mean  \\\n",
              "0        0.002063  ...        0.018797        0.012889        0.044697   \n",
              "1        0.006856  ...        0.021473        0.015833        0.037429   \n",
              "2        0.002025  ...        0.018753        0.013767        0.035812   \n",
              "3        0.006244  ...        0.024545        0.019170        0.033204   \n",
              "4        0.017259  ...        0.020761        0.016375        0.033749   \n",
              "...           ...  ...             ...             ...             ...   \n",
              "52282    0.000274  ...        0.001728        0.001144        0.001030   \n",
              "52283    0.000531  ...        0.004484        0.002884        0.008886   \n",
              "52284    0.000471  ...        0.003851        0.002480        0.005871   \n",
              "52285    0.025889  ...        0.194465        0.176820        0.042594   \n",
              "52286    0.000677  ...        0.006296        0.004010        0.006969   \n",
              "\n",
              "       TUR_51x51_q1  SPM_51x51_q1  CHL_51x51_q1  TUR_51x51_q3  SPM_51x51_q3  \\\n",
              "0          0.008177      0.005117      0.141128      0.012809      0.008143   \n",
              "1          0.006774      0.004229      0.125526      0.008685      0.005510   \n",
              "2          0.006623      0.004136      0.120844      0.007714      0.004873   \n",
              "3          0.005784      0.003617      0.102302      0.008237      0.005199   \n",
              "4          0.005829      0.003635      0.108741      0.007108      0.004506   \n",
              "...             ...           ...           ...           ...           ...   \n",
              "52282      0.002964      0.001845      0.010635      0.001729      0.001085   \n",
              "52283      0.005777      0.003629      0.039473      0.004044      0.002567   \n",
              "52284      0.005131      0.003215      0.028820      0.003512      0.002222   \n",
              "52285      0.190732      0.179347      0.134177      0.170988      0.152809   \n",
              "52286      0.007402      0.004640      0.030107      0.005664      0.003588   \n",
              "\n",
              "       CHL_51x51_q3  riskLevelLabel  \n",
              "0          0.125191               0  \n",
              "1          0.099624               0  \n",
              "2          0.095733               0  \n",
              "3          0.096264               0  \n",
              "4          0.090818               0  \n",
              "...             ...             ...  \n",
              "52282      0.003384               0  \n",
              "52283      0.022747               0  \n",
              "52284      0.015017               0  \n",
              "52285      0.126878               0  \n",
              "52286      0.019028               0  \n",
              "\n",
              "[52287 rows x 315 columns]"
            ]
          },
          "execution_count": 14,
          "metadata": {},
          "output_type": "execute_result"
        }
      ],
      "source": [
        "%%time\n",
        "df_merged_mean = pd.merge(df_feature_mean, riskforecasting[['site', 'time', 'riskLevelLabel']], on=['site', 'time'])\n",
        "scaler = MinMaxScaler()\n",
        "df_merged_mean.iloc[:, 2:-1] = scaler.fit_transform(df_merged_mean.iloc[:, 2:-1])\n",
        "df_merged_mean"
      ]
    },
    {
      "cell_type": "code",
      "execution_count": null,
      "metadata": {
        "id": "e2MM5FoTW9Mt"
      },
      "outputs": [],
      "source": [
        "df_merged_mean.to_csv('/content/drive/My Drive/CapstoneProject/Datasets/df_merged_mean_new.csv')"
      ]
    },
    {
      "cell_type": "markdown",
      "metadata": {
        "id": "w2nMfJ_MM30c"
      },
      "source": [
        "## BC & RF: Replace NaNs with -10"
      ]
    },
    {
      "cell_type": "code",
      "execution_count": null,
      "metadata": {
        "colab": {
          "base_uri": "https://localhost:8080/",
          "height": 184
        },
        "id": "XImZuiK5M30c",
        "outputId": "6dc25e9b-9c4a-441f-e2e8-3e52359719c1"
      },
      "outputs": [
        {
          "ename": "NameError",
          "evalue": "ignored",
          "output_type": "error",
          "traceback": [
            "\u001b[0;31m---------------------------------------------------------------------------\u001b[0m",
            "\u001b[0;31mNameError\u001b[0m                                 Traceback (most recent call last)",
            "\u001b[0;32m<ipython-input-16-04203f3eff56>\u001b[0m in \u001b[0;36m<cell line: 1>\u001b[0;34m()\u001b[0m\n\u001b[0;32m----> 1\u001b[0;31m \u001b[0mdf_feature_neg\u001b[0m \u001b[0;34m=\u001b[0m \u001b[0mdf_feature\u001b[0m\u001b[0;34m\u001b[0m\u001b[0;34m\u001b[0m\u001b[0m\n\u001b[0m\u001b[1;32m      2\u001b[0m \u001b[0mdf_feature_neg\u001b[0m\u001b[0;34m.\u001b[0m\u001b[0mfillna\u001b[0m\u001b[0;34m(\u001b[0m\u001b[0mvalue\u001b[0m\u001b[0;34m=\u001b[0m\u001b[0;34m-\u001b[0m\u001b[0;36m10\u001b[0m\u001b[0;34m,\u001b[0m \u001b[0minplace\u001b[0m\u001b[0;34m=\u001b[0m\u001b[0;32mTrue\u001b[0m\u001b[0;34m)\u001b[0m\u001b[0;34m\u001b[0m\u001b[0;34m\u001b[0m\u001b[0m\n",
            "\u001b[0;31mNameError\u001b[0m: name 'df_feature' is not defined"
          ]
        }
      ],
      "source": [
        "df_feature_neg = df_feature\n",
        "df_feature_neg.fillna(value=-10, inplace=True)"
      ]
    },
    {
      "cell_type": "code",
      "execution_count": null,
      "metadata": {
        "id": "aTJid48BM30c",
        "scrolled": true
      },
      "outputs": [],
      "source": [
        "df_merged_neg = pd.merge(df_feature_neg, riskforecasting[['site', 'time', 'riskLevelLabel']], on=['site', 'time'])\n",
        "df_merged_neg.iloc[:, 2:-1] = scaler.fit_transform(df_merged_neg.iloc[:, 2:-1])\n",
        "df_merged_neg"
      ]
    },
    {
      "cell_type": "code",
      "execution_count": null,
      "metadata": {
        "id": "KERAs74pXChr"
      },
      "outputs": [],
      "source": [
        "df_merged_neg.to_csv('/content/drive/My Drive/CapstoneProject/Datasets/df_merged_neg_new.csv')"
      ]
    },
    {
      "cell_type": "markdown",
      "metadata": {
        "id": "_wJIjVGNr_zi"
      },
      "source": [
        "# Load Cleaned Datasets"
      ]
    },
    {
      "cell_type": "markdown",
      "metadata": {
        "id": "XsGpGZJoM30b"
      },
      "source": [
        "## NN: sites_data.csv"
      ]
    },
    {
      "cell_type": "code",
      "execution_count": null,
      "metadata": {
        "colab": {
          "base_uri": "https://localhost:8080/"
        },
        "id": "QxLjNlM4M30b",
        "outputId": "9cf33b2c-5903-4fa0-a4b7-6fabeec21e66"
      },
      "outputs": [
        {
          "output_type": "execute_result",
          "data": {
            "text/plain": [
              "             time           site  \\\n",
              "0      2020-02-29  ukk4304-34200   \n",
              "1      2020-03-12  uke1200-08100   \n",
              "2      2020-05-14  ukc1101-06000   \n",
              "3      2020-05-14  ukc1101-06100   \n",
              "4      2020-05-14  ukc1101-06200   \n",
              "...           ...            ...   \n",
              "52282  2022-09-30  ukj4210-12750   \n",
              "52283  2022-09-30  ukj4210-12800   \n",
              "52284  2022-09-30  ukj4210-12850   \n",
              "52285  2022-09-30  ukj4210-12900   \n",
              "52286  2022-12-08  ukk3103-29100   \n",
              "\n",
              "                                                     TUR  \\\n",
              "0      [[-0.9811192569131857, -0.9795547499650448, -0...   \n",
              "1      [[0.0, 0.0, 0.0, 0.0, 0.0, 0.0, 0.0, 0.0, 0.0,...   \n",
              "2      [[0.0, 0.0, 0.0, 0.0, 0.0, 0.0, 0.0, 0.0, 0.0,...   \n",
              "3      [[0.0, 0.0, 0.0, 0.0, 0.0, 0.0, 0.0, 0.0, 0.0,...   \n",
              "4      [[0.0, 0.0, 0.0, 0.0, 0.0, 0.0, 0.401122631769...   \n",
              "...                                                  ...   \n",
              "52282  [[0.0, 0.0, 0.0, 0.0, 0.0, 0.0, 0.0, 0.0, 0.0,...   \n",
              "52283  [[0.0, 0.0, 0.0, 0.0, 0.0, 0.0, 0.0, 0.0, 0.0,...   \n",
              "52284  [[1.5549465060235468, 1.5557287594976177, 1.55...   \n",
              "52285  [[0.0, 0.0, 0.0, 0.0, 0.0, 0.0, 0.0, 1.5525997...   \n",
              "52286  [[-1.3652057126818273, -1.3644234592077567, -1...   \n",
              "\n",
              "                                                     SPM  \\\n",
              "0      [[0.524045278902291, 0.5756248475971223, 0.560...   \n",
              "1      [[0.0, 0.0, 0.0, 0.0, 0.0, 0.0, 0.0, 0.0, 0.0,...   \n",
              "2      [[0.0, 0.0, 0.0, 0.0, 0.0, 0.0, 0.0, 0.0, 0.0,...   \n",
              "3      [[0.0, 0.0, 0.0, 0.0, 0.0, 0.0, 0.0, 0.0, 0.0,...   \n",
              "4      [[0.0, 0.0, 0.0, 0.0, 0.0, 0.0, -0.27785837711...   \n",
              "...                                                  ...   \n",
              "52282  [[0.0, 0.0, 0.0, 0.0, 0.0, 0.0, 0.0, 0.0, 0.0,...   \n",
              "52283  [[0.0, 0.0, 0.0, 0.0, 0.0, 0.0, 0.0, 0.0, 0.0,...   \n",
              "52284  [[1.5127710419438254, 2.94540271916225, 2.7731...   \n",
              "52285  [[0.0, 0.0, 0.0, 0.0, 0.0, 0.0, 0.0, 1.9585223...   \n",
              "52286  [[-0.44285311187494875, -0.4286347028231429, -...   \n",
              "\n",
              "                                                     CHL riskLevelLabel  \n",
              "0      [[0.34057330828591803, 0.370465598289415, 0.34...              1  \n",
              "1      [[0.0, 0.0, 0.0, 0.0, 0.0, 0.0, 0.0, 0.0, 0.0,...              1  \n",
              "2      [[0.0, 0.0, 0.0, 0.0, 0.0, 0.0, 0.0, 0.0, 0.0,...              0  \n",
              "3      [[0.0, 0.0, 0.0, 0.0, 0.0, 0.0, 0.0, 0.0, 0.0,...              0  \n",
              "4      [[0.0, 0.0, 0.0, 0.0, 0.0, 0.0, -0.24223761712...              0  \n",
              "...                                                  ...            ...  \n",
              "52282  [[0.0, 0.0, 0.0, 0.0, 0.0, 0.0, 0.0, 0.0, 0.0,...              0  \n",
              "52283  [[0.0, 0.0, 0.0, 0.0, 0.0, 0.0, 0.0, 0.0, 0.0,...              0  \n",
              "52284  [[1.5251629301217988, 3.2531680809087082, 2.70...              0  \n",
              "52285  [[0.0, 0.0, 0.0, 0.0, 0.0, 0.0, 0.0, 1.8346373...              0  \n",
              "52286  [[-0.3412926844142351, -0.332920686030616, -0....              0  \n",
              "\n",
              "[52287 rows x 6 columns]"
            ],
            "text/html": [
              "\n",
              "  <div id=\"df-113c5803-fed1-4d79-90d8-8cfc2c97f410\">\n",
              "    <div class=\"colab-df-container\">\n",
              "      <div>\n",
              "<style scoped>\n",
              "    .dataframe tbody tr th:only-of-type {\n",
              "        vertical-align: middle;\n",
              "    }\n",
              "\n",
              "    .dataframe tbody tr th {\n",
              "        vertical-align: top;\n",
              "    }\n",
              "\n",
              "    .dataframe thead th {\n",
              "        text-align: right;\n",
              "    }\n",
              "</style>\n",
              "<table border=\"1\" class=\"dataframe\">\n",
              "  <thead>\n",
              "    <tr style=\"text-align: right;\">\n",
              "      <th></th>\n",
              "      <th>time</th>\n",
              "      <th>site</th>\n",
              "      <th>TUR</th>\n",
              "      <th>SPM</th>\n",
              "      <th>CHL</th>\n",
              "      <th>riskLevelLabel</th>\n",
              "    </tr>\n",
              "  </thead>\n",
              "  <tbody>\n",
              "    <tr>\n",
              "      <th>0</th>\n",
              "      <td>2020-02-29</td>\n",
              "      <td>ukk4304-34200</td>\n",
              "      <td>[[-0.9811192569131857, -0.9795547499650448, -0...</td>\n",
              "      <td>[[0.524045278902291, 0.5756248475971223, 0.560...</td>\n",
              "      <td>[[0.34057330828591803, 0.370465598289415, 0.34...</td>\n",
              "      <td>1</td>\n",
              "    </tr>\n",
              "    <tr>\n",
              "      <th>1</th>\n",
              "      <td>2020-03-12</td>\n",
              "      <td>uke1200-08100</td>\n",
              "      <td>[[0.0, 0.0, 0.0, 0.0, 0.0, 0.0, 0.0, 0.0, 0.0,...</td>\n",
              "      <td>[[0.0, 0.0, 0.0, 0.0, 0.0, 0.0, 0.0, 0.0, 0.0,...</td>\n",
              "      <td>[[0.0, 0.0, 0.0, 0.0, 0.0, 0.0, 0.0, 0.0, 0.0,...</td>\n",
              "      <td>1</td>\n",
              "    </tr>\n",
              "    <tr>\n",
              "      <th>2</th>\n",
              "      <td>2020-05-14</td>\n",
              "      <td>ukc1101-06000</td>\n",
              "      <td>[[0.0, 0.0, 0.0, 0.0, 0.0, 0.0, 0.0, 0.0, 0.0,...</td>\n",
              "      <td>[[0.0, 0.0, 0.0, 0.0, 0.0, 0.0, 0.0, 0.0, 0.0,...</td>\n",
              "      <td>[[0.0, 0.0, 0.0, 0.0, 0.0, 0.0, 0.0, 0.0, 0.0,...</td>\n",
              "      <td>0</td>\n",
              "    </tr>\n",
              "    <tr>\n",
              "      <th>3</th>\n",
              "      <td>2020-05-14</td>\n",
              "      <td>ukc1101-06100</td>\n",
              "      <td>[[0.0, 0.0, 0.0, 0.0, 0.0, 0.0, 0.0, 0.0, 0.0,...</td>\n",
              "      <td>[[0.0, 0.0, 0.0, 0.0, 0.0, 0.0, 0.0, 0.0, 0.0,...</td>\n",
              "      <td>[[0.0, 0.0, 0.0, 0.0, 0.0, 0.0, 0.0, 0.0, 0.0,...</td>\n",
              "      <td>0</td>\n",
              "    </tr>\n",
              "    <tr>\n",
              "      <th>4</th>\n",
              "      <td>2020-05-14</td>\n",
              "      <td>ukc1101-06200</td>\n",
              "      <td>[[0.0, 0.0, 0.0, 0.0, 0.0, 0.0, 0.401122631769...</td>\n",
              "      <td>[[0.0, 0.0, 0.0, 0.0, 0.0, 0.0, -0.27785837711...</td>\n",
              "      <td>[[0.0, 0.0, 0.0, 0.0, 0.0, 0.0, -0.24223761712...</td>\n",
              "      <td>0</td>\n",
              "    </tr>\n",
              "    <tr>\n",
              "      <th>...</th>\n",
              "      <td>...</td>\n",
              "      <td>...</td>\n",
              "      <td>...</td>\n",
              "      <td>...</td>\n",
              "      <td>...</td>\n",
              "      <td>...</td>\n",
              "    </tr>\n",
              "    <tr>\n",
              "      <th>52282</th>\n",
              "      <td>2022-09-30</td>\n",
              "      <td>ukj4210-12750</td>\n",
              "      <td>[[0.0, 0.0, 0.0, 0.0, 0.0, 0.0, 0.0, 0.0, 0.0,...</td>\n",
              "      <td>[[0.0, 0.0, 0.0, 0.0, 0.0, 0.0, 0.0, 0.0, 0.0,...</td>\n",
              "      <td>[[0.0, 0.0, 0.0, 0.0, 0.0, 0.0, 0.0, 0.0, 0.0,...</td>\n",
              "      <td>0</td>\n",
              "    </tr>\n",
              "    <tr>\n",
              "      <th>52283</th>\n",
              "      <td>2022-09-30</td>\n",
              "      <td>ukj4210-12800</td>\n",
              "      <td>[[0.0, 0.0, 0.0, 0.0, 0.0, 0.0, 0.0, 0.0, 0.0,...</td>\n",
              "      <td>[[0.0, 0.0, 0.0, 0.0, 0.0, 0.0, 0.0, 0.0, 0.0,...</td>\n",
              "      <td>[[0.0, 0.0, 0.0, 0.0, 0.0, 0.0, 0.0, 0.0, 0.0,...</td>\n",
              "      <td>0</td>\n",
              "    </tr>\n",
              "    <tr>\n",
              "      <th>52284</th>\n",
              "      <td>2022-09-30</td>\n",
              "      <td>ukj4210-12850</td>\n",
              "      <td>[[1.5549465060235468, 1.5557287594976177, 1.55...</td>\n",
              "      <td>[[1.5127710419438254, 2.94540271916225, 2.7731...</td>\n",
              "      <td>[[1.5251629301217988, 3.2531680809087082, 2.70...</td>\n",
              "      <td>0</td>\n",
              "    </tr>\n",
              "    <tr>\n",
              "      <th>52285</th>\n",
              "      <td>2022-09-30</td>\n",
              "      <td>ukj4210-12900</td>\n",
              "      <td>[[0.0, 0.0, 0.0, 0.0, 0.0, 0.0, 0.0, 1.5525997...</td>\n",
              "      <td>[[0.0, 0.0, 0.0, 0.0, 0.0, 0.0, 0.0, 1.9585223...</td>\n",
              "      <td>[[0.0, 0.0, 0.0, 0.0, 0.0, 0.0, 0.0, 1.8346373...</td>\n",
              "      <td>0</td>\n",
              "    </tr>\n",
              "    <tr>\n",
              "      <th>52286</th>\n",
              "      <td>2022-12-08</td>\n",
              "      <td>ukk3103-29100</td>\n",
              "      <td>[[-1.3652057126818273, -1.3644234592077567, -1...</td>\n",
              "      <td>[[-0.44285311187494875, -0.4286347028231429, -...</td>\n",
              "      <td>[[-0.3412926844142351, -0.332920686030616, -0....</td>\n",
              "      <td>0</td>\n",
              "    </tr>\n",
              "  </tbody>\n",
              "</table>\n",
              "<p>52287 rows × 6 columns</p>\n",
              "</div>\n",
              "      <button class=\"colab-df-convert\" onclick=\"convertToInteractive('df-113c5803-fed1-4d79-90d8-8cfc2c97f410')\"\n",
              "              title=\"Convert this dataframe to an interactive table.\"\n",
              "              style=\"display:none;\">\n",
              "        \n",
              "  <svg xmlns=\"http://www.w3.org/2000/svg\" height=\"24px\"viewBox=\"0 0 24 24\"\n",
              "       width=\"24px\">\n",
              "    <path d=\"M0 0h24v24H0V0z\" fill=\"none\"/>\n",
              "    <path d=\"M18.56 5.44l.94 2.06.94-2.06 2.06-.94-2.06-.94-.94-2.06-.94 2.06-2.06.94zm-11 1L8.5 8.5l.94-2.06 2.06-.94-2.06-.94L8.5 2.5l-.94 2.06-2.06.94zm10 10l.94 2.06.94-2.06 2.06-.94-2.06-.94-.94-2.06-.94 2.06-2.06.94z\"/><path d=\"M17.41 7.96l-1.37-1.37c-.4-.4-.92-.59-1.43-.59-.52 0-1.04.2-1.43.59L10.3 9.45l-7.72 7.72c-.78.78-.78 2.05 0 2.83L4 21.41c.39.39.9.59 1.41.59.51 0 1.02-.2 1.41-.59l7.78-7.78 2.81-2.81c.8-.78.8-2.07 0-2.86zM5.41 20L4 18.59l7.72-7.72 1.47 1.35L5.41 20z\"/>\n",
              "  </svg>\n",
              "      </button>\n",
              "      \n",
              "  <style>\n",
              "    .colab-df-container {\n",
              "      display:flex;\n",
              "      flex-wrap:wrap;\n",
              "      gap: 12px;\n",
              "    }\n",
              "\n",
              "    .colab-df-convert {\n",
              "      background-color: #E8F0FE;\n",
              "      border: none;\n",
              "      border-radius: 50%;\n",
              "      cursor: pointer;\n",
              "      display: none;\n",
              "      fill: #1967D2;\n",
              "      height: 32px;\n",
              "      padding: 0 0 0 0;\n",
              "      width: 32px;\n",
              "    }\n",
              "\n",
              "    .colab-df-convert:hover {\n",
              "      background-color: #E2EBFA;\n",
              "      box-shadow: 0px 1px 2px rgba(60, 64, 67, 0.3), 0px 1px 3px 1px rgba(60, 64, 67, 0.15);\n",
              "      fill: #174EA6;\n",
              "    }\n",
              "\n",
              "    [theme=dark] .colab-df-convert {\n",
              "      background-color: #3B4455;\n",
              "      fill: #D2E3FC;\n",
              "    }\n",
              "\n",
              "    [theme=dark] .colab-df-convert:hover {\n",
              "      background-color: #434B5C;\n",
              "      box-shadow: 0px 1px 3px 1px rgba(0, 0, 0, 0.15);\n",
              "      filter: drop-shadow(0px 1px 2px rgba(0, 0, 0, 0.3));\n",
              "      fill: #FFFFFF;\n",
              "    }\n",
              "  </style>\n",
              "\n",
              "      <script>\n",
              "        const buttonEl =\n",
              "          document.querySelector('#df-113c5803-fed1-4d79-90d8-8cfc2c97f410 button.colab-df-convert');\n",
              "        buttonEl.style.display =\n",
              "          google.colab.kernel.accessAllowed ? 'block' : 'none';\n",
              "\n",
              "        async function convertToInteractive(key) {\n",
              "          const element = document.querySelector('#df-113c5803-fed1-4d79-90d8-8cfc2c97f410');\n",
              "          const dataTable =\n",
              "            await google.colab.kernel.invokeFunction('convertToInteractive',\n",
              "                                                     [key], {});\n",
              "          if (!dataTable) return;\n",
              "\n",
              "          const docLinkHtml = 'Like what you see? Visit the ' +\n",
              "            '<a target=\"_blank\" href=https://colab.research.google.com/notebooks/data_table.ipynb>data table notebook</a>'\n",
              "            + ' to learn more about interactive tables.';\n",
              "          element.innerHTML = '';\n",
              "          dataTable['output_type'] = 'display_data';\n",
              "          await google.colab.output.renderOutput(dataTable, element);\n",
              "          const docLink = document.createElement('div');\n",
              "          docLink.innerHTML = docLinkHtml;\n",
              "          element.appendChild(docLink);\n",
              "        }\n",
              "      </script>\n",
              "    </div>\n",
              "  </div>\n",
              "  "
            ]
          },
          "metadata": {},
          "execution_count": 5
        }
      ],
      "source": [
        "sites_data = pd.read_pickle(\"/content/drive/My Drive/CapstoneProject/Datasets/nn_51x51.pkl\")\n",
        "sites_data"
      ]
    },
    {
      "cell_type": "code",
      "execution_count": null,
      "metadata": {
        "colab": {
          "base_uri": "https://localhost:8080/"
        },
        "id": "0rmFXwOSM30b",
        "outputId": "cd0bd4a3-d3e7-4315-a8ba-1fe094b05966"
      },
      "outputs": [
        {
          "output_type": "execute_result",
          "data": {
            "text/plain": [
              "time              0\n",
              "site              0\n",
              "TUR               0\n",
              "SPM               0\n",
              "CHL               0\n",
              "riskLevelLabel    0\n",
              "dtype: int64"
            ]
          },
          "metadata": {},
          "execution_count": 6
        }
      ],
      "source": [
        "sites_data.isnull().sum()"
      ]
    },
    {
      "cell_type": "code",
      "execution_count": null,
      "metadata": {
        "id": "Xx5TGBP_r-pr"
      },
      "outputs": [],
      "source": []
    },
    {
      "cell_type": "markdown",
      "metadata": {
        "id": "k5Rh25eDM30d"
      },
      "source": [
        "# Train-Test Split\n",
        "- Pick time-site pairs to use as train data and test data\n",
        "- Potential for implementing cross validation"
      ]
    },
    {
      "cell_type": "code",
      "execution_count": null,
      "metadata": {
        "colab": {
          "base_uri": "https://localhost:8080/"
        },
        "id": "klJXVycTM30d",
        "outputId": "85360334-3f8e-4743-88be-5f207f76727e"
      },
      "outputs": [
        {
          "output_type": "execute_result",
          "data": {
            "text/plain": [
              "             time           site\n",
              "35915  2022-05-21  ukk4200-23501\n",
              "22922  2021-06-25  ukk2302-35600\n",
              "30578  2021-09-05  ukh1305-10125\n",
              "13905  2020-09-13  ukh1305-10200\n",
              "21006  2021-06-08  ukk2204-20200\n",
              "...           ...            ...\n",
              "940    2020-05-21  ukh1303-10650\n",
              "48385  2022-09-01  ukk3106-27800\n",
              "41547  2022-07-08  ukk4305-25100\n",
              "30727  2021-09-06  ukk1202-35700\n",
              "42554  2022-07-16  ukd4303-41800\n",
              "\n",
              "[10457 rows x 2 columns]"
            ],
            "text/html": [
              "\n",
              "  <div id=\"df-804c50b9-215a-4571-a15b-372192f175c3\">\n",
              "    <div class=\"colab-df-container\">\n",
              "      <div>\n",
              "<style scoped>\n",
              "    .dataframe tbody tr th:only-of-type {\n",
              "        vertical-align: middle;\n",
              "    }\n",
              "\n",
              "    .dataframe tbody tr th {\n",
              "        vertical-align: top;\n",
              "    }\n",
              "\n",
              "    .dataframe thead th {\n",
              "        text-align: right;\n",
              "    }\n",
              "</style>\n",
              "<table border=\"1\" class=\"dataframe\">\n",
              "  <thead>\n",
              "    <tr style=\"text-align: right;\">\n",
              "      <th></th>\n",
              "      <th>time</th>\n",
              "      <th>site</th>\n",
              "    </tr>\n",
              "  </thead>\n",
              "  <tbody>\n",
              "    <tr>\n",
              "      <th>35915</th>\n",
              "      <td>2022-05-21</td>\n",
              "      <td>ukk4200-23501</td>\n",
              "    </tr>\n",
              "    <tr>\n",
              "      <th>22922</th>\n",
              "      <td>2021-06-25</td>\n",
              "      <td>ukk2302-35600</td>\n",
              "    </tr>\n",
              "    <tr>\n",
              "      <th>30578</th>\n",
              "      <td>2021-09-05</td>\n",
              "      <td>ukh1305-10125</td>\n",
              "    </tr>\n",
              "    <tr>\n",
              "      <th>13905</th>\n",
              "      <td>2020-09-13</td>\n",
              "      <td>ukh1305-10200</td>\n",
              "    </tr>\n",
              "    <tr>\n",
              "      <th>21006</th>\n",
              "      <td>2021-06-08</td>\n",
              "      <td>ukk2204-20200</td>\n",
              "    </tr>\n",
              "    <tr>\n",
              "      <th>...</th>\n",
              "      <td>...</td>\n",
              "      <td>...</td>\n",
              "    </tr>\n",
              "    <tr>\n",
              "      <th>940</th>\n",
              "      <td>2020-05-21</td>\n",
              "      <td>ukh1303-10650</td>\n",
              "    </tr>\n",
              "    <tr>\n",
              "      <th>48385</th>\n",
              "      <td>2022-09-01</td>\n",
              "      <td>ukk3106-27800</td>\n",
              "    </tr>\n",
              "    <tr>\n",
              "      <th>41547</th>\n",
              "      <td>2022-07-08</td>\n",
              "      <td>ukk4305-25100</td>\n",
              "    </tr>\n",
              "    <tr>\n",
              "      <th>30727</th>\n",
              "      <td>2021-09-06</td>\n",
              "      <td>ukk1202-35700</td>\n",
              "    </tr>\n",
              "    <tr>\n",
              "      <th>42554</th>\n",
              "      <td>2022-07-16</td>\n",
              "      <td>ukd4303-41800</td>\n",
              "    </tr>\n",
              "  </tbody>\n",
              "</table>\n",
              "<p>10457 rows × 2 columns</p>\n",
              "</div>\n",
              "      <button class=\"colab-df-convert\" onclick=\"convertToInteractive('df-804c50b9-215a-4571-a15b-372192f175c3')\"\n",
              "              title=\"Convert this dataframe to an interactive table.\"\n",
              "              style=\"display:none;\">\n",
              "        \n",
              "  <svg xmlns=\"http://www.w3.org/2000/svg\" height=\"24px\"viewBox=\"0 0 24 24\"\n",
              "       width=\"24px\">\n",
              "    <path d=\"M0 0h24v24H0V0z\" fill=\"none\"/>\n",
              "    <path d=\"M18.56 5.44l.94 2.06.94-2.06 2.06-.94-2.06-.94-.94-2.06-.94 2.06-2.06.94zm-11 1L8.5 8.5l.94-2.06 2.06-.94-2.06-.94L8.5 2.5l-.94 2.06-2.06.94zm10 10l.94 2.06.94-2.06 2.06-.94-2.06-.94-.94-2.06-.94 2.06-2.06.94z\"/><path d=\"M17.41 7.96l-1.37-1.37c-.4-.4-.92-.59-1.43-.59-.52 0-1.04.2-1.43.59L10.3 9.45l-7.72 7.72c-.78.78-.78 2.05 0 2.83L4 21.41c.39.39.9.59 1.41.59.51 0 1.02-.2 1.41-.59l7.78-7.78 2.81-2.81c.8-.78.8-2.07 0-2.86zM5.41 20L4 18.59l7.72-7.72 1.47 1.35L5.41 20z\"/>\n",
              "  </svg>\n",
              "      </button>\n",
              "      \n",
              "  <style>\n",
              "    .colab-df-container {\n",
              "      display:flex;\n",
              "      flex-wrap:wrap;\n",
              "      gap: 12px;\n",
              "    }\n",
              "\n",
              "    .colab-df-convert {\n",
              "      background-color: #E8F0FE;\n",
              "      border: none;\n",
              "      border-radius: 50%;\n",
              "      cursor: pointer;\n",
              "      display: none;\n",
              "      fill: #1967D2;\n",
              "      height: 32px;\n",
              "      padding: 0 0 0 0;\n",
              "      width: 32px;\n",
              "    }\n",
              "\n",
              "    .colab-df-convert:hover {\n",
              "      background-color: #E2EBFA;\n",
              "      box-shadow: 0px 1px 2px rgba(60, 64, 67, 0.3), 0px 1px 3px 1px rgba(60, 64, 67, 0.15);\n",
              "      fill: #174EA6;\n",
              "    }\n",
              "\n",
              "    [theme=dark] .colab-df-convert {\n",
              "      background-color: #3B4455;\n",
              "      fill: #D2E3FC;\n",
              "    }\n",
              "\n",
              "    [theme=dark] .colab-df-convert:hover {\n",
              "      background-color: #434B5C;\n",
              "      box-shadow: 0px 1px 3px 1px rgba(0, 0, 0, 0.15);\n",
              "      filter: drop-shadow(0px 1px 2px rgba(0, 0, 0, 0.3));\n",
              "      fill: #FFFFFF;\n",
              "    }\n",
              "  </style>\n",
              "\n",
              "      <script>\n",
              "        const buttonEl =\n",
              "          document.querySelector('#df-804c50b9-215a-4571-a15b-372192f175c3 button.colab-df-convert');\n",
              "        buttonEl.style.display =\n",
              "          google.colab.kernel.accessAllowed ? 'block' : 'none';\n",
              "\n",
              "        async function convertToInteractive(key) {\n",
              "          const element = document.querySelector('#df-804c50b9-215a-4571-a15b-372192f175c3');\n",
              "          const dataTable =\n",
              "            await google.colab.kernel.invokeFunction('convertToInteractive',\n",
              "                                                     [key], {});\n",
              "          if (!dataTable) return;\n",
              "\n",
              "          const docLinkHtml = 'Like what you see? Visit the ' +\n",
              "            '<a target=\"_blank\" href=https://colab.research.google.com/notebooks/data_table.ipynb>data table notebook</a>'\n",
              "            + ' to learn more about interactive tables.';\n",
              "          element.innerHTML = '';\n",
              "          dataTable['output_type'] = 'display_data';\n",
              "          await google.colab.output.renderOutput(dataTable, element);\n",
              "          const docLink = document.createElement('div');\n",
              "          docLink.innerHTML = docLinkHtml;\n",
              "          element.appendChild(docLink);\n",
              "        }\n",
              "      </script>\n",
              "    </div>\n",
              "  </div>\n",
              "  "
            ]
          },
          "metadata": {},
          "execution_count": 7
        }
      ],
      "source": [
        "time_site_pairs = sites_data[['time', 'site']]\n",
        "\n",
        "# 80/20 split\n",
        "time_site_pairs_test = time_site_pairs.sample(frac=.2, random_state=42)\n",
        "time_site_pairs_test"
      ]
    },
    {
      "cell_type": "code",
      "execution_count": null,
      "metadata": {
        "colab": {
          "base_uri": "https://localhost:8080/"
        },
        "id": "MikeDtoyM30d",
        "outputId": "60cd8a9b-75e0-4d2f-f2f5-aabe8e41ff84"
      },
      "outputs": [
        {
          "output_type": "execute_result",
          "data": {
            "text/plain": [
              "             time           site\n",
              "1964   2020-05-28  ukj4210-12300\n",
              "13028  2020-09-05  ukh1407-10830\n",
              "12136  2020-08-27  ukk3106-32300\n",
              "20217  2021-06-03  ukd5400-40900\n",
              "32291  2021-09-18  ukj2402-15500\n",
              "...           ...            ...\n",
              "7872   2020-07-20  ukj3400-17800\n",
              "14125  2020-09-14  ukk3102-31700\n",
              "47704  2022-08-27  ukk4304-34100\n",
              "1083   2020-05-21  ukk2205-21500\n",
              "19751  2021-05-31  uke2206-07500\n",
              "\n",
              "[41830 rows x 2 columns]"
            ],
            "text/html": [
              "\n",
              "  <div id=\"df-f43c29c1-1036-420e-90c3-dd5610d83e4f\">\n",
              "    <div class=\"colab-df-container\">\n",
              "      <div>\n",
              "<style scoped>\n",
              "    .dataframe tbody tr th:only-of-type {\n",
              "        vertical-align: middle;\n",
              "    }\n",
              "\n",
              "    .dataframe tbody tr th {\n",
              "        vertical-align: top;\n",
              "    }\n",
              "\n",
              "    .dataframe thead th {\n",
              "        text-align: right;\n",
              "    }\n",
              "</style>\n",
              "<table border=\"1\" class=\"dataframe\">\n",
              "  <thead>\n",
              "    <tr style=\"text-align: right;\">\n",
              "      <th></th>\n",
              "      <th>time</th>\n",
              "      <th>site</th>\n",
              "    </tr>\n",
              "  </thead>\n",
              "  <tbody>\n",
              "    <tr>\n",
              "      <th>1964</th>\n",
              "      <td>2020-05-28</td>\n",
              "      <td>ukj4210-12300</td>\n",
              "    </tr>\n",
              "    <tr>\n",
              "      <th>13028</th>\n",
              "      <td>2020-09-05</td>\n",
              "      <td>ukh1407-10830</td>\n",
              "    </tr>\n",
              "    <tr>\n",
              "      <th>12136</th>\n",
              "      <td>2020-08-27</td>\n",
              "      <td>ukk3106-32300</td>\n",
              "    </tr>\n",
              "    <tr>\n",
              "      <th>20217</th>\n",
              "      <td>2021-06-03</td>\n",
              "      <td>ukd5400-40900</td>\n",
              "    </tr>\n",
              "    <tr>\n",
              "      <th>32291</th>\n",
              "      <td>2021-09-18</td>\n",
              "      <td>ukj2402-15500</td>\n",
              "    </tr>\n",
              "    <tr>\n",
              "      <th>...</th>\n",
              "      <td>...</td>\n",
              "      <td>...</td>\n",
              "    </tr>\n",
              "    <tr>\n",
              "      <th>7872</th>\n",
              "      <td>2020-07-20</td>\n",
              "      <td>ukj3400-17800</td>\n",
              "    </tr>\n",
              "    <tr>\n",
              "      <th>14125</th>\n",
              "      <td>2020-09-14</td>\n",
              "      <td>ukk3102-31700</td>\n",
              "    </tr>\n",
              "    <tr>\n",
              "      <th>47704</th>\n",
              "      <td>2022-08-27</td>\n",
              "      <td>ukk4304-34100</td>\n",
              "    </tr>\n",
              "    <tr>\n",
              "      <th>1083</th>\n",
              "      <td>2020-05-21</td>\n",
              "      <td>ukk2205-21500</td>\n",
              "    </tr>\n",
              "    <tr>\n",
              "      <th>19751</th>\n",
              "      <td>2021-05-31</td>\n",
              "      <td>uke2206-07500</td>\n",
              "    </tr>\n",
              "  </tbody>\n",
              "</table>\n",
              "<p>41830 rows × 2 columns</p>\n",
              "</div>\n",
              "      <button class=\"colab-df-convert\" onclick=\"convertToInteractive('df-f43c29c1-1036-420e-90c3-dd5610d83e4f')\"\n",
              "              title=\"Convert this dataframe to an interactive table.\"\n",
              "              style=\"display:none;\">\n",
              "        \n",
              "  <svg xmlns=\"http://www.w3.org/2000/svg\" height=\"24px\"viewBox=\"0 0 24 24\"\n",
              "       width=\"24px\">\n",
              "    <path d=\"M0 0h24v24H0V0z\" fill=\"none\"/>\n",
              "    <path d=\"M18.56 5.44l.94 2.06.94-2.06 2.06-.94-2.06-.94-.94-2.06-.94 2.06-2.06.94zm-11 1L8.5 8.5l.94-2.06 2.06-.94-2.06-.94L8.5 2.5l-.94 2.06-2.06.94zm10 10l.94 2.06.94-2.06 2.06-.94-2.06-.94-.94-2.06-.94 2.06-2.06.94z\"/><path d=\"M17.41 7.96l-1.37-1.37c-.4-.4-.92-.59-1.43-.59-.52 0-1.04.2-1.43.59L10.3 9.45l-7.72 7.72c-.78.78-.78 2.05 0 2.83L4 21.41c.39.39.9.59 1.41.59.51 0 1.02-.2 1.41-.59l7.78-7.78 2.81-2.81c.8-.78.8-2.07 0-2.86zM5.41 20L4 18.59l7.72-7.72 1.47 1.35L5.41 20z\"/>\n",
              "  </svg>\n",
              "      </button>\n",
              "      \n",
              "  <style>\n",
              "    .colab-df-container {\n",
              "      display:flex;\n",
              "      flex-wrap:wrap;\n",
              "      gap: 12px;\n",
              "    }\n",
              "\n",
              "    .colab-df-convert {\n",
              "      background-color: #E8F0FE;\n",
              "      border: none;\n",
              "      border-radius: 50%;\n",
              "      cursor: pointer;\n",
              "      display: none;\n",
              "      fill: #1967D2;\n",
              "      height: 32px;\n",
              "      padding: 0 0 0 0;\n",
              "      width: 32px;\n",
              "    }\n",
              "\n",
              "    .colab-df-convert:hover {\n",
              "      background-color: #E2EBFA;\n",
              "      box-shadow: 0px 1px 2px rgba(60, 64, 67, 0.3), 0px 1px 3px 1px rgba(60, 64, 67, 0.15);\n",
              "      fill: #174EA6;\n",
              "    }\n",
              "\n",
              "    [theme=dark] .colab-df-convert {\n",
              "      background-color: #3B4455;\n",
              "      fill: #D2E3FC;\n",
              "    }\n",
              "\n",
              "    [theme=dark] .colab-df-convert:hover {\n",
              "      background-color: #434B5C;\n",
              "      box-shadow: 0px 1px 3px 1px rgba(0, 0, 0, 0.15);\n",
              "      filter: drop-shadow(0px 1px 2px rgba(0, 0, 0, 0.3));\n",
              "      fill: #FFFFFF;\n",
              "    }\n",
              "  </style>\n",
              "\n",
              "      <script>\n",
              "        const buttonEl =\n",
              "          document.querySelector('#df-f43c29c1-1036-420e-90c3-dd5610d83e4f button.colab-df-convert');\n",
              "        buttonEl.style.display =\n",
              "          google.colab.kernel.accessAllowed ? 'block' : 'none';\n",
              "\n",
              "        async function convertToInteractive(key) {\n",
              "          const element = document.querySelector('#df-f43c29c1-1036-420e-90c3-dd5610d83e4f');\n",
              "          const dataTable =\n",
              "            await google.colab.kernel.invokeFunction('convertToInteractive',\n",
              "                                                     [key], {});\n",
              "          if (!dataTable) return;\n",
              "\n",
              "          const docLinkHtml = 'Like what you see? Visit the ' +\n",
              "            '<a target=\"_blank\" href=https://colab.research.google.com/notebooks/data_table.ipynb>data table notebook</a>'\n",
              "            + ' to learn more about interactive tables.';\n",
              "          element.innerHTML = '';\n",
              "          dataTable['output_type'] = 'display_data';\n",
              "          await google.colab.output.renderOutput(dataTable, element);\n",
              "          const docLink = document.createElement('div');\n",
              "          docLink.innerHTML = docLinkHtml;\n",
              "          element.appendChild(docLink);\n",
              "        }\n",
              "      </script>\n",
              "    </div>\n",
              "  </div>\n",
              "  "
            ]
          },
          "metadata": {},
          "execution_count": 8
        }
      ],
      "source": [
        "time_site_pairs_train = time_site_pairs[~time_site_pairs.isin(time_site_pairs_test)].dropna()\n",
        "time_site_pairs_train = time_site_pairs_train.sample(frac=1, random_state=42)\n",
        "time_site_pairs_train"
      ]
    },
    {
      "cell_type": "code",
      "execution_count": null,
      "metadata": {
        "id": "OmdjRP_JPNN4"
      },
      "outputs": [],
      "source": [
        "# time_site_pairs_test.to_csv(\"time_site_pairs_test.csv\")\n",
        "# time_site_pairs_train.to_csv(\"time_site_pairs_train.csv\")"
      ]
    },
    {
      "cell_type": "markdown",
      "metadata": {
        "id": "NVfVZtslVDgN"
      },
      "source": [
        "## 5-fold CV on Training Data"
      ]
    },
    {
      "cell_type": "code",
      "execution_count": null,
      "metadata": {
        "id": "J-9bdnQsTB8s"
      },
      "outputs": [],
      "source": [
        "# Randomise order of training pairs\n",
        "time_site_pairs_train_new = time_site_pairs_train.sample(frac = 1)\n",
        "\n",
        "train_test_dict = {}\n",
        "\n",
        "# Get CV Train and Test time-site pairs\n",
        "for i in range(5):\n",
        "  split_index = round(len(time_site_pairs_train_new)/5)\n",
        "  train_test_dict[f'test_{i+1}'] = time_site_pairs_train_new[i*split_index: (i+1)*split_index]\n",
        "  train_test_dict[f'train_{i+1}'] = time_site_pairs_train_new.drop(time_site_pairs_train_new.index[i*split_index: (i+1)*split_index])"
      ]
    },
    {
      "cell_type": "markdown",
      "metadata": {
        "id": "LqVCHBwqM30d"
      },
      "source": [
        "# Train & Test Models\n",
        "- Train on training time-site pairs\n",
        "- Test on testing time-site pairs"
      ]
    },
    {
      "cell_type": "markdown",
      "metadata": {
        "id": "WCq5OTnjM30d"
      },
      "source": [
        "## Baseline"
      ]
    },
    {
      "cell_type": "code",
      "execution_count": null,
      "metadata": {
        "id": "W9uIioxEM30d"
      },
      "outputs": [],
      "source": [
        "import random\n",
        "time_site_pairs_train_new = time_site_pairs_train.sample(frac = 1)"
      ]
    },
    {
      "cell_type": "code",
      "execution_count": null,
      "metadata": {
        "colab": {
          "base_uri": "https://localhost:8080/"
        },
        "id": "fEQ1rM5OM30d",
        "outputId": "ec7e9828-c5fd-4e5d-f4fa-187a53dfc15c"
      },
      "outputs": [
        {
          "name": "stdout",
          "output_type": "stream",
          "text": [
            "1 :\n",
            "Accuracy of baseline on test set: 95.14%\n",
            "Precision of baseline on test set: 0.00%\n",
            "Recall of baseline on test set: 0.00%\n",
            "F1-score of baseline on test set: 0.00%\n",
            "AUC of baseline on test set: 48.95%\n",
            "Confusion matrix:\n",
            " [[2798   60]\n",
            " [  83    0]]\n",
            "2 :\n",
            "Accuracy of baseline on test set: 95.46%\n",
            "Precision of baseline on test set: 1.37%\n",
            "Recall of baseline on test set: 1.54%\n",
            "F1-score of baseline on test set: 1.45%\n",
            "AUC of baseline on test set: 49.54%\n",
            "Confusion matrix:\n",
            " [[2856   72]\n",
            " [  64    1]]\n",
            "3 :\n",
            "Accuracy of baseline on test set: 95.06%\n",
            "Precision of baseline on test set: 2.50%\n",
            "Recall of baseline on test set: 2.90%\n",
            "F1-score of baseline on test set: 2.68%\n",
            "AUC of baseline on test set: 50.09%\n",
            "Confusion matrix:\n",
            " [[2786   78]\n",
            " [  67    2]]\n",
            "4 :\n",
            "Accuracy of baseline on test set: 95.20%\n",
            "Precision of baseline on test set: 1.22%\n",
            "Recall of baseline on test set: 1.59%\n",
            "F1-score of baseline on test set: 1.38%\n",
            "AUC of baseline on test set: 49.40%\n",
            "Confusion matrix:\n",
            " [[2833   81]\n",
            " [  62    1]]\n",
            "5 :\n",
            "Accuracy of baseline on test set: 95.24%\n",
            "Precision of baseline on test set: 1.27%\n",
            "Recall of baseline on test set: 1.67%\n",
            "F1-score of baseline on test set: 1.44%\n",
            "AUC of baseline on test set: 49.45%\n",
            "Confusion matrix:\n",
            " [[2743   78]\n",
            " [  59    1]]\n"
          ]
        }
      ],
      "source": [
        "b_accuracy_test_sum=0\n",
        "b_precision_test_sum=0\n",
        "b_recall_test_sum=0\n",
        "b_f1_test_sum=0\n",
        "b_auc_test_sum=0\n",
        "\n",
        "for i in range(5):\n",
        "    print(i+1,':')\n",
        "    test_d = train_test_dict[f'test_{i+1}']\n",
        "    train_d = train_test_dict[f'train_{i+1}']\n",
        "\n",
        "    df_train = df_merged_mean.merge(train_d, on=['time', 'site'], how='inner')\n",
        "    df_test = df_merged_mean.merge(test_d, on=['time', 'site'], how='inner')\n",
        "\n",
        "    df_train.drop(['time', 'site'], axis=1, inplace=True)\n",
        "    df_test.drop(['time', 'site'], axis=1, inplace=True)\n",
        "\n",
        "    y_train = df_train.pop('riskLevelLabel')\n",
        "    y_test = df_test.pop('riskLevelLabel')\n",
        "\n",
        "    X_train = df_train\n",
        "    X_test = df_test\n",
        "\n",
        "    label_ratio_train = y_train.value_counts(normalize=True).to_dict()\n",
        "    num_test_samples = len(X_test)\n",
        "    random_predictions_test = np.random.choice(list(label_ratio_train.keys()), num_test_samples, p=list(label_ratio_train.values()))\n",
        "\n",
        "    accuracy_test = np.mean(random_predictions_test == y_test)\n",
        "    print(f'Accuracy of baseline on test set: {accuracy_test:.2%}')\n",
        "    precision_test = precision_score(y_test, random_predictions_test)#, average='weighted')\n",
        "    recall_test = recall_score(y_test, random_predictions_test)#, average='weighted')\n",
        "    f1_test = f1_score(y_test, random_predictions_test)#, average='weighted')\n",
        "\n",
        "    print(f'Precision of baseline on test set: {precision_test:.2%}')\n",
        "    print(f'Recall of baseline on test set: {recall_test:.2%}')\n",
        "    print(f'F1-score of baseline on test set: {f1_test:.2%}')\n",
        "    if len(label_ratio_train.keys()) == 2:\n",
        "        lb = LabelBinarizer()\n",
        "        test_data_bin = lb.fit_transform(y_test)\n",
        "        random_predictions_test_bin = lb.transform(random_predictions_test)\n",
        "        auc_test = roc_auc_score(test_data_bin, random_predictions_test_bin)\n",
        "        print(f'AUC of baseline on test set: {auc_test:.2%}')\n",
        "\n",
        "    print(\"Confusion matrix:\\n\", confusion_matrix(y_test, random_predictions_test))\n",
        "\n",
        "    b_accuracy_test_sum += accuracy_test\n",
        "    b_precision_test_sum += precision_test\n",
        "    b_recall_test_sum += recall_test\n",
        "    b_f1_test_sum += f1_test\n",
        "    b_auc_test_sum += auc_test"
      ]
    },
    {
      "cell_type": "code",
      "execution_count": null,
      "metadata": {
        "colab": {
          "base_uri": "https://localhost:8080/"
        },
        "id": "9PyJBhbQvAsP",
        "outputId": "aa01cf26-67ad-4252-c322-975887bfbdaf"
      },
      "outputs": [
        {
          "name": "stdout",
          "output_type": "stream",
          "text": [
            "Accuracy of baseline on test set: 95.22%\n",
            "Precision of baseline on test set: 1.27%\n",
            "Recall of baseline on test set: 1.54%\n",
            "F1-score of baseline on test set: 1.39%\n",
            "AUC of baseline on test set: 49.49%\n"
          ]
        }
      ],
      "source": [
        "## Average\n",
        "print(f'Accuracy of baseline on test set: {b_accuracy_test_sum/5:.2%}')\n",
        "print(f'Precision of baseline on test set: {b_precision_test_sum/5:.2%}')\n",
        "print(f'Recall of baseline on test set: {b_recall_test_sum/5:.2%}')\n",
        "print(f'F1-score of baseline on test set: {b_f1_test_sum/5:.2%}')\n",
        "print(f'AUC of baseline on test set: {b_auc_test_sum/5:.2%}')"
      ]
    },
    {
      "cell_type": "code",
      "execution_count": null,
      "metadata": {
        "colab": {
          "base_uri": "https://localhost:8080/",
          "height": 129
        },
        "id": "ypYopLcAvIxY",
        "outputId": "ddeb72f1-a008-4ce6-ce07-e9deee6888fb"
      },
      "outputs": [
        {
          "data": {
            "text/html": [
              "\n",
              "  <div id=\"df-41337d58-d624-4a6e-b4e1-b20a50808fa7\">\n",
              "    <div class=\"colab-df-container\">\n",
              "      <div>\n",
              "<style scoped>\n",
              "    .dataframe tbody tr th:only-of-type {\n",
              "        vertical-align: middle;\n",
              "    }\n",
              "\n",
              "    .dataframe tbody tr th {\n",
              "        vertical-align: top;\n",
              "    }\n",
              "\n",
              "    .dataframe thead th {\n",
              "        text-align: right;\n",
              "    }\n",
              "</style>\n",
              "<table border=\"1\" class=\"dataframe\">\n",
              "  <thead>\n",
              "    <tr style=\"text-align: right;\">\n",
              "      <th></th>\n",
              "      <th>Model</th>\n",
              "      <th>AUC_roc</th>\n",
              "      <th>Precision</th>\n",
              "      <th>Recall</th>\n",
              "      <th>f1</th>\n",
              "      <th>acc</th>\n",
              "    </tr>\n",
              "  </thead>\n",
              "  <tbody>\n",
              "    <tr>\n",
              "      <th>0</th>\n",
              "      <td>Baseline</td>\n",
              "      <td>0.494864</td>\n",
              "      <td>0.01271</td>\n",
              "      <td>0.015382</td>\n",
              "      <td>0.013904</td>\n",
              "      <td>0.952182</td>\n",
              "    </tr>\n",
              "  </tbody>\n",
              "</table>\n",
              "</div>\n",
              "      <button class=\"colab-df-convert\" onclick=\"convertToInteractive('df-41337d58-d624-4a6e-b4e1-b20a50808fa7')\"\n",
              "              title=\"Convert this dataframe to an interactive table.\"\n",
              "              style=\"display:none;\">\n",
              "        \n",
              "  <svg xmlns=\"http://www.w3.org/2000/svg\" height=\"24px\"viewBox=\"0 0 24 24\"\n",
              "       width=\"24px\">\n",
              "    <path d=\"M0 0h24v24H0V0z\" fill=\"none\"/>\n",
              "    <path d=\"M18.56 5.44l.94 2.06.94-2.06 2.06-.94-2.06-.94-.94-2.06-.94 2.06-2.06.94zm-11 1L8.5 8.5l.94-2.06 2.06-.94-2.06-.94L8.5 2.5l-.94 2.06-2.06.94zm10 10l.94 2.06.94-2.06 2.06-.94-2.06-.94-.94-2.06-.94 2.06-2.06.94z\"/><path d=\"M17.41 7.96l-1.37-1.37c-.4-.4-.92-.59-1.43-.59-.52 0-1.04.2-1.43.59L10.3 9.45l-7.72 7.72c-.78.78-.78 2.05 0 2.83L4 21.41c.39.39.9.59 1.41.59.51 0 1.02-.2 1.41-.59l7.78-7.78 2.81-2.81c.8-.78.8-2.07 0-2.86zM5.41 20L4 18.59l7.72-7.72 1.47 1.35L5.41 20z\"/>\n",
              "  </svg>\n",
              "      </button>\n",
              "      \n",
              "  <style>\n",
              "    .colab-df-container {\n",
              "      display:flex;\n",
              "      flex-wrap:wrap;\n",
              "      gap: 12px;\n",
              "    }\n",
              "\n",
              "    .colab-df-convert {\n",
              "      background-color: #E8F0FE;\n",
              "      border: none;\n",
              "      border-radius: 50%;\n",
              "      cursor: pointer;\n",
              "      display: none;\n",
              "      fill: #1967D2;\n",
              "      height: 32px;\n",
              "      padding: 0 0 0 0;\n",
              "      width: 32px;\n",
              "    }\n",
              "\n",
              "    .colab-df-convert:hover {\n",
              "      background-color: #E2EBFA;\n",
              "      box-shadow: 0px 1px 2px rgba(60, 64, 67, 0.3), 0px 1px 3px 1px rgba(60, 64, 67, 0.15);\n",
              "      fill: #174EA6;\n",
              "    }\n",
              "\n",
              "    [theme=dark] .colab-df-convert {\n",
              "      background-color: #3B4455;\n",
              "      fill: #D2E3FC;\n",
              "    }\n",
              "\n",
              "    [theme=dark] .colab-df-convert:hover {\n",
              "      background-color: #434B5C;\n",
              "      box-shadow: 0px 1px 3px 1px rgba(0, 0, 0, 0.15);\n",
              "      filter: drop-shadow(0px 1px 2px rgba(0, 0, 0, 0.3));\n",
              "      fill: #FFFFFF;\n",
              "    }\n",
              "  </style>\n",
              "\n",
              "      <script>\n",
              "        const buttonEl =\n",
              "          document.querySelector('#df-41337d58-d624-4a6e-b4e1-b20a50808fa7 button.colab-df-convert');\n",
              "        buttonEl.style.display =\n",
              "          google.colab.kernel.accessAllowed ? 'block' : 'none';\n",
              "\n",
              "        async function convertToInteractive(key) {\n",
              "          const element = document.querySelector('#df-41337d58-d624-4a6e-b4e1-b20a50808fa7');\n",
              "          const dataTable =\n",
              "            await google.colab.kernel.invokeFunction('convertToInteractive',\n",
              "                                                     [key], {});\n",
              "          if (!dataTable) return;\n",
              "\n",
              "          const docLinkHtml = 'Like what you see? Visit the ' +\n",
              "            '<a target=\"_blank\" href=https://colab.research.google.com/notebooks/data_table.ipynb>data table notebook</a>'\n",
              "            + ' to learn more about interactive tables.';\n",
              "          element.innerHTML = '';\n",
              "          dataTable['output_type'] = 'display_data';\n",
              "          await google.colab.output.renderOutput(dataTable, element);\n",
              "          const docLink = document.createElement('div');\n",
              "          docLink.innerHTML = docLinkHtml;\n",
              "          element.appendChild(docLink);\n",
              "        }\n",
              "      </script>\n",
              "    </div>\n",
              "  </div>\n",
              "  "
            ],
            "text/plain": [
              "      Model   AUC_roc  Precision    Recall        f1       acc\n",
              "0  Baseline  0.494864    0.01271  0.015382  0.013904  0.952182"
            ]
          },
          "execution_count": 14,
          "metadata": {},
          "output_type": "execute_result"
        }
      ],
      "source": [
        "results_df_baseline = pd.DataFrame([['Baseline', b_auc_test_sum/5, b_precision_test_sum/5, b_recall_test_sum/5, b_f1_test_sum/5, b_accuracy_test_sum/5]], columns=['Model', 'AUC_roc','Precision','Recall','f1','acc'])\n",
        "results_df_baseline"
      ]
    },
    {
      "cell_type": "code",
      "execution_count": null,
      "metadata": {
        "id": "b2OEQ-0v_KRm"
      },
      "outputs": [],
      "source": [
        "results_df_baseline.to_csv('')"
      ]
    },
    {
      "cell_type": "markdown",
      "metadata": {
        "id": "5RkYL80DD0I0"
      },
      "source": [
        "|index|Model|AUC\\_roc|Precision|Recall|f1|acc|\n",
        "|---|---|---|---|---|---|---|\n",
        "|0|Baseline|0\\.49486446900623254|0\\.012710395987261416|0\\.015381961034134948|0\\.013903996772797998|0\\.9521824841084628|"
      ]
    },
    {
      "cell_type": "markdown",
      "metadata": {
        "id": "fCm5MtmEM30d"
      },
      "source": [
        "## BC"
      ]
    },
    {
      "cell_type": "markdown",
      "metadata": {
        "id": "sk2ahJhvM30d"
      },
      "source": [
        "### df_merged_mean"
      ]
    },
    {
      "cell_type": "code",
      "execution_count": null,
      "metadata": {
        "colab": {
          "base_uri": "https://localhost:8080/"
        },
        "id": "zWc39ZY-M30d",
        "outputId": "b6df7bfa-6857-4640-c461-099a0439b12d"
      },
      "outputs": [
        {
          "name": "stdout",
          "output_type": "stream",
          "text": [
            "Training X Shape: (14725, 313)\n",
            "Training y Shape: (14725,)\n",
            "Testing X Shape: (3683, 313)\n",
            "Testing y Shape: (3683,)\n"
          ]
        }
      ],
      "source": [
        "# Train-test split\n",
        "df_train = df_merged_mean.merge(time_site_pairs_train, on=['time', 'site'], how='inner')\n",
        "df_test = df_merged_mean.merge(time_site_pairs_test, on=['time', 'site'], how='inner')\n",
        "\n",
        "df_train.drop(['time', 'site'], axis=1, inplace=True)\n",
        "df_test.drop(['time', 'site'], axis=1, inplace=True)\n",
        "\n",
        "y_train = df_train.pop('riskLevelLabel')\n",
        "y_test = df_test.pop('riskLevelLabel')\n",
        "\n",
        "X_train = df_train\n",
        "X_test = df_test\n",
        "\n",
        "print('Training X Shape:', X_train.shape)\n",
        "print('Training y Shape:', y_train.shape)\n",
        "print('Testing X Shape:', X_test.shape)\n",
        "print('Testing y Shape:', y_test.shape)"
      ]
    },
    {
      "cell_type": "code",
      "execution_count": null,
      "metadata": {
        "colab": {
          "base_uri": "https://localhost:8080/"
        },
        "id": "1e2Hv5aVM30e",
        "outputId": "a2142bcc-3c97-4363-ad66-126bf712a1c4"
      },
      "outputs": [
        {
          "name": "stdout",
          "output_type": "stream",
          "text": [
            "Accuracy: 0.9812652728753734\n",
            "Confusion matrix:\n",
            " [[3610    2]\n",
            " [  67    4]]\n",
            "Classification report:\n",
            "               precision    recall  f1-score   support\n",
            "\n",
            "           0       0.98      1.00      0.99      3612\n",
            "           1       0.67      0.06      0.10        71\n",
            "\n",
            "    accuracy                           0.98      3683\n",
            "   macro avg       0.82      0.53      0.55      3683\n",
            "weighted avg       0.98      0.98      0.97      3683\n",
            "\n"
          ]
        }
      ],
      "source": [
        "# feature scaling\n",
        "scaler = StandardScaler()\n",
        "X_train_scaled = scaler.fit_transform(X_train)\n",
        "X_test_scaled = scaler.transform(X_test)\n",
        "\n",
        "# variable selection using LASSO\n",
        "logreg = LogisticRegression(penalty='l1', solver='liblinear')\n",
        "logreg.fit(X_train_scaled, y_train)\n",
        "model = SelectFromModel(logreg, prefit=True)\n",
        "X_train_selected = model.transform(X_train_scaled)\n",
        "X_test_selected = model.transform(X_test_scaled)\n",
        "\n",
        "logreg_selected = LogisticRegression(max_iter=10000)\n",
        "logreg_selected.fit(X_train_selected, y_train)\n",
        "y_pred = logreg_selected.predict(X_test_selected)\n",
        "\n",
        "print(\"Accuracy:\", accuracy_score(y_test, y_pred))\n",
        "print(\"Confusion matrix:\\n\", confusion_matrix(y_test, y_pred))\n",
        "print(\"Classification report:\\n\", classification_report(y_test, y_pred))"
      ]
    },
    {
      "cell_type": "code",
      "execution_count": null,
      "metadata": {
        "id": "ErprTgZaM30e"
      },
      "outputs": [],
      "source": [
        "def lg_model(x,y):\n",
        "    lg_model = LogisticRegression(\n",
        "        random_state = 100, #specify the random_state\n",
        "        solver = 'saga',\n",
        "        n_jobs = -1 , #use all cpu cores\n",
        "        max_iter = 1000 #give more iteration for model to converge\n",
        "    )\n",
        "\n",
        "    params = {'penalty': ['l1', 'l2'],# penalty term\n",
        "              'C': (0.1, 1,10)} #λ\n",
        "\n",
        "    lg = GridSearchCV(lg_model, params, cv=5)#scoring=make_scorer(f1_score, average='macro'))\n",
        "    lg.fit(x, y)\n",
        "    print(lg.best_score_)\n",
        "    print('Best_parameters:',lg.best_params_)\n",
        "    return lg.best_estimator_"
      ]
    },
    {
      "cell_type": "code",
      "execution_count": null,
      "metadata": {
        "colab": {
          "base_uri": "https://localhost:8080/"
        },
        "id": "A1sJrCu1M30e",
        "outputId": "0afaf760-089e-4076-8a0f-d2547c292d0a"
      },
      "outputs": [
        {
          "name": "stdout",
          "output_type": "stream",
          "text": [
            "0.9763667232597623\n",
            "Best_parameters: {'C': 0.1, 'penalty': 'l1'}\n",
            "CPU times: user 1min 32s, sys: 5.29 s, total: 1min 38s\n",
            "Wall time: 32min 11s\n"
          ]
        },
        {
          "name": "stderr",
          "output_type": "stream",
          "text": [
            "/usr/local/lib/python3.10/dist-packages/sklearn/linear_model/_sag.py:350: ConvergenceWarning: The max_iter was reached which means the coef_ did not converge\n",
            "  warnings.warn(\n"
          ]
        }
      ],
      "source": [
        "%%time\n",
        "base_lg = lg_model(X_train_scaled, y_train)"
      ]
    },
    {
      "cell_type": "code",
      "execution_count": null,
      "metadata": {
        "id": "rD6PzcynM30f"
      },
      "outputs": [],
      "source": [
        "# %%time\n",
        "# base_selected_lg = lg_model(X_train_selected,y_train)"
      ]
    },
    {
      "cell_type": "markdown",
      "metadata": {
        "id": "PTJNidA_vS-T"
      },
      "source": [
        "Precision-Recall Curve\n",
        "\n"
      ]
    },
    {
      "cell_type": "code",
      "execution_count": null,
      "metadata": {
        "id": "e_Cah4F8vSYp"
      },
      "outputs": [],
      "source": [
        "from sklearn.metrics import precision_recall_curve\n",
        "def auc_pr_curve(model, X_test, y_test):\n",
        "    y_pred_prob = model.predict(X_test_scaled)\n",
        "    precision, recall, _ = precision_recall_curve(y_test, y_pred_prob)\n",
        "    #fpr, tpr, thresholds = roc_curve(y_test, y_pred_prob)\n",
        "    prc_auc = auc(recall, precision)\n",
        "    plt.plot(recall, precision, label='Precision recall curve (area = %0.2f)' % prc_auc)\n",
        "    plt.xlim([0.0, 1.0])\n",
        "    plt.ylim([0.0, 1.05])\n",
        "    plt.xlabel('Recall')\n",
        "    plt.ylabel('Precision')\n",
        "    plt.title('Precision-Recall Curve')\n",
        "    plt.legend(loc=\"lower right\")\n",
        "    plt.show()"
      ]
    },
    {
      "cell_type": "code",
      "execution_count": null,
      "metadata": {
        "colab": {
          "base_uri": "https://localhost:8080/",
          "height": 472
        },
        "id": "9zu4B4CnvbH_",
        "outputId": "37ffcf3b-7923-41eb-9937-ed03074a0a0a"
      },
      "outputs": [
        {
          "data": {
            "image/png": "[encoded data removed]",
            "text/plain": [
              "<Figure size 640x480 with 1 Axes>"
            ]
          },
          "metadata": {},
          "output_type": "display_data"
        }
      ],
      "source": [
        "auc_pr_curve(base_lg, X_test_scaled, y_test)"
      ]
    },
    {
      "cell_type": "markdown",
      "metadata": {
        "id": "AUtGhFBxM30f"
      },
      "source": [
        "#### ROC"
      ]
    },
    {
      "cell_type": "code",
      "execution_count": null,
      "metadata": {
        "id": "-dCCnOdVM30f"
      },
      "outputs": [],
      "source": [
        "def draw_roc(model,X_test,y_test):\n",
        "    y_pred_prob = model.predict_proba(X_test)[:, 1]\n",
        "    fpr, tpr, thresholds = roc_curve(y_test, y_pred_prob)\n",
        "    roc_auc = auc(fpr, tpr)\n",
        "    plt.plot(fpr, tpr, label='ROC curve (area = %0.2f)' % roc_auc)\n",
        "    plt.plot([0, 1], [0, 1], 'k--')\n",
        "    plt.xlim([0.0, 1.0])\n",
        "    plt.ylim([0.0, 1.05])\n",
        "    plt.xlabel('False Positive Rate')\n",
        "    plt.ylabel('True Positive Rate')\n",
        "    plt.title('Receiver Operating Curve')\n",
        "    plt.legend(loc=\"lower right\")\n",
        "    plt.show()"
      ]
    },
    {
      "cell_type": "code",
      "execution_count": null,
      "metadata": {
        "colab": {
          "base_uri": "https://localhost:8080/",
          "height": 472
        },
        "id": "qfmjprxGM30f",
        "outputId": "5b05da98-3c33-4541-952f-2164340c33ac"
      },
      "outputs": [
        {
          "data": {
            "image/png": "[encoded data removed]",
            "text/plain": [
              "<Figure size 640x480 with 1 Axes>"
            ]
          },
          "metadata": {},
          "output_type": "display_data"
        }
      ],
      "source": [
        "draw_roc(base_lg, X_test_scaled, y_test)"
      ]
    },
    {
      "cell_type": "code",
      "execution_count": null,
      "metadata": {
        "id": "gXwcPupVM30f"
      },
      "outputs": [],
      "source": [
        "y_pred_prob = base_lg.predict_proba(X_test_scaled)[:, 1]\n",
        "fpr, tpr, thresholds = roc_curve(y_test, y_pred_prob)\n",
        "bc_auc = auc(fpr, tpr)"
      ]
    },
    {
      "cell_type": "code",
      "execution_count": null,
      "metadata": {
        "id": "H8QfjdqRM30f"
      },
      "outputs": [],
      "source": [
        "def training_cross_validation_score(model,x,y):\n",
        "    accuray_scores = cross_val_score(model,x, y, scoring='accuracy', cv=5, n_jobs=-1)# evaluate the model through 5 fold cross-validation\n",
        "    auc_scores = cross_val_score(model,x, y, scoring='roc_auc', cv=5, n_jobs=-1)# evaluate the model through 5 fold cross-validation\n",
        "    f1_scores = cross_val_score(model,x, y, scoring='f1', cv=5, n_jobs=-1)# evaluate the model through 5 fold cross-validation\n",
        "    print(str(model),'\\naccuracy:',accuray_scores, '\\naverage accuray:',accuray_scores.mean())\n",
        "    print('\\nauc score:', auc_scores,'\\naverage auc score:',auc_scores.mean())\n",
        "    print('\\nf1 score:',f1_scores,'\\naverage f1 score:',f1_scores.mean())"
      ]
    },
    {
      "cell_type": "code",
      "execution_count": null,
      "metadata": {
        "colab": {
          "background_save": true,
          "base_uri": "https://localhost:8080/"
        },
        "id": "t4qvIk2KM30f",
        "outputId": "a28911e8-59df-4844-8bce-6b612a32b5ea"
      },
      "outputs": [
        {
          "name": "stdout",
          "output_type": "stream",
          "text": [
            "LogisticRegression(C=0.1, max_iter=1000, n_jobs=-1, penalty='l1',\n",
            "                   random_state=100, solver='saga') \n",
            "accuracy: [0.97163966 0.97163628 0.97163628 0.9710404  0.97080205] \n",
            "average accuray: 0.9713509321974302\n",
            "\n",
            "auc score: [0.56186168 0.61081253 0.59412274 0.67013782 0.55390432] \n",
            "average auc score: 0.5981678200786684\n",
            "\n",
            "f1 score: [0. 0. 0. 0. 0.] \n",
            "average f1 score: 0.0\n",
            "CPU times: user 10.6 s, sys: 1.22 s, total: 11.8 s\n",
            "Wall time: 48min 48s\n"
          ]
        }
      ],
      "source": [
        "%%time\n",
        "training_cross_validation_score(base_lg, X_train_scaled, y_train)"
      ]
    },
    {
      "cell_type": "code",
      "execution_count": null,
      "metadata": {
        "colab": {
          "background_save": true
        },
        "id": "uHLyEcoiM30f"
      },
      "outputs": [],
      "source": [
        "def test_evaluation(model,x,y):\n",
        "    y_pred = model.predict(x)\n",
        "    print(str(model),\"\\nOn test data, f1 score: %.2f \"%f1_score(y, y_pred))\n",
        "    print(\"On test data, Precision: %.2f\" %precision_score(y, y_pred))\n",
        "    print(\"Recall: %.2f\" %recall_score(y, y_pred))\n",
        "    acc = accuracy_score(y, y_pred)\n",
        "    print(\"Accuracy: {:.2f} %\".format(acc*100))\n",
        "    ConfusionMatrixDisplay.from_estimator(model, x, y)"
      ]
    },
    {
      "cell_type": "code",
      "execution_count": null,
      "metadata": {
        "colab": {
          "background_save": true,
          "base_uri": "https://localhost:8080/",
          "height": 553
        },
        "id": "0QPKwBnCM30f",
        "outputId": "f8d4afa1-46f4-4eee-f39f-20770d99e5c9"
      },
      "outputs": [
        {
          "name": "stdout",
          "output_type": "stream",
          "text": [
            "LogisticRegression(C=0.1, max_iter=1000, n_jobs=-1, penalty='l1',\n",
            "                   random_state=100, solver='saga') \n",
            "On test data, f1 score: 0.00 \n",
            "On test data, Precision: 0.00\n",
            "Recall: 0.00\n",
            "Accuracy: 97.36 %\n"
          ]
        },
        {
          "data": {
            "image/png": "[encoded data removed]",
            "text/plain": [
              "<Figure size 640x480 with 2 Axes>"
            ]
          },
          "metadata": {},
          "output_type": "display_data"
        }
      ],
      "source": [
        "test_evaluation(base_lg, X_test_scaled, y_test)"
      ]
    },
    {
      "cell_type": "code",
      "execution_count": null,
      "metadata": {
        "colab": {
          "background_save": true
        },
        "id": "K6uRp_ItM30f"
      },
      "outputs": [],
      "source": [
        "y_pred = base_lg.predict(X_test_scaled)\n",
        "bc_f1 = f1_score(y_test, y_pred)\n",
        "bc_pre = precision_score(y_test, y_pred)\n",
        "bc_rec = recall_score(y_test, y_pred)\n",
        "bc_acc = accuracy_score(y_test, y_pred)"
      ]
    },
    {
      "cell_type": "code",
      "execution_count": null,
      "metadata": {
        "colab": {
          "background_save": true,
          "base_uri": "https://localhost:8080/",
          "height": 129
        },
        "id": "yxrrDqw9M30f",
        "outputId": "03f4a2d0-15c1-4a02-a25b-235e6163cd74"
      },
      "outputs": [
        {
          "data": {
            "text/html": [
              "\n",
              "  <div id=\"df-450f3d4c-cf90-4e70-833a-f6a8959efc3c\">\n",
              "    <div class=\"colab-df-container\">\n",
              "      <div>\n",
              "<style scoped>\n",
              "    .dataframe tbody tr th:only-of-type {\n",
              "        vertical-align: middle;\n",
              "    }\n",
              "\n",
              "    .dataframe tbody tr th {\n",
              "        vertical-align: top;\n",
              "    }\n",
              "\n",
              "    .dataframe thead th {\n",
              "        text-align: right;\n",
              "    }\n",
              "</style>\n",
              "<table border=\"1\" class=\"dataframe\">\n",
              "  <thead>\n",
              "    <tr style=\"text-align: right;\">\n",
              "      <th></th>\n",
              "      <th>Model</th>\n",
              "      <th>Sub-Model</th>\n",
              "      <th>AUC</th>\n",
              "      <th>Precision</th>\n",
              "      <th>Recall</th>\n",
              "      <th>f1</th>\n",
              "      <th>acc</th>\n",
              "    </tr>\n",
              "  </thead>\n",
              "  <tbody>\n",
              "    <tr>\n",
              "      <th>0</th>\n",
              "      <td>Binary Classifier</td>\n",
              "      <td>Fill NaN with mean df</td>\n",
              "      <td>0.603027</td>\n",
              "      <td>0.0</td>\n",
              "      <td>0.0</td>\n",
              "      <td>0.0</td>\n",
              "      <td>0.973606</td>\n",
              "    </tr>\n",
              "  </tbody>\n",
              "</table>\n",
              "</div>\n",
              "      <button class=\"colab-df-convert\" onclick=\"convertToInteractive('df-450f3d4c-cf90-4e70-833a-f6a8959efc3c')\"\n",
              "              title=\"Convert this dataframe to an interactive table.\"\n",
              "              style=\"display:none;\">\n",
              "        \n",
              "  <svg xmlns=\"http://www.w3.org/2000/svg\" height=\"24px\"viewBox=\"0 0 24 24\"\n",
              "       width=\"24px\">\n",
              "    <path d=\"M0 0h24v24H0V0z\" fill=\"none\"/>\n",
              "    <path d=\"M18.56 5.44l.94 2.06.94-2.06 2.06-.94-2.06-.94-.94-2.06-.94 2.06-2.06.94zm-11 1L8.5 8.5l.94-2.06 2.06-.94-2.06-.94L8.5 2.5l-.94 2.06-2.06.94zm10 10l.94 2.06.94-2.06 2.06-.94-2.06-.94-.94-2.06-.94 2.06-2.06.94z\"/><path d=\"M17.41 7.96l-1.37-1.37c-.4-.4-.92-.59-1.43-.59-.52 0-1.04.2-1.43.59L10.3 9.45l-7.72 7.72c-.78.78-.78 2.05 0 2.83L4 21.41c.39.39.9.59 1.41.59.51 0 1.02-.2 1.41-.59l7.78-7.78 2.81-2.81c.8-.78.8-2.07 0-2.86zM5.41 20L4 18.59l7.72-7.72 1.47 1.35L5.41 20z\"/>\n",
              "  </svg>\n",
              "      </button>\n",
              "      \n",
              "  <style>\n",
              "    .colab-df-container {\n",
              "      display:flex;\n",
              "      flex-wrap:wrap;\n",
              "      gap: 12px;\n",
              "    }\n",
              "\n",
              "    .colab-df-convert {\n",
              "      background-color: #E8F0FE;\n",
              "      border: none;\n",
              "      border-radius: 50%;\n",
              "      cursor: pointer;\n",
              "      display: none;\n",
              "      fill: #1967D2;\n",
              "      height: 32px;\n",
              "      padding: 0 0 0 0;\n",
              "      width: 32px;\n",
              "    }\n",
              "\n",
              "    .colab-df-convert:hover {\n",
              "      background-color: #E2EBFA;\n",
              "      box-shadow: 0px 1px 2px rgba(60, 64, 67, 0.3), 0px 1px 3px 1px rgba(60, 64, 67, 0.15);\n",
              "      fill: #174EA6;\n",
              "    }\n",
              "\n",
              "    [theme=dark] .colab-df-convert {\n",
              "      background-color: #3B4455;\n",
              "      fill: #D2E3FC;\n",
              "    }\n",
              "\n",
              "    [theme=dark] .colab-df-convert:hover {\n",
              "      background-color: #434B5C;\n",
              "      box-shadow: 0px 1px 3px 1px rgba(0, 0, 0, 0.15);\n",
              "      filter: drop-shadow(0px 1px 2px rgba(0, 0, 0, 0.3));\n",
              "      fill: #FFFFFF;\n",
              "    }\n",
              "  </style>\n",
              "\n",
              "      <script>\n",
              "        const buttonEl =\n",
              "          document.querySelector('#df-450f3d4c-cf90-4e70-833a-f6a8959efc3c button.colab-df-convert');\n",
              "        buttonEl.style.display =\n",
              "          google.colab.kernel.accessAllowed ? 'block' : 'none';\n",
              "\n",
              "        async function convertToInteractive(key) {\n",
              "          const element = document.querySelector('#df-450f3d4c-cf90-4e70-833a-f6a8959efc3c');\n",
              "          const dataTable =\n",
              "            await google.colab.kernel.invokeFunction('convertToInteractive',\n",
              "                                                     [key], {});\n",
              "          if (!dataTable) return;\n",
              "\n",
              "          const docLinkHtml = 'Like what you see? Visit the ' +\n",
              "            '<a target=\"_blank\" href=https://colab.research.google.com/notebooks/data_table.ipynb>data table notebook</a>'\n",
              "            + ' to learn more about interactive tables.';\n",
              "          element.innerHTML = '';\n",
              "          dataTable['output_type'] = 'display_data';\n",
              "          await google.colab.output.renderOutput(dataTable, element);\n",
              "          const docLink = document.createElement('div');\n",
              "          docLink.innerHTML = docLinkHtml;\n",
              "          element.appendChild(docLink);\n",
              "        }\n",
              "      </script>\n",
              "    </div>\n",
              "  </div>\n",
              "  "
            ],
            "text/plain": [
              "               Model              Sub-Model       AUC  Precision  Recall   f1  \\\n",
              "0  Binary Classifier  Fill NaN with mean df  0.603027        0.0     0.0  0.0   \n",
              "\n",
              "        acc  \n",
              "0  0.973606  "
            ]
          },
          "execution_count": 30,
          "metadata": {},
          "output_type": "execute_result"
        }
      ],
      "source": [
        "results_df_bc = pd.DataFrame([['Binary Classifier', 'Fill NaN with mean df', bc_auc, bc_pre, bc_rec, bc_f1, bc_acc]], columns=['Model', 'Sub-Model', 'AUC','Precision','Recall','f1','acc'])\n",
        "results_df_bc"
      ]
    },
    {
      "cell_type": "markdown",
      "metadata": {
        "id": "BstCmYW7nQg8"
      },
      "source": [
        "|index|Model|Sub-Model|AUC|Precision|Recall|f1|acc|\n",
        "|---|---|---|---|---|---|---|---|\n",
        "|0|Binary Classifier|Fill NaN with mean df|0\\.5685313430973438|0\\.5|0\\.014084507042253521|0\\.027397260273972605|0\\.9807222373065436|"
      ]
    },
    {
      "cell_type": "markdown",
      "metadata": {
        "id": "LbH3oq34M30f"
      },
      "source": [
        "### df_merged_neg"
      ]
    },
    {
      "cell_type": "code",
      "execution_count": null,
      "metadata": {
        "id": "5_J2mmQ9M30g"
      },
      "outputs": [],
      "source": [
        "# # Train-test split\n",
        "# df_train = df_merged_neg.merge(time_site_pairs_train, on=['time', 'site'], how='inner')\n",
        "# df_test = df_merged_neg.merge(time_site_pairs_test, on=['time', 'site'], how='inner')\n",
        "\n",
        "# df_train.drop(['time', 'site'], axis=1, inplace=True)\n",
        "# df_test.drop(['time', 'site'], axis=1, inplace=True)\n",
        "\n",
        "# y_train = df_train.pop('riskLevelLabel')\n",
        "# y_test = df_test.pop('riskLevelLabel')\n",
        "\n",
        "# X_train = df_train\n",
        "# X_test = df_test\n",
        "\n",
        "# print('Training X Shape:', X_train.shape)\n",
        "# print('Training y Shape:', y_train.shape)\n",
        "# print('Testing X Shape:', X_test.shape)\n",
        "# print('Testing y Shape:', y_test.shape)"
      ]
    },
    {
      "cell_type": "code",
      "execution_count": null,
      "metadata": {
        "id": "oMG0yUUtM30g"
      },
      "outputs": [],
      "source": [
        "# # feature scaling\n",
        "# scaler = StandardScaler()\n",
        "# X_train_scaled = scaler.fit_transform(X_train)\n",
        "# X_test_scaled = scaler.transform(X_test)\n",
        "\n",
        "# # variable selection using LASSO\n",
        "# logreg = LogisticRegression(penalty='l1', solver='liblinear')\n",
        "# logreg.fit(X_train_scaled, y_train)\n",
        "# model = SelectFromModel(logreg, prefit=True)\n",
        "# X_train_selected = model.transform(X_train_scaled)\n",
        "# X_test_selected = model.transform(X_test_scaled)\n",
        "\n",
        "# logreg_selected = LogisticRegression(max_iter=10000)\n",
        "# logreg_selected.fit(X_train_selected, y_train)\n",
        "# y_pred = logreg_selected.predict(X_test_selected)\n",
        "\n",
        "# print(\"Accuracy:\", accuracy_score(y_test, y_pred))\n",
        "# print(\"Confusion matrix:\\n\", confusion_matrix(y_test, y_pred))\n",
        "# print(\"Classification report:\\n\", classification_report(y_test, y_pred))"
      ]
    },
    {
      "cell_type": "code",
      "execution_count": null,
      "metadata": {
        "id": "gm0h7hGpM30g"
      },
      "outputs": [],
      "source": [
        "# %%time\n",
        "# neg_lg = lg_model(X_train_scaled,y_train)"
      ]
    },
    {
      "cell_type": "code",
      "execution_count": null,
      "metadata": {
        "id": "1hMlsC2ZM30g"
      },
      "outputs": [],
      "source": [
        "# #scaling - based on training data\n",
        "# mean_train = X_train.mean() #compute the mean of training set\n",
        "# train_std = X_train.std() #compute the std of training set\n",
        "# scaled_X_train = (X_train-mean_train)/train_std\n",
        "# scaled_X_test = (X_test-mean_train)/train_std # to avoid bias, use the mean and std from training dataset and apply it on the testing dataset."
      ]
    },
    {
      "cell_type": "code",
      "execution_count": null,
      "metadata": {
        "id": "mfpvSQv1M30g"
      },
      "outputs": [],
      "source": [
        "# draw_roc(base_lg, scaled_X_test, y_test)"
      ]
    },
    {
      "cell_type": "code",
      "execution_count": null,
      "metadata": {
        "id": "ILdk4BNvM30g"
      },
      "outputs": [],
      "source": [
        "# %%time\n",
        "# training_cross_validation_score(base_lg, X_train_scaled,y_train)"
      ]
    },
    {
      "cell_type": "code",
      "execution_count": null,
      "metadata": {
        "id": "gWmzz_MqM30g"
      },
      "outputs": [],
      "source": [
        "# test_evaluation(base_lg, scaled_X_test, y_test)"
      ]
    },
    {
      "cell_type": "markdown",
      "metadata": {
        "id": "tX_m83LwM30g"
      },
      "source": [
        "## RF"
      ]
    },
    {
      "cell_type": "code",
      "execution_count": null,
      "metadata": {
        "colab": {
          "base_uri": "https://localhost:8080/"
        },
        "id": "oYXYZK5Nkcjp",
        "outputId": "ee5e46f6-8257-4854-f525-c47a1dd4fb3f"
      },
      "outputs": [
        {
          "name": "stderr",
          "output_type": "stream",
          "text": [
            "<ipython-input-5-701f378bd31b>:2: DtypeWarning: Columns (315) have mixed types. Specify dtype option on import or set low_memory=False.\n",
            "  df_merged_neg = pd.read_csv(\"/content/drive/My Drive/CapstoneProject/Datasets/df_merged_neg_new.csv\")\n"
          ]
        }
      ],
      "source": [
        "df_merged_mean = pd.read_csv(\"/content/drive/My Drive/CapstoneProject/Datasets/df_merged_mean_new.csv\")\n",
        "df_merged_neg = pd.read_csv(\"/content/drive/My Drive/CapstoneProject/Datasets/df_merged_neg_new.csv\")\n",
        "time_site_pairs_train = pd.read_csv(\"/content/drive/My Drive/CapstoneProject/Datasets/time_site_pairs_train.csv\")\n",
        "time_site_pairs_test = pd.read_csv(\"/content/drive/My Drive/CapstoneProject/Datasets/time_site_pairs_test.csv\")"
      ]
    },
    {
      "cell_type": "markdown",
      "metadata": {
        "id": "WwjWWDddM30g"
      },
      "source": [
        "### df_merged_mean"
      ]
    },
    {
      "cell_type": "code",
      "execution_count": null,
      "metadata": {
        "colab": {
          "base_uri": "https://localhost:8080/"
        },
        "id": "VkfdKKKZM30g",
        "outputId": "0c510aad-5b2b-4975-d037-c5d640767e55"
      },
      "outputs": [
        {
          "name": "stdout",
          "output_type": "stream",
          "text": [
            "Training X Shape: (14750, 314)\n",
            "Training y Shape: (14750,)\n",
            "Testing X Shape: (3658, 314)\n",
            "Testing y Shape: (3658,)\n"
          ]
        }
      ],
      "source": [
        "# Train-test split\n",
        "df_train = df_merged_mean.merge(time_site_pairs_train, on=['time', 'site'], how='inner')\n",
        "df_test = df_merged_mean.merge(time_site_pairs_test, on=['time', 'site'], how='inner')\n",
        "\n",
        "df_train.drop(['time', 'site'], axis=1, inplace=True)\n",
        "df_test.drop(['time', 'site'], axis=1, inplace=True)\n",
        "\n",
        "y_train = df_train.pop('riskLevelLabel')\n",
        "y_test = df_test.pop('riskLevelLabel')\n",
        "\n",
        "X_train = df_train\n",
        "X_test = df_test\n",
        "\n",
        "print('Training X Shape:', X_train.shape)\n",
        "print('Training y Shape:', y_train.shape)\n",
        "print('Testing X Shape:', X_test.shape)\n",
        "print('Testing y Shape:', y_test.shape)"
      ]
    },
    {
      "cell_type": "code",
      "execution_count": null,
      "metadata": {
        "id": "gGOQ6fhIM30g",
        "scrolled": true
      },
      "outputs": [],
      "source": [
        "def rf_result(X_train, y_train, X_test, y_test):\n",
        "    # fit a random forest to the data\n",
        "    rf = RandomForestClassifier()\n",
        "    rf.fit(X_train, y_train)\n",
        "\n",
        "    # make predictions\n",
        "    y_pred = rf.predict(X_test)\n",
        "    y_pred_proba = rf.predict_proba(X_test)[:, 1]\n",
        "\n",
        "    accuracy = np.mean(y_pred == y_test)\n",
        "    precision = precision_score(y_test, y_pred)\n",
        "    recall = recall_score(y_test, y_pred)\n",
        "    f1 = f1_score(y_test, y_pred)\n",
        "    auc = roc_auc_score(y_test, y_pred_proba)\n",
        "\n",
        "    return {'Classifier': rf,\n",
        "            'Precision': precision,\n",
        "            'Recall': recall,\n",
        "            'f1': f1,\n",
        "            'acc': accuracy,\n",
        "            'AUC': auc}"
      ]
    },
    {
      "cell_type": "code",
      "execution_count": null,
      "metadata": {
        "id": "-exAZSFsM30g"
      },
      "outputs": [],
      "source": [
        "res = rf_result(X_train, y_train, X_test, y_test)\n",
        "res['Model'] = 'Random Forest'\n",
        "res['Sub-Model'] = 'Fill NaN with mean df'\n",
        "results_df_rf = pd.DataFrame([res]).drop(columns = ['Classifier'])"
      ]
    },
    {
      "cell_type": "markdown",
      "metadata": {
        "id": "HSd3THghM30h"
      },
      "source": [
        "#### Importance of Feature Aggregation"
      ]
    },
    {
      "cell_type": "code",
      "execution_count": null,
      "metadata": {
        "id": "2DfzPBlMM30h"
      },
      "outputs": [],
      "source": [
        "rf = res['Classifier']"
      ]
    },
    {
      "cell_type": "code",
      "execution_count": null,
      "metadata": {
        "colab": {
          "base_uri": "https://localhost:8080/",
          "height": 865
        },
        "id": "XL7WXYZRM30h",
        "outputId": "027e2245-7580-4b3b-9263-74f90bbfc71a"
      },
      "outputs": [
        {
          "data": {
            "text/html": [
              "<style type=\"text/css\">\n",
              "#T_542f1_row23_col1, #T_542f1_row24_col1, #T_542f1_row25_col1 {\n",
              "  background-color: #DEB887;\n",
              "}\n",
              "</style>\n",
              "<table id=\"T_542f1\" class=\"dataframe\">\n",
              "  <thead>\n",
              "    <tr>\n",
              "      <th class=\"blank level0\" >&nbsp;</th>\n",
              "      <th id=\"T_542f1_level0_col0\" class=\"col_heading level0 col0\" >Feature</th>\n",
              "      <th id=\"T_542f1_level0_col1\" class=\"col_heading level0 col1\" >Sum of Importances</th>\n",
              "    </tr>\n",
              "  </thead>\n",
              "  <tbody>\n",
              "    <tr>\n",
              "      <th id=\"T_542f1_level0_row0\" class=\"row_heading level0 row0\" >0</th>\n",
              "      <td id=\"T_542f1_row0_col0\" class=\"data row0 col0\" >51x51</td>\n",
              "      <td id=\"T_542f1_row0_col1\" class=\"data row0 col1\" >0.035796</td>\n",
              "    </tr>\n",
              "    <tr>\n",
              "      <th id=\"T_542f1_level0_row1\" class=\"row_heading level0 row1\" >1</th>\n",
              "      <td id=\"T_542f1_row1_col0\" class=\"data row1 col0\" >49x49</td>\n",
              "      <td id=\"T_542f1_row1_col1\" class=\"data row1 col1\" >0.035292</td>\n",
              "    </tr>\n",
              "    <tr>\n",
              "      <th id=\"T_542f1_level0_row2\" class=\"row_heading level0 row2\" >2</th>\n",
              "      <td id=\"T_542f1_row2_col0\" class=\"data row2 col0\" >47x47</td>\n",
              "      <td id=\"T_542f1_row2_col1\" class=\"data row2 col1\" >0.031613</td>\n",
              "    </tr>\n",
              "    <tr>\n",
              "      <th id=\"T_542f1_level0_row3\" class=\"row_heading level0 row3\" >3</th>\n",
              "      <td id=\"T_542f1_row3_col0\" class=\"data row3 col0\" >45x45</td>\n",
              "      <td id=\"T_542f1_row3_col1\" class=\"data row3 col1\" >0.030387</td>\n",
              "    </tr>\n",
              "    <tr>\n",
              "      <th id=\"T_542f1_level0_row4\" class=\"row_heading level0 row4\" >4</th>\n",
              "      <td id=\"T_542f1_row4_col0\" class=\"data row4 col0\" >43x43</td>\n",
              "      <td id=\"T_542f1_row4_col1\" class=\"data row4 col1\" >0.032311</td>\n",
              "    </tr>\n",
              "    <tr>\n",
              "      <th id=\"T_542f1_level0_row5\" class=\"row_heading level0 row5\" >5</th>\n",
              "      <td id=\"T_542f1_row5_col0\" class=\"data row5 col0\" >41x41</td>\n",
              "      <td id=\"T_542f1_row5_col1\" class=\"data row5 col1\" >0.032708</td>\n",
              "    </tr>\n",
              "    <tr>\n",
              "      <th id=\"T_542f1_level0_row6\" class=\"row_heading level0 row6\" >6</th>\n",
              "      <td id=\"T_542f1_row6_col0\" class=\"data row6 col0\" >39x39</td>\n",
              "      <td id=\"T_542f1_row6_col1\" class=\"data row6 col1\" >0.027554</td>\n",
              "    </tr>\n",
              "    <tr>\n",
              "      <th id=\"T_542f1_level0_row7\" class=\"row_heading level0 row7\" >7</th>\n",
              "      <td id=\"T_542f1_row7_col0\" class=\"data row7 col0\" >37x37</td>\n",
              "      <td id=\"T_542f1_row7_col1\" class=\"data row7 col1\" >0.032819</td>\n",
              "    </tr>\n",
              "    <tr>\n",
              "      <th id=\"T_542f1_level0_row8\" class=\"row_heading level0 row8\" >8</th>\n",
              "      <td id=\"T_542f1_row8_col0\" class=\"data row8 col0\" >35x35</td>\n",
              "      <td id=\"T_542f1_row8_col1\" class=\"data row8 col1\" >0.028719</td>\n",
              "    </tr>\n",
              "    <tr>\n",
              "      <th id=\"T_542f1_level0_row9\" class=\"row_heading level0 row9\" >9</th>\n",
              "      <td id=\"T_542f1_row9_col0\" class=\"data row9 col0\" >33x33</td>\n",
              "      <td id=\"T_542f1_row9_col1\" class=\"data row9 col1\" >0.031239</td>\n",
              "    </tr>\n",
              "    <tr>\n",
              "      <th id=\"T_542f1_level0_row10\" class=\"row_heading level0 row10\" >10</th>\n",
              "      <td id=\"T_542f1_row10_col0\" class=\"data row10 col0\" >31x31</td>\n",
              "      <td id=\"T_542f1_row10_col1\" class=\"data row10 col1\" >0.030408</td>\n",
              "    </tr>\n",
              "    <tr>\n",
              "      <th id=\"T_542f1_level0_row11\" class=\"row_heading level0 row11\" >11</th>\n",
              "      <td id=\"T_542f1_row11_col0\" class=\"data row11 col0\" >29x29</td>\n",
              "      <td id=\"T_542f1_row11_col1\" class=\"data row11 col1\" >0.029347</td>\n",
              "    </tr>\n",
              "    <tr>\n",
              "      <th id=\"T_542f1_level0_row12\" class=\"row_heading level0 row12\" >12</th>\n",
              "      <td id=\"T_542f1_row12_col0\" class=\"data row12 col0\" >27x27</td>\n",
              "      <td id=\"T_542f1_row12_col1\" class=\"data row12 col1\" >0.031101</td>\n",
              "    </tr>\n",
              "    <tr>\n",
              "      <th id=\"T_542f1_level0_row13\" class=\"row_heading level0 row13\" >13</th>\n",
              "      <td id=\"T_542f1_row13_col0\" class=\"data row13 col0\" >25x25</td>\n",
              "      <td id=\"T_542f1_row13_col1\" class=\"data row13 col1\" >0.034261</td>\n",
              "    </tr>\n",
              "    <tr>\n",
              "      <th id=\"T_542f1_level0_row14\" class=\"row_heading level0 row14\" >14</th>\n",
              "      <td id=\"T_542f1_row14_col0\" class=\"data row14 col0\" >23x23</td>\n",
              "      <td id=\"T_542f1_row14_col1\" class=\"data row14 col1\" >0.032477</td>\n",
              "    </tr>\n",
              "    <tr>\n",
              "      <th id=\"T_542f1_level0_row15\" class=\"row_heading level0 row15\" >15</th>\n",
              "      <td id=\"T_542f1_row15_col0\" class=\"data row15 col0\" >21x21</td>\n",
              "      <td id=\"T_542f1_row15_col1\" class=\"data row15 col1\" >0.030437</td>\n",
              "    </tr>\n",
              "    <tr>\n",
              "      <th id=\"T_542f1_level0_row16\" class=\"row_heading level0 row16\" >16</th>\n",
              "      <td id=\"T_542f1_row16_col0\" class=\"data row16 col0\" >19x19</td>\n",
              "      <td id=\"T_542f1_row16_col1\" class=\"data row16 col1\" >0.033152</td>\n",
              "    </tr>\n",
              "    <tr>\n",
              "      <th id=\"T_542f1_level0_row17\" class=\"row_heading level0 row17\" >17</th>\n",
              "      <td id=\"T_542f1_row17_col0\" class=\"data row17 col0\" >17x17</td>\n",
              "      <td id=\"T_542f1_row17_col1\" class=\"data row17 col1\" >0.035999</td>\n",
              "    </tr>\n",
              "    <tr>\n",
              "      <th id=\"T_542f1_level0_row18\" class=\"row_heading level0 row18\" >18</th>\n",
              "      <td id=\"T_542f1_row18_col0\" class=\"data row18 col0\" >15x15</td>\n",
              "      <td id=\"T_542f1_row18_col1\" class=\"data row18 col1\" >0.039698</td>\n",
              "    </tr>\n",
              "    <tr>\n",
              "      <th id=\"T_542f1_level0_row19\" class=\"row_heading level0 row19\" >19</th>\n",
              "      <td id=\"T_542f1_row19_col0\" class=\"data row19 col0\" >13x13</td>\n",
              "      <td id=\"T_542f1_row19_col1\" class=\"data row19 col1\" >0.038757</td>\n",
              "    </tr>\n",
              "    <tr>\n",
              "      <th id=\"T_542f1_level0_row20\" class=\"row_heading level0 row20\" >20</th>\n",
              "      <td id=\"T_542f1_row20_col0\" class=\"data row20 col0\" >11x11</td>\n",
              "      <td id=\"T_542f1_row20_col1\" class=\"data row20 col1\" >0.046481</td>\n",
              "    </tr>\n",
              "    <tr>\n",
              "      <th id=\"T_542f1_level0_row21\" class=\"row_heading level0 row21\" >21</th>\n",
              "      <td id=\"T_542f1_row21_col0\" class=\"data row21 col0\" >9x9</td>\n",
              "      <td id=\"T_542f1_row21_col1\" class=\"data row21 col1\" >0.053062</td>\n",
              "    </tr>\n",
              "    <tr>\n",
              "      <th id=\"T_542f1_level0_row22\" class=\"row_heading level0 row22\" >22</th>\n",
              "      <td id=\"T_542f1_row22_col0\" class=\"data row22 col0\" >7x7</td>\n",
              "      <td id=\"T_542f1_row22_col1\" class=\"data row22 col1\" >0.052460</td>\n",
              "    </tr>\n",
              "    <tr>\n",
              "      <th id=\"T_542f1_level0_row23\" class=\"row_heading level0 row23\" >23</th>\n",
              "      <td id=\"T_542f1_row23_col0\" class=\"data row23 col0\" >5x5</td>\n",
              "      <td id=\"T_542f1_row23_col1\" class=\"data row23 col1\" >0.059859</td>\n",
              "    </tr>\n",
              "    <tr>\n",
              "      <th id=\"T_542f1_level0_row24\" class=\"row_heading level0 row24\" >24</th>\n",
              "      <td id=\"T_542f1_row24_col0\" class=\"data row24 col0\" >3x3</td>\n",
              "      <td id=\"T_542f1_row24_col1\" class=\"data row24 col1\" >0.090047</td>\n",
              "    </tr>\n",
              "    <tr>\n",
              "      <th id=\"T_542f1_level0_row25\" class=\"row_heading level0 row25\" >25</th>\n",
              "      <td id=\"T_542f1_row25_col0\" class=\"data row25 col0\" >1x1</td>\n",
              "      <td id=\"T_542f1_row25_col1\" class=\"data row25 col1\" >0.092863</td>\n",
              "    </tr>\n",
              "  </tbody>\n",
              "</table>\n"
            ],
            "text/plain": [
              "<pandas.io.formats.style.Styler at 0x7fa9683e16c0>"
            ]
          },
          "execution_count": 10,
          "metadata": {},
          "output_type": "execute_result"
        }
      ],
      "source": [
        "importance_dict = dict(zip(df_train.columns, rf.feature_importances_))\n",
        "\n",
        "features = [f'{i}x{i}' for i in range(51, 0, -2)] + ['TUR', 'SPM', 'CHL']\n",
        "\n",
        "data = []\n",
        "for s in features:\n",
        "    sum_importance = np.sum([importance for feature, importance in importance_dict.items() if s in feature])\n",
        "    data.append([s, sum_importance])\n",
        "\n",
        "# Create a DataFrame with the calculated data\n",
        "df_importances = pd.DataFrame(data, columns=['Feature', 'Sum of Importances'])\n",
        "\n",
        "def highlight_max(s):\n",
        "    if len(s) > 3:\n",
        "        return ['background-color: #DEB887' if v in list(s[np.argsort(s)[-3:]]) else '' for v in s]\n",
        "    else:\n",
        "        return ['background-color: #8FBC8F' if v == s.max() else '' for v in s]\n",
        "\n",
        "df_importances[:26].style.apply(highlight_max, subset=['Sum of Importances'])"
      ]
    },
    {
      "cell_type": "code",
      "execution_count": null,
      "metadata": {
        "colab": {
          "base_uri": "https://localhost:8080/",
          "height": 143
        },
        "id": "J_cIFcL4M30h",
        "outputId": "d58ac655-c74b-4050-ec9e-f012f87048ff"
      },
      "outputs": [
        {
          "data": {
            "text/html": [
              "<style type=\"text/css\">\n",
              "#T_dfd43_row2_col1 {\n",
              "  background-color: #8FBC8F;\n",
              "}\n",
              "</style>\n",
              "<table id=\"T_dfd43\" class=\"dataframe\">\n",
              "  <thead>\n",
              "    <tr>\n",
              "      <th class=\"blank level0\" >&nbsp;</th>\n",
              "      <th id=\"T_dfd43_level0_col0\" class=\"col_heading level0 col0\" >Feature</th>\n",
              "      <th id=\"T_dfd43_level0_col1\" class=\"col_heading level0 col1\" >Sum of Importances</th>\n",
              "    </tr>\n",
              "  </thead>\n",
              "  <tbody>\n",
              "    <tr>\n",
              "      <th id=\"T_dfd43_level0_row0\" class=\"row_heading level0 row0\" >26</th>\n",
              "      <td id=\"T_dfd43_row0_col0\" class=\"data row0 col0\" >TUR</td>\n",
              "      <td id=\"T_dfd43_row0_col1\" class=\"data row0 col1\" >0.299257</td>\n",
              "    </tr>\n",
              "    <tr>\n",
              "      <th id=\"T_dfd43_level0_row1\" class=\"row_heading level0 row1\" >27</th>\n",
              "      <td id=\"T_dfd43_row1_col0\" class=\"data row1 col0\" >SPM</td>\n",
              "      <td id=\"T_dfd43_row1_col1\" class=\"data row1 col1\" >0.313937</td>\n",
              "    </tr>\n",
              "    <tr>\n",
              "      <th id=\"T_dfd43_level0_row2\" class=\"row_heading level0 row2\" >28</th>\n",
              "      <td id=\"T_dfd43_row2_col0\" class=\"data row2 col0\" >CHL</td>\n",
              "      <td id=\"T_dfd43_row2_col1\" class=\"data row2 col1\" >0.357934</td>\n",
              "    </tr>\n",
              "  </tbody>\n",
              "</table>\n"
            ],
            "text/plain": [
              "<pandas.io.formats.style.Styler at 0x7fa8d13bbfa0>"
            ]
          },
          "execution_count": 11,
          "metadata": {},
          "output_type": "execute_result"
        }
      ],
      "source": [
        "df_importances[-3:].style.apply(highlight_max, subset=['Sum of Importances'])"
      ]
    },
    {
      "cell_type": "markdown",
      "metadata": {
        "id": "ce8UQqnCM30h"
      },
      "source": [
        "#### PCA"
      ]
    },
    {
      "cell_type": "code",
      "execution_count": null,
      "metadata": {
        "colab": {
          "base_uri": "https://localhost:8080/",
          "height": 1000
        },
        "id": "EZjDv4kPM30h",
        "outputId": "f4579ae7-8add-485e-f578-fe388661740f"
      },
      "outputs": [
        {
          "data": {
            "image/png": "[encoded data removed]",
            "text/plain": [
              "<Figure size 640x480 with 1 Axes>"
            ]
          },
          "metadata": {},
          "output_type": "display_data"
        },
        {
          "data": {
            "text/plain": [
              "None"
            ]
          },
          "metadata": {},
          "output_type": "display_data"
        },
        {
          "data": {
            "text/html": [
              "\n",
              "  <div id=\"df-0430926a-41e2-4244-9a92-913c8849a466\">\n",
              "    <div class=\"colab-df-container\">\n",
              "      <div>\n",
              "<style scoped>\n",
              "    .dataframe tbody tr th:only-of-type {\n",
              "        vertical-align: middle;\n",
              "    }\n",
              "\n",
              "    .dataframe tbody tr th {\n",
              "        vertical-align: top;\n",
              "    }\n",
              "\n",
              "    .dataframe thead th {\n",
              "        text-align: right;\n",
              "    }\n",
              "</style>\n",
              "<table border=\"1\" class=\"dataframe\">\n",
              "  <thead>\n",
              "    <tr style=\"text-align: right;\">\n",
              "      <th></th>\n",
              "      <th>Cumulative Variance Ratio</th>\n",
              "      <th>Explained Variance Ratio</th>\n",
              "    </tr>\n",
              "  </thead>\n",
              "  <tbody>\n",
              "    <tr>\n",
              "      <th>0</th>\n",
              "      <td>0.693328</td>\n",
              "      <td>6.933276e-01</td>\n",
              "    </tr>\n",
              "    <tr>\n",
              "      <th>1</th>\n",
              "      <td>1.000000</td>\n",
              "      <td>3.066724e-01</td>\n",
              "    </tr>\n",
              "    <tr>\n",
              "      <th>2</th>\n",
              "      <td>1.000000</td>\n",
              "      <td>1.071976e-09</td>\n",
              "    </tr>\n",
              "    <tr>\n",
              "      <th>3</th>\n",
              "      <td>1.000000</td>\n",
              "      <td>2.789317e-10</td>\n",
              "    </tr>\n",
              "    <tr>\n",
              "      <th>4</th>\n",
              "      <td>1.000000</td>\n",
              "      <td>4.389508e-11</td>\n",
              "    </tr>\n",
              "    <tr>\n",
              "      <th>5</th>\n",
              "      <td>1.000000</td>\n",
              "      <td>2.480093e-11</td>\n",
              "    </tr>\n",
              "    <tr>\n",
              "      <th>6</th>\n",
              "      <td>1.000000</td>\n",
              "      <td>1.395056e-11</td>\n",
              "    </tr>\n",
              "    <tr>\n",
              "      <th>7</th>\n",
              "      <td>1.000000</td>\n",
              "      <td>9.661991e-12</td>\n",
              "    </tr>\n",
              "    <tr>\n",
              "      <th>8</th>\n",
              "      <td>1.000000</td>\n",
              "      <td>8.213648e-12</td>\n",
              "    </tr>\n",
              "    <tr>\n",
              "      <th>9</th>\n",
              "      <td>1.000000</td>\n",
              "      <td>6.567685e-12</td>\n",
              "    </tr>\n",
              "    <tr>\n",
              "      <th>10</th>\n",
              "      <td>1.000000</td>\n",
              "      <td>4.880269e-12</td>\n",
              "    </tr>\n",
              "    <tr>\n",
              "      <th>11</th>\n",
              "      <td>1.000000</td>\n",
              "      <td>4.576460e-12</td>\n",
              "    </tr>\n",
              "    <tr>\n",
              "      <th>12</th>\n",
              "      <td>1.000000</td>\n",
              "      <td>3.596800e-12</td>\n",
              "    </tr>\n",
              "    <tr>\n",
              "      <th>13</th>\n",
              "      <td>1.000000</td>\n",
              "      <td>3.244431e-12</td>\n",
              "    </tr>\n",
              "    <tr>\n",
              "      <th>14</th>\n",
              "      <td>1.000000</td>\n",
              "      <td>2.649594e-12</td>\n",
              "    </tr>\n",
              "    <tr>\n",
              "      <th>15</th>\n",
              "      <td>1.000000</td>\n",
              "      <td>2.138647e-12</td>\n",
              "    </tr>\n",
              "    <tr>\n",
              "      <th>16</th>\n",
              "      <td>1.000000</td>\n",
              "      <td>1.970745e-12</td>\n",
              "    </tr>\n",
              "    <tr>\n",
              "      <th>17</th>\n",
              "      <td>1.000000</td>\n",
              "      <td>1.770472e-12</td>\n",
              "    </tr>\n",
              "    <tr>\n",
              "      <th>18</th>\n",
              "      <td>1.000000</td>\n",
              "      <td>1.654367e-12</td>\n",
              "    </tr>\n",
              "    <tr>\n",
              "      <th>19</th>\n",
              "      <td>1.000000</td>\n",
              "      <td>1.403192e-12</td>\n",
              "    </tr>\n",
              "    <tr>\n",
              "      <th>20</th>\n",
              "      <td>1.000000</td>\n",
              "      <td>1.266638e-12</td>\n",
              "    </tr>\n",
              "    <tr>\n",
              "      <th>21</th>\n",
              "      <td>1.000000</td>\n",
              "      <td>1.108714e-12</td>\n",
              "    </tr>\n",
              "    <tr>\n",
              "      <th>22</th>\n",
              "      <td>1.000000</td>\n",
              "      <td>9.562951e-13</td>\n",
              "    </tr>\n",
              "    <tr>\n",
              "      <th>23</th>\n",
              "      <td>1.000000</td>\n",
              "      <td>8.347802e-13</td>\n",
              "    </tr>\n",
              "    <tr>\n",
              "      <th>24</th>\n",
              "      <td>1.000000</td>\n",
              "      <td>7.726388e-13</td>\n",
              "    </tr>\n",
              "  </tbody>\n",
              "</table>\n",
              "</div>\n",
              "      <button class=\"colab-df-convert\" onclick=\"convertToInteractive('df-0430926a-41e2-4244-9a92-913c8849a466')\"\n",
              "              title=\"Convert this dataframe to an interactive table.\"\n",
              "              style=\"display:none;\">\n",
              "        \n",
              "  <svg xmlns=\"http://www.w3.org/2000/svg\" height=\"24px\"viewBox=\"0 0 24 24\"\n",
              "       width=\"24px\">\n",
              "    <path d=\"M0 0h24v24H0V0z\" fill=\"none\"/>\n",
              "    <path d=\"M18.56 5.44l.94 2.06.94-2.06 2.06-.94-2.06-.94-.94-2.06-.94 2.06-2.06.94zm-11 1L8.5 8.5l.94-2.06 2.06-.94-2.06-.94L8.5 2.5l-.94 2.06-2.06.94zm10 10l.94 2.06.94-2.06 2.06-.94-2.06-.94-.94-2.06-.94 2.06-2.06.94z\"/><path d=\"M17.41 7.96l-1.37-1.37c-.4-.4-.92-.59-1.43-.59-.52 0-1.04.2-1.43.59L10.3 9.45l-7.72 7.72c-.78.78-.78 2.05 0 2.83L4 21.41c.39.39.9.59 1.41.59.51 0 1.02-.2 1.41-.59l7.78-7.78 2.81-2.81c.8-.78.8-2.07 0-2.86zM5.41 20L4 18.59l7.72-7.72 1.47 1.35L5.41 20z\"/>\n",
              "  </svg>\n",
              "      </button>\n",
              "      \n",
              "  <style>\n",
              "    .colab-df-container {\n",
              "      display:flex;\n",
              "      flex-wrap:wrap;\n",
              "      gap: 12px;\n",
              "    }\n",
              "\n",
              "    .colab-df-convert {\n",
              "      background-color: #E8F0FE;\n",
              "      border: none;\n",
              "      border-radius: 50%;\n",
              "      cursor: pointer;\n",
              "      display: none;\n",
              "      fill: #1967D2;\n",
              "      height: 32px;\n",
              "      padding: 0 0 0 0;\n",
              "      width: 32px;\n",
              "    }\n",
              "\n",
              "    .colab-df-convert:hover {\n",
              "      background-color: #E2EBFA;\n",
              "      box-shadow: 0px 1px 2px rgba(60, 64, 67, 0.3), 0px 1px 3px 1px rgba(60, 64, 67, 0.15);\n",
              "      fill: #174EA6;\n",
              "    }\n",
              "\n",
              "    [theme=dark] .colab-df-convert {\n",
              "      background-color: #3B4455;\n",
              "      fill: #D2E3FC;\n",
              "    }\n",
              "\n",
              "    [theme=dark] .colab-df-convert:hover {\n",
              "      background-color: #434B5C;\n",
              "      box-shadow: 0px 1px 3px 1px rgba(0, 0, 0, 0.15);\n",
              "      filter: drop-shadow(0px 1px 2px rgba(0, 0, 0, 0.3));\n",
              "      fill: #FFFFFF;\n",
              "    }\n",
              "  </style>\n",
              "\n",
              "      <script>\n",
              "        const buttonEl =\n",
              "          document.querySelector('#df-0430926a-41e2-4244-9a92-913c8849a466 button.colab-df-convert');\n",
              "        buttonEl.style.display =\n",
              "          google.colab.kernel.accessAllowed ? 'block' : 'none';\n",
              "\n",
              "        async function convertToInteractive(key) {\n",
              "          const element = document.querySelector('#df-0430926a-41e2-4244-9a92-913c8849a466');\n",
              "          const dataTable =\n",
              "            await google.colab.kernel.invokeFunction('convertToInteractive',\n",
              "                                                     [key], {});\n",
              "          if (!dataTable) return;\n",
              "\n",
              "          const docLinkHtml = 'Like what you see? Visit the ' +\n",
              "            '<a target=\"_blank\" href=https://colab.research.google.com/notebooks/data_table.ipynb>data table notebook</a>'\n",
              "            + ' to learn more about interactive tables.';\n",
              "          element.innerHTML = '';\n",
              "          dataTable['output_type'] = 'display_data';\n",
              "          await google.colab.output.renderOutput(dataTable, element);\n",
              "          const docLink = document.createElement('div');\n",
              "          docLink.innerHTML = docLinkHtml;\n",
              "          element.appendChild(docLink);\n",
              "        }\n",
              "      </script>\n",
              "    </div>\n",
              "  </div>\n",
              "  "
            ],
            "text/plain": [
              "    Cumulative Variance Ratio  Explained Variance Ratio\n",
              "0                    0.693328              6.933276e-01\n",
              "1                    1.000000              3.066724e-01\n",
              "2                    1.000000              1.071976e-09\n",
              "3                    1.000000              2.789317e-10\n",
              "4                    1.000000              4.389508e-11\n",
              "5                    1.000000              2.480093e-11\n",
              "6                    1.000000              1.395056e-11\n",
              "7                    1.000000              9.661991e-12\n",
              "8                    1.000000              8.213648e-12\n",
              "9                    1.000000              6.567685e-12\n",
              "10                   1.000000              4.880269e-12\n",
              "11                   1.000000              4.576460e-12\n",
              "12                   1.000000              3.596800e-12\n",
              "13                   1.000000              3.244431e-12\n",
              "14                   1.000000              2.649594e-12\n",
              "15                   1.000000              2.138647e-12\n",
              "16                   1.000000              1.970745e-12\n",
              "17                   1.000000              1.770472e-12\n",
              "18                   1.000000              1.654367e-12\n",
              "19                   1.000000              1.403192e-12\n",
              "20                   1.000000              1.266638e-12\n",
              "21                   1.000000              1.108714e-12\n",
              "22                   1.000000              9.562951e-13\n",
              "23                   1.000000              8.347802e-13\n",
              "24                   1.000000              7.726388e-13"
            ]
          },
          "metadata": {},
          "output_type": "display_data"
        }
      ],
      "source": [
        "pca_test = PCA(n_components=312)\n",
        "pca_test.fit(X_train)\n",
        "sns.set(style='whitegrid')\n",
        "plt.plot(np.cumsum(pca_test.explained_variance_ratio_))\n",
        "plt.xlabel('number of components')\n",
        "plt.ylabel('cumulative explained variance')\n",
        "plt.axvline(linewidth=4, color='r', linestyle = '--', x=23, ymin=0, ymax=1)\n",
        "display(plt.show())\n",
        "evr = pca_test.explained_variance_ratio_\n",
        "cvr = np.cumsum(pca_test.explained_variance_ratio_)\n",
        "pca_df = pd.DataFrame()\n",
        "pca_df['Cumulative Variance Ratio'] = cvr\n",
        "pca_df['Explained Variance Ratio'] = evr\n",
        "display(pca_df.head(25))"
      ]
    },
    {
      "cell_type": "code",
      "execution_count": null,
      "metadata": {
        "id": "Csh9TaO1M30h"
      },
      "outputs": [],
      "source": [
        "pca = PCA(n_components=23)\n",
        "pca.fit(X_train)\n",
        "X_train_pca = pca.transform(X_train)\n",
        "X_test_pca = pca.transform(X_test)"
      ]
    },
    {
      "cell_type": "code",
      "execution_count": null,
      "metadata": {
        "colab": {
          "base_uri": "https://localhost:8080/",
          "height": 696
        },
        "id": "vP6EsxN_M30h",
        "outputId": "98004041-98c0-425d-b953-9d463119dde2"
      },
      "outputs": [
        {
          "data": {
            "text/html": [
              "\n",
              "  <div id=\"df-6c769d32-1957-4c75-93d4-dde30b6a6246\">\n",
              "    <div class=\"colab-df-container\">\n",
              "      <div>\n",
              "<style scoped>\n",
              "    .dataframe tbody tr th:only-of-type {\n",
              "        vertical-align: middle;\n",
              "    }\n",
              "\n",
              "    .dataframe tbody tr th {\n",
              "        vertical-align: top;\n",
              "    }\n",
              "\n",
              "    .dataframe thead th {\n",
              "        text-align: right;\n",
              "    }\n",
              "</style>\n",
              "<table border=\"1\" class=\"dataframe\">\n",
              "  <thead>\n",
              "    <tr style=\"text-align: right;\">\n",
              "      <th></th>\n",
              "      <th>PCA Component 0</th>\n",
              "      <th>PCA Component 1</th>\n",
              "      <th>PCA Component 2</th>\n",
              "      <th>PCA Component 3</th>\n",
              "      <th>PCA Component 4</th>\n",
              "      <th>PCA Component 5</th>\n",
              "      <th>PCA Component 6</th>\n",
              "      <th>PCA Component 7</th>\n",
              "      <th>PCA Component 8</th>\n",
              "      <th>PCA Component 9</th>\n",
              "      <th>...</th>\n",
              "      <th>PCA Component 13</th>\n",
              "      <th>PCA Component 14</th>\n",
              "      <th>PCA Component 15</th>\n",
              "      <th>PCA Component 16</th>\n",
              "      <th>PCA Component 17</th>\n",
              "      <th>PCA Component 18</th>\n",
              "      <th>PCA Component 19</th>\n",
              "      <th>PCA Component 20</th>\n",
              "      <th>PCA Component 21</th>\n",
              "      <th>PCA Component 22</th>\n",
              "    </tr>\n",
              "  </thead>\n",
              "  <tbody>\n",
              "    <tr>\n",
              "      <th>Unnamed: 0_x</th>\n",
              "      <td>-7.142339e-02</td>\n",
              "      <td>-9.974461e-01</td>\n",
              "      <td>-0.000002</td>\n",
              "      <td>-0.000006</td>\n",
              "      <td>5.308949e-06</td>\n",
              "      <td>5.107361e-07</td>\n",
              "      <td>6.822974e-06</td>\n",
              "      <td>-2.747065e-06</td>\n",
              "      <td>3.494996e-06</td>\n",
              "      <td>1.565759e-06</td>\n",
              "      <td>...</td>\n",
              "      <td>3.845288e-07</td>\n",
              "      <td>5.002670e-07</td>\n",
              "      <td>-8.915657e-07</td>\n",
              "      <td>-1.085729e-06</td>\n",
              "      <td>1.295745e-06</td>\n",
              "      <td>-2.427477e-07</td>\n",
              "      <td>-3.852184e-08</td>\n",
              "      <td>-6.986055e-08</td>\n",
              "      <td>-3.237396e-07</td>\n",
              "      <td>3.753755e-07</td>\n",
              "    </tr>\n",
              "    <tr>\n",
              "      <th>TUR_1x1_median</th>\n",
              "      <td>1.355474e-06</td>\n",
              "      <td>2.823111e-06</td>\n",
              "      <td>0.057264</td>\n",
              "      <td>0.052007</td>\n",
              "      <td>1.115138e-01</td>\n",
              "      <td>5.501018e-02</td>\n",
              "      <td>3.190667e-01</td>\n",
              "      <td>-1.282715e-01</td>\n",
              "      <td>-2.473342e-02</td>\n",
              "      <td>-9.540200e-03</td>\n",
              "      <td>...</td>\n",
              "      <td>-2.166651e-02</td>\n",
              "      <td>9.896721e-03</td>\n",
              "      <td>2.870310e-03</td>\n",
              "      <td>3.480156e-02</td>\n",
              "      <td>-1.140404e-03</td>\n",
              "      <td>-3.989972e-03</td>\n",
              "      <td>-1.568599e-02</td>\n",
              "      <td>-6.019474e-02</td>\n",
              "      <td>2.234262e-03</td>\n",
              "      <td>-7.292133e-03</td>\n",
              "    </tr>\n",
              "    <tr>\n",
              "      <th>SPM_1x1_median</th>\n",
              "      <td>1.034295e-06</td>\n",
              "      <td>2.244330e-06</td>\n",
              "      <td>0.047050</td>\n",
              "      <td>0.048716</td>\n",
              "      <td>1.037453e-01</td>\n",
              "      <td>5.840578e-02</td>\n",
              "      <td>2.856998e-01</td>\n",
              "      <td>-1.239372e-01</td>\n",
              "      <td>-2.429309e-02</td>\n",
              "      <td>-4.795281e-03</td>\n",
              "      <td>...</td>\n",
              "      <td>-3.049000e-02</td>\n",
              "      <td>-2.207993e-03</td>\n",
              "      <td>1.153218e-02</td>\n",
              "      <td>3.223815e-02</td>\n",
              "      <td>-7.863907e-03</td>\n",
              "      <td>-2.864876e-02</td>\n",
              "      <td>3.547044e-02</td>\n",
              "      <td>5.936819e-02</td>\n",
              "      <td>2.622004e-02</td>\n",
              "      <td>6.860305e-03</td>\n",
              "    </tr>\n",
              "    <tr>\n",
              "      <th>CHL_1x1_median</th>\n",
              "      <td>1.270862e-06</td>\n",
              "      <td>2.106393e-06</td>\n",
              "      <td>0.025121</td>\n",
              "      <td>-0.027786</td>\n",
              "      <td>3.568847e-02</td>\n",
              "      <td>-6.501708e-02</td>\n",
              "      <td>5.584115e-02</td>\n",
              "      <td>2.279861e-02</td>\n",
              "      <td>1.477468e-01</td>\n",
              "      <td>2.538374e-02</td>\n",
              "      <td>...</td>\n",
              "      <td>1.931033e-01</td>\n",
              "      <td>2.339460e-01</td>\n",
              "      <td>-2.987438e-01</td>\n",
              "      <td>-6.637445e-02</td>\n",
              "      <td>2.460060e-02</td>\n",
              "      <td>-3.279652e-02</td>\n",
              "      <td>-1.234350e-02</td>\n",
              "      <td>1.182666e-02</td>\n",
              "      <td>-4.392911e-02</td>\n",
              "      <td>2.127121e-03</td>\n",
              "    </tr>\n",
              "    <tr>\n",
              "      <th>TUR_1x1_mean</th>\n",
              "      <td>1.359127e-06</td>\n",
              "      <td>2.311304e-06</td>\n",
              "      <td>0.060035</td>\n",
              "      <td>0.054568</td>\n",
              "      <td>1.390778e-01</td>\n",
              "      <td>6.552298e-02</td>\n",
              "      <td>2.869379e-01</td>\n",
              "      <td>-1.259587e-01</td>\n",
              "      <td>-1.912856e-02</td>\n",
              "      <td>-8.630035e-03</td>\n",
              "      <td>...</td>\n",
              "      <td>2.693016e-02</td>\n",
              "      <td>-3.217279e-02</td>\n",
              "      <td>9.932261e-03</td>\n",
              "      <td>-1.438031e-02</td>\n",
              "      <td>3.933982e-03</td>\n",
              "      <td>2.838942e-02</td>\n",
              "      <td>-5.941259e-02</td>\n",
              "      <td>-2.219786e-02</td>\n",
              "      <td>-1.959978e-02</td>\n",
              "      <td>-3.928293e-02</td>\n",
              "    </tr>\n",
              "    <tr>\n",
              "      <th>...</th>\n",
              "      <td>...</td>\n",
              "      <td>...</td>\n",
              "      <td>...</td>\n",
              "      <td>...</td>\n",
              "      <td>...</td>\n",
              "      <td>...</td>\n",
              "      <td>...</td>\n",
              "      <td>...</td>\n",
              "      <td>...</td>\n",
              "      <td>...</td>\n",
              "      <td>...</td>\n",
              "      <td>...</td>\n",
              "      <td>...</td>\n",
              "      <td>...</td>\n",
              "      <td>...</td>\n",
              "      <td>...</td>\n",
              "      <td>...</td>\n",
              "      <td>...</td>\n",
              "      <td>...</td>\n",
              "      <td>...</td>\n",
              "      <td>...</td>\n",
              "    </tr>\n",
              "    <tr>\n",
              "      <th>CHL_51x51_q1</th>\n",
              "      <td>3.236377e-06</td>\n",
              "      <td>-2.533542e-07</td>\n",
              "      <td>0.091737</td>\n",
              "      <td>-0.096233</td>\n",
              "      <td>-8.521893e-02</td>\n",
              "      <td>9.970002e-02</td>\n",
              "      <td>6.732611e-02</td>\n",
              "      <td>1.204096e-01</td>\n",
              "      <td>4.102930e-02</td>\n",
              "      <td>-2.002993e-02</td>\n",
              "      <td>...</td>\n",
              "      <td>9.183754e-02</td>\n",
              "      <td>7.923019e-02</td>\n",
              "      <td>1.141127e-01</td>\n",
              "      <td>-2.964783e-03</td>\n",
              "      <td>6.943247e-02</td>\n",
              "      <td>-9.038675e-03</td>\n",
              "      <td>-6.133932e-03</td>\n",
              "      <td>5.172623e-03</td>\n",
              "      <td>-2.969112e-02</td>\n",
              "      <td>-8.677104e-02</td>\n",
              "    </tr>\n",
              "    <tr>\n",
              "      <th>TUR_51x51_q3</th>\n",
              "      <td>1.000696e-06</td>\n",
              "      <td>-8.676781e-07</td>\n",
              "      <td>0.066416</td>\n",
              "      <td>0.050560</td>\n",
              "      <td>-5.164510e-02</td>\n",
              "      <td>-2.511393e-02</td>\n",
              "      <td>9.972016e-03</td>\n",
              "      <td>1.352669e-03</td>\n",
              "      <td>-1.527491e-03</td>\n",
              "      <td>3.094786e-02</td>\n",
              "      <td>...</td>\n",
              "      <td>5.708932e-02</td>\n",
              "      <td>-4.287742e-03</td>\n",
              "      <td>-2.893348e-03</td>\n",
              "      <td>9.557480e-02</td>\n",
              "      <td>-1.562288e-02</td>\n",
              "      <td>-7.743949e-03</td>\n",
              "      <td>4.774533e-02</td>\n",
              "      <td>-1.218576e-01</td>\n",
              "      <td>2.220605e-02</td>\n",
              "      <td>6.001024e-02</td>\n",
              "    </tr>\n",
              "    <tr>\n",
              "      <th>SPM_51x51_q3</th>\n",
              "      <td>7.290006e-07</td>\n",
              "      <td>-7.308333e-07</td>\n",
              "      <td>0.054416</td>\n",
              "      <td>0.048843</td>\n",
              "      <td>-4.544989e-02</td>\n",
              "      <td>-2.813029e-02</td>\n",
              "      <td>4.259513e-03</td>\n",
              "      <td>-2.304386e-03</td>\n",
              "      <td>-7.370783e-03</td>\n",
              "      <td>3.332017e-02</td>\n",
              "      <td>...</td>\n",
              "      <td>4.528337e-02</td>\n",
              "      <td>-8.549172e-03</td>\n",
              "      <td>-7.329564e-03</td>\n",
              "      <td>6.997114e-02</td>\n",
              "      <td>-1.376103e-02</td>\n",
              "      <td>-5.135400e-02</td>\n",
              "      <td>9.086979e-02</td>\n",
              "      <td>6.969966e-03</td>\n",
              "      <td>5.864335e-02</td>\n",
              "      <td>6.141205e-02</td>\n",
              "    </tr>\n",
              "    <tr>\n",
              "      <th>CHL_51x51_q3</th>\n",
              "      <td>2.835582e-06</td>\n",
              "      <td>2.120207e-08</td>\n",
              "      <td>0.074066</td>\n",
              "      <td>-0.078832</td>\n",
              "      <td>-2.050285e-02</td>\n",
              "      <td>5.653592e-02</td>\n",
              "      <td>-3.476776e-02</td>\n",
              "      <td>-8.716921e-02</td>\n",
              "      <td>6.811194e-02</td>\n",
              "      <td>1.157182e-01</td>\n",
              "      <td>...</td>\n",
              "      <td>-2.398245e-02</td>\n",
              "      <td>-8.826040e-02</td>\n",
              "      <td>-1.088095e-01</td>\n",
              "      <td>2.567385e-03</td>\n",
              "      <td>-2.338449e-02</td>\n",
              "      <td>3.293701e-02</td>\n",
              "      <td>-3.283723e-02</td>\n",
              "      <td>2.559927e-02</td>\n",
              "      <td>3.696287e-02</td>\n",
              "      <td>5.794996e-03</td>\n",
              "    </tr>\n",
              "    <tr>\n",
              "      <th>Unnamed: 0_y</th>\n",
              "      <td>-9.974461e-01</td>\n",
              "      <td>7.142339e-02</td>\n",
              "      <td>0.000025</td>\n",
              "      <td>-0.000012</td>\n",
              "      <td>7.991032e-07</td>\n",
              "      <td>-9.426658e-07</td>\n",
              "      <td>6.681872e-07</td>\n",
              "      <td>-5.303055e-07</td>\n",
              "      <td>5.710380e-07</td>\n",
              "      <td>-1.904011e-08</td>\n",
              "      <td>...</td>\n",
              "      <td>-1.466528e-07</td>\n",
              "      <td>-9.722454e-08</td>\n",
              "      <td>-9.939812e-08</td>\n",
              "      <td>-6.863288e-08</td>\n",
              "      <td>-1.281112e-07</td>\n",
              "      <td>-5.145995e-08</td>\n",
              "      <td>1.898885e-08</td>\n",
              "      <td>-3.006021e-08</td>\n",
              "      <td>-1.171398e-07</td>\n",
              "      <td>-4.821774e-08</td>\n",
              "    </tr>\n",
              "  </tbody>\n",
              "</table>\n",
              "<p>314 rows × 23 columns</p>\n",
              "</div>\n",
              "      <button class=\"colab-df-convert\" onclick=\"convertToInteractive('df-6c769d32-1957-4c75-93d4-dde30b6a6246')\"\n",
              "              title=\"Convert this dataframe to an interactive table.\"\n",
              "              style=\"display:none;\">\n",
              "        \n",
              "  <svg xmlns=\"http://www.w3.org/2000/svg\" height=\"24px\"viewBox=\"0 0 24 24\"\n",
              "       width=\"24px\">\n",
              "    <path d=\"M0 0h24v24H0V0z\" fill=\"none\"/>\n",
              "    <path d=\"M18.56 5.44l.94 2.06.94-2.06 2.06-.94-2.06-.94-.94-2.06-.94 2.06-2.06.94zm-11 1L8.5 8.5l.94-2.06 2.06-.94-2.06-.94L8.5 2.5l-.94 2.06-2.06.94zm10 10l.94 2.06.94-2.06 2.06-.94-2.06-.94-.94-2.06-.94 2.06-2.06.94z\"/><path d=\"M17.41 7.96l-1.37-1.37c-.4-.4-.92-.59-1.43-.59-.52 0-1.04.2-1.43.59L10.3 9.45l-7.72 7.72c-.78.78-.78 2.05 0 2.83L4 21.41c.39.39.9.59 1.41.59.51 0 1.02-.2 1.41-.59l7.78-7.78 2.81-2.81c.8-.78.8-2.07 0-2.86zM5.41 20L4 18.59l7.72-7.72 1.47 1.35L5.41 20z\"/>\n",
              "  </svg>\n",
              "      </button>\n",
              "      \n",
              "  <style>\n",
              "    .colab-df-container {\n",
              "      display:flex;\n",
              "      flex-wrap:wrap;\n",
              "      gap: 12px;\n",
              "    }\n",
              "\n",
              "    .colab-df-convert {\n",
              "      background-color: #E8F0FE;\n",
              "      border: none;\n",
              "      border-radius: 50%;\n",
              "      cursor: pointer;\n",
              "      display: none;\n",
              "      fill: #1967D2;\n",
              "      height: 32px;\n",
              "      padding: 0 0 0 0;\n",
              "      width: 32px;\n",
              "    }\n",
              "\n",
              "    .colab-df-convert:hover {\n",
              "      background-color: #E2EBFA;\n",
              "      box-shadow: 0px 1px 2px rgba(60, 64, 67, 0.3), 0px 1px 3px 1px rgba(60, 64, 67, 0.15);\n",
              "      fill: #174EA6;\n",
              "    }\n",
              "\n",
              "    [theme=dark] .colab-df-convert {\n",
              "      background-color: #3B4455;\n",
              "      fill: #D2E3FC;\n",
              "    }\n",
              "\n",
              "    [theme=dark] .colab-df-convert:hover {\n",
              "      background-color: #434B5C;\n",
              "      box-shadow: 0px 1px 3px 1px rgba(0, 0, 0, 0.15);\n",
              "      filter: drop-shadow(0px 1px 2px rgba(0, 0, 0, 0.3));\n",
              "      fill: #FFFFFF;\n",
              "    }\n",
              "  </style>\n",
              "\n",
              "      <script>\n",
              "        const buttonEl =\n",
              "          document.querySelector('#df-6c769d32-1957-4c75-93d4-dde30b6a6246 button.colab-df-convert');\n",
              "        buttonEl.style.display =\n",
              "          google.colab.kernel.accessAllowed ? 'block' : 'none';\n",
              "\n",
              "        async function convertToInteractive(key) {\n",
              "          const element = document.querySelector('#df-6c769d32-1957-4c75-93d4-dde30b6a6246');\n",
              "          const dataTable =\n",
              "            await google.colab.kernel.invokeFunction('convertToInteractive',\n",
              "                                                     [key], {});\n",
              "          if (!dataTable) return;\n",
              "\n",
              "          const docLinkHtml = 'Like what you see? Visit the ' +\n",
              "            '<a target=\"_blank\" href=https://colab.research.google.com/notebooks/data_table.ipynb>data table notebook</a>'\n",
              "            + ' to learn more about interactive tables.';\n",
              "          element.innerHTML = '';\n",
              "          dataTable['output_type'] = 'display_data';\n",
              "          await google.colab.output.renderOutput(dataTable, element);\n",
              "          const docLink = document.createElement('div');\n",
              "          docLink.innerHTML = docLinkHtml;\n",
              "          element.appendChild(docLink);\n",
              "        }\n",
              "      </script>\n",
              "    </div>\n",
              "  </div>\n",
              "  "
            ],
            "text/plain": [
              "                PCA Component 0  PCA Component 1  PCA Component 2  \\\n",
              "Unnamed: 0_x      -7.142339e-02    -9.974461e-01        -0.000002   \n",
              "TUR_1x1_median     1.355474e-06     2.823111e-06         0.057264   \n",
              "SPM_1x1_median     1.034295e-06     2.244330e-06         0.047050   \n",
              "CHL_1x1_median     1.270862e-06     2.106393e-06         0.025121   \n",
              "TUR_1x1_mean       1.359127e-06     2.311304e-06         0.060035   \n",
              "...                         ...              ...              ...   \n",
              "CHL_51x51_q1       3.236377e-06    -2.533542e-07         0.091737   \n",
              "TUR_51x51_q3       1.000696e-06    -8.676781e-07         0.066416   \n",
              "SPM_51x51_q3       7.290006e-07    -7.308333e-07         0.054416   \n",
              "CHL_51x51_q3       2.835582e-06     2.120207e-08         0.074066   \n",
              "Unnamed: 0_y      -9.974461e-01     7.142339e-02         0.000025   \n",
              "\n",
              "                PCA Component 3  PCA Component 4  PCA Component 5  \\\n",
              "Unnamed: 0_x          -0.000006     5.308949e-06     5.107361e-07   \n",
              "TUR_1x1_median         0.052007     1.115138e-01     5.501018e-02   \n",
              "SPM_1x1_median         0.048716     1.037453e-01     5.840578e-02   \n",
              "CHL_1x1_median        -0.027786     3.568847e-02    -6.501708e-02   \n",
              "TUR_1x1_mean           0.054568     1.390778e-01     6.552298e-02   \n",
              "...                         ...              ...              ...   \n",
              "CHL_51x51_q1          -0.096233    -8.521893e-02     9.970002e-02   \n",
              "TUR_51x51_q3           0.050560    -5.164510e-02    -2.511393e-02   \n",
              "SPM_51x51_q3           0.048843    -4.544989e-02    -2.813029e-02   \n",
              "CHL_51x51_q3          -0.078832    -2.050285e-02     5.653592e-02   \n",
              "Unnamed: 0_y          -0.000012     7.991032e-07    -9.426658e-07   \n",
              "\n",
              "                PCA Component 6  PCA Component 7  PCA Component 8  \\\n",
              "Unnamed: 0_x       6.822974e-06    -2.747065e-06     3.494996e-06   \n",
              "TUR_1x1_median     3.190667e-01    -1.282715e-01    -2.473342e-02   \n",
              "SPM_1x1_median     2.856998e-01    -1.239372e-01    -2.429309e-02   \n",
              "CHL_1x1_median     5.584115e-02     2.279861e-02     1.477468e-01   \n",
              "TUR_1x1_mean       2.869379e-01    -1.259587e-01    -1.912856e-02   \n",
              "...                         ...              ...              ...   \n",
              "CHL_51x51_q1       6.732611e-02     1.204096e-01     4.102930e-02   \n",
              "TUR_51x51_q3       9.972016e-03     1.352669e-03    -1.527491e-03   \n",
              "SPM_51x51_q3       4.259513e-03    -2.304386e-03    -7.370783e-03   \n",
              "CHL_51x51_q3      -3.476776e-02    -8.716921e-02     6.811194e-02   \n",
              "Unnamed: 0_y       6.681872e-07    -5.303055e-07     5.710380e-07   \n",
              "\n",
              "                PCA Component 9  ...  PCA Component 13  PCA Component 14  \\\n",
              "Unnamed: 0_x       1.565759e-06  ...      3.845288e-07      5.002670e-07   \n",
              "TUR_1x1_median    -9.540200e-03  ...     -2.166651e-02      9.896721e-03   \n",
              "SPM_1x1_median    -4.795281e-03  ...     -3.049000e-02     -2.207993e-03   \n",
              "CHL_1x1_median     2.538374e-02  ...      1.931033e-01      2.339460e-01   \n",
              "TUR_1x1_mean      -8.630035e-03  ...      2.693016e-02     -3.217279e-02   \n",
              "...                         ...  ...               ...               ...   \n",
              "CHL_51x51_q1      -2.002993e-02  ...      9.183754e-02      7.923019e-02   \n",
              "TUR_51x51_q3       3.094786e-02  ...      5.708932e-02     -4.287742e-03   \n",
              "SPM_51x51_q3       3.332017e-02  ...      4.528337e-02     -8.549172e-03   \n",
              "CHL_51x51_q3       1.157182e-01  ...     -2.398245e-02     -8.826040e-02   \n",
              "Unnamed: 0_y      -1.904011e-08  ...     -1.466528e-07     -9.722454e-08   \n",
              "\n",
              "                PCA Component 15  PCA Component 16  PCA Component 17  \\\n",
              "Unnamed: 0_x       -8.915657e-07     -1.085729e-06      1.295745e-06   \n",
              "TUR_1x1_median      2.870310e-03      3.480156e-02     -1.140404e-03   \n",
              "SPM_1x1_median      1.153218e-02      3.223815e-02     -7.863907e-03   \n",
              "CHL_1x1_median     -2.987438e-01     -6.637445e-02      2.460060e-02   \n",
              "TUR_1x1_mean        9.932261e-03     -1.438031e-02      3.933982e-03   \n",
              "...                          ...               ...               ...   \n",
              "CHL_51x51_q1        1.141127e-01     -2.964783e-03      6.943247e-02   \n",
              "TUR_51x51_q3       -2.893348e-03      9.557480e-02     -1.562288e-02   \n",
              "SPM_51x51_q3       -7.329564e-03      6.997114e-02     -1.376103e-02   \n",
              "CHL_51x51_q3       -1.088095e-01      2.567385e-03     -2.338449e-02   \n",
              "Unnamed: 0_y       -9.939812e-08     -6.863288e-08     -1.281112e-07   \n",
              "\n",
              "                PCA Component 18  PCA Component 19  PCA Component 20  \\\n",
              "Unnamed: 0_x       -2.427477e-07     -3.852184e-08     -6.986055e-08   \n",
              "TUR_1x1_median     -3.989972e-03     -1.568599e-02     -6.019474e-02   \n",
              "SPM_1x1_median     -2.864876e-02      3.547044e-02      5.936819e-02   \n",
              "CHL_1x1_median     -3.279652e-02     -1.234350e-02      1.182666e-02   \n",
              "TUR_1x1_mean        2.838942e-02     -5.941259e-02     -2.219786e-02   \n",
              "...                          ...               ...               ...   \n",
              "CHL_51x51_q1       -9.038675e-03     -6.133932e-03      5.172623e-03   \n",
              "TUR_51x51_q3       -7.743949e-03      4.774533e-02     -1.218576e-01   \n",
              "SPM_51x51_q3       -5.135400e-02      9.086979e-02      6.969966e-03   \n",
              "CHL_51x51_q3        3.293701e-02     -3.283723e-02      2.559927e-02   \n",
              "Unnamed: 0_y       -5.145995e-08      1.898885e-08     -3.006021e-08   \n",
              "\n",
              "                PCA Component 21  PCA Component 22  \n",
              "Unnamed: 0_x       -3.237396e-07      3.753755e-07  \n",
              "TUR_1x1_median      2.234262e-03     -7.292133e-03  \n",
              "SPM_1x1_median      2.622004e-02      6.860305e-03  \n",
              "CHL_1x1_median     -4.392911e-02      2.127121e-03  \n",
              "TUR_1x1_mean       -1.959978e-02     -3.928293e-02  \n",
              "...                          ...               ...  \n",
              "CHL_51x51_q1       -2.969112e-02     -8.677104e-02  \n",
              "TUR_51x51_q3        2.220605e-02      6.001024e-02  \n",
              "SPM_51x51_q3        5.864335e-02      6.141205e-02  \n",
              "CHL_51x51_q3        3.696287e-02      5.794996e-03  \n",
              "Unnamed: 0_y       -1.171398e-07     -4.821774e-08  \n",
              "\n",
              "[314 rows x 23 columns]"
            ]
          },
          "execution_count": 12,
          "metadata": {},
          "output_type": "execute_result"
        }
      ],
      "source": [
        "pca_dims = []\n",
        "for x in range(0, len(pca_df)):\n",
        "    pca_dims.append('PCA Component {}'.format(x))\n",
        "pca_test_df = pd.DataFrame(pca_test.components_, columns=df_train.columns, index=pca_dims)\n",
        "pca_test_df.head(23).T"
      ]
    },
    {
      "cell_type": "code",
      "execution_count": null,
      "metadata": {
        "id": "v-F3Cr8xM30h"
      },
      "outputs": [],
      "source": [
        "res = rf_result(X_train_pca, y_train, X_test_pca, y_test)\n",
        "res['Model'] = 'Random Forest'\n",
        "res['Sub-Model'] = 'Fill NaN with mean PCA df'\n",
        "results_df_rf.loc[len(results_df_rf)] = res"
      ]
    },
    {
      "cell_type": "markdown",
      "metadata": {
        "id": "yNtOjtXHM30h"
      },
      "source": [
        "### df_merged_neg"
      ]
    },
    {
      "cell_type": "code",
      "execution_count": null,
      "metadata": {
        "colab": {
          "base_uri": "https://localhost:8080/"
        },
        "id": "3ToQQ4KzM30h",
        "outputId": "e3df128a-2da9-4b7a-e25d-4b325b61640b"
      },
      "outputs": [
        {
          "name": "stdout",
          "output_type": "stream",
          "text": [
            "Training X Shape: (14750, 314)\n",
            "Training y Shape: (14750,)\n",
            "Testing X Shape: (3658, 314)\n",
            "Testing y Shape: (3658,)\n"
          ]
        }
      ],
      "source": [
        "# Train-test split\n",
        "df_train = df_merged_neg.merge(time_site_pairs_train, on=['time', 'site'], how='inner')\n",
        "df_test = df_merged_neg.merge(time_site_pairs_test, on=['time', 'site'], how='inner')\n",
        "\n",
        "df_train.drop(['time', 'site'], axis=1, inplace=True)\n",
        "df_test.drop(['time', 'site'], axis=1, inplace=True)\n",
        "\n",
        "y_train = df_train.pop('riskLevelLabel')\n",
        "y_test = df_test.pop('riskLevelLabel')\n",
        "\n",
        "X_train = df_train\n",
        "X_test = df_test\n",
        "\n",
        "print('Training X Shape:', X_train.shape)\n",
        "print('Training y Shape:', y_train.shape)\n",
        "print('Testing X Shape:', X_test.shape)\n",
        "print('Testing y Shape:', y_test.shape)"
      ]
    },
    {
      "cell_type": "code",
      "execution_count": null,
      "metadata": {
        "id": "G-5TobIEIYnK"
      },
      "outputs": [],
      "source": [
        "df_merged_neg['riskLevelLabel'] = df_merged_neg['riskLevelLabel'].replace({'1': 1, '0': 0})\n",
        "df_merged_neg.drop(df_merged_neg[df_merged_neg['riskLevelLabel'] == 'no-prediction'].index, inplace=True)"
      ]
    },
    {
      "cell_type": "code",
      "execution_count": null,
      "metadata": {
        "colab": {
          "base_uri": "https://localhost:8080/"
        },
        "id": "bJOMoZClFfgk",
        "outputId": "dcee0653-d7f4-4adb-ab29-ae225c0a8e48"
      },
      "outputs": [
        {
          "data": {
            "text/plain": [
              "array([0, 1], dtype=object)"
            ]
          },
          "execution_count": 29,
          "metadata": {},
          "output_type": "execute_result"
        }
      ],
      "source": [
        "df_merged_neg.riskLevelLabel.unique()"
      ]
    },
    {
      "cell_type": "code",
      "execution_count": null,
      "metadata": {
        "id": "v7V6atpAI4Q7"
      },
      "outputs": [],
      "source": [
        "df_merged_neg['riskLevelLabel'] = pd.to_numeric(df_merged_neg['riskLevelLabel'])"
      ]
    },
    {
      "cell_type": "code",
      "execution_count": null,
      "metadata": {
        "id": "Pr0J12qRJxjf"
      },
      "outputs": [],
      "source": [
        "df_merged_neg.to_csv('df_merged_neg_new.csv', index=False)"
      ]
    },
    {
      "cell_type": "code",
      "execution_count": null,
      "metadata": {
        "colab": {
          "base_uri": "https://localhost:8080/"
        },
        "id": "sYaZ1eUoIsAh",
        "outputId": "b6f87cee-a962-4dc2-c0b1-08860f7605dc"
      },
      "outputs": [
        {
          "data": {
            "text/plain": [
              "array([0, 1], dtype=object)"
            ]
          },
          "execution_count": 35,
          "metadata": {},
          "output_type": "execute_result"
        }
      ],
      "source": [
        "y_test.unique()"
      ]
    },
    {
      "cell_type": "code",
      "execution_count": null,
      "metadata": {
        "id": "YRtdUHlNM30i"
      },
      "outputs": [],
      "source": [
        "res = rf_result(X_train, y_train, X_test, y_test)\n",
        "res['Model'] = 'Random Forest'\n",
        "res['Sub-Model'] = 'Fill NaN with -10 df'\n",
        "results_df_rf.loc[len(results_df_rf)] = res"
      ]
    },
    {
      "cell_type": "code",
      "execution_count": null,
      "metadata": {
        "colab": {
          "base_uri": "https://localhost:8080/",
          "height": 112
        },
        "id": "uxQ8l50UJD6P",
        "outputId": "a9e86d18-7f8e-4d4f-e17a-d97970db8052"
      },
      "outputs": [
        {
          "data": {
            "text/html": [
              "\n",
              "  <div id=\"df-b4187e22-987e-4fa9-8872-68369315b50b\">\n",
              "    <div class=\"colab-df-container\">\n",
              "      <div>\n",
              "<style scoped>\n",
              "    .dataframe tbody tr th:only-of-type {\n",
              "        vertical-align: middle;\n",
              "    }\n",
              "\n",
              "    .dataframe tbody tr th {\n",
              "        vertical-align: top;\n",
              "    }\n",
              "\n",
              "    .dataframe thead th {\n",
              "        text-align: right;\n",
              "    }\n",
              "</style>\n",
              "<table border=\"1\" class=\"dataframe\">\n",
              "  <thead>\n",
              "    <tr style=\"text-align: right;\">\n",
              "      <th></th>\n",
              "      <th>Precision</th>\n",
              "      <th>Recall</th>\n",
              "      <th>f1</th>\n",
              "      <th>acc</th>\n",
              "      <th>AUC</th>\n",
              "      <th>Model</th>\n",
              "      <th>Sub-Model</th>\n",
              "    </tr>\n",
              "  </thead>\n",
              "  <tbody>\n",
              "    <tr>\n",
              "      <th>0</th>\n",
              "      <td>0.428571</td>\n",
              "      <td>0.075949</td>\n",
              "      <td>0.129032</td>\n",
              "      <td>0.977857</td>\n",
              "      <td>0.781774</td>\n",
              "      <td>Random Forest</td>\n",
              "      <td>Fill NaN with mean df</td>\n",
              "    </tr>\n",
              "    <tr>\n",
              "      <th>1</th>\n",
              "      <td>0.416667</td>\n",
              "      <td>0.063291</td>\n",
              "      <td>0.109890</td>\n",
              "      <td>0.977857</td>\n",
              "      <td>0.781942</td>\n",
              "      <td>Random Forest</td>\n",
              "      <td>Fill NaN with -10 df</td>\n",
              "    </tr>\n",
              "  </tbody>\n",
              "</table>\n",
              "</div>\n",
              "      <button class=\"colab-df-convert\" onclick=\"convertToInteractive('df-b4187e22-987e-4fa9-8872-68369315b50b')\"\n",
              "              title=\"Convert this dataframe to an interactive table.\"\n",
              "              style=\"display:none;\">\n",
              "        \n",
              "  <svg xmlns=\"http://www.w3.org/2000/svg\" height=\"24px\"viewBox=\"0 0 24 24\"\n",
              "       width=\"24px\">\n",
              "    <path d=\"M0 0h24v24H0V0z\" fill=\"none\"/>\n",
              "    <path d=\"M18.56 5.44l.94 2.06.94-2.06 2.06-.94-2.06-.94-.94-2.06-.94 2.06-2.06.94zm-11 1L8.5 8.5l.94-2.06 2.06-.94-2.06-.94L8.5 2.5l-.94 2.06-2.06.94zm10 10l.94 2.06.94-2.06 2.06-.94-2.06-.94-.94-2.06-.94 2.06-2.06.94z\"/><path d=\"M17.41 7.96l-1.37-1.37c-.4-.4-.92-.59-1.43-.59-.52 0-1.04.2-1.43.59L10.3 9.45l-7.72 7.72c-.78.78-.78 2.05 0 2.83L4 21.41c.39.39.9.59 1.41.59.51 0 1.02-.2 1.41-.59l7.78-7.78 2.81-2.81c.8-.78.8-2.07 0-2.86zM5.41 20L4 18.59l7.72-7.72 1.47 1.35L5.41 20z\"/>\n",
              "  </svg>\n",
              "      </button>\n",
              "      \n",
              "  <style>\n",
              "    .colab-df-container {\n",
              "      display:flex;\n",
              "      flex-wrap:wrap;\n",
              "      gap: 12px;\n",
              "    }\n",
              "\n",
              "    .colab-df-convert {\n",
              "      background-color: #E8F0FE;\n",
              "      border: none;\n",
              "      border-radius: 50%;\n",
              "      cursor: pointer;\n",
              "      display: none;\n",
              "      fill: #1967D2;\n",
              "      height: 32px;\n",
              "      padding: 0 0 0 0;\n",
              "      width: 32px;\n",
              "    }\n",
              "\n",
              "    .colab-df-convert:hover {\n",
              "      background-color: #E2EBFA;\n",
              "      box-shadow: 0px 1px 2px rgba(60, 64, 67, 0.3), 0px 1px 3px 1px rgba(60, 64, 67, 0.15);\n",
              "      fill: #174EA6;\n",
              "    }\n",
              "\n",
              "    [theme=dark] .colab-df-convert {\n",
              "      background-color: #3B4455;\n",
              "      fill: #D2E3FC;\n",
              "    }\n",
              "\n",
              "    [theme=dark] .colab-df-convert:hover {\n",
              "      background-color: #434B5C;\n",
              "      box-shadow: 0px 1px 3px 1px rgba(0, 0, 0, 0.15);\n",
              "      filter: drop-shadow(0px 1px 2px rgba(0, 0, 0, 0.3));\n",
              "      fill: #FFFFFF;\n",
              "    }\n",
              "  </style>\n",
              "\n",
              "      <script>\n",
              "        const buttonEl =\n",
              "          document.querySelector('#df-b4187e22-987e-4fa9-8872-68369315b50b button.colab-df-convert');\n",
              "        buttonEl.style.display =\n",
              "          google.colab.kernel.accessAllowed ? 'block' : 'none';\n",
              "\n",
              "        async function convertToInteractive(key) {\n",
              "          const element = document.querySelector('#df-b4187e22-987e-4fa9-8872-68369315b50b');\n",
              "          const dataTable =\n",
              "            await google.colab.kernel.invokeFunction('convertToInteractive',\n",
              "                                                     [key], {});\n",
              "          if (!dataTable) return;\n",
              "\n",
              "          const docLinkHtml = 'Like what you see? Visit the ' +\n",
              "            '<a target=\"_blank\" href=https://colab.research.google.com/notebooks/data_table.ipynb>data table notebook</a>'\n",
              "            + ' to learn more about interactive tables.';\n",
              "          element.innerHTML = '';\n",
              "          dataTable['output_type'] = 'display_data';\n",
              "          await google.colab.output.renderOutput(dataTable, element);\n",
              "          const docLink = document.createElement('div');\n",
              "          docLink.innerHTML = docLinkHtml;\n",
              "          element.appendChild(docLink);\n",
              "        }\n",
              "      </script>\n",
              "    </div>\n",
              "  </div>\n",
              "  "
            ],
            "text/plain": [
              "   Precision    Recall        f1       acc       AUC          Model  \\\n",
              "0   0.428571  0.075949  0.129032  0.977857  0.781774  Random Forest   \n",
              "1   0.416667  0.063291  0.109890  0.977857  0.781942  Random Forest   \n",
              "\n",
              "               Sub-Model  \n",
              "0  Fill NaN with mean df  \n",
              "1   Fill NaN with -10 df  "
            ]
          },
          "execution_count": 39,
          "metadata": {},
          "output_type": "execute_result"
        }
      ],
      "source": [
        "results_df_rf"
      ]
    },
    {
      "cell_type": "code",
      "execution_count": null,
      "metadata": {
        "id": "lOYU_BvMJfeB"
      },
      "outputs": [],
      "source": [
        "results_df_rf.to_csv('results_df_rf.csv', index=False)"
      ]
    },
    {
      "cell_type": "markdown",
      "metadata": {
        "id": "d85180_iM30i"
      },
      "source": [
        "#### Importance of Feature Aggregation"
      ]
    },
    {
      "cell_type": "code",
      "execution_count": null,
      "metadata": {
        "id": "Wxl4GsTfM30i"
      },
      "outputs": [],
      "source": [
        "rf = res['Classifier']"
      ]
    },
    {
      "cell_type": "code",
      "execution_count": null,
      "metadata": {
        "colab": {
          "base_uri": "https://localhost:8080/",
          "height": 238
        },
        "id": "u9X97wLOM30i",
        "outputId": "f5b06024-a9bd-4012-e4d3-9dcc9fc75664"
      },
      "outputs": [
        {
          "data": {
            "text/html": [
              "<style type=\"text/css\">\n",
              "#T_88810_row0_col1, #T_88810_row1_col1, #T_88810_row3_col1 {\n",
              "  background-color: #DEB887;\n",
              "}\n",
              "</style>\n",
              "<table id=\"T_88810\" class=\"dataframe\">\n",
              "  <thead>\n",
              "    <tr>\n",
              "      <th class=\"blank level0\" >&nbsp;</th>\n",
              "      <th id=\"T_88810_level0_col0\" class=\"col_heading level0 col0\" >Feature</th>\n",
              "      <th id=\"T_88810_level0_col1\" class=\"col_heading level0 col1\" >Sum of Importances</th>\n",
              "    </tr>\n",
              "  </thead>\n",
              "  <tbody>\n",
              "    <tr>\n",
              "      <th id=\"T_88810_level0_row0\" class=\"row_heading level0 row0\" >0</th>\n",
              "      <td id=\"T_88810_row0_col0\" class=\"data row0 col0\" >51x51</td>\n",
              "      <td id=\"T_88810_row0_col1\" class=\"data row0 col1\" >0.040612</td>\n",
              "    </tr>\n",
              "    <tr>\n",
              "      <th id=\"T_88810_level0_row1\" class=\"row_heading level0 row1\" >1</th>\n",
              "      <td id=\"T_88810_row1_col0\" class=\"data row1 col0\" >49x49</td>\n",
              "      <td id=\"T_88810_row1_col1\" class=\"data row1 col1\" >0.039567</td>\n",
              "    </tr>\n",
              "    <tr>\n",
              "      <th id=\"T_88810_level0_row2\" class=\"row_heading level0 row2\" >2</th>\n",
              "      <td id=\"T_88810_row2_col0\" class=\"data row2 col0\" >47x47</td>\n",
              "      <td id=\"T_88810_row2_col1\" class=\"data row2 col1\" >0.034799</td>\n",
              "    </tr>\n",
              "    <tr>\n",
              "      <th id=\"T_88810_level0_row3\" class=\"row_heading level0 row3\" >3</th>\n",
              "      <td id=\"T_88810_row3_col0\" class=\"data row3 col0\" >45x45</td>\n",
              "      <td id=\"T_88810_row3_col1\" class=\"data row3 col1\" >0.035452</td>\n",
              "    </tr>\n",
              "    <tr>\n",
              "      <th id=\"T_88810_level0_row4\" class=\"row_heading level0 row4\" >4</th>\n",
              "      <td id=\"T_88810_row4_col0\" class=\"data row4 col0\" >43x43</td>\n",
              "      <td id=\"T_88810_row4_col1\" class=\"data row4 col1\" >0.034526</td>\n",
              "    </tr>\n",
              "    <tr>\n",
              "      <th id=\"T_88810_level0_row5\" class=\"row_heading level0 row5\" >5</th>\n",
              "      <td id=\"T_88810_row5_col0\" class=\"data row5 col0\" >41x41</td>\n",
              "      <td id=\"T_88810_row5_col1\" class=\"data row5 col1\" >0.034228</td>\n",
              "    </tr>\n",
              "  </tbody>\n",
              "</table>\n"
            ],
            "text/plain": [
              "<pandas.io.formats.style.Styler at 0x7fec899674f0>"
            ]
          },
          "execution_count": 17,
          "metadata": {},
          "output_type": "execute_result"
        }
      ],
      "source": [
        "importance_dict = dict(zip(df_train.columns, rf.feature_importances_))\n",
        "\n",
        "data = []\n",
        "for s in features:\n",
        "    sum_importance = np.sum([importance for feature, importance in importance_dict.items() if s in feature])\n",
        "    data.append([s, sum_importance])\n",
        "\n",
        "# Create a DataFrame with the calculated data\n",
        "df_importances = pd.DataFrame(data, columns=['Feature', 'Sum of Importances'])\n",
        "df_importances[:6].style.apply(highlight_max, subset=['Sum of Importances'])"
      ]
    },
    {
      "cell_type": "code",
      "execution_count": null,
      "metadata": {
        "colab": {
          "base_uri": "https://localhost:8080/",
          "height": 143
        },
        "id": "0o5_AJP7M30i",
        "outputId": "670aeadd-dfa4-4120-dfb0-70c9e65cde26"
      },
      "outputs": [
        {
          "data": {
            "text/html": [
              "<style type=\"text/css\">\n",
              "#T_84168_row2_col1 {\n",
              "  background-color: #8FBC8F;\n",
              "}\n",
              "</style>\n",
              "<table id=\"T_84168\" class=\"dataframe\">\n",
              "  <thead>\n",
              "    <tr>\n",
              "      <th class=\"blank level0\" >&nbsp;</th>\n",
              "      <th id=\"T_84168_level0_col0\" class=\"col_heading level0 col0\" >Feature</th>\n",
              "      <th id=\"T_84168_level0_col1\" class=\"col_heading level0 col1\" >Sum of Importances</th>\n",
              "    </tr>\n",
              "  </thead>\n",
              "  <tbody>\n",
              "    <tr>\n",
              "      <th id=\"T_84168_level0_row0\" class=\"row_heading level0 row0\" >26</th>\n",
              "      <td id=\"T_84168_row0_col0\" class=\"data row0 col0\" >TUR</td>\n",
              "      <td id=\"T_84168_row0_col1\" class=\"data row0 col1\" >0.303061</td>\n",
              "    </tr>\n",
              "    <tr>\n",
              "      <th id=\"T_84168_level0_row1\" class=\"row_heading level0 row1\" >27</th>\n",
              "      <td id=\"T_84168_row1_col0\" class=\"data row1 col0\" >SPM</td>\n",
              "      <td id=\"T_84168_row1_col1\" class=\"data row1 col1\" >0.315086</td>\n",
              "    </tr>\n",
              "    <tr>\n",
              "      <th id=\"T_84168_level0_row2\" class=\"row_heading level0 row2\" >28</th>\n",
              "      <td id=\"T_84168_row2_col0\" class=\"data row2 col0\" >CHL</td>\n",
              "      <td id=\"T_84168_row2_col1\" class=\"data row2 col1\" >0.356870</td>\n",
              "    </tr>\n",
              "  </tbody>\n",
              "</table>\n"
            ],
            "text/plain": [
              "<pandas.io.formats.style.Styler at 0x7fec89967580>"
            ]
          },
          "execution_count": 18,
          "metadata": {},
          "output_type": "execute_result"
        }
      ],
      "source": [
        "df_importances[-3:].style.apply(highlight_max, subset=['Sum of Importances'])"
      ]
    },
    {
      "cell_type": "code",
      "execution_count": null,
      "metadata": {
        "colab": {
          "base_uri": "https://localhost:8080/",
          "height": 112
        },
        "id": "c43kppyIM30j",
        "outputId": "bb33d931-7ca3-4ecf-c267-24997fcad05e"
      },
      "outputs": [
        {
          "data": {
            "text/html": [
              "\n",
              "  <div id=\"df-ae183025-1b6a-483b-b5c5-c6e7725407b5\">\n",
              "    <div class=\"colab-df-container\">\n",
              "      <div>\n",
              "<style scoped>\n",
              "    .dataframe tbody tr th:only-of-type {\n",
              "        vertical-align: middle;\n",
              "    }\n",
              "\n",
              "    .dataframe tbody tr th {\n",
              "        vertical-align: top;\n",
              "    }\n",
              "\n",
              "    .dataframe thead th {\n",
              "        text-align: right;\n",
              "    }\n",
              "</style>\n",
              "<table border=\"1\" class=\"dataframe\">\n",
              "  <thead>\n",
              "    <tr style=\"text-align: right;\">\n",
              "      <th></th>\n",
              "      <th>Precision</th>\n",
              "      <th>Recall</th>\n",
              "      <th>f1</th>\n",
              "      <th>acc</th>\n",
              "      <th>AUC</th>\n",
              "      <th>Model</th>\n",
              "      <th>Sub-Model</th>\n",
              "    </tr>\n",
              "  </thead>\n",
              "  <tbody>\n",
              "    <tr>\n",
              "      <th>0</th>\n",
              "      <td>0.428571</td>\n",
              "      <td>0.075949</td>\n",
              "      <td>0.129032</td>\n",
              "      <td>0.977857</td>\n",
              "      <td>0.781774</td>\n",
              "      <td>Random Forest</td>\n",
              "      <td>Fill NaN with mean df</td>\n",
              "    </tr>\n",
              "    <tr>\n",
              "      <th>1</th>\n",
              "      <td>0.416667</td>\n",
              "      <td>0.063291</td>\n",
              "      <td>0.109890</td>\n",
              "      <td>0.977857</td>\n",
              "      <td>0.781942</td>\n",
              "      <td>Random Forest</td>\n",
              "      <td>Fill NaN with -10 df</td>\n",
              "    </tr>\n",
              "  </tbody>\n",
              "</table>\n",
              "</div>\n",
              "      <button class=\"colab-df-convert\" onclick=\"convertToInteractive('df-ae183025-1b6a-483b-b5c5-c6e7725407b5')\"\n",
              "              title=\"Convert this dataframe to an interactive table.\"\n",
              "              style=\"display:none;\">\n",
              "        \n",
              "  <svg xmlns=\"http://www.w3.org/2000/svg\" height=\"24px\"viewBox=\"0 0 24 24\"\n",
              "       width=\"24px\">\n",
              "    <path d=\"M0 0h24v24H0V0z\" fill=\"none\"/>\n",
              "    <path d=\"M18.56 5.44l.94 2.06.94-2.06 2.06-.94-2.06-.94-.94-2.06-.94 2.06-2.06.94zm-11 1L8.5 8.5l.94-2.06 2.06-.94-2.06-.94L8.5 2.5l-.94 2.06-2.06.94zm10 10l.94 2.06.94-2.06 2.06-.94-2.06-.94-.94-2.06-.94 2.06-2.06.94z\"/><path d=\"M17.41 7.96l-1.37-1.37c-.4-.4-.92-.59-1.43-.59-.52 0-1.04.2-1.43.59L10.3 9.45l-7.72 7.72c-.78.78-.78 2.05 0 2.83L4 21.41c.39.39.9.59 1.41.59.51 0 1.02-.2 1.41-.59l7.78-7.78 2.81-2.81c.8-.78.8-2.07 0-2.86zM5.41 20L4 18.59l7.72-7.72 1.47 1.35L5.41 20z\"/>\n",
              "  </svg>\n",
              "      </button>\n",
              "      \n",
              "  <style>\n",
              "    .colab-df-container {\n",
              "      display:flex;\n",
              "      flex-wrap:wrap;\n",
              "      gap: 12px;\n",
              "    }\n",
              "\n",
              "    .colab-df-convert {\n",
              "      background-color: #E8F0FE;\n",
              "      border: none;\n",
              "      border-radius: 50%;\n",
              "      cursor: pointer;\n",
              "      display: none;\n",
              "      fill: #1967D2;\n",
              "      height: 32px;\n",
              "      padding: 0 0 0 0;\n",
              "      width: 32px;\n",
              "    }\n",
              "\n",
              "    .colab-df-convert:hover {\n",
              "      background-color: #E2EBFA;\n",
              "      box-shadow: 0px 1px 2px rgba(60, 64, 67, 0.3), 0px 1px 3px 1px rgba(60, 64, 67, 0.15);\n",
              "      fill: #174EA6;\n",
              "    }\n",
              "\n",
              "    [theme=dark] .colab-df-convert {\n",
              "      background-color: #3B4455;\n",
              "      fill: #D2E3FC;\n",
              "    }\n",
              "\n",
              "    [theme=dark] .colab-df-convert:hover {\n",
              "      background-color: #434B5C;\n",
              "      box-shadow: 0px 1px 3px 1px rgba(0, 0, 0, 0.15);\n",
              "      filter: drop-shadow(0px 1px 2px rgba(0, 0, 0, 0.3));\n",
              "      fill: #FFFFFF;\n",
              "    }\n",
              "  </style>\n",
              "\n",
              "      <script>\n",
              "        const buttonEl =\n",
              "          document.querySelector('#df-ae183025-1b6a-483b-b5c5-c6e7725407b5 button.colab-df-convert');\n",
              "        buttonEl.style.display =\n",
              "          google.colab.kernel.accessAllowed ? 'block' : 'none';\n",
              "\n",
              "        async function convertToInteractive(key) {\n",
              "          const element = document.querySelector('#df-ae183025-1b6a-483b-b5c5-c6e7725407b5');\n",
              "          const dataTable =\n",
              "            await google.colab.kernel.invokeFunction('convertToInteractive',\n",
              "                                                     [key], {});\n",
              "          if (!dataTable) return;\n",
              "\n",
              "          const docLinkHtml = 'Like what you see? Visit the ' +\n",
              "            '<a target=\"_blank\" href=https://colab.research.google.com/notebooks/data_table.ipynb>data table notebook</a>'\n",
              "            + ' to learn more about interactive tables.';\n",
              "          element.innerHTML = '';\n",
              "          dataTable['output_type'] = 'display_data';\n",
              "          await google.colab.output.renderOutput(dataTable, element);\n",
              "          const docLink = document.createElement('div');\n",
              "          docLink.innerHTML = docLinkHtml;\n",
              "          element.appendChild(docLink);\n",
              "        }\n",
              "      </script>\n",
              "    </div>\n",
              "  </div>\n",
              "  "
            ],
            "text/plain": [
              "   Precision    Recall        f1       acc       AUC          Model  \\\n",
              "0   0.428571  0.075949  0.129032  0.977857  0.781774  Random Forest   \n",
              "1   0.416667  0.063291  0.109890  0.977857  0.781942  Random Forest   \n",
              "\n",
              "               Sub-Model  \n",
              "0  Fill NaN with mean df  \n",
              "1   Fill NaN with -10 df  "
            ]
          },
          "execution_count": 42,
          "metadata": {},
          "output_type": "execute_result"
        }
      ],
      "source": [
        "results_df_rf"
      ]
    },
    {
      "cell_type": "markdown",
      "metadata": {
        "id": "HqmPxsTQM30j"
      },
      "source": [
        "## NN"
      ]
    },
    {
      "cell_type": "markdown",
      "metadata": {
        "id": "kweB7fnOM30j"
      },
      "source": [
        "### Helper Functions"
      ]
    },
    {
      "cell_type": "markdown",
      "metadata": {
        "id": "wG9pjA12XV_n"
      },
      "source": [
        "#### Reshaping Data as Tensors"
      ]
    },
    {
      "cell_type": "code",
      "execution_count": null,
      "metadata": {
        "id": "ixN0KB4UM30j"
      },
      "outputs": [],
      "source": [
        "def get_train_test_val_nn(input_data, train_labels, test_labels, dim = 51, oversampling = False, desired_pos_ratio =  0.5, train_val_ratio = 0.8):\n",
        "    '''\n",
        "    Gets train, test and validation datasets for a neural network model.\n",
        "\n",
        "    input:\n",
        "        - input_data (pd.DataFrame):\n",
        "            - dataframe of shape (m, n)\n",
        "            - number of datapoints = m\n",
        "            - features to consider = n-1\n",
        "            - one of the columns = 'riskLevelLabel'\n",
        "\n",
        "        - train_labels / test_labels (pd.DataFrame):\n",
        "            - dataframe with two columns 'time' and 'site'\n",
        "            - time and site pairs for train/test data\n",
        "\n",
        "        - oversampling (boolean):\n",
        "            - Whether oversampling should be performed\n",
        "\n",
        "        - desired_pos_ratio (float):\n",
        "            - desired ratio of positive samples when performing random oversampling\n",
        "\n",
        "        - train_val_ratio (float):\n",
        "            - ratio of training data to validation data\n",
        "\n",
        "    output:\n",
        "        - X_train (tensor)\n",
        "        - X_test (tensor)\n",
        "        - X_val (tensor)\n",
        "        - y_train (np.array)\n",
        "        - y_test (np.array)\n",
        "        - y_val (np.array)\n",
        "    '''\n",
        "    train = pd.merge(train_labels, input_data, on=['time', 'site'])\n",
        "    test = pd.merge(test_labels, input_data, on=['time', 'site'])\n",
        "\n",
        "    # Changing window size\n",
        "    # w = int((dim-1)/2)\n",
        "\n",
        "    # def get_windowed_data(row):\n",
        "    #     indices = np.array(range(1,122)).reshape(11,11)[5-w:6+w, 5-w:6+w].flatten()\n",
        "    #     indices = [i-1 for i in indices]\n",
        "    #     values = row.flatten()[[indices]].reshape(dim,dim)\n",
        "    #     return values\n",
        "\n",
        "    # if dim != 51:\n",
        "    #     train['CHL'] = train['CHL'].apply(get_windowed_data)\n",
        "    #     train['TUR'] = train['TUR'].apply(get_windowed_data)\n",
        "    #     train['SPM'] = train['SPM'].apply(get_windowed_data)\n",
        "    #     test['CHL'] = test['CHL'].apply(get_windowed_data)\n",
        "    #     test['TUR'] = test['TUR'].apply(get_windowed_data)\n",
        "    #     test['SPM'] = test['SPM'].apply(get_windowed_data)\n",
        "\n",
        "    # Getting X and y\n",
        "    features_column_names = list(input_data.columns)\n",
        "    for x in ['riskLevelLabel', 'time', 'site']:\n",
        "        features_column_names.remove(x)\n",
        "\n",
        "    X_train, X_test = train[features_column_names], test[features_column_names]\n",
        "    y_train = train['riskLevelLabel']\n",
        "    y_test = test['riskLevelLabel']\n",
        "\n",
        "    # Train Validation Split\n",
        "    i = int(X_train.shape[0] * train_val_ratio)\n",
        "    X_val, y_val = X_train[i:], y_train[i:]\n",
        "    X_train, y_train = X_train[:i], y_train[:i]\n",
        "\n",
        "    # Oversampling for training data\n",
        "    if oversampling:\n",
        "        # Counting number of samples to oversample\n",
        "        num_positives, num_negatives = sum(y_train), len(y_train)-sum(y_train)\n",
        "        num_positives_to_repeat = int(desired_pos_ratio * num_negatives * 2) - num_positives\n",
        "\n",
        "        # Oversampling\n",
        "        ros = RandomOverSampler(sampling_strategy={1: num_positives_to_repeat}, random_state=42)\n",
        "        X_train, y_train = ros.fit_resample(X_train, y_train)\n",
        "\n",
        "    X_dfs = []\n",
        "    for X_df in [X_train, X_test, X_val]:\n",
        "\n",
        "        # Reshape and Convert to Tensor\n",
        "        if X_df.shape[1] == 1:\n",
        "            X_df = np.array([i for i in X_df[features_column_names[0]]])\n",
        "            X_df = tf.convert_to_tensor(X_df)\n",
        "            X_df = tf.expand_dims(X_df, axis=3, name=None)\n",
        "        else:\n",
        "            X_df = np.stack([np.stack(X_df[col].values) for col in X_df.columns], axis=1)\n",
        "            X_df = np.transpose(X_df, (0, 2, 3, 1))\n",
        "            X_df = tf.convert_to_tensor(X_df)\n",
        "\n",
        "        # Padding\n",
        "#         X_df = tf.pad(X_df, [[0, 0], [16-w,15-w], [16-w,15-w], [0,0]])\n",
        "\n",
        "        # Append\n",
        "        X_dfs.append(X_df)\n",
        "\n",
        "    X_train, X_test, X_val = X_dfs\n",
        "\n",
        "    y_train = y_train.astype('float32')\n",
        "    y_test = y_test.astype('float32')\n",
        "    y_val = y_val.astype('float32')\n",
        "\n",
        "    return {'X_train': X_train,\n",
        "            'X_test': X_test,\n",
        "            'X_val': X_val,\n",
        "            'y_train': y_train,\n",
        "            'y_test': y_test,\n",
        "            'y_val': y_val}"
      ]
    },
    {
      "cell_type": "code",
      "execution_count": null,
      "metadata": {
        "id": "8_xAJjEJM30j"
      },
      "outputs": [],
      "source": [
        "# Custom F1 Score\n",
        "\n",
        "from tensorflow.keras import backend as K\n",
        "def f1(y_true, y_pred):\n",
        "    def recall_m(y_true, y_pred):\n",
        "        TP = K.sum(K.round(K.clip(y_true * y_pred, 0, 1)))\n",
        "        Positives = K.sum(K.round(K.clip(y_true, 0, 1)))\n",
        "\n",
        "        recall = TP / (Positives+K.epsilon())\n",
        "        return recall\n",
        "\n",
        "\n",
        "    def precision_m(y_true, y_pred):\n",
        "        TP = K.sum(K.round(K.clip(y_true * y_pred, 0, 1)))\n",
        "        Pred_Positives = K.sum(K.round(K.clip(y_pred, 0, 1)))\n",
        "\n",
        "        precision = TP / (Pred_Positives+K.epsilon())\n",
        "        return precision\n",
        "\n",
        "    precision, recall = precision_m(y_true, y_pred), recall_m(y_true, y_pred)\n",
        "\n",
        "    return 2*((precision*recall)/(precision+recall+K.epsilon()))\n",
        "\n",
        "# custom loss function\n",
        "def wbce_custom(weight1_=30):\n",
        "\n",
        "    def wbce(y_true, y_pred, weight1=weight1_, weight0=1.):\n",
        "\n",
        "        tf.cast(y_true, tf.float32)\n",
        "        tf.cast(y_pred, tf.float32)\n",
        "        logloss = -(y_true * K.log(y_pred) * weight1 + (1 - y_true) * K.log(1 - y_pred) * weight0 )\n",
        "\n",
        "        return K.mean(logloss, axis=-1)\n",
        "\n",
        "    return wbce"
      ]
    },
    {
      "cell_type": "markdown",
      "metadata": {
        "id": "OnAa8YjDXMnx"
      },
      "source": [
        "#### Fitting NN Model (Model Specifications)"
      ]
    },
    {
      "cell_type": "code",
      "execution_count": null,
      "metadata": {
        "id": "rJVnzvojM30j"
      },
      "outputs": [],
      "source": [
        "def fit_nn(xy_data, model_type=\"convolution\", existing_model=None, metrics=['acc','AUC','Precision','Recall', f1],\n",
        "           loss=wbce_custom, optimizer='adam',\n",
        "          batch_size=64, epochs=20, dropout=0.8):\n",
        "    '''\n",
        "    xy_data: dictionary with X_train, X_test, X_val, y_train, y_test, y_val in this order (dict)\n",
        "    model_type: \"baseline\"/\"convolution\" (string)\n",
        "    loss: \"binary_crossentropy\" (string)\n",
        "    metrics: list of metrics to track. available metrics are: (list of string/function)\n",
        "        - \"acc\"\n",
        "        - \"AUC\"\n",
        "        - \"Precision\"\n",
        "        - \"Recall\"\n",
        "        - f1\n",
        "    '''\n",
        "\n",
        "    # unpacking data\n",
        "    X_train, X_test, X_val, y_train, y_test, y_val = xy_data.values()\n",
        "\n",
        "    # building model\n",
        "\n",
        "    if existing_model==None:\n",
        "      model = models.Sequential()\n",
        "\n",
        "      if model_type == \"baseline\":\n",
        "          model.add(layers.AveragePooling2D(pool_size=4, strides=4, input_shape=X_train.shape[1:]))\n",
        "          model.add(layers.Flatten())\n",
        "          model.add(layers.Dense(10, activation='relu'))\n",
        "          model.add(layers.Dense(1, activation=\"sigmoid\"))\n",
        "\n",
        "      elif model_type == \"convolution\":\n",
        "          model.add(layers.Conv2D(filters=3, kernel_size=3, activation='relu', padding='same', input_shape=X_train.shape[1:]))\n",
        "          model.add(layers.AveragePooling2D(pool_size=4, strides=4))\n",
        "          model.add(layers.AveragePooling2D(pool_size=4, strides=4))\n",
        "          model.add(layers.Flatten())\n",
        "          model.add(layers.Dense(10, activation='relu'))\n",
        "          model.add(layers.Dropout(dropout))\n",
        "          model.add(layers.Dense(5, activation='relu'))\n",
        "          model.add(layers.Dropout(dropout))\n",
        "          model.add(layers.Dense(1, activation='sigmoid'))\n",
        "\n",
        "      else:\n",
        "          print('Model Type Undefined')\n",
        "\n",
        "      model.compile(optimizer=optimizer, loss=loss, metrics=metrics)\n",
        "      print(model.optimizer.get_config())\n",
        "\n",
        "    else:\n",
        "      model = existing_model\n",
        "\n",
        "    # Fit Model\n",
        "    history = model.fit(X_train, y_train, batch_size=batch_size, epochs=epochs, validation_data=(X_val, y_val), callbacks=[GarbageCollectorCallback()])\n",
        "\n",
        "    # Evaluate Model\n",
        "    result = model.evaluate(X_test, y_test, callbacks=[GarbageCollectorCallback()])\n",
        "\n",
        "    for i in [X_train, X_test, X_val, y_train, y_test, y_val]:\n",
        "      del i\n",
        "    gc.collect()\n",
        "\n",
        "    return model, history, result"
      ]
    },
    {
      "cell_type": "code",
      "source": [
        "class GarbageCollectorCallback(tf.keras.callbacks.Callback):\n",
        "    def on_epoch_end(self, epoch, logs=None):\n",
        "        gc.collect()"
      ],
      "metadata": {
        "id": "geJfSI_osOUE"
      },
      "execution_count": null,
      "outputs": []
    },
    {
      "cell_type": "code",
      "execution_count": null,
      "metadata": {
        "id": "ykHPdYLKsnlk"
      },
      "outputs": [],
      "source": [
        "def run_nn(num_feature=3, model_type=\"convolution\", batch_size=64, epochs=100,\n",
        "           loss=wbce_custom(50), optimizer=Adam(learning_rate=0.0001),\n",
        "           existing_model = None, metrics=[\"f1\"], dropout=0.8):\n",
        "\n",
        "    # Getting Input Data\n",
        "    if num_feature == 1:\n",
        "        input_data_ = sites_data[['CHL', 'riskLevelLabel', 'site', 'time']]\n",
        "\n",
        "    elif num_feature == 3:\n",
        "        input_data_ = sites_data[['CHL', 'SPM', 'TUR', 'riskLevelLabel', 'site', 'time']]\n",
        "\n",
        "    else:\n",
        "      print('Number of features Error')\n",
        "\n",
        "    # Getting xy_data\n",
        "    xy_data = get_train_test_val_nn(input_data_,\n",
        "                          time_site_pairs_train,\n",
        "                          time_site_pairs_test)\n",
        "\n",
        "    # Get history and result\n",
        "    model_, history, result = fit_nn(xy_data, model_type, existing_model = existing_model,\n",
        "                                     batch_size=batch_size, epochs=epochs, loss=loss,\n",
        "                                     optimizer=optimizer, dropout=dropout)\n",
        "\n",
        "    # Plot\n",
        "    plot_train_val_loss(history.history, metrics=metrics)\n",
        "\n",
        "    del xy_data\n",
        "    gc.collect()\n",
        "\n",
        "    return model_, history, result"
      ]
    },
    {
      "cell_type": "markdown",
      "metadata": {
        "id": "-hfnHrElXTDp"
      },
      "source": [
        "#### Plotting Functions"
      ]
    },
    {
      "cell_type": "code",
      "execution_count": null,
      "metadata": {
        "id": "CiSo_cEfbBzI"
      },
      "outputs": [],
      "source": [
        "def confusion_matrix_plot(model, num_feature=3, oversampling__=False):\n",
        "\n",
        "    if num_feature == 1:\n",
        "        input_data_ = sites_data[['CHL', 'riskLevelLabel', 'site', 'time']]\n",
        "\n",
        "    elif num_feature == 3:\n",
        "        input_data_ = sites_data[['CHL', 'SPM', 'TUR', 'riskLevelLabel', 'site', 'time']]\n",
        "\n",
        "    # Getting xy_data\n",
        "    xy_data = get_train_test_val_nn(input_data_,\n",
        "                           time_site_pairs_train,\n",
        "                           time_site_pairs_test,\n",
        "                           oversampling = oversampling__)\n",
        "\n",
        "    X_test = xy_data['X_test']\n",
        "    y_test = xy_data['y_test']\n",
        "\n",
        "    preds = model.predict(X_test)\n",
        "    y_pred = np.where(preds>0.5,1,0)\n",
        "    cm = confusion_matrix(y_test, y_pred)\n",
        "\n",
        "    fig, ax = plt.subplots(figsize=(4,4))\n",
        "    ax.imshow(cm)\n",
        "    ax.grid(False)\n",
        "    ax.xaxis.set(ticks=(0, 1), ticklabels=('Predicted 0s', 'Predicted 1s'))\n",
        "    ax.yaxis.set(ticks=(0, 1), ticklabels=('Actual 0s', 'Actual 1s'))\n",
        "    ax.set_ylim(1.5, -0.5)\n",
        "    for i in range(2):\n",
        "        for j in range(2):\n",
        "            ax.text(j, i, cm[i, j], ha='center', va='center', color='red')\n",
        "    plt.show()"
      ]
    },
    {
      "cell_type": "code",
      "execution_count": null,
      "metadata": {
        "id": "ZaJTTR3nM30k"
      },
      "outputs": [],
      "source": [
        "def plot_train_val_loss(his, metrics=['f1', 'precision', 'recall']):\n",
        "    '''\n",
        "    input:\n",
        "        - history (dictionary)\n",
        "        - metrics (list of strings)\n",
        "    output: 2 graphs\n",
        "    '''\n",
        "    fig, axs = plt.subplots(len(metrics)+1, 1, figsize=(5,5+len(metrics)*2))\n",
        "    fig.tight_layout(pad=5)\n",
        "    axs[0].plot(his['loss'])\n",
        "    axs[0].plot(his['val_loss'])\n",
        "    axs[0].title.set_text('Training Loss vs Validation Loss')\n",
        "    axs[0].set_xlabel(\"Epochs\")\n",
        "    axs[0].set_ylabel(\"Loss\")\n",
        "    axs[0].legend(['Training', 'Validation'])\n",
        "\n",
        "    for j, metric in enumerate(metrics):\n",
        "        axs[j+1].plot(his[f'{metric}'])\n",
        "        axs[j+1].plot(his[f'val_{metric}'])\n",
        "        axs[j+1].title.set_text(f'Training {metric} vs Validation {metric}')\n",
        "        axs[j+1].legend(['Training', 'Validation'])\n",
        "        axs[j+1].set_xlabel(\"Epochs\")\n",
        "        axs[j+1].set_ylabel(f\"{metric}\")"
      ]
    },
    {
      "cell_type": "code",
      "execution_count": null,
      "metadata": {
        "id": "2xsH78d7Pdo_"
      },
      "outputs": [],
      "source": [
        "def get_combined_history(history_list):\n",
        "  '''\n",
        "  history_list (list): list of dictionaries containing histories, in order\n",
        "  '''\n",
        "  dd = defaultdict(list)\n",
        "  all_history = {}\n",
        "\n",
        "  for d in [old_history, history.history]:\n",
        "    for key, value in d.items():\n",
        "      dd[key].append(value)\n",
        "\n",
        "  for key, value in dd.items():\n",
        "      all_history[key] = [item for sublist in value for item in sublist]\n",
        "\n",
        "  return all_history"
      ]
    },
    {
      "cell_type": "markdown",
      "metadata": {
        "id": "42b7DOTtM30k"
      },
      "source": [
        "### Training Models"
      ]
    },
    {
      "cell_type": "markdown",
      "metadata": {
        "id": "orGBi9j_QSm6"
      },
      "source": [
        "#### Training From Scratch"
      ]
    },
    {
      "cell_type": "markdown",
      "metadata": {
        "id": "Inlpz-2fyRS-"
      },
      "source": [
        "##### Without Cross Validation"
      ]
    },
    {
      "cell_type": "code",
      "execution_count": null,
      "metadata": {
        "colab": {
          "base_uri": "https://localhost:8080/",
          "height": 868
        },
        "id": "iZBA7FJpdPQ7",
        "outputId": "4c758d98-cadc-48c2-c1a9-1b59e139a92a"
      },
      "outputs": [
        {
          "output_type": "stream",
          "name": "stdout",
          "text": [
            "2023-06-29 11:03:21.008525\n",
            "{'name': 'Adam', 'learning_rate': 0.0001, 'decay': 0.0, 'beta_1': 0.9, 'beta_2': 0.999, 'epsilon': 1e-07, 'amsgrad': False}\n",
            "Epoch 1/3\n",
            "525/525 [==============================] - 15s 10ms/step - loss: 1.7048 - acc: 0.4984 - auc: 0.5347 - precision: 0.0322 - recall: 0.5573 - f1: 0.0571 - val_loss: 1.5353 - val_acc: 0.4466 - val_auc: 0.5357 - val_precision: 0.0289 - val_recall: 0.6538 - val_f1: 0.0539\n",
            "Epoch 2/3\n",
            "525/525 [==============================] - 5s 10ms/step - loss: 1.6775 - acc: 0.2802 - auc: 0.5472 - precision: 0.0322 - recall: 0.8149 - f1: 0.0604 - val_loss: 1.5263 - val_acc: 0.2672 - val_auc: 0.5667 - val_precision: 0.0262 - val_recall: 0.7885 - val_f1: 0.0494\n",
            "Epoch 3/3\n",
            "525/525 [==============================] - 4s 8ms/step - loss: 1.6619 - acc: 0.1667 - auc: 0.5574 - precision: 0.0302 - recall: 0.8865 - f1: 0.0578 - val_loss: 1.5207 - val_acc: 0.1358 - val_auc: 0.5686 - val_precision: 0.0247 - val_recall: 0.8798 - val_f1: 0.0471\n",
            "328/328 [==============================] - 2s 5ms/step - loss: 1.5674 - acc: 0.1309 - auc: 0.5314 - precision: 0.0259 - recall: 0.8832 - f1: 0.0488\n",
            "2023-06-29 11:04:16.778557\n",
            "CPU times: user 26.7 s, sys: 13.6 s, total: 40.4 s\n",
            "Wall time: 55.8 s\n"
          ]
        },
        {
          "output_type": "display_data",
          "data": {
            "text/plain": [
              "<Figure size 500x700 with 2 Axes>"
            ],
            "image/png": "[encoded data removed]"
          },
          "metadata": {}
        }
      ],
      "source": [
        "%%time\n",
        "\n",
        "# start time\n",
        "print(datetime.now())\n",
        "\n",
        "# run model\n",
        "model, history, result = run_nn(num_feature=3, model_type=\"convolution\", batch_size=64, epochs=3,\n",
        "           loss=wbce_custom(50), optimizer=Adam(learning_rate=0.0001), dropout=0.25,\n",
        "           existing_model = None, metrics=['f1'])\n",
        "\n",
        "# clear_output(wait=True)\n",
        "# K.clear_session()\n",
        "# tf.compat.v1.reset_default_graph()\n",
        "# gc.collect()\n",
        "\n",
        "# end time\n",
        "print(datetime.now())"
      ]
    },
    {
      "cell_type": "markdown",
      "metadata": {
        "id": "CQ2WRerRdX5E"
      },
      "source": [
        "##### With Cross Validation (Takes up too much RAM)"
      ]
    },
    {
      "cell_type": "code",
      "execution_count": null,
      "metadata": {
        "colab": {
          "base_uri": "https://localhost:8080/",
          "height": 149
        },
        "id": "a9Qp17GxM30k",
        "outputId": "eaae339e-d0ca-4526-a70e-50e79f2b71d9"
      },
      "outputs": [
        {
          "ename": "NameError",
          "evalue": "ignored",
          "output_type": "error",
          "traceback": [
            "\u001b[0;31m---------------------------------------------------------------------------\u001b[0m",
            "\u001b[0;31mNameError\u001b[0m                                 Traceback (most recent call last)",
            "\u001b[0;32m<timed exec>\u001b[0m in \u001b[0;36m<module>\u001b[0;34m\u001b[0m\n",
            "\u001b[0;31mNameError\u001b[0m: name 'gc' is not defined"
          ]
        }
      ],
      "source": [
        "# %%time\n",
        "\n",
        "# model_types = [\"convolution\"]\n",
        "# num_features = [3]\n",
        "# i = 0\n",
        "\n",
        "# for model_type, num_feature in itertools.product(model_types, num_features):\n",
        "\n",
        "#     for j in range(5):\n",
        "#       # Getting Input Data\n",
        "#       if num_feature == 1:\n",
        "#           input_data_ = sites_data[['CHL', 'riskLevelLabel', 'site', 'time']]\n",
        "\n",
        "#       elif num_feature == 3:\n",
        "#           input_data_ = sites_data[['CHL', 'SPM', 'TUR', 'riskLevelLabel', 'site', 'time']]\n",
        "\n",
        "#       # Getting xy_data\n",
        "#       xy_data = get_train_test_val_nn(input_data_,\n",
        "#                             train_test_dict[f'train_{j+1}'],\n",
        "#                             train_test_dict[f'test_{j+1}'])\n",
        "\n",
        "#       # Get history and result\n",
        "#       model_, history, result = fit_nn(xy_data, model_type, batch_size=32, epochs=3, loss=wbce_custom(50), optimizer=Adam(learning_rate=0.0005))\n",
        "#       model_list.append(model_)\n",
        "#       histories.append(history)\n",
        "#       results.append(result)\n",
        "\n",
        "#       i += 1\n",
        "#       clear_output(wait=True)\n",
        "\n",
        "#       K.clear_session()\n",
        "#       tf.compat.v1.reset_default_graph()\n",
        "#       gc.collect()\n",
        "\n",
        "#       print(f'Progress: {i}/{len(model_types)*len(num_features)*5}')\n",
        "#       print(datetime.now())"
      ]
    },
    {
      "cell_type": "markdown",
      "metadata": {
        "id": "VY6Q610dder6"
      },
      "source": [
        "##### Save Model"
      ]
    },
    {
      "cell_type": "code",
      "execution_count": null,
      "metadata": {
        "id": "o_Wr3Fjwdr4l"
      },
      "outputs": [],
      "source": [
        "# Save Model\n",
        "\n",
        "# model name\n",
        "now = datetime.now()\n",
        "day, month, time = now.day, now.month, now.strftime(\"%H%M\")\n",
        "model_name = f\"nn_51x51_{month}_{day}_{time}\"\n",
        "\n",
        "# save model\n",
        "model.save(f'/content/drive/My Drive/CapstoneProject/Models/{model_name}.keras')\n",
        "\n",
        "# save history\n",
        "with open(f'/content/drive/My Drive/CapstoneProject/Models/{model_name}_hist', 'wb') as file_pi:\n",
        "  pickle.dump(history.history, file_pi)\n",
        "\n",
        "# save notes about model\n",
        "model_notes = 'num_feature=3, model_type=\"convolution\", batch_size=64, epochs=500, \\\n",
        "           loss=wbce_custom(50), optimizer=Adam(learning_rate=0.0001), dropout=0.25, \\\n",
        "           existing_model = None, metrics=[\"f1\"]'\n",
        "\n",
        "model_notes_row = [model_name, model_notes]\n",
        "\n",
        "with open('/content/drive/My Drive/CapstoneProject/Models/model_notes.csv', 'a') as f:\n",
        "  writer = writer(f)\n",
        "  writer.writerow(model_notes_row)\n",
        "  f.close()"
      ]
    },
    {
      "cell_type": "code",
      "source": [
        "del model\n",
        "del history\n",
        "del result\n",
        "gc.collect()"
      ],
      "metadata": {
        "colab": {
          "base_uri": "https://localhost:8080/"
        },
        "id": "WxeFhWesldyu",
        "outputId": "866a9896-84cd-4a9b-cc74-de713e9a7c1f"
      },
      "execution_count": null,
      "outputs": [
        {
          "output_type": "execute_result",
          "data": {
            "text/plain": [
              "6669"
            ]
          },
          "metadata": {},
          "execution_count": 21
        }
      ]
    },
    {
      "cell_type": "code",
      "source": [
        "del model_notes\n",
        "del model_notes_row\n",
        "del writer\n",
        "del model_name\n",
        "gc.collect()"
      ],
      "metadata": {
        "colab": {
          "base_uri": "https://localhost:8080/"
        },
        "id": "BoxF2WERqUJX",
        "outputId": "2cc218f1-4e31-42f8-fefc-48ea4173d7c4"
      },
      "execution_count": null,
      "outputs": [
        {
          "output_type": "execute_result",
          "data": {
            "text/plain": [
              "2076"
            ]
          },
          "metadata": {},
          "execution_count": 22
        }
      ]
    },
    {
      "cell_type": "code",
      "source": [
        "K.clear_session()\n",
        "tf.compat.v1.reset_default_graph()\n",
        "gc.collect()"
      ],
      "metadata": {
        "colab": {
          "base_uri": "https://localhost:8080/"
        },
        "id": "j27usi7vlqo1",
        "outputId": "59888766-aca6-454c-a1e0-ee223c50c648"
      },
      "execution_count": null,
      "outputs": [
        {
          "output_type": "execute_result",
          "data": {
            "text/plain": [
              "0"
            ]
          },
          "metadata": {},
          "execution_count": 23
        }
      ]
    },
    {
      "cell_type": "code",
      "source": [
        "del sites_data\n",
        "gc.collect()"
      ],
      "metadata": {
        "colab": {
          "base_uri": "https://localhost:8080/"
        },
        "id": "wRp15jafqgZj",
        "outputId": "bda3dc26-11a9-4dde-f566-2f3bb9d11ab4"
      },
      "execution_count": null,
      "outputs": [
        {
          "output_type": "execute_result",
          "data": {
            "text/plain": [
              "0"
            ]
          },
          "metadata": {},
          "execution_count": 31
        }
      ]
    },
    {
      "cell_type": "code",
      "source": [
        "import sys\n",
        "def sizeof_fmt(num, suffix='B'):\n",
        "    ''' by Fred Cirera,  https://stackoverflow.com/a/1094933/1870254, modified'''\n",
        "    for unit in ['','Ki','Mi','Gi','Ti','Pi','Ei','Zi']:\n",
        "        if abs(num) < 1024.0:\n",
        "            return \"%3.1f %s%s\" % (num, unit, suffix)\n",
        "        num /= 1024.0\n",
        "    return \"%.1f %s%s\" % (num, 'Yi', suffix)\n",
        "\n",
        "for name, size in sorted(((name, sys.getsizeof(value)) for name, value in locals().items()),\n",
        "                         key= lambda x: -x[1])[:10]:\n",
        "    print(\"{:>30}: {:>8}\".format(name, sizeof_fmt(size)))"
      ],
      "metadata": {
        "colab": {
          "base_uri": "https://localhost:8080/"
        },
        "id": "xrurCkNFrJ3-",
        "outputId": "6b2d853a-b89c-4104-9a21-8200d285f6f1"
      },
      "execution_count": null,
      "outputs": [
        {
          "output_type": "stream",
          "name": "stdout",
          "text": [
            "                    sites_data: 28.8 MiB\n",
            "                            _5: 28.8 MiB\n",
            "               time_site_pairs:  6.8 MiB\n",
            "     time_site_pairs_train_new:  6.8 MiB\n",
            "         time_site_pairs_train:  5.8 MiB\n",
            "                            _8:  5.8 MiB\n",
            "          time_site_pairs_test:  1.7 MiB\n",
            "                            _7:  1.7 MiB\n",
            "                          _i11:  3.8 KiB\n",
            "                          _i13:  2.3 KiB\n"
          ]
        }
      ]
    },
    {
      "cell_type": "markdown",
      "metadata": {
        "id": "7_MflnfHQXCz"
      },
      "source": [
        "#### Training From Existing Model"
      ]
    },
    {
      "cell_type": "markdown",
      "metadata": {
        "id": "qbDjSSIaoPmH"
      },
      "source": [
        "##### Load Model From File"
      ]
    },
    {
      "cell_type": "code",
      "execution_count": null,
      "metadata": {
        "colab": {
          "base_uri": "https://localhost:8080/"
        },
        "id": "Paz-QwSVn2o_",
        "outputId": "7300b85b-ca7b-444d-d86e-011ae520e5c2"
      },
      "outputs": [
        {
          "output_type": "stream",
          "name": "stdout",
          "text": [
            "CPU times: user 192 ms, sys: 4.28 ms, total: 197 ms\n",
            "Wall time: 549 ms\n"
          ]
        }
      ],
      "source": [
        "%%time\n",
        "\n",
        "model_date = \"6_29_1038\"\n",
        "model_name = f\"nn_51x51_{model_date}\"\n",
        "\n",
        "# Load Model\n",
        "loss = wbce_custom()\n",
        "metric = f1\n",
        "old_model = tf.keras.models.load_model(f'/content/drive/My Drive/CapstoneProject/Models/{model_name}.keras', custom_objects={loss.__name__: loss, metric.__name__: metric})\n",
        "\n",
        "# Load History\n",
        "with open(f'/content/drive/My Drive/CapstoneProject/Models/{model_name}_hist', \"rb\") as file_pi:\n",
        "    old_history = pickle.load(file_pi)"
      ]
    },
    {
      "cell_type": "markdown",
      "metadata": {
        "id": "um8esTkeoRAe"
      },
      "source": [
        "##### Training"
      ]
    },
    {
      "cell_type": "code",
      "execution_count": null,
      "metadata": {
        "colab": {
          "base_uri": "https://localhost:8080/"
        },
        "id": "hyCXBh1-BPFG",
        "outputId": "5ff81ff4-6745-45c0-e3ba-f46f8d28b8a1"
      },
      "outputs": [
        {
          "output_type": "stream",
          "name": "stdout",
          "text": [
            "2023-06-29 10:43:48.057748\n"
          ]
        }
      ],
      "source": [
        "%%time\n",
        "# start time\n",
        "print(datetime.now())\n",
        "\n",
        "# run model - change parameters as needed to match initial model!!!\n",
        "model, history, result = run_nn(existing_model=old_model, dropout=0.25, epochs=5)\n",
        "\n",
        "# Combine new history with old history\n",
        "all_history = get_combined_history([old_history, history.history])\n",
        "\n",
        "# end time\n",
        "print(datetime.now())"
      ]
    },
    {
      "cell_type": "code",
      "execution_count": null,
      "metadata": {
        "colab": {
          "base_uri": "https://localhost:8080/",
          "height": 634
        },
        "id": "7nfVA2CX4WUo",
        "outputId": "e09da0cf-81ee-47a6-d436-d0d9f4a9d92d"
      },
      "outputs": [
        {
          "output_type": "display_data",
          "data": {
            "text/plain": [
              "<Figure size 500x700 with 2 Axes>"
            ],
            "image/png": "[encoded data removed]"
          },
          "metadata": {}
        }
      ],
      "source": [
        "plot_train_val_loss(all_history, metrics=['f1'])"
      ]
    },
    {
      "cell_type": "code",
      "source": [
        "# Save Model\n",
        "\n",
        "# model name\n",
        "now = datetime.now()\n",
        "day, month, time = now.day, now.month, now.strftime(\"%H%M\")\n",
        "model_name = f\"nn_51x51_{month}_{day}_{time}\"\n",
        "\n",
        "# save model\n",
        "model.save(f'/content/drive/My Drive/CapstoneProject/Models/{model_name}.keras')\n",
        "\n",
        "# save history\n",
        "with open(f'/content/drive/My Drive/CapstoneProject/Models/{model_name}_hist', 'wb') as file_pi:\n",
        "  pickle.dump(history.history, file_pi)\n",
        "\n",
        "# save notes about model\n",
        "model_notes = 'num_feature=3, model_type=\"convolution\", batch_size=64, epochs=505, \\\n",
        "           loss=wbce_custom(50), optimizer=Adam(learning_rate=0.0001), dropout=0.25, \\\n",
        "           existing_model = None, metrics=[\"f1\"]'\n",
        "\n",
        "model_notes_row = [model_name, model_notes]\n",
        "\n",
        "with open('/content/drive/My Drive/CapstoneProject/Models/model_notes.csv', 'a') as f:\n",
        "  writer = writer(f)\n",
        "  writer.writerow(model_notes_row)\n",
        "  f.close()"
      ],
      "metadata": {
        "id": "laMSFvc5Shd2"
      },
      "execution_count": null,
      "outputs": []
    },
    {
      "cell_type": "code",
      "source": [
        "input_data_ = sites_data[['CHL', 'SPM', 'TUR', 'riskLevelLabel', 'site', 'time']]\n",
        "\n",
        "# Getting X_test and y_test\n",
        "xy_data = get_train_test_val_nn(input_data_,\n",
        "                      time_site_pairs_train,\n",
        "                      time_site_pairs_test)\n",
        "\n",
        "X_train, X_test, X_val, y_train, y_test, y_val = xy_data.values()\n",
        "\n",
        "result = model.evaluate(X_test, y_test)"
      ],
      "metadata": {
        "id": "yNarrgECQ_75"
      },
      "execution_count": null,
      "outputs": []
    },
    {
      "cell_type": "markdown",
      "metadata": {
        "id": "EHgPAVEe2iJ4"
      },
      "source": [
        "### Getting Results on Test Dataset"
      ]
    },
    {
      "cell_type": "markdown",
      "metadata": {
        "id": "EZi-SG8w2vSz"
      },
      "source": [
        "#### Loading Saved Model"
      ]
    },
    {
      "cell_type": "code",
      "execution_count": null,
      "metadata": {
        "colab": {
          "base_uri": "https://localhost:8080/"
        },
        "id": "bIvVMH162n_x",
        "outputId": "1488c2e7-818d-416e-c4a7-6b9e6ba6d619"
      },
      "outputs": [
        {
          "name": "stdout",
          "output_type": "stream",
          "text": [
            "Model: nn_51x51_6_26_2221. Epochs: 500\n",
            "Model: nn_51x51_6_26_2310. Epochs: 500\n",
            "Model: nn_51x51_6_26_2343. Epochs: 500\n",
            "CPU times: user 510 ms, sys: 17.1 ms, total: 527 ms\n",
            "Wall time: 4.23 s\n"
          ]
        }
      ],
      "source": [
        "%%time\n",
        "\n",
        "# model_date = \"6_26_1757\"\n",
        "# model_name = f\"nn_51x51_{model_date}\"\n",
        "\n",
        "model_names = [f\"nn_51x51_{i}\" for i in ['6_26_2221', '6_26_2310', '6_26_2343']]\n",
        "old_models = []\n",
        "\n",
        "for i in range(3):\n",
        "\n",
        "  model_name = model_names[i]\n",
        "\n",
        "  # Load Model\n",
        "  loss = wbce_custom()\n",
        "  metric = f1\n",
        "  old_model = tf.keras.models.load_model(f'/content/drive/My Drive/CapstoneProject/Models/{model_name}.keras', custom_objects={loss.__name__: loss, metric.__name__: metric})\n",
        "\n",
        "  # Load History\n",
        "  with open(f'/content/drive/My Drive/CapstoneProject/Models/{model_name}_hist', \"rb\") as file_pi:\n",
        "      old_history = pickle.load(file_pi)\n",
        "\n",
        "  old_models.append(old_model)\n",
        "\n",
        "  print(f\"Model: {model_name}. Epochs: {len(old_history['loss'])}\")"
      ]
    },
    {
      "cell_type": "markdown",
      "metadata": {
        "id": "bBrkodGP9o0d"
      },
      "source": [
        "#### Results Dataframe"
      ]
    },
    {
      "cell_type": "code",
      "execution_count": null,
      "metadata": {
        "colab": {
          "base_uri": "https://localhost:8080/"
        },
        "id": "zVk2ZfsC9p7O",
        "outputId": "bfc47736-ed6f-4e76-c26c-682f0ddecc75"
      },
      "outputs": [
        {
          "name": "stdout",
          "output_type": "stream",
          "text": [
            "328/328 [==============================] - 10s 5ms/step - loss: 1.0750 - acc: 0.5808 - auc: 0.7678 - precision: 0.0494 - recall: 0.8248 - f1: 0.0863\n",
            "328/328 [==============================] - 2s 5ms/step - loss: 1.0783 - acc: 0.4568 - auc: 0.7616 - precision: 0.0411 - recall: 0.8869 - f1: 0.0735\n",
            "328/328 [==============================] - 2s 5ms/step - loss: nan - acc: 0.9739 - auc: 0.5000 - precision: 0.0000e+00 - recall: 0.0000e+00 - f1: nan\n",
            "CPU times: user 12.7 s, sys: 8.8 s, total: 21.5 s\n",
            "Wall time: 28.6 s\n"
          ]
        }
      ],
      "source": [
        "%%time\n",
        "input_data_ = sites_data[['CHL', 'SPM', 'TUR', 'riskLevelLabel', 'site', 'time']]\n",
        "\n",
        "# Getting X_test and y_test\n",
        "xy_data = get_train_test_val_nn(input_data_,\n",
        "                      time_site_pairs_train,\n",
        "                      time_site_pairs_test)\n",
        "\n",
        "X_train, X_test, X_val, y_train, y_test, y_val = xy_data.values()\n",
        "\n",
        "results = []\n",
        "\n",
        "for i in range(3):\n",
        "  result = old_models[i].evaluate(X_test, y_test)\n",
        "  results.append(result)"
      ]
    },
    {
      "cell_type": "code",
      "execution_count": null,
      "metadata": {
        "colab": {
          "base_uri": "https://localhost:8080/"
        },
        "id": "O9TmuzL_Pzrx",
        "outputId": "49043197-d015-444a-e2f2-3a81c0f7f63a"
      },
      "outputs": [
        {
          "data": {
            "text/plain": [
              "[[1.0750255584716797,\n",
              "  0.5807527303695679,\n",
              "  0.7678231000900269,\n",
              "  0.049366533756256104,\n",
              "  0.8248175382614136,\n",
              "  0.0863042026758194],\n",
              " [1.0782564878463745,\n",
              "  0.45678895711898804,\n",
              "  0.7616419792175293,\n",
              "  0.04109589010477066,\n",
              "  0.8868613243103027,\n",
              "  0.07346949726343155],\n",
              " [nan, 0.973892331123352, 0.5, 0.0, 0.0, nan]]"
            ]
          },
          "execution_count": 19,
          "metadata": {},
          "output_type": "execute_result"
        }
      ],
      "source": [
        "results"
      ]
    },
    {
      "cell_type": "code",
      "execution_count": null,
      "metadata": {
        "colab": {
          "base_uri": "https://localhost:8080/",
          "height": 143
        },
        "id": "_E2nUxTU9rtg",
        "outputId": "1d7c2a0b-680b-4ad3-c0b8-013adbfac086"
      },
      "outputs": [
        {
          "data": {
            "text/html": [
              "\n",
              "  <div id=\"df-ba9efd14-d1c4-4898-b6b9-d0128c6e7ddb\">\n",
              "    <div class=\"colab-df-container\">\n",
              "      <div>\n",
              "<style scoped>\n",
              "    .dataframe tbody tr th:only-of-type {\n",
              "        vertical-align: middle;\n",
              "    }\n",
              "\n",
              "    .dataframe tbody tr th {\n",
              "        vertical-align: top;\n",
              "    }\n",
              "\n",
              "    .dataframe thead th {\n",
              "        text-align: right;\n",
              "    }\n",
              "</style>\n",
              "<table border=\"1\" class=\"dataframe\">\n",
              "  <thead>\n",
              "    <tr style=\"text-align: right;\">\n",
              "      <th></th>\n",
              "      <th>Sub-Model</th>\n",
              "      <th>loss</th>\n",
              "      <th>acc</th>\n",
              "      <th>AUC</th>\n",
              "      <th>Precision</th>\n",
              "      <th>Recall</th>\n",
              "      <th>f1</th>\n",
              "      <th>Model</th>\n",
              "    </tr>\n",
              "  </thead>\n",
              "  <tbody>\n",
              "    <tr>\n",
              "      <th>0</th>\n",
              "      <td>Dropout = 0</td>\n",
              "      <td>1.075026</td>\n",
              "      <td>0.580753</td>\n",
              "      <td>0.767823</td>\n",
              "      <td>0.049367</td>\n",
              "      <td>0.824818</td>\n",
              "      <td>0.086304</td>\n",
              "      <td>Neural Network</td>\n",
              "    </tr>\n",
              "    <tr>\n",
              "      <th>1</th>\n",
              "      <td>Dropout = 0.25</td>\n",
              "      <td>1.078256</td>\n",
              "      <td>0.456789</td>\n",
              "      <td>0.761642</td>\n",
              "      <td>0.041096</td>\n",
              "      <td>0.886861</td>\n",
              "      <td>0.073469</td>\n",
              "      <td>Neural Network</td>\n",
              "    </tr>\n",
              "    <tr>\n",
              "      <th>2</th>\n",
              "      <td>Dropout = 0.5</td>\n",
              "      <td>NaN</td>\n",
              "      <td>0.973892</td>\n",
              "      <td>0.500000</td>\n",
              "      <td>0.000000</td>\n",
              "      <td>0.000000</td>\n",
              "      <td>NaN</td>\n",
              "      <td>Neural Network</td>\n",
              "    </tr>\n",
              "  </tbody>\n",
              "</table>\n",
              "</div>\n",
              "      <button class=\"colab-df-convert\" onclick=\"convertToInteractive('df-ba9efd14-d1c4-4898-b6b9-d0128c6e7ddb')\"\n",
              "              title=\"Convert this dataframe to an interactive table.\"\n",
              "              style=\"display:none;\">\n",
              "        \n",
              "  <svg xmlns=\"http://www.w3.org/2000/svg\" height=\"24px\"viewBox=\"0 0 24 24\"\n",
              "       width=\"24px\">\n",
              "    <path d=\"M0 0h24v24H0V0z\" fill=\"none\"/>\n",
              "    <path d=\"M18.56 5.44l.94 2.06.94-2.06 2.06-.94-2.06-.94-.94-2.06-.94 2.06-2.06.94zm-11 1L8.5 8.5l.94-2.06 2.06-.94-2.06-.94L8.5 2.5l-.94 2.06-2.06.94zm10 10l.94 2.06.94-2.06 2.06-.94-2.06-.94-.94-2.06-.94 2.06-2.06.94z\"/><path d=\"M17.41 7.96l-1.37-1.37c-.4-.4-.92-.59-1.43-.59-.52 0-1.04.2-1.43.59L10.3 9.45l-7.72 7.72c-.78.78-.78 2.05 0 2.83L4 21.41c.39.39.9.59 1.41.59.51 0 1.02-.2 1.41-.59l7.78-7.78 2.81-2.81c.8-.78.8-2.07 0-2.86zM5.41 20L4 18.59l7.72-7.72 1.47 1.35L5.41 20z\"/>\n",
              "  </svg>\n",
              "      </button>\n",
              "      \n",
              "  <style>\n",
              "    .colab-df-container {\n",
              "      display:flex;\n",
              "      flex-wrap:wrap;\n",
              "      gap: 12px;\n",
              "    }\n",
              "\n",
              "    .colab-df-convert {\n",
              "      background-color: #E8F0FE;\n",
              "      border: none;\n",
              "      border-radius: 50%;\n",
              "      cursor: pointer;\n",
              "      display: none;\n",
              "      fill: #1967D2;\n",
              "      height: 32px;\n",
              "      padding: 0 0 0 0;\n",
              "      width: 32px;\n",
              "    }\n",
              "\n",
              "    .colab-df-convert:hover {\n",
              "      background-color: #E2EBFA;\n",
              "      box-shadow: 0px 1px 2px rgba(60, 64, 67, 0.3), 0px 1px 3px 1px rgba(60, 64, 67, 0.15);\n",
              "      fill: #174EA6;\n",
              "    }\n",
              "\n",
              "    [theme=dark] .colab-df-convert {\n",
              "      background-color: #3B4455;\n",
              "      fill: #D2E3FC;\n",
              "    }\n",
              "\n",
              "    [theme=dark] .colab-df-convert:hover {\n",
              "      background-color: #434B5C;\n",
              "      box-shadow: 0px 1px 3px 1px rgba(0, 0, 0, 0.15);\n",
              "      filter: drop-shadow(0px 1px 2px rgba(0, 0, 0, 0.3));\n",
              "      fill: #FFFFFF;\n",
              "    }\n",
              "  </style>\n",
              "\n",
              "      <script>\n",
              "        const buttonEl =\n",
              "          document.querySelector('#df-ba9efd14-d1c4-4898-b6b9-d0128c6e7ddb button.colab-df-convert');\n",
              "        buttonEl.style.display =\n",
              "          google.colab.kernel.accessAllowed ? 'block' : 'none';\n",
              "\n",
              "        async function convertToInteractive(key) {\n",
              "          const element = document.querySelector('#df-ba9efd14-d1c4-4898-b6b9-d0128c6e7ddb');\n",
              "          const dataTable =\n",
              "            await google.colab.kernel.invokeFunction('convertToInteractive',\n",
              "                                                     [key], {});\n",
              "          if (!dataTable) return;\n",
              "\n",
              "          const docLinkHtml = 'Like what you see? Visit the ' +\n",
              "            '<a target=\"_blank\" href=https://colab.research.google.com/notebooks/data_table.ipynb>data table notebook</a>'\n",
              "            + ' to learn more about interactive tables.';\n",
              "          element.innerHTML = '';\n",
              "          dataTable['output_type'] = 'display_data';\n",
              "          await google.colab.output.renderOutput(dataTable, element);\n",
              "          const docLink = document.createElement('div');\n",
              "          docLink.innerHTML = docLinkHtml;\n",
              "          element.appendChild(docLink);\n",
              "        }\n",
              "      </script>\n",
              "    </div>\n",
              "  </div>\n",
              "  "
            ],
            "text/plain": [
              "        Sub-Model      loss       acc       AUC  Precision    Recall  \\\n",
              "0     Dropout = 0  1.075026  0.580753  0.767823   0.049367  0.824818   \n",
              "1  Dropout = 0.25  1.078256  0.456789  0.761642   0.041096  0.886861   \n",
              "2   Dropout = 0.5       NaN  0.973892  0.500000   0.000000  0.000000   \n",
              "\n",
              "         f1           Model  \n",
              "0  0.086304  Neural Network  \n",
              "1  0.073469  Neural Network  \n",
              "2       NaN  Neural Network  "
            ]
          },
          "execution_count": 21,
          "metadata": {},
          "output_type": "execute_result"
        }
      ],
      "source": [
        "model_names = ['Dropout = 0', 'Dropout = 0.25', 'Dropout = 0.5']\n",
        "\n",
        "df1 = pd.DataFrame(model_names, columns=['Sub-Model'])\n",
        "df2 = pd.DataFrame(results, columns=['loss', 'acc','AUC','Precision','Recall', 'f1'])\n",
        "results_df_nn = pd.concat([df1, df2], axis=1)\n",
        "results_df_nn['Model'] = ['Neural Network']*3\n",
        "results_df_nn"
      ]
    },
    {
      "cell_type": "code",
      "execution_count": null,
      "metadata": {
        "id": "HzvsSyIYQA-S"
      },
      "outputs": [],
      "source": [
        "results_df_nn.to_csv(\"/content/drive/My Drive/CapstoneProject/Results/results_df_nn.csv\")"
      ]
    },
    {
      "cell_type": "code",
      "execution_count": null,
      "metadata": {
        "id": "GePmz6-rM30k"
      },
      "outputs": [],
      "source": [
        "# model_names = []\n",
        "\n",
        "# for model_type, num_feature, oversampling__ in itertools.product(model_types, num_features, oversampling_):\n",
        "#     oversample = \"Oversampling\" if oversampling__ else \"No Oversampling\"\n",
        "#     model_names.append(f'{model_type.capitalize()}, {num_feature} feature, {oversample}')\n",
        "\n",
        "# df1 = pd.DataFrame(model_names, columns=['Sub-Model'])\n",
        "# df2 = pd.DataFrame(results, columns=['loss', 'acc','AUC','Precision','Recall', 'f1'])\n",
        "# results_df_nn = pd.concat([df1, df2], axis=1)\n",
        "# results_df_nn['Model'] = ['Neural Network']*8\n",
        "# results_df_nn"
      ]
    },
    {
      "cell_type": "code",
      "execution_count": null,
      "metadata": {
        "id": "QnQwJ5nOM30k"
      },
      "outputs": [],
      "source": [
        "# model_names_string = model_names\n",
        "\n",
        "# fig, axs = plt.subplots(nrows=4, ncols=2, figsize=(10, 12), sharex=True, sharey=True)\n",
        "\n",
        "# for j in range(8):\n",
        "#     ax = ([(k,i) for k in range(4) for i in range(2)])[j]\n",
        "#     plot_train_val_loss(histories[j], model_names_string[j], ax)\n",
        "\n",
        "# plt.suptitle('Training Loss vs Validation Loss')\n",
        "# fig.supxlabel(\"Epochs\")\n",
        "# fig.supylabel(\"Loss\")\n",
        "# plt.show()"
      ]
    },
    {
      "cell_type": "code",
      "execution_count": null,
      "metadata": {
        "id": "LHNQB3sXM30k"
      },
      "outputs": [],
      "source": [
        "# metric='f1'\n",
        "\n",
        "# fig, axs = plt.subplots(nrows=4, ncols=2, figsize=(10, 12), sharex=True, sharey=True)\n",
        "\n",
        "# for j in range(8):\n",
        "#     ax = ([(k,i) for k in range(4) for i in range(2)])[j]\n",
        "#     plot_train_val_metric(histories[j], model_names_string[j], ax, metric=metric)\n",
        "\n",
        "# plt.suptitle(f'Training {metric} vs Validation {metric}')\n",
        "# fig.supxlabel(\"Epochs\")\n",
        "# fig.supylabel(f\"{metric}\")\n",
        "# plt.show()"
      ]
    },
    {
      "cell_type": "markdown",
      "metadata": {
        "id": "KCRcg5wRM30k"
      },
      "source": [
        "# Final Results"
      ]
    },
    {
      "cell_type": "code",
      "execution_count": null,
      "metadata": {
        "id": "6mIcDYrmQTcg"
      },
      "outputs": [],
      "source": [
        "results_df_baseline = pd.read_csv(\"/content/drive/My Drive/CapstoneProject/Results/baseline\")\n",
        "results_df_rf = pd.read_csv(\"/content/drive/My Drive/CapstoneProject/Results/results_df_rf.csv\")\n",
        "results_df_nn = pd.read_csv(\"/content/drive/My Drive/CapstoneProject/Results/results_df_nn.csv\")"
      ]
    },
    {
      "cell_type": "code",
      "execution_count": null,
      "metadata": {
        "colab": {
          "base_uri": "https://localhost:8080/",
          "height": 81
        },
        "id": "UXN2rW32RJ9Y",
        "outputId": "6008d66a-3c7d-427e-c786-abf374155751"
      },
      "outputs": [
        {
          "data": {
            "text/html": [
              "\n",
              "  <div id=\"df-ad7a1f27-da21-43e7-ab40-57598c8bcde5\">\n",
              "    <div class=\"colab-df-container\">\n",
              "      <div>\n",
              "<style scoped>\n",
              "    .dataframe tbody tr th:only-of-type {\n",
              "        vertical-align: middle;\n",
              "    }\n",
              "\n",
              "    .dataframe tbody tr th {\n",
              "        vertical-align: top;\n",
              "    }\n",
              "\n",
              "    .dataframe thead th {\n",
              "        text-align: right;\n",
              "    }\n",
              "</style>\n",
              "<table border=\"1\" class=\"dataframe\">\n",
              "  <thead>\n",
              "    <tr style=\"text-align: right;\">\n",
              "      <th></th>\n",
              "      <th>Model</th>\n",
              "      <th>AUC</th>\n",
              "      <th>Precision</th>\n",
              "      <th>Recall</th>\n",
              "      <th>f1</th>\n",
              "      <th>acc</th>\n",
              "      <th>Sub-Model</th>\n",
              "    </tr>\n",
              "  </thead>\n",
              "  <tbody>\n",
              "    <tr>\n",
              "      <th>0</th>\n",
              "      <td>Baseline</td>\n",
              "      <td>0.505988</td>\n",
              "      <td>0.033859</td>\n",
              "      <td>0.036212</td>\n",
              "      <td>0.034879</td>\n",
              "      <td>0.955197</td>\n",
              "      <td>Baseline</td>\n",
              "    </tr>\n",
              "  </tbody>\n",
              "</table>\n",
              "</div>\n",
              "      <button class=\"colab-df-convert\" onclick=\"convertToInteractive('df-ad7a1f27-da21-43e7-ab40-57598c8bcde5')\"\n",
              "              title=\"Convert this dataframe to an interactive table.\"\n",
              "              style=\"display:none;\">\n",
              "        \n",
              "  <svg xmlns=\"http://www.w3.org/2000/svg\" height=\"24px\"viewBox=\"0 0 24 24\"\n",
              "       width=\"24px\">\n",
              "    <path d=\"M0 0h24v24H0V0z\" fill=\"none\"/>\n",
              "    <path d=\"M18.56 5.44l.94 2.06.94-2.06 2.06-.94-2.06-.94-.94-2.06-.94 2.06-2.06.94zm-11 1L8.5 8.5l.94-2.06 2.06-.94-2.06-.94L8.5 2.5l-.94 2.06-2.06.94zm10 10l.94 2.06.94-2.06 2.06-.94-2.06-.94-.94-2.06-.94 2.06-2.06.94z\"/><path d=\"M17.41 7.96l-1.37-1.37c-.4-.4-.92-.59-1.43-.59-.52 0-1.04.2-1.43.59L10.3 9.45l-7.72 7.72c-.78.78-.78 2.05 0 2.83L4 21.41c.39.39.9.59 1.41.59.51 0 1.02-.2 1.41-.59l7.78-7.78 2.81-2.81c.8-.78.8-2.07 0-2.86zM5.41 20L4 18.59l7.72-7.72 1.47 1.35L5.41 20z\"/>\n",
              "  </svg>\n",
              "      </button>\n",
              "      \n",
              "  <style>\n",
              "    .colab-df-container {\n",
              "      display:flex;\n",
              "      flex-wrap:wrap;\n",
              "      gap: 12px;\n",
              "    }\n",
              "\n",
              "    .colab-df-convert {\n",
              "      background-color: #E8F0FE;\n",
              "      border: none;\n",
              "      border-radius: 50%;\n",
              "      cursor: pointer;\n",
              "      display: none;\n",
              "      fill: #1967D2;\n",
              "      height: 32px;\n",
              "      padding: 0 0 0 0;\n",
              "      width: 32px;\n",
              "    }\n",
              "\n",
              "    .colab-df-convert:hover {\n",
              "      background-color: #E2EBFA;\n",
              "      box-shadow: 0px 1px 2px rgba(60, 64, 67, 0.3), 0px 1px 3px 1px rgba(60, 64, 67, 0.15);\n",
              "      fill: #174EA6;\n",
              "    }\n",
              "\n",
              "    [theme=dark] .colab-df-convert {\n",
              "      background-color: #3B4455;\n",
              "      fill: #D2E3FC;\n",
              "    }\n",
              "\n",
              "    [theme=dark] .colab-df-convert:hover {\n",
              "      background-color: #434B5C;\n",
              "      box-shadow: 0px 1px 3px 1px rgba(0, 0, 0, 0.15);\n",
              "      filter: drop-shadow(0px 1px 2px rgba(0, 0, 0, 0.3));\n",
              "      fill: #FFFFFF;\n",
              "    }\n",
              "  </style>\n",
              "\n",
              "      <script>\n",
              "        const buttonEl =\n",
              "          document.querySelector('#df-ad7a1f27-da21-43e7-ab40-57598c8bcde5 button.colab-df-convert');\n",
              "        buttonEl.style.display =\n",
              "          google.colab.kernel.accessAllowed ? 'block' : 'none';\n",
              "\n",
              "        async function convertToInteractive(key) {\n",
              "          const element = document.querySelector('#df-ad7a1f27-da21-43e7-ab40-57598c8bcde5');\n",
              "          const dataTable =\n",
              "            await google.colab.kernel.invokeFunction('convertToInteractive',\n",
              "                                                     [key], {});\n",
              "          if (!dataTable) return;\n",
              "\n",
              "          const docLinkHtml = 'Like what you see? Visit the ' +\n",
              "            '<a target=\"_blank\" href=https://colab.research.google.com/notebooks/data_table.ipynb>data table notebook</a>'\n",
              "            + ' to learn more about interactive tables.';\n",
              "          element.innerHTML = '';\n",
              "          dataTable['output_type'] = 'display_data';\n",
              "          await google.colab.output.renderOutput(dataTable, element);\n",
              "          const docLink = document.createElement('div');\n",
              "          docLink.innerHTML = docLinkHtml;\n",
              "          element.appendChild(docLink);\n",
              "        }\n",
              "      </script>\n",
              "    </div>\n",
              "  </div>\n",
              "  "
            ],
            "text/plain": [
              "      Model       AUC  Precision    Recall        f1       acc Sub-Model\n",
              "0  Baseline  0.505988   0.033859  0.036212  0.034879  0.955197  Baseline"
            ]
          },
          "execution_count": 34,
          "metadata": {},
          "output_type": "execute_result"
        }
      ],
      "source": [
        "results_df_baseline.drop('Unnamed: 0', axis=1, inplace=True)\n",
        "results_df_baseline.rename({'AUC_roc':'AUC'}, axis=1, inplace=True)\n",
        "results_df_baseline['Sub-Model'] = 'Baseline'\n",
        "results_df_baseline"
      ]
    },
    {
      "cell_type": "code",
      "execution_count": null,
      "metadata": {
        "id": "xlgPtL389wn6"
      },
      "outputs": [],
      "source": [
        "results_df_baseline_final = results_df_baseline[['Model', 'Sub-Model', 'AUC','Precision','Recall','f1','acc']]\n",
        "results_df_nn_final = results_df_nn[['Model', 'Sub-Model', 'AUC','Precision','Recall','f1','acc']]\n",
        "results_df_rf_final = results_df_rf[['Model', 'Sub-Model', 'AUC','Precision','Recall','f1','acc']]\n",
        "# results_df_lr_final = results_df_bc[['Model', 'Sub-Model', 'AUC','Precision','Recall','f1','acc']]"
      ]
    },
    {
      "cell_type": "code",
      "execution_count": null,
      "metadata": {
        "colab": {
          "base_uri": "https://localhost:8080/",
          "height": 269
        },
        "id": "GytWmwP3M30k",
        "outputId": "1760dbe6-8393-4b92-fe4a-7f74f4c8ab9e"
      },
      "outputs": [
        {
          "data": {
            "text/html": [
              "\n",
              "  <div id=\"df-64488ba7-65df-4932-85ae-7106ee106384\">\n",
              "    <div class=\"colab-df-container\">\n",
              "      <div>\n",
              "<style scoped>\n",
              "    .dataframe tbody tr th:only-of-type {\n",
              "        vertical-align: middle;\n",
              "    }\n",
              "\n",
              "    .dataframe tbody tr th {\n",
              "        vertical-align: top;\n",
              "    }\n",
              "\n",
              "    .dataframe thead th {\n",
              "        text-align: right;\n",
              "    }\n",
              "</style>\n",
              "<table border=\"1\" class=\"dataframe\">\n",
              "  <thead>\n",
              "    <tr style=\"text-align: right;\">\n",
              "      <th></th>\n",
              "      <th></th>\n",
              "      <th>AUC</th>\n",
              "      <th>Precision</th>\n",
              "      <th>Recall</th>\n",
              "      <th>f1</th>\n",
              "      <th>acc</th>\n",
              "    </tr>\n",
              "    <tr>\n",
              "      <th>Model</th>\n",
              "      <th>Sub-Model</th>\n",
              "      <th></th>\n",
              "      <th></th>\n",
              "      <th></th>\n",
              "      <th></th>\n",
              "      <th></th>\n",
              "    </tr>\n",
              "  </thead>\n",
              "  <tbody>\n",
              "    <tr>\n",
              "      <th>Baseline</th>\n",
              "      <th>Baseline</th>\n",
              "      <td>0.505988</td>\n",
              "      <td>0.033859</td>\n",
              "      <td>0.036212</td>\n",
              "      <td>0.034879</td>\n",
              "      <td>0.955197</td>\n",
              "    </tr>\n",
              "    <tr>\n",
              "      <th rowspan=\"3\" valign=\"top\">Neural Network</th>\n",
              "      <th>Dropout = 0</th>\n",
              "      <td>0.767823</td>\n",
              "      <td>0.049367</td>\n",
              "      <td>0.824818</td>\n",
              "      <td>0.086304</td>\n",
              "      <td>0.580753</td>\n",
              "    </tr>\n",
              "    <tr>\n",
              "      <th>Dropout = 0.25</th>\n",
              "      <td>0.761642</td>\n",
              "      <td>0.041096</td>\n",
              "      <td>0.886861</td>\n",
              "      <td>0.073469</td>\n",
              "      <td>0.456789</td>\n",
              "    </tr>\n",
              "    <tr>\n",
              "      <th>Dropout = 0.5</th>\n",
              "      <td>0.500000</td>\n",
              "      <td>0.000000</td>\n",
              "      <td>0.000000</td>\n",
              "      <td>NaN</td>\n",
              "      <td>0.973892</td>\n",
              "    </tr>\n",
              "    <tr>\n",
              "      <th rowspan=\"2\" valign=\"top\">Random Forest</th>\n",
              "      <th>Fill NaN with mean df</th>\n",
              "      <td>0.781774</td>\n",
              "      <td>0.428571</td>\n",
              "      <td>0.075949</td>\n",
              "      <td>0.129032</td>\n",
              "      <td>0.977857</td>\n",
              "    </tr>\n",
              "    <tr>\n",
              "      <th>Fill NaN with -10 df</th>\n",
              "      <td>0.781942</td>\n",
              "      <td>0.416667</td>\n",
              "      <td>0.063291</td>\n",
              "      <td>0.109890</td>\n",
              "      <td>0.977857</td>\n",
              "    </tr>\n",
              "  </tbody>\n",
              "</table>\n",
              "</div>\n",
              "      <button class=\"colab-df-convert\" onclick=\"convertToInteractive('df-64488ba7-65df-4932-85ae-7106ee106384')\"\n",
              "              title=\"Convert this dataframe to an interactive table.\"\n",
              "              style=\"display:none;\">\n",
              "        \n",
              "  <svg xmlns=\"http://www.w3.org/2000/svg\" height=\"24px\"viewBox=\"0 0 24 24\"\n",
              "       width=\"24px\">\n",
              "    <path d=\"M0 0h24v24H0V0z\" fill=\"none\"/>\n",
              "    <path d=\"M18.56 5.44l.94 2.06.94-2.06 2.06-.94-2.06-.94-.94-2.06-.94 2.06-2.06.94zm-11 1L8.5 8.5l.94-2.06 2.06-.94-2.06-.94L8.5 2.5l-.94 2.06-2.06.94zm10 10l.94 2.06.94-2.06 2.06-.94-2.06-.94-.94-2.06-.94 2.06-2.06.94z\"/><path d=\"M17.41 7.96l-1.37-1.37c-.4-.4-.92-.59-1.43-.59-.52 0-1.04.2-1.43.59L10.3 9.45l-7.72 7.72c-.78.78-.78 2.05 0 2.83L4 21.41c.39.39.9.59 1.41.59.51 0 1.02-.2 1.41-.59l7.78-7.78 2.81-2.81c.8-.78.8-2.07 0-2.86zM5.41 20L4 18.59l7.72-7.72 1.47 1.35L5.41 20z\"/>\n",
              "  </svg>\n",
              "      </button>\n",
              "      \n",
              "  <style>\n",
              "    .colab-df-container {\n",
              "      display:flex;\n",
              "      flex-wrap:wrap;\n",
              "      gap: 12px;\n",
              "    }\n",
              "\n",
              "    .colab-df-convert {\n",
              "      background-color: #E8F0FE;\n",
              "      border: none;\n",
              "      border-radius: 50%;\n",
              "      cursor: pointer;\n",
              "      display: none;\n",
              "      fill: #1967D2;\n",
              "      height: 32px;\n",
              "      padding: 0 0 0 0;\n",
              "      width: 32px;\n",
              "    }\n",
              "\n",
              "    .colab-df-convert:hover {\n",
              "      background-color: #E2EBFA;\n",
              "      box-shadow: 0px 1px 2px rgba(60, 64, 67, 0.3), 0px 1px 3px 1px rgba(60, 64, 67, 0.15);\n",
              "      fill: #174EA6;\n",
              "    }\n",
              "\n",
              "    [theme=dark] .colab-df-convert {\n",
              "      background-color: #3B4455;\n",
              "      fill: #D2E3FC;\n",
              "    }\n",
              "\n",
              "    [theme=dark] .colab-df-convert:hover {\n",
              "      background-color: #434B5C;\n",
              "      box-shadow: 0px 1px 3px 1px rgba(0, 0, 0, 0.15);\n",
              "      filter: drop-shadow(0px 1px 2px rgba(0, 0, 0, 0.3));\n",
              "      fill: #FFFFFF;\n",
              "    }\n",
              "  </style>\n",
              "\n",
              "      <script>\n",
              "        const buttonEl =\n",
              "          document.querySelector('#df-64488ba7-65df-4932-85ae-7106ee106384 button.colab-df-convert');\n",
              "        buttonEl.style.display =\n",
              "          google.colab.kernel.accessAllowed ? 'block' : 'none';\n",
              "\n",
              "        async function convertToInteractive(key) {\n",
              "          const element = document.querySelector('#df-64488ba7-65df-4932-85ae-7106ee106384');\n",
              "          const dataTable =\n",
              "            await google.colab.kernel.invokeFunction('convertToInteractive',\n",
              "                                                     [key], {});\n",
              "          if (!dataTable) return;\n",
              "\n",
              "          const docLinkHtml = 'Like what you see? Visit the ' +\n",
              "            '<a target=\"_blank\" href=https://colab.research.google.com/notebooks/data_table.ipynb>data table notebook</a>'\n",
              "            + ' to learn more about interactive tables.';\n",
              "          element.innerHTML = '';\n",
              "          dataTable['output_type'] = 'display_data';\n",
              "          await google.colab.output.renderOutput(dataTable, element);\n",
              "          const docLink = document.createElement('div');\n",
              "          docLink.innerHTML = docLinkHtml;\n",
              "          element.appendChild(docLink);\n",
              "        }\n",
              "      </script>\n",
              "    </div>\n",
              "  </div>\n",
              "  "
            ],
            "text/plain": [
              "                                           AUC  Precision    Recall        f1  \\\n",
              "Model          Sub-Model                                                        \n",
              "Baseline       Baseline               0.505988   0.033859  0.036212  0.034879   \n",
              "Neural Network Dropout = 0            0.767823   0.049367  0.824818  0.086304   \n",
              "               Dropout = 0.25         0.761642   0.041096  0.886861  0.073469   \n",
              "               Dropout = 0.5          0.500000   0.000000  0.000000       NaN   \n",
              "Random Forest  Fill NaN with mean df  0.781774   0.428571  0.075949  0.129032   \n",
              "               Fill NaN with -10 df   0.781942   0.416667  0.063291  0.109890   \n",
              "\n",
              "                                           acc  \n",
              "Model          Sub-Model                        \n",
              "Baseline       Baseline               0.955197  \n",
              "Neural Network Dropout = 0            0.580753  \n",
              "               Dropout = 0.25         0.456789  \n",
              "               Dropout = 0.5          0.973892  \n",
              "Random Forest  Fill NaN with mean df  0.977857  \n",
              "               Fill NaN with -10 df   0.977857  "
            ]
          },
          "execution_count": 36,
          "metadata": {},
          "output_type": "execute_result"
        }
      ],
      "source": [
        "pd.concat([results_df_baseline, results_df_nn_final, results_df_rf_final]).set_index(['Model', 'Sub-Model'])"
      ]
    },
    {
      "cell_type": "markdown",
      "metadata": {
        "id": "MhySSdKwM30l"
      },
      "source": [
        "# Window Size Comparison"
      ]
    },
    {
      "cell_type": "markdown",
      "metadata": {
        "id": "_xgmshK1M30l"
      },
      "source": [
        "## BC"
      ]
    },
    {
      "cell_type": "code",
      "execution_count": null,
      "metadata": {
        "id": "R4LhFCM_M30l"
      },
      "outputs": [],
      "source": [
        "df_train = df_merged_mean.merge(time_site_pairs_train, on=['time', 'site'], how='inner')\n",
        "df_test = df_merged_mean.merge(time_site_pairs_test, on=['time', 'site'], how='inner')\n",
        "\n",
        "df_train.drop(['time', 'site'], axis=1, inplace=True)\n",
        "df_test.drop(['time', 'site'], axis=1, inplace=True)\n",
        "\n",
        "y_train = df_train.pop('riskLevelLabel')\n",
        "y_test = df_test.pop('riskLevelLabel')\n",
        "\n",
        "X_train = df_train\n",
        "X_test = df_test"
      ]
    },
    {
      "cell_type": "code",
      "execution_count": null,
      "metadata": {
        "id": "8wNyT3LuM30l"
      },
      "outputs": [],
      "source": [
        "dims = ['_1x1', '3x3', '5x5', '7x7', '9x9', '11x11']\n",
        "\n",
        "performance = {}\n",
        "\n",
        "for dim in dims:\n",
        "\n",
        "    cols = [col for col in X_train.columns if dim in col]\n",
        "\n",
        "    X_train_new = X_train[cols]\n",
        "    X_test_new = X_test[cols]\n",
        "\n",
        "    if dim == '_1x1':\n",
        "        dim = '1x1'\n",
        "\n",
        "    X_train_scaled_new = scaler.fit_transform(X_train_new)\n",
        "    X_test_scaled_new = scaler.transform(X_test_new)\n",
        "    new_lg = lg_model(X_train_scaled_new, y_train)\n",
        "    y_pred = new_lg.predict(X_test_scaled_new)\n",
        "\n",
        "    performance[dim] = f1_score(y_test, y_pred)"
      ]
    },
    {
      "cell_type": "code",
      "execution_count": null,
      "metadata": {
        "id": "mhGeAZpAM30l"
      },
      "outputs": [],
      "source": [
        "f1_scores = [i for i in performance.values()]\n",
        "plt.plot([1,3,5,7,9,11], f1_scores)\n",
        "plt.ylabel('F1 Score')\n",
        "plt.xlabel('Window Size')\n",
        "plt.title('F1 Score with different window size, for Random Forest, Fill NA value with mean')\n",
        "plt.show()"
      ]
    },
    {
      "cell_type": "markdown",
      "metadata": {
        "id": "kiYFhCJiM30l"
      },
      "source": [
        "## RF"
      ]
    },
    {
      "cell_type": "code",
      "execution_count": null,
      "metadata": {
        "id": "5aRtAkbyM30l"
      },
      "outputs": [],
      "source": [
        "df_train = df_merged_mean.merge(time_site_pairs_train, on=['time', 'site'], how='inner')\n",
        "df_test = df_merged_mean.merge(time_site_pairs_test, on=['time', 'site'], how='inner')\n",
        "\n",
        "df_train.drop(['time', 'site'], axis=1, inplace=True)\n",
        "df_test.drop(['time', 'site'], axis=1, inplace=True)\n",
        "\n",
        "y_train = df_train.pop('riskLevelLabel')\n",
        "y_test = df_test.pop('riskLevelLabel')\n",
        "\n",
        "X_train = df_train\n",
        "X_test = df_test"
      ]
    },
    {
      "cell_type": "code",
      "execution_count": null,
      "metadata": {
        "id": "ybmWO6jRM30l"
      },
      "outputs": [],
      "source": [
        "dims = ['_1x1', '3x3', '5x5', '7x7', '9x9', '11x11']\n",
        "\n",
        "performance = {}\n",
        "\n",
        "for dim in dims:\n",
        "\n",
        "    cols = [col for col in X_train.columns if dim in col]\n",
        "\n",
        "    X_train_new = X_train[cols]\n",
        "    X_test_new = X_test[cols]\n",
        "\n",
        "    if dim == '_1x1':\n",
        "        dim = '1x1'\n",
        "\n",
        "    performance[dim] = rf_result(X_train_new, y_train, X_test_new, y_test)"
      ]
    },
    {
      "cell_type": "code",
      "execution_count": null,
      "metadata": {
        "id": "VwxVXIb-M30l"
      },
      "outputs": [],
      "source": [
        "f1_scores = [i['f1'] for i in performance.values()]\n",
        "plt.plot([1,3,5,7,9,11], f1_scores)\n",
        "plt.ylabel('F1 Score')\n",
        "plt.xlabel('Window Size')\n",
        "plt.title('F1 Score with different window size, for Random Forest, Fill NA value with mean')\n",
        "plt.show()"
      ]
    },
    {
      "cell_type": "markdown",
      "metadata": {
        "id": "Y54BwAv-M30l"
      },
      "source": [
        "## NN"
      ]
    },
    {
      "cell_type": "code",
      "execution_count": null,
      "metadata": {
        "id": "U3vaN9CvM30l"
      },
      "outputs": [],
      "source": [
        "histories = []\n",
        "results = []"
      ]
    },
    {
      "cell_type": "code",
      "execution_count": null,
      "metadata": {
        "id": "FXR2gpX0M30l"
      },
      "outputs": [],
      "source": [
        "%%time\n",
        "\n",
        "\n",
        "# Getting Input Data\n",
        "input_data_ = input_data[['CHL', 'SPM', 'TUR', 'riskLevelLabel', 'site', 'time']]\n",
        "\n",
        "j = 0\n",
        "for dim in [1,3,5,7,9,11]:\n",
        "\n",
        "    # Getting xy_data\n",
        "    xy_data = get_train_test_val_nn(input_data_,\n",
        "                           time_site_pairs_train,\n",
        "                           time_site_pairs_test,\n",
        "                           dim=dim)\n",
        "\n",
        "    # Get history and result\n",
        "    _, history, result = fit_nn(xy_data, \"convolution\")\n",
        "    histories.append(history)\n",
        "    results.append(result)\n",
        "\n",
        "    j += 1\n",
        "    clear_output(wait=True)\n",
        "    print(f'Progress: {j}/6')\n",
        "    print(datetime.now())"
      ]
    },
    {
      "cell_type": "code",
      "execution_count": null,
      "metadata": {
        "id": "iIVoNZRCM30l"
      },
      "outputs": [],
      "source": [
        "f1_scores = [i[5] for i in results]\n",
        "plt.plot([1,3,5,7,9,11], f1_scores)\n",
        "plt.ylabel('F1 Score')\n",
        "plt.xlabel('Window Size')\n",
        "plt.title('F1 Score with different window size, for Convolutional Neural Network, 3 feature, No Oversampling')\n",
        "plt.show()"
      ]
    },
    {
      "cell_type": "markdown",
      "metadata": {
        "id": "yw0R9N0gM30m"
      },
      "source": [
        "# Accuracy Comparison"
      ]
    },
    {
      "cell_type": "markdown",
      "metadata": {
        "id": "OZhXFnbPM30m"
      },
      "source": [
        "## NN"
      ]
    },
    {
      "cell_type": "code",
      "execution_count": null,
      "metadata": {
        "id": "8zJjjPInM30m"
      },
      "outputs": [],
      "source": [
        "%%time\n",
        "# convolution, 3 features, no oversampling\n",
        "\n",
        "# Getting Input Data\n",
        "input_data_ = input_data[['CHL', 'SPM', 'TUR', 'riskLevelLabel', 'site', 'time']]\n",
        "\n",
        "\n",
        "# Getting xy_data\n",
        "xy_data = get_train_test_val_nn(input_data_,\n",
        "                       time_site_pairs_train,\n",
        "                       time_site_pairs_test)\n",
        "\n",
        "# Get history and result\n",
        "model, history, result = fit_nn(xy_data, \"convolution\")"
      ]
    },
    {
      "cell_type": "code",
      "execution_count": null,
      "metadata": {
        "id": "NNXrQlNvM30m"
      },
      "outputs": [],
      "source": [
        "test = pd.merge(time_site_pairs_test, input_data_, on=['time', 'site'])\n",
        "test"
      ]
    },
    {
      "cell_type": "code",
      "execution_count": null,
      "metadata": {
        "id": "HOnKLhEWM30m"
      },
      "outputs": [],
      "source": [
        "y_test_preds = model.predict(xy_data['X_test'])\n",
        "test['preds'] = [1 if x >= 0.5 else 0 for x in y_test_preds]"
      ]
    },
    {
      "cell_type": "code",
      "execution_count": null,
      "metadata": {
        "id": "ThK0dlffM30m"
      },
      "outputs": [],
      "source": [
        "test['time'] = pd.to_datetime(test['time'])"
      ]
    },
    {
      "cell_type": "code",
      "execution_count": null,
      "metadata": {
        "id": "O-YfFBeEM30m"
      },
      "outputs": [],
      "source": [
        "test.groupby(pd.Grouper(key='time', freq='M')).apply(lambda x: f1_score(x['riskLevelLabel'], x['preds']))"
      ]
    },
    {
      "cell_type": "code",
      "execution_count": null,
      "metadata": {
        "id": "uNZ3MvNxM30m"
      },
      "outputs": [],
      "source": []
    }
  ],
  "metadata": {
    "accelerator": "GPU",
    "colab": {
      "collapsed_sections": [
        "1vIrrlI5qYYy",
        "7kYT-Av0M30Y",
        "W8j2Yk93M30a",
        "_wJIjVGNr_zi",
        "WCq5OTnjM30d",
        "fCm5MtmEM30d",
        "tX_m83LwM30g",
        "kweB7fnOM30j",
        "Inlpz-2fyRS-",
        "CQ2WRerRdX5E",
        "7_MflnfHQXCz",
        "qbDjSSIaoPmH",
        "um8esTkeoRAe"
      ],
      "provenance": []
    },
    "kernelspec": {
      "display_name": "Python 3",
      "name": "python3"
    },
    "language_info": {
      "codemirror_mode": {
        "name": "ipython",
        "version": 3
      },
      "file_extension": ".py",
      "mimetype": "text/x-python",
      "name": "python",
      "nbconvert_exporter": "python",
      "pygments_lexer": "ipython3",
      "version": "3.9.16"
    }
  },
  "nbformat": 4,
  "nbformat_minor": 0
}